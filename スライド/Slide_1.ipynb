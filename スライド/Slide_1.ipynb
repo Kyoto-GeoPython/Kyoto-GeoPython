{
 "cells": [
  {
   "cell_type": "markdown",
   "metadata": {
    "slideshow": {
     "slide_type": "slide"
    }
   },
   "source": [
    "# Pythonの基礎\n",
    "- 型（int, float, ...）\n",
    "- if文による分岐\n",
    "- forループ\n",
    "- 関数の定義\n",
    "- モジュール"
   ]
  },
  {
   "cell_type": "markdown",
   "metadata": {
    "slideshow": {
     "slide_type": "slide"
    }
   },
   "source": [
    "# Pythonの型 (1)\n",
    "Pythonは**動的型付け言語**  \n",
    "型宣言などはなく、型を自動で判別してくれる\n",
    "\n",
    "- （任意長）整数 int:       2\n",
    "- （倍精度）実数 float:     2.0\n",
    "- （倍精度）複素数 complex: 2+0j\n",
    "\n",
    "演算子: `+`, `-`, `*`, `/`, `//`（整数部）, `%`（余り）, `**`（べき乗）"
   ]
  },
  {
   "cell_type": "code",
   "execution_count": 1,
   "metadata": {
    "collapsed": false,
    "slideshow": {
     "slide_type": "subslide"
    }
   },
   "outputs": [
    {
     "name": "stdout",
     "output_type": "stream",
     "text": [
      "2\n",
      "<class 'int'>\n"
     ]
    }
   ],
   "source": [
    "a = 2       # 整数\n",
    "b = 5.0     # 実数\n",
    "c = -0.5+5j # 複素数\n",
    "\n",
    "print(a)\n",
    "print(type(a))"
   ]
  },
  {
   "cell_type": "code",
   "execution_count": 2,
   "metadata": {
    "collapsed": false,
    "slideshow": {
     "slide_type": "subslide"
    }
   },
   "outputs": [
    {
     "name": "stdout",
     "output_type": "stream",
     "text": [
      "9\n",
      "1.5\n"
     ]
    }
   ],
   "source": [
    "a = 3\n",
    "b = 2\n",
    "\n",
    "print(a**2)\n",
    "print(a/b) # Python 3.xでは1.5、2.xでは1"
   ]
  },
  {
   "cell_type": "markdown",
   "metadata": {
    "slideshow": {
     "slide_type": "slide"
    }
   },
   "source": [
    "# Pythonの型 (2)\n",
    "- 論理型: True, False\n",
    "\n",
    "Pythonでは大文字と小文字を区別する\n",
    "\n",
    "比較演算子: `==, >, <, >=, <=, !=`  \n",
    "論理演算子: `and, or, not`"
   ]
  },
  {
   "cell_type": "code",
   "execution_count": 3,
   "metadata": {
    "collapsed": false,
    "slideshow": {
     "slide_type": "subslide"
    }
   },
   "outputs": [
    {
     "name": "stdout",
     "output_type": "stream",
     "text": [
      "True\n",
      "False\n",
      "True\n"
     ]
    }
   ],
   "source": [
    "a = (3 > 2)  # True\n",
    "b = (3 == 2) # False\n",
    "\n",
    "print(a)\n",
    "print(a and b)\n",
    "print(a and (not b))"
   ]
  },
  {
   "cell_type": "markdown",
   "metadata": {
    "collapsed": true,
    "slideshow": {
     "slide_type": "slide"
    }
   },
   "source": [
    "# Pythonの型 (3)\n",
    "- リスト list: [1, 2, 3]\n",
    "- タプル tuple: (1, 2, 3)\n",
    "- 文字列 str: \"abc123\"\n",
    "\n",
    "リストやタプルの配列要素は**なんでもよい**... 数、文字列、リスト  \n",
    "配列要素のインデックスは、原則**0からN-1まで**（Nが配列要素数）  \n",
    "ただし、-Nから-1までをインデックスに取ることもできる\n",
    "\n",
    "len(*配列*)は配列要素数を返す"
   ]
  },
  {
   "cell_type": "code",
   "execution_count": 4,
   "metadata": {
    "collapsed": false
   },
   "outputs": [
    {
     "name": "stdout",
     "output_type": "stream",
     "text": [
      "1\n",
      "3\n",
      "9\n",
      "5\n"
     ]
    }
   ],
   "source": [
    "a = [1,3,5,7,9] # a[0], a[1], a[2], a[3], a[4]\n",
    "print(a[0])\n",
    "print(a[1])\n",
    "print(a[-1]) # a[-1]=a[4]\n",
    "print(len(a))"
   ]
  },
  {
   "cell_type": "markdown",
   "metadata": {
    "slideshow": {
     "slide_type": "subslide"
    }
   },
   "source": [
    "# 配列のスライス（部分配列）\n",
    "部分配列は、\n",
    "```\n",
    "a[start:stop]\n",
    "a[start:stop:step]\n",
    "```\n",
    "などの形で得られる。**部分配列にa[stop]は含まれないことに注意!**  \n",
    "startを省略すると最初から、stopを省略すると最後まで"
   ]
  },
  {
   "cell_type": "code",
   "execution_count": 5,
   "metadata": {
    "collapsed": false
   },
   "outputs": [
    {
     "name": "stdout",
     "output_type": "stream",
     "text": [
      "[3, 5]\n",
      "[1, 5, 9]\n",
      "[9, 7, 5, 3, 1]\n"
     ]
    }
   ],
   "source": [
    "a = [1,3,5,7,9]\n",
    "print(a[1:3]) # [a[1], a[2]]\n",
    "print(a[::2])\n",
    "print(a[::-1])"
   ]
  },
  {
   "cell_type": "markdown",
   "metadata": {
    "slideshow": {
     "slide_type": "slide"
    }
   },
   "source": [
    "# Pythonの型(4)\n",
    "- 辞書 dictionary: {\"coffee\":100, \"tea\":120}\n",
    "リストなどが0からN-1までの数字をインデックスとしていたのに対し、文字列でインデクシング"
   ]
  },
  {
   "cell_type": "code",
   "execution_count": 6,
   "metadata": {
    "collapsed": false
   },
   "outputs": [
    {
     "name": "stdout",
     "output_type": "stream",
     "text": [
      "120\n"
     ]
    }
   ],
   "source": [
    "price = {\"coffee\":100, \"tea\":120}\n",
    "print(price[\"tea\"])"
   ]
  },
  {
   "cell_type": "markdown",
   "metadata": {
    "collapsed": true,
    "slideshow": {
     "slide_type": "slide"
    }
   },
   "source": [
    "# Pythonの型 (5)\n",
    "- ユーザー定義型\n",
    "オブジェクト指向型言語であるPythonでは、ユーザーが新たな型（クラス）を定義できる  \n",
    "データ構造だけでなく、演算規則やさまざまなメソッドも\n",
    "\n",
    "その中でもNumPy ndarrayが特に重要... 高機能な配列計算を提供"
   ]
  },
  {
   "cell_type": "markdown",
   "metadata": {},
   "source": [
    "**メソッド: 型（クラス）に固有の関数**\n",
    "```\n",
    "オブジェクト名.メソッド名(引数)\n",
    "```\n",
    "の形をとる"
   ]
  },
  {
   "cell_type": "code",
   "execution_count": 7,
   "metadata": {
    "collapsed": false,
    "slideshow": {
     "slide_type": "subslide"
    }
   },
   "outputs": [
    {
     "name": "stdout",
     "output_type": "stream",
     "text": [
      "['I', 'like', 'tomatoes']\n",
      "I LIKE TOMATOES\n",
      "0012\n"
     ]
    }
   ],
   "source": [
    "# 文字列型のメソッド例\n",
    "a = \"I like tomatoes\"\n",
    "b = \"12\"\n",
    "\n",
    "print(a.split())\n",
    "print(a.upper())\n",
    "print(b.zfill(4))"
   ]
  },
  {
   "cell_type": "markdown",
   "metadata": {
    "slideshow": {
     "slide_type": "slide"
    }
   },
   "source": [
    "# 型変換\n",
    "Fortranなどと同様に、型の名前の関数を作用させることで型変換できる"
   ]
  },
  {
   "cell_type": "code",
   "execution_count": 8,
   "metadata": {
    "collapsed": false
   },
   "outputs": [],
   "source": [
    "a = 100.0\n",
    "b = str(a) # 実数 -> 文字列"
   ]
  },
  {
   "cell_type": "markdown",
   "metadata": {
    "slideshow": {
     "slide_type": "slide"
    }
   },
   "source": [
    "# if文による条件分岐\n",
    "```\n",
    "if [論理型]:\n",
    "    [処理]\n",
    "elif [論理型]:\n",
    "    [処理]\n",
    "else:\n",
    "    [処理]\n",
    "```\n",
    "[論理型]がTrueならば[処理]を行う  \n",
    "elifはelse ifのこと。ifのみ、if-else、if-elif-elif-...などももちろん可\n",
    "\n",
    "end ifにあたるものはなく、**インデントによってブロックを判別している**  \n",
    "インデントは通常スペース4つ"
   ]
  },
  {
   "cell_type": "code",
   "execution_count": 9,
   "metadata": {
    "collapsed": false,
    "slideshow": {
     "slide_type": "subslide"
    }
   },
   "outputs": [
    {
     "name": "stdout",
     "output_type": "stream",
     "text": [
      "x is even\n"
     ]
    }
   ],
   "source": [
    "x = 100\n",
    "\n",
    "if x%2 == 0:\n",
    "    print(\"x is even\")\n",
    "else:\n",
    "    print(\"x is odd\")"
   ]
  },
  {
   "cell_type": "markdown",
   "metadata": {
    "slideshow": {
     "slide_type": "slide"
    }
   },
   "source": [
    "# forループ\n",
    "```\n",
    "for i in [配列的なもの]:\n",
    "    [処理]\n",
    "```\n",
    "ダミー変数iは、[配列的なもの]の要素を順に取る"
   ]
  },
  {
   "cell_type": "code",
   "execution_count": 10,
   "metadata": {
    "collapsed": false
   },
   "outputs": [
    {
     "name": "stdout",
     "output_type": "stream",
     "text": [
      "A!\n",
      "B!\n",
      "C!\n"
     ]
    }
   ],
   "source": [
    "x = \"ABC\"\n",
    "for i in x:\n",
    "    shout = i + \"!\" # 文字列の「足し算」は結合\n",
    "    print(shout)"
   ]
  },
  {
   "cell_type": "markdown",
   "metadata": {
    "slideshow": {
     "slide_type": "subslide"
    }
   },
   "source": [
    "# rangeを使う\n",
    "Fortranの`do i = start, stop, step`にあたるループを回したいときは、\n",
    "```\n",
    "for i in range(start,stop,step):\n",
    "    [処理]\n",
    "```\n",
    "とすればよい。**range**関数は、startからstopまで、step幅の等差数列を返す  \n",
    "**stopは含まれない**ことに注意!\n",
    "\n",
    "range(start,stop)なら[start, start+1, ..., stop-1]   \n",
    "range(stop)なら[0, 1, ..., stop-1]"
   ]
  },
  {
   "cell_type": "code",
   "execution_count": 11,
   "metadata": {
    "collapsed": false
   },
   "outputs": [
    {
     "name": "stdout",
     "output_type": "stream",
     "text": [
      "0\n",
      "1\n",
      "8\n",
      "27\n",
      "64\n"
     ]
    }
   ],
   "source": [
    "for i in range(5): # i=0,1,2,3,4\n",
    "    print(i**3) "
   ]
  },
  {
   "cell_type": "markdown",
   "metadata": {
    "slideshow": {
     "slide_type": "slide"
    }
   },
   "source": [
    "# 関数の定義と利用\n",
    "Fortranでいうsubroutineとfunctionは、どちらも**function**として扱われる\n",
    "```\n",
    "def func_name(引数):\n",
    "    処理\n",
    "    return 戻り値\n",
    "```\n",
    "returnはなくても良い\n",
    "\n",
    "関数を呼ぶときは、\n",
    "```\n",
    "func_name(引数)     # returnのない場合\n",
    "x = func_name(引数) # 戻り値を代入\n",
    "```"
   ]
  },
  {
   "cell_type": "code",
   "execution_count": 12,
   "metadata": {
    "collapsed": false,
    "slideshow": {
     "slide_type": "subslide"
    }
   },
   "outputs": [
    {
     "name": "stdout",
     "output_type": "stream",
     "text": [
      "91\n",
      "Bow-wow!\n"
     ]
    }
   ],
   "source": [
    "# 引数を3乗して返す関数\n",
    "def cube(x):\n",
    "    return x**3\n",
    "\n",
    "# 引数やreturnがなくても良い\n",
    "def bark():\n",
    "    print(\"Bow-wow!\")\n",
    "\n",
    "y = cube(3) + cube(4) # 27 + 64 = 91\n",
    "print(y)\n",
    "bark()"
   ]
  },
  {
   "cell_type": "markdown",
   "metadata": {
    "slideshow": {
     "slide_type": "slide"
    }
   },
   "source": [
    "# モジュールの利用\n",
    "複数のスクリプトで用いる変数や関数群をひとつの.pyファイルにまとめておき、モジュールとすることができる\n",
    "```\n",
    "# my_module.pyの中身\n",
    "pi = 3.141592\n",
    "\n",
    "def area(r):\n",
    "    return pi * r * r\n",
    "```\n",
    "これを別のスクリプトで使うには、**import**文を用いる"
   ]
  },
  {
   "cell_type": "code",
   "execution_count": 13,
   "metadata": {
    "collapsed": false
   },
   "outputs": [
    {
     "name": "stdout",
     "output_type": "stream",
     "text": [
      "0\n",
      "3.141592\n"
     ]
    }
   ],
   "source": [
    "import my_module\n",
    "\n",
    "radius = 5.0\n",
    "S = my_module.area(radius) # my_module内のarea関数\n",
    "\n",
    "pi = 0\n",
    "print(pi)                  # このスクリプトの変数pi\n",
    "print(my_module.pi)        # my_module内の変数pi"
   ]
  },
  {
   "cell_type": "markdown",
   "metadata": {
    "slideshow": {
     "slide_type": "subslide"
    }
   },
   "source": [
    "# importいろいろ"
   ]
  },
  {
   "cell_type": "code",
   "execution_count": 14,
   "metadata": {
    "collapsed": false,
    "slideshow": {
     "slide_type": "-"
    }
   },
   "outputs": [],
   "source": [
    "import my_module as mm     # 別名をつける\n",
    "S = mm.area(1.0)\n",
    "\n",
    "from my_module import area # モジュール内の特定のオブジェクトをインポート\n",
    "S = area(1.0)"
   ]
  },
  {
   "cell_type": "markdown",
   "metadata": {
    "slideshow": {
     "slide_type": "slide"
    }
   },
   "source": [
    "# NumPyとは\n",
    "Pythonの外部ライブラリで、計算のためのさまざまな関数・定数が入っている\n",
    "\n",
    "特に、NumPyの提供する多次元配列型**NumPy ndarray**は、Pythonでの科学計算の中核となる機能である"
   ]
  },
  {
   "cell_type": "markdown",
   "metadata": {
    "collapsed": true,
    "slideshow": {
     "slide_type": "slide"
    }
   },
   "source": [
    "# NumPy ndarray\n",
    "Pythonのリストやタプルは大きなデータを扱うのには向かない... 基本的に遅い！\n",
    "\n",
    "NumPy ndarrayは、高速な多次元配列計算を提供するユーザー定義型である"
   ]
  },
  {
   "cell_type": "code",
   "execution_count": 15,
   "metadata": {
    "collapsed": true
   },
   "outputs": [],
   "source": [
    "import numpy as np               # NumPyモジュールをインポート\n",
    "x = np.linspace(0., 2*np.pi,100) # 0から2piまでを100等分する1次元配列\n",
    "y = np.sin(x)                    # y = sin(x)"
   ]
  },
  {
   "cell_type": "markdown",
   "metadata": {
    "slideshow": {
     "slide_type": "slide"
    }
   },
   "source": [
    "# ndarrayの生成\n",
    "### zeros, ones: 0または1で埋まった配列を生成\n",
    "引数に整数またはタプルで配列の形を指定する"
   ]
  },
  {
   "cell_type": "code",
   "execution_count": 16,
   "metadata": {
    "collapsed": false,
    "slideshow": {
     "slide_type": "-"
    }
   },
   "outputs": [
    {
     "name": "stdout",
     "output_type": "stream",
     "text": [
      "[ 0.  0.  0.  0.  0.]\n",
      "[[ 1.  1.  1.]\n",
      " [ 1.  1.  1.]\n",
      " [ 1.  1.  1.]]\n"
     ]
    }
   ],
   "source": [
    "a = np.zeros(5)\n",
    "print(a)\n",
    "\n",
    "b = np.ones((3,3))\n",
    "print(b)"
   ]
  },
  {
   "cell_type": "markdown",
   "metadata": {
    "slideshow": {
     "slide_type": "subslide"
    }
   },
   "source": [
    "### arange, linspace: 等差数列の1次元配列を生成\n",
    "```\n",
    "c = np.arange(start, stop, step)\n",
    "d = np.linspace(start, stop, num)\n",
    "```\n",
    "arangeはPython組み込みのrangeと同様  \n",
    "linspaceは、stepを指定する代わりに分割数numを指定"
   ]
  },
  {
   "cell_type": "code",
   "execution_count": 17,
   "metadata": {
    "collapsed": false
   },
   "outputs": [
    {
     "name": "stdout",
     "output_type": "stream",
     "text": [
      "[ 0  3  6  9 12 15 18 21 24 27]\n",
      "[  0.  15.  30.]\n",
      "[  0.  10.  20.]\n"
     ]
    }
   ],
   "source": [
    "a = np.arange(0,30,3)\n",
    "print(a)\n",
    "\n",
    "b = np.linspace(0,30,3) # 端点を含む等分割\n",
    "print(b)\n",
    "\n",
    "c = np.linspace(0,30,3,endpoint=False) # 端点を含まない等分割\n",
    "print(c)"
   ]
  },
  {
   "cell_type": "markdown",
   "metadata": {
    "slideshow": {
     "slide_type": "slide"
    }
   },
   "source": [
    "# ndarrayの基本操作"
   ]
  },
  {
   "cell_type": "code",
   "execution_count": 18,
   "metadata": {
    "collapsed": false
   },
   "outputs": [],
   "source": [
    "a = np.arange(10)\n",
    "b = 2*a + 1    # ベクトル計算が可能\n",
    "c = np.exp(a)  # numpy内の関数も！"
   ]
  },
  {
   "cell_type": "code",
   "execution_count": 19,
   "metadata": {
    "collapsed": false
   },
   "outputs": [
    {
     "name": "stdout",
     "output_type": "stream",
     "text": [
      "[[ 5.  1.  1.]\n",
      " [ 3.  3.  1.]\n",
      " [ 0.  1.  2.]]\n"
     ]
    }
   ],
   "source": [
    "a = np.ones((3,3)) # 3x3, 成分はすべて1\n",
    "a[0,0] = 5         # (0,0)成分に5を代入\n",
    "a[1,0:2] = 3       # (1,0)、(1,1)成分に3を代入  \n",
    "a[2,:] = np.arange(3) # (2,:)成分に0,1,2を代入\n",
    "print(a)"
   ]
  },
  {
   "cell_type": "markdown",
   "metadata": {
    "slideshow": {
     "slide_type": "slide"
    }
   },
   "source": [
    "# ndarrayのメソッド\n",
    "**メソッド: 型（クラス）に固有の関数**\n",
    "```\n",
    "オブジェクト名.メソッド名(引数)\n",
    "```\n",
    "の形をとる\n",
    "\n",
    "ndarrayには計算をスムーズにするための様々なメソッドがある"
   ]
  },
  {
   "cell_type": "markdown",
   "metadata": {
    "slideshow": {
     "slide_type": "subslide"
    }
   },
   "source": [
    "# ndarray.sum(*axis*)\n",
    "axis（整数またはタプル）で指定した軸に沿って和をとる  \n",
    "指定しなければ全体の和を取る  \n",
    "mean（平均）、max（最大）、min（最小）、var（分散）、std（標準偏差）なども同様"
   ]
  },
  {
   "cell_type": "code",
   "execution_count": 20,
   "metadata": {
    "collapsed": false
   },
   "outputs": [
    {
     "name": "stdout",
     "output_type": "stream",
     "text": [
      "[[0 1 2]\n",
      " [3 4 5]\n",
      " [6 7 8]]\n",
      "[ 9 12 15]\n",
      "36\n",
      "[6 7 8]\n"
     ]
    }
   ],
   "source": [
    "a = np.arange(9).reshape((3,3))\n",
    "print(a)\n",
    "print(a.sum(0))\n",
    "print(a.sum()) # a.sum((0,1))と同じ\n",
    "print(a.max(0))"
   ]
  },
  {
   "cell_type": "markdown",
   "metadata": {
    "slideshow": {
     "slide_type": "subslide"
    }
   },
   "source": [
    "# ndarray.reshape(*shape*)\n",
    "ndarrayをC形式で（後ろのインデックスから順に）平らにした後、*shape*のタプルの形に整列する"
   ]
  },
  {
   "cell_type": "code",
   "execution_count": 21,
   "metadata": {
    "collapsed": false
   },
   "outputs": [
    {
     "name": "stdout",
     "output_type": "stream",
     "text": [
      "[ 0  1  2  3  4  5  6  7  8  9 10 11]\n",
      "[[ 0  1  2  3]\n",
      " [ 4  5  6  7]\n",
      " [ 8  9 10 11]]\n",
      "[[ 0  1  2  3  4  5]\n",
      " [ 6  7  8  9 10 11]]\n"
     ]
    }
   ],
   "source": [
    "a = np.arange(12)\n",
    "print(a)\n",
    "\n",
    "b = a.reshape((3,4))\n",
    "print(b)\n",
    "\n",
    "c = b.reshape((2,6))\n",
    "print(c)"
   ]
  },
  {
   "cell_type": "markdown",
   "metadata": {
    "slideshow": {
     "slide_type": "subslide"
    }
   },
   "source": [
    "# ndarray.T\n",
    "転置をとる\n",
    "\n",
    "# ndarray.ravel()\n",
    "多次元配列を（デフォルトではC形式で）1次元にする\n",
    "\n",
    "# ndarray.shape\n",
    "配列の形（各次元の要素数）をタプルで返す"
   ]
  },
  {
   "cell_type": "markdown",
   "metadata": {
    "slideshow": {
     "slide_type": "slide"
    }
   },
   "source": [
    "# NumPyその他\n",
    "### 関数（ndarrayに作用させられる！）\n",
    "sin, cos, exp, sqrt, floor, ceil, ...\n",
    "### 数\n",
    "pi, e, inf, nan, ..."
   ]
  },
  {
   "cell_type": "code",
   "execution_count": 22,
   "metadata": {
    "collapsed": true
   },
   "outputs": [],
   "source": [
    "x = np.linspace(0., 2*np.pi, 100) # 0から2piまでを100等分\n",
    "y = np.sin(x)"
   ]
  },
  {
   "cell_type": "markdown",
   "metadata": {
    "slideshow": {
     "slide_type": "subslide"
    }
   },
   "source": [
    "### サブモジュール\n",
    "- **random** 乱数の生成に関するモジュール\n",
    "- **fft** 高速フーリエ変換\n",
    "- **linalg** 線形代数\n",
    "- **interp** 補間\n",
    "\n",
    "各モジュールともSciPyにより高機能なものが入っているが、こちらで十分なこともしばしば"
   ]
  },
  {
   "cell_type": "code",
   "execution_count": 23,
   "metadata": {
    "collapsed": false
   },
   "outputs": [
    {
     "name": "stdout",
     "output_type": "stream",
     "text": [
      "[ 0.25416692  0.32500636  0.68071801  0.36391927  0.59905223  0.0540401\n",
      "  0.41626943  0.77837525]\n",
      "[ 3.47154758+0.j          0.13978141-0.16298603j -0.24376830+0.76324806j\n",
      " -0.82955202+0.36591113j  0.42886560+0.j        ]\n"
     ]
    }
   ],
   "source": [
    "x = np.random.rand(8) # [0.0,1.0)の一様乱数\n",
    "print(x)\n",
    "\n",
    "fx = np.fft.rfft(x)\n",
    "print(fx)"
   ]
  },
  {
   "cell_type": "markdown",
   "metadata": {
    "slideshow": {
     "slide_type": "slide"
    }
   },
   "source": [
    "# forループを使ってはいけない！\n",
    "ほかの多くのスクリプト言語と同様、Pythonのループは遅い  \n",
    "NumPyのベクトル演算機能を活かし、forループをできるだけ無くそう"
   ]
  },
  {
   "cell_type": "code",
   "execution_count": 24,
   "metadata": {
    "collapsed": false,
    "slideshow": {
     "slide_type": "subslide"
    }
   },
   "outputs": [
    {
     "name": "stdout",
     "output_type": "stream",
     "text": [
      "CPU times: user 8 ms, sys: 4 ms, total: 12 ms\n",
      "Wall time: 13.3 ms\n"
     ]
    }
   ],
   "source": [
    "%%time\n",
    "x = np.linspace(0,2*np.pi,100000)\n",
    "y = np.sin(x)"
   ]
  },
  {
   "cell_type": "code",
   "execution_count": 25,
   "metadata": {
    "collapsed": false
   },
   "outputs": [
    {
     "name": "stdout",
     "output_type": "stream",
     "text": [
      "CPU times: user 256 ms, sys: 0 ns, total: 256 ms\n",
      "Wall time: 255 ms\n"
     ]
    }
   ],
   "source": [
    "%%time\n",
    "x = np.linspace(0,2*np.pi,100000)\n",
    "y = np.zeros(100000)\n",
    "for i in range(100000):\n",
    "    y[i] = np.sin(x[i])"
   ]
  },
  {
   "cell_type": "markdown",
   "metadata": {
    "slideshow": {
     "slide_type": "slide"
    }
   },
   "source": [
    "# Matplotlibによる可視化\n",
    "サブモジュールmatplotlib.pyplotによって、Matlab風のスクリプトで可視化できる"
   ]
  },
  {
   "cell_type": "code",
   "execution_count": 26,
   "metadata": {
    "collapsed": false,
    "slideshow": {
     "slide_type": "-"
    }
   },
   "outputs": [
    {
     "data": {
      "image/png": "[encoded data removed]",
      "text/plain": [
       "<matplotlib.figure.Figure at 0x7f09721ac5f8>"
      ]
     },
     "metadata": {},
     "output_type": "display_data"
    }
   ],
   "source": [
    "import matplotlib.pyplot as plt\n",
    "x = np.linspace(0, 2*np.pi, 20)\n",
    "y = np.sin(x)\n",
    "\n",
    "plt.plot(x, y)\n",
    "plt.show()"
   ]
  },
  {
   "cell_type": "markdown",
   "metadata": {
    "slideshow": {
     "slide_type": "slide"
    }
   },
   "source": [
    "# plt.plot(*x*, *y*)\n",
    "前の例のように、*x*や*y*はNumPy ndarrayでもよい\n",
    "\n",
    "オプション変数としては、\n",
    "- color: \"b\", \"blue\", \"#0000FF\", ...\n",
    "- linestyle: \"-\", \"--\", \".\", \"o\", \"o-\", ...\n",
    "- linewidth: 実数\n",
    "- label: 凡例用文字列\n",
    "\n",
    "などなど"
   ]
  },
  {
   "cell_type": "markdown",
   "metadata": {
    "slideshow": {
     "slide_type": "slide"
    }
   },
   "source": [
    "# plt.contour(*X*, *Y*, *Z*, *N*または*V*), plt.contourf\n",
    "コンター図（contourfは塗ってくれる）  \n",
    "*X*,*Y*はプロットする配列*Z*の定義点のx座標およびy座標\n",
    "```\n",
    "X,Y = np.meshgrid(x,y,indexing='ij')\n",
    "```\n",
    "で生成できる\n",
    "\n",
    "*N*（整数）を入れると、N段階でいい感じに線を引いてくれる  \n",
    "*V*（ndarrayなど）を入れると、線を引くところを自分で指定できる\n",
    "\n",
    "カラーバーは\n",
    "```\n",
    "plt.colorbar()\n",
    "```\n",
    "の1行！"
   ]
  },
  {
   "cell_type": "code",
   "execution_count": 27,
   "metadata": {
    "collapsed": false,
    "slideshow": {
     "slide_type": "subslide"
    }
   },
   "outputs": [
    {
     "data": {
      "image/png": "[encoded data removed]",
      "text/plain": [
       "<matplotlib.figure.Figure at 0x7f0968a48898>"
      ]
     },
     "metadata": {},
     "output_type": "display_data"
    }
   ],
   "source": [
    "x = np.linspace(0, 4*np.pi, 60)\n",
    "y = np.linspace(-2*np.pi, 0, 30)\n",
    "X,Y = np.meshgrid(x, y, indexing=\"ij\") # (Nx, Ny)型の配列をプロットする場合はindexing=\"ij\"をつける \n",
    "\n",
    "u = np.cos(x.reshape(60,1))*np.exp(y.reshape((1,30))) # broadcastを使って60x30のndarrayを生成\n",
    "\n",
    "plt.contourf(X, Y, u, 40, cmap=\"bwr\")\n",
    "plt.colorbar()\n",
    "plt.show()"
   ]
  },
  {
   "cell_type": "markdown",
   "metadata": {
    "slideshow": {
     "slide_type": "slide"
    }
   },
   "source": [
    "# plt.quiver(*X*,*Y*, *U*, *V*)\n",
    "矢印図  \n",
    "*X*,*Y*はプロットするベクトル(*U*,*V*)の定義点のx座標およびy座標\n",
    "# plt.hist(*x*)\n",
    "ヒストグラム  \n",
    "# plt.semilogx(*x*,*y*), semilogy, loglog\n",
    "片対数・両対数版のplt.plot"
   ]
  },
  {
   "cell_type": "code",
   "execution_count": 28,
   "metadata": {
    "collapsed": false,
    "slideshow": {
     "slide_type": "slide"
    }
   },
   "outputs": [
    {
     "data": {
      "image/png": "[encoded data removed]",
      "text/plain": [
       "<matplotlib.figure.Figure at 0x7f09688ec1d0>"
      ]
     },
     "metadata": {},
     "output_type": "display_data"
    }
   ],
   "source": [
    "x = np.linspace(0, 2*np.pi, 60)\n",
    "ys = np.sin(x)\n",
    "yc = np.cos(x)\n",
    "\n",
    "fig = plt.figure()\n",
    "ax = plt.subplot()\n",
    "ax.plot(x, ys, \"b-\", lw=2, label=\"sin\")\n",
    "ax.plot(x, yc, \"g-\", lw=2, label=\"cos\")\n",
    "ax.legend(loc=\"upper right\", fontsize=15)\n",
    "ax.set_xlim(0,2*np.pi)\n",
    "ax.set_xticks(np.pi * np.linspace(0,2,5))\n",
    "ax.set_xlabel(\"$x$\", size=18)\n",
    "ax.set_ylim(-1.1,1.1)\n",
    "ax.set_ylabel(r\"$\\int_0^{2\\pi}\\alpha dx$\", size=18)\n",
    "ax.tick_params(labelsize=15)\n",
    "fig.tight_layout()\n",
    "plt.show()"
   ]
  },
  {
   "cell_type": "markdown",
   "metadata": {
    "slideshow": {
     "slide_type": "slide"
    }
   },
   "source": [
    "# 実用編1: NetCDFの読み込み\n",
    "**必要なライブラリ**: NetCDF4, HDF4"
   ]
  },
  {
   "cell_type": "code",
   "execution_count": 29,
   "metadata": {
    "collapsed": false
   },
   "outputs": [
    {
     "name": "stdout",
     "output_type": "stream",
     "text": [
      "odict_keys(['longitude', 'latitude', 'time', 'swh'])\n"
     ]
    }
   ],
   "source": [
    "from netCDF4 import Dataset\n",
    "\n",
    "data = Dataset(\"../../../python/hs_2016010100.nc\", \"r\", format=\"NETCDF4\")\n",
    "print(data.variables.keys()) \n",
    "# data.variablesにはdictionary形式でデータが格納されている。\n",
    "# .keys()はdictionaryのメソッドで、dictionaryのインデックスを返してくれる"
   ]
  },
  {
   "cell_type": "code",
   "execution_count": 30,
   "metadata": {
    "collapsed": true
   },
   "outputs": [],
   "source": [
    "lon = data.variables[\"longitude\"][:] # 最後の[:]をつけるとnumpy array形式で変数が得られる\n",
    "lat = data.variables[\"latitude\"][:]\n",
    "Hs = data.variables[\"swh\"][:]"
   ]
  },
  {
   "cell_type": "markdown",
   "metadata": {
    "slideshow": {
     "slide_type": "slide"
    }
   },
   "source": [
    "# 実用編2: 地図を描く\n",
    "**必要なライブラリ**: Basemap (Matplotlib toolkits)"
   ]
  },
  {
   "cell_type": "code",
   "execution_count": 31,
   "metadata": {
    "collapsed": false
   },
   "outputs": [
    {
     "data": {
      "text/plain": [
       "{-60: ([<matplotlib.lines.Line2D at 0x7f0962ed31d0>], []),\n",
       " -30: ([<matplotlib.lines.Line2D at 0x7f0962ed3978>], []),\n",
       " 0: ([<matplotlib.lines.Line2D at 0x7f0962ed9198>], []),\n",
       " 30: ([<matplotlib.lines.Line2D at 0x7f0962ed9978>], []),\n",
       " 60: ([<matplotlib.lines.Line2D at 0x7f0962ee2198>], [])}"
      ]
     },
     "execution_count": 31,
     "metadata": {},
     "output_type": "execute_result"
    }
   ],
   "source": [
    "from mpl_toolkits.basemap import Basemap\n",
    "\n",
    "plt.figure(figsize=(8,6))\n",
    "bm = Basemap(projection=\"cyl\", # Equidistant Cylindrical projection\n",
    "            llcrnrlon=0, llcrnrlat=-70,\n",
    "            urcrnrlon=360, urcrnrlat=70)\n",
    "\n",
    "bm.drawcoastlines(linewidth=0.25) # 海岸線\n",
    "bm.drawmeridians(np.arange(0, 360, 30)) # 経線\n",
    "bm.drawparallels(np.arange(-90, 90, 30)) # 緯線"
   ]
  },
  {
   "cell_type": "code",
   "execution_count": 32,
   "metadata": {
    "collapsed": false,
    "slideshow": {
     "slide_type": "subslide"
    }
   },
   "outputs": [
    {
     "name": "stderr",
     "output_type": "stream",
     "text": [
      "/home/yasushi/anaconda3/lib/python3.6/site-packages/mpl_toolkits/basemap/__init__.py:3608: MatplotlibDeprecationWarning: The ishold function was deprecated in version 2.0.\n",
      "  b = ax.ishold()\n",
      "/home/yasushi/anaconda3/lib/python3.6/site-packages/mpl_toolkits/basemap/__init__.py:3644: VisibleDeprecationWarning: using a non-integer number instead of an integer will result in an error in the future\n",
      "  xx = x[x.shape[0]/2,:]\n",
      "/home/yasushi/anaconda3/lib/python3.6/site-packages/mpl_toolkits/basemap/__init__.py:3677: MatplotlibDeprecationWarning: axes.hold is deprecated.\n",
      "    See the API Changes document (http://matplotlib.org/api/api_changes.html)\n",
      "    for more details.\n",
      "  ax.hold(b)\n"
     ]
    },
    {
     "data": {
      "image/png": "[encoded data removed]",
      "text/plain": [
       "<matplotlib.figure.Figure at 0x7f0964040b38>"
      ]
     },
     "metadata": {},
     "output_type": "display_data"
    }
   ],
   "source": [
    "# ここからはmatplotlibの「丁寧な」描き方とほぼ同じ\n",
    "\n",
    "X, Y = np.meshgrid(lon,lat)\n",
    "x, y = bm(X, Y) # X, Yはdegree単位だが、basemapで使えるように変換してくれる\n",
    "\n",
    "# Hsの図を描く\n",
    "lev = np.linspace(0, 8, 20)\n",
    "bm.contourf(x, y, Hs[0,:,:], lev)\n",
    "plt.show()"
   ]
  },
  {
   "cell_type": "markdown",
   "metadata": {
    "slideshow": {
     "slide_type": "slide"
    }
   },
   "source": [
    "# まとめ - 本日の内容\n",
    "- Pythonの基礎\n",
    "    - Pythonの型\n",
    "    - 基本文法: 分岐、ループ、関数、モジュール\n",
    "- NumPyの基礎\n",
    "    - NumPy ndarrayの生成、操作\n",
    "    - NumPyの関数、モジュール\n",
    "- Matplotlibの基礎\n",
    "    - 簡単な作図: plot, contour\n",
    "- 実用例\n",
    "    - NetCDFの読み込み、Basemapによる地図の描画"
   ]
  },
  {
   "cell_type": "markdown",
   "metadata": {
    "slideshow": {
     "slide_type": "slide"
    }
   },
   "source": [
    "# 参考資料\n",
    "- [Python公式チュートリアル](https://docs.python.org/3/tutorial/)\n",
    "- [Scipy Lecture Notes](http://www.scipy-lectures.org/)（[日本語](http://www.turbare.net/transl/scipy-lecture-notes/index.html)）\n",
    "\n",
    "NumPy: \"numpy (やりたいこと)\"などでググると結構出てきます。SciPyも同様。公式ドキュメントがわかりやすいです  \n",
    "Matplotlib: [公式ドキュメント](http://matplotlib.org/api/pyplot_api.html)がわかりにくいですが、[ギャラリー](http://matplotlib.org/gallery.html)は充実しており、それぞれの図についてソースコードを見られるため、描きたい図に近いものを見つけて勉強できます"
   ]
  }
 ],
 "metadata": {
  "celltoolbar": "Slideshow",
  "kernelspec": {
   "display_name": "Python 3",
   "language": "python",
   "name": "python3"
  },
  "language_info": {
   "codemirror_mode": {
    "name": "ipython",
    "version": 3
   },
   "file_extension": ".py",
   "mimetype": "text/x-python",
   "name": "python",
   "nbconvert_exporter": "python",
   "pygments_lexer": "ipython3",
   "version": "3.6.0"
  }
 },
 "nbformat": 4,
 "nbformat_minor": 2
}
