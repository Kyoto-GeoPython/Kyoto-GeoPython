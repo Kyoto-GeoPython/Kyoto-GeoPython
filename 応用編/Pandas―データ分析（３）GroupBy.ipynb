{
 "cells": [
  {
   "cell_type": "markdown",
   "metadata": {},
   "source": [
    "# 分離ー適用ー結合\n",
    "Pandasが得意としているのは、ある条件でデータを分類し、その特徴を調べるという処理です。具体的には、\n",
    "1. DataFrame.groupbyメソッドで小さいDataFrameに分割\n",
    "1. グループごとに計算を行う\n",
    "1. それらを集めてグループごとの計算結果を表示する\n",
    "\n",
    "という流れとなります。  \n",
    "どういうgroupに分けるか、分けたDataFrameでどのような計算を行うかは解析の最も難しく面白いところだと思います。  \n",
    "このあたりの手法は[Group By: split-apply-combine](http://pandas.pydata.org/pandas-docs/stable/groupby.html)を参考にしました。\n",
    "\n",
    "## DataFrame.groupby\n",
    "引数で与えた列をkeyとして、分割してDataFrameGroupByオブジェクトを返す関数です（**分割**）。"
   ]
  },
  {
   "cell_type": "code",
   "execution_count": 1,
   "metadata": {
    "collapsed": true
   },
   "outputs": [],
   "source": [
    "import pandas as pd\n",
    "\n",
    "%matplotlib inline\n",
    "import numpy as np\n",
    "import matplotlib.pyplot as plt"
   ]
  },
  {
   "cell_type": "code",
   "execution_count": 2,
   "metadata": {},
   "outputs": [
    {
     "data": {
      "text/html": [
       "<div>\n",
       "<style scoped>\n",
       "    .dataframe tbody tr th:only-of-type {\n",
       "        vertical-align: middle;\n",
       "    }\n",
       "\n",
       "    .dataframe tbody tr th {\n",
       "        vertical-align: top;\n",
       "    }\n",
       "\n",
       "    .dataframe thead th {\n",
       "        text-align: right;\n",
       "    }\n",
       "</style>\n",
       "<table border=\"1\" class=\"dataframe\">\n",
       "  <thead>\n",
       "    <tr style=\"text-align: right;\">\n",
       "      <th></th>\n",
       "      <th>key1</th>\n",
       "      <th>value1</th>\n",
       "      <th>value2</th>\n",
       "    </tr>\n",
       "  </thead>\n",
       "  <tbody>\n",
       "    <tr>\n",
       "      <th>0</th>\n",
       "      <td>b</td>\n",
       "      <td>-0.229520</td>\n",
       "      <td>0.548244</td>\n",
       "    </tr>\n",
       "    <tr>\n",
       "      <th>1</th>\n",
       "      <td>b</td>\n",
       "      <td>1.152179</td>\n",
       "      <td>0.619107</td>\n",
       "    </tr>\n",
       "    <tr>\n",
       "      <th>2</th>\n",
       "      <td>b</td>\n",
       "      <td>1.352351</td>\n",
       "      <td>0.268501</td>\n",
       "    </tr>\n",
       "    <tr>\n",
       "      <th>3</th>\n",
       "      <td>c</td>\n",
       "      <td>-0.526751</td>\n",
       "      <td>0.639367</td>\n",
       "    </tr>\n",
       "    <tr>\n",
       "      <th>4</th>\n",
       "      <td>b</td>\n",
       "      <td>-0.495978</td>\n",
       "      <td>0.919488</td>\n",
       "    </tr>\n",
       "    <tr>\n",
       "      <th>5</th>\n",
       "      <td>c</td>\n",
       "      <td>0.640618</td>\n",
       "      <td>0.219935</td>\n",
       "    </tr>\n",
       "    <tr>\n",
       "      <th>6</th>\n",
       "      <td>c</td>\n",
       "      <td>-0.257896</td>\n",
       "      <td>0.250225</td>\n",
       "    </tr>\n",
       "    <tr>\n",
       "      <th>7</th>\n",
       "      <td>b</td>\n",
       "      <td>-1.654085</td>\n",
       "      <td>0.077116</td>\n",
       "    </tr>\n",
       "    <tr>\n",
       "      <th>8</th>\n",
       "      <td>c</td>\n",
       "      <td>-0.396103</td>\n",
       "      <td>0.839241</td>\n",
       "    </tr>\n",
       "    <tr>\n",
       "      <th>9</th>\n",
       "      <td>a</td>\n",
       "      <td>0.219484</td>\n",
       "      <td>0.428560</td>\n",
       "    </tr>\n",
       "    <tr>\n",
       "      <th>10</th>\n",
       "      <td>c</td>\n",
       "      <td>0.393046</td>\n",
       "      <td>0.683116</td>\n",
       "    </tr>\n",
       "    <tr>\n",
       "      <th>11</th>\n",
       "      <td>a</td>\n",
       "      <td>0.934771</td>\n",
       "      <td>0.776174</td>\n",
       "    </tr>\n",
       "    <tr>\n",
       "      <th>12</th>\n",
       "      <td>b</td>\n",
       "      <td>1.647687</td>\n",
       "      <td>0.388953</td>\n",
       "    </tr>\n",
       "    <tr>\n",
       "      <th>13</th>\n",
       "      <td>c</td>\n",
       "      <td>-1.077741</td>\n",
       "      <td>0.198676</td>\n",
       "    </tr>\n",
       "    <tr>\n",
       "      <th>14</th>\n",
       "      <td>c</td>\n",
       "      <td>-0.242961</td>\n",
       "      <td>0.348742</td>\n",
       "    </tr>\n",
       "  </tbody>\n",
       "</table>\n",
       "</div>"
      ],
      "text/plain": [
       "   key1    value1    value2\n",
       "0     b -0.229520  0.548244\n",
       "1     b  1.152179  0.619107\n",
       "2     b  1.352351  0.268501\n",
       "3     c -0.526751  0.639367\n",
       "4     b -0.495978  0.919488\n",
       "5     c  0.640618  0.219935\n",
       "6     c -0.257896  0.250225\n",
       "7     b -1.654085  0.077116\n",
       "8     c -0.396103  0.839241\n",
       "9     a  0.219484  0.428560\n",
       "10    c  0.393046  0.683116\n",
       "11    a  0.934771  0.776174\n",
       "12    b  1.647687  0.388953\n",
       "13    c -1.077741  0.198676\n",
       "14    c -0.242961  0.348742"
      ]
     },
     "execution_count": 2,
     "metadata": {},
     "output_type": "execute_result"
    }
   ],
   "source": [
    "df = pd.DataFrame({\"key1\": np.random.choice(list(\"abc\"), 15),\n",
    "                \"value1\": np.random.randn(15),\n",
    "                \"value2\": np.random.rand(15)})\n",
    "df"
   ]
  },
  {
   "cell_type": "markdown",
   "metadata": {},
   "source": [
    "### DataFrameGroupByオブジェクト\n",
    "イテレータであり、for ~ in ...の...に置くと、グループ名と分割されたDataFrameを取り出すことが出来ます。"
   ]
  },
  {
   "cell_type": "code",
   "execution_count": 3,
   "metadata": {},
   "outputs": [
    {
     "name": "stdout",
     "output_type": "stream",
     "text": [
      "a\n",
      "   key1    value1    value2\n",
      "9     a  0.219484  0.428560\n",
      "11    a  0.934771  0.776174\n",
      "\n",
      "b\n",
      "   key1    value1    value2\n",
      "0     b -0.229520  0.548244\n",
      "1     b  1.152179  0.619107\n",
      "2     b  1.352351  0.268501\n",
      "4     b -0.495978  0.919488\n",
      "7     b -1.654085  0.077116\n",
      "12    b  1.647687  0.388953\n",
      "\n",
      "c\n",
      "   key1    value1    value2\n",
      "3     c -0.526751  0.639367\n",
      "5     c  0.640618  0.219935\n",
      "6     c -0.257896  0.250225\n",
      "8     c -0.396103  0.839241\n",
      "10    c  0.393046  0.683116\n",
      "13    c -1.077741  0.198676\n",
      "14    c -0.242961  0.348742\n",
      "\n"
     ]
    }
   ],
   "source": [
    "for _name, _df in df.groupby(\"key1\"):\n",
    "    print(_name)\n",
    "    print(_df)\n",
    "    print()"
   ]
  },
  {
   "cell_type": "code",
   "execution_count": 4,
   "metadata": {},
   "outputs": [
    {
     "data": {
      "text/html": [
       "<div>\n",
       "<style scoped>\n",
       "    .dataframe tbody tr th:only-of-type {\n",
       "        vertical-align: middle;\n",
       "    }\n",
       "\n",
       "    .dataframe tbody tr th {\n",
       "        vertical-align: top;\n",
       "    }\n",
       "\n",
       "    .dataframe thead th {\n",
       "        text-align: right;\n",
       "    }\n",
       "</style>\n",
       "<table border=\"1\" class=\"dataframe\">\n",
       "  <thead>\n",
       "    <tr style=\"text-align: right;\">\n",
       "      <th></th>\n",
       "      <th>key1</th>\n",
       "      <th>value1</th>\n",
       "      <th>value2</th>\n",
       "    </tr>\n",
       "  </thead>\n",
       "  <tbody>\n",
       "    <tr>\n",
       "      <th>9</th>\n",
       "      <td>a</td>\n",
       "      <td>0.219484</td>\n",
       "      <td>0.428560</td>\n",
       "    </tr>\n",
       "    <tr>\n",
       "      <th>11</th>\n",
       "      <td>a</td>\n",
       "      <td>0.934771</td>\n",
       "      <td>0.776174</td>\n",
       "    </tr>\n",
       "  </tbody>\n",
       "</table>\n",
       "</div>"
      ],
      "text/plain": [
       "   key1    value1    value2\n",
       "9     a  0.219484  0.428560\n",
       "11    a  0.934771  0.776174"
      ]
     },
     "execution_count": 4,
     "metadata": {},
     "output_type": "execute_result"
    }
   ],
   "source": [
    "# get_groupで特定のkeyを持つDataFrameを取得する\n",
    "df.groupby(\"key1\").get_group(\"a\")"
   ]
  },
  {
   "cell_type": "markdown",
   "metadata": {},
   "source": [
    "DataFrameGroupByオブジェクトのメソッドを呼び出すことで、分割された各DataFrameで計算されます（**適用**）。  \n",
    "最終的に、グループごとに計算を行った結果がまとめられます（**結合**）。"
   ]
  },
  {
   "cell_type": "code",
   "execution_count": 5,
   "metadata": {},
   "outputs": [
    {
     "data": {
      "text/html": [
       "<div>\n",
       "<style scoped>\n",
       "    .dataframe tbody tr th:only-of-type {\n",
       "        vertical-align: middle;\n",
       "    }\n",
       "\n",
       "    .dataframe tbody tr th {\n",
       "        vertical-align: top;\n",
       "    }\n",
       "\n",
       "    .dataframe thead th {\n",
       "        text-align: right;\n",
       "    }\n",
       "</style>\n",
       "<table border=\"1\" class=\"dataframe\">\n",
       "  <thead>\n",
       "    <tr style=\"text-align: right;\">\n",
       "      <th></th>\n",
       "      <th>value1</th>\n",
       "      <th>value2</th>\n",
       "    </tr>\n",
       "    <tr>\n",
       "      <th>key1</th>\n",
       "      <th></th>\n",
       "      <th></th>\n",
       "    </tr>\n",
       "  </thead>\n",
       "  <tbody>\n",
       "    <tr>\n",
       "      <th>a</th>\n",
       "      <td>0.577128</td>\n",
       "      <td>0.602367</td>\n",
       "    </tr>\n",
       "    <tr>\n",
       "      <th>b</th>\n",
       "      <td>0.295439</td>\n",
       "      <td>0.470235</td>\n",
       "    </tr>\n",
       "    <tr>\n",
       "      <th>c</th>\n",
       "      <td>-0.209684</td>\n",
       "      <td>0.454186</td>\n",
       "    </tr>\n",
       "  </tbody>\n",
       "</table>\n",
       "</div>"
      ],
      "text/plain": [
       "        value1    value2\n",
       "key1                    \n",
       "a     0.577128  0.602367\n",
       "b     0.295439  0.470235\n",
       "c    -0.209684  0.454186"
      ]
     },
     "execution_count": 5,
     "metadata": {},
     "output_type": "execute_result"
    }
   ],
   "source": [
    "# GroupByオブジェクトの関数を呼ぶとグループごとに計算した結果を返す\n",
    "df.groupby(\"key1\").mean()"
   ]
  },
  {
   "cell_type": "markdown",
   "metadata": {},
   "source": [
    "自作関数を各列に適用するためにはaggメソッドを使います。"
   ]
  },
  {
   "cell_type": "code",
   "execution_count": 6,
   "metadata": {},
   "outputs": [
    {
     "data": {
      "text/plain": [
       "<matplotlib.axes._subplots.AxesSubplot at 0x1fa5f5c4a90>"
      ]
     },
     "execution_count": 6,
     "metadata": {},
     "output_type": "execute_result"
    },
    {
     "data": {
      "image/png": "[encoded data removed]",
      "text/plain": [
       "<matplotlib.figure.Figure at 0x1fa5f5c4048>"
      ]
     },
     "metadata": {},
     "output_type": "display_data"
    }
   ],
   "source": [
    "# 最大値と最小値の差を計算する自作関数\n",
    "def func(cols):\n",
    "    return cols.max() - cols.min()\n",
    "\n",
    "# aggメソッドで各グループ、各列に関数を適用し、値を得る\n",
    "df.groupby(\"key1\").agg(func).plot.bar()"
   ]
  },
  {
   "cell_type": "markdown",
   "metadata": {},
   "source": [
    "正規分布乱数の方が最大値と最小値の差が大きいことがわかりますね。  "
   ]
  }
 ],
 "metadata": {
  "anaconda-cloud": {},
  "kernelspec": {
   "display_name": "Python 3",
   "language": "python",
   "name": "python3"
  },
  "language_info": {
   "codemirror_mode": {
    "name": "ipython",
    "version": 3
   },
   "file_extension": ".py",
   "mimetype": "text/x-python",
   "name": "python",
   "nbconvert_exporter": "python",
   "pygments_lexer": "ipython3",
   "version": "3.6.3"
  }
 },
 "nbformat": 4,
 "nbformat_minor": 2
}
