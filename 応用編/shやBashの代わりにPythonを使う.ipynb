{
 "cells": [
  {
   "cell_type": "markdown",
   "metadata": {},
   "source": [
    "# 目次\n",
    "- はじめに\n",
    "- pwd: 作業ディレクトリのパスを表示する\n",
    "- ls: ファイルをリストする\n",
    "- cd: 作業ディレクトリを変更する\n",
    "- cp: ファイルをコピーする\n",
    "- mv: ファイルを移動する\n",
    "- rm: ファイルを消去する\n",
    "- mkdir: ディレクトリを作る\n",
    "- ファイル操作その他\n",
    "- プロセスの実行"
   ]
  },
  {
   "cell_type": "markdown",
   "metadata": {},
   "source": [
    "# はじめに\n",
    "Pythonの標準ライブラリを用いると、シェルスクリプト（shやbash）と同等の操作がPython上で行えます。  \n",
    "Pythonを用いることには次のような利点があります。\n",
    "- Pythonの強力な文字列操作メソッドを用いられる\n",
    "- シェルスクリプトの働きとPythonのその他のライブラリ（NumPyなど）とをシームレスにつなぐことができる  \n",
    "\n",
    "特に後者は、Pythonの強みである「言語自体の汎用性とライブラリによる専門性」を表していると言えるでしょう。\n",
    "\n",
    "本稿では、Pythonを用いてファイル操作を行う方法と、プロセスを実行する方法について、シェルのコマンドと対応させて簡単に紹介します。"
   ]
  },
  {
   "cell_type": "markdown",
   "metadata": {},
   "source": [
    "# pwd: 作業ディレクトリのパスを表示する\n",
    "pwdやlsなど、多くのファイル操作コマンドは、標準ライブラリ**os**モジュールを通して実現されています。  \n",
    "現在の作業ディレクトリのパスはos.getcwd()によって得られ、文字列型として返されます。"
   ]
  },
  {
   "cell_type": "code",
   "execution_count": 1,
   "metadata": {
    "collapsed": false
   },
   "outputs": [],
   "source": [
    "import os\n",
    "working_dir = os.getcwd()"
   ]
  },
  {
   "cell_type": "markdown",
   "metadata": {},
   "source": [
    "# ls: ファイルをリストする\n",
    "ls *path* は os.listdir(*path*) で、*path*におけるファイルなどを、文字列のリストとして返してくれます。"
   ]
  },
  {
   "cell_type": "code",
   "execution_count": 2,
   "metadata": {
    "collapsed": false
   },
   "outputs": [
    {
     "name": "stdout",
     "output_type": "stream",
     "text": [
      "Pandas　―　データ分析.ipynb\n",
      "libsobol.c\n",
      "c01.csv\n",
      "Fortran, C言語 との連携.ipynb\n",
      ".ipynb_checkpoints\n",
      "シェルスクリプトとしてPythonを使う.ipynb\n"
     ]
    }
   ],
   "source": [
    "ls = os.listdir(\"./\")\n",
    "for f in ls:\n",
    "    print(f)"
   ]
  },
  {
   "cell_type": "markdown",
   "metadata": {},
   "source": [
    "os.listdirでは、任意の1文字を表す ? や任意の文字 \\* などのワイルドカード、または正規表現を使うことができません。  \n",
    "ワイルドカードや正規表現を用いて特定のファイル名のみをリストしたいときは、標準ライブラリの**glob**を用います。  \n",
    "glob.glob(*path*)で、*path*に一致するファイルをリストとして抽出できます。ただし、os.listdirと異なり、ファイル名でなくそのパスを返していることに気をつけましょう。"
   ]
  },
  {
   "cell_type": "code",
   "execution_count": 3,
   "metadata": {
    "collapsed": false
   },
   "outputs": [
    {
     "name": "stdout",
     "output_type": "stream",
     "text": [
      "./Pandas　―　データ分析.ipynb\n",
      "./Fortran, C言語 との連携.ipynb\n",
      "./シェルスクリプトとしてPythonを使う.ipynb\n"
     ]
    }
   ],
   "source": [
    "import glob\n",
    "ls2 = glob.glob(\"./*.ipynb\")\n",
    "for f in ls2:\n",
    "    print(f)"
   ]
  },
  {
   "cell_type": "markdown",
   "metadata": {},
   "source": [
    "# cd: 作業ディレクトリを変更する\n",
    "cd *path* は os.chdir(*path*) です。  \n",
    "Python上での作業ディレクトリの変更は、Pythonのセッションが終了するまで（IPythonなどを閉じるまで）有効です。"
   ]
  },
  {
   "cell_type": "code",
   "execution_count": 4,
   "metadata": {
    "collapsed": false
   },
   "outputs": [],
   "source": [
    "os.chdir(\"../基礎編\")"
   ]
  },
  {
   "cell_type": "markdown",
   "metadata": {},
   "source": [
    "# cp: ファイルをコピーする\n",
    "cpやmvなどのコマンドは**shutil**モジュールによって提供されています。  \n",
    "cp *src* *dst*  は shutil.copy(*src*, *dst*) です。"
   ]
  },
  {
   "cell_type": "code",
   "execution_count": 5,
   "metadata": {
    "collapsed": false
   },
   "outputs": [
    {
     "name": "stdout",
     "output_type": "stream",
     "text": [
      "['./write_binary.f90']\n",
      "['./copied_write_binary.f90', './write_binary.f90']\n"
     ]
    }
   ],
   "source": [
    "import shutil\n",
    "print(glob.glob(\"./*.f90\"))\n",
    "shutil.copy(\"write_binary.f90\", \"copied_write_binary.f90\")\n",
    "print(glob.glob(\"./*.f90\"))"
   ]
  },
  {
   "cell_type": "markdown",
   "metadata": {},
   "source": [
    "また、ディレクトリまるごとのコピー（cp -r）は、 shutil.copytree(*src*, *dst*) です。"
   ]
  },
  {
   "cell_type": "markdown",
   "metadata": {},
   "source": [
    "# mv: ファイルを移動する\n",
    "mv *src* *dst* は shutil.move(*src*,*dst*) です。"
   ]
  },
  {
   "cell_type": "code",
   "execution_count": 6,
   "metadata": {
    "collapsed": false
   },
   "outputs": [
    {
     "name": "stdout",
     "output_type": "stream",
     "text": [
      "['./copied_write_binary.f90', './write_binary.f90']\n",
      "['./write_binary.f90', './moved_write_binary.f90']\n"
     ]
    }
   ],
   "source": [
    "print(glob.glob(\"./*.f90\"))\n",
    "shutil.move(\"copied_write_binary.f90\", \"moved_write_binary.f90\")\n",
    "print(glob.glob(\"./*.f90\"))"
   ]
  },
  {
   "cell_type": "markdown",
   "metadata": {},
   "source": [
    "# rm: ファイルを消去する\n",
    "rm *path* は os.remove(*path*) です。"
   ]
  },
  {
   "cell_type": "code",
   "execution_count": 7,
   "metadata": {
    "collapsed": false
   },
   "outputs": [
    {
     "name": "stdout",
     "output_type": "stream",
     "text": [
      "['./write_binary.f90', './moved_write_binary.f90']\n",
      "['./write_binary.f90']\n"
     ]
    }
   ],
   "source": [
    "print(glob.glob(\"./*.f90\"))\n",
    "os.remove(\"moved_write_binary.f90\")\n",
    "print(glob.glob(\"./*.f90\"))"
   ]
  },
  {
   "cell_type": "markdown",
   "metadata": {},
   "source": [
    "また、空のディレクトリの消去（rm -r *dirname*）はos.rmdir(*dirname*)、  \n",
    "中のファイルも含めたディレクトリまるごとの消去（rm -rf *dirname*）はshutil.rmtree(*dirname*)です。"
   ]
  },
  {
   "cell_type": "markdown",
   "metadata": {},
   "source": [
    "# mkdir: ディレクトリを作る\n",
    "mkdir *dirname* は os.mkdir(*dirname*) です。"
   ]
  },
  {
   "cell_type": "markdown",
   "metadata": {},
   "source": [
    "# ファイル操作その他\n",
    "osのサブモジュール**path**は、パスの操作に便利な関数を提供しています。\n",
    "\n",
    "os.path.exists(*path*) *path*で表されるファイル・ディレクトリが存在していればTrue、存在していなければFalseを返す。  \n",
    "os.path.isdir(*path*) *path*がディレクトリならばTrue、ファイルやシンボリックリンクならばFalseを返す。  \n",
    "os.path.isfile(*path*) *path*がファイルならばTrue、ディレクトリやシンボリックリンクならばFalseを返す。\n",
    "\n",
    "次の2つは、パスの文字列を場所+ファイル名に分割したり、拡張子を取り出すのに使えます。  \n",
    "*dir*, *file* = os.path.split(*path*) *path*のファイル等の場所を*dir*に、ファイル名を*file*に文字列として返す。  \n",
    "*root*, *ext* = os.path.splitext(*path*) *path*のファイル等の拡張子を*ext*に、拡張子の手前までを*root*に文字列として返す。"
   ]
  },
  {
   "cell_type": "markdown",
   "metadata": {},
   "source": [
    "# プロセスの実行 - シェルを呼ぶ場合\n",
    "上記のファイル操作コマンドだけでなく、Pythonからシェルを呼ぶことで任意のコマンドを実行することができます。\n",
    "Python 3.5以降は**subprocess**モジュールのsubprocess.runを用いることが推奨されていますが、Python 2.xでも**os.system**から同様のことができます。"
   ]
  },
  {
   "cell_type": "code",
   "execution_count": 8,
   "metadata": {
    "collapsed": false
   },
   "outputs": [
    {
     "data": {
      "text/plain": [
       "32512"
      ]
     },
     "execution_count": 8,
     "metadata": {},
     "output_type": "execute_result"
    }
   ],
   "source": [
    "import subprocess\n",
    "subprocess.run(\"./a.out > redirected.txt\", shell=True) # Python 3.5以降\n",
    "os.system(\"./a.out > redirected.txt\") # Python 2.x, 現在は非推奨らしい。./a.outがないため正常終了の結果（0）を返さない"
   ]
  },
  {
   "cell_type": "markdown",
   "metadata": {},
   "source": [
    "subprocessモジュールからシェルを呼ばない場合や、標準出力・標準エラー出力を得る方法については、[こちら](https://docs.python.jp/3/library/subprocess.html)や[こちら](http://qiita.com/tdrk/items/9b23ad6a58ac4032bb3b)をご覧ください。"
   ]
  }
 ],
 "metadata": {
  "kernelspec": {
   "display_name": "Python 3",
   "language": "python",
   "name": "python3"
  },
  "language_info": {
   "codemirror_mode": {
    "name": "ipython",
    "version": 3
   },
   "file_extension": ".py",
   "mimetype": "text/x-python",
   "name": "python",
   "nbconvert_exporter": "python",
   "pygments_lexer": "ipython3",
   "version": "3.6.0"
  }
 },
 "nbformat": 4,
 "nbformat_minor": 2
}
