{
 "cells": [
  {
   "cell_type": "markdown",
   "metadata": {},
   "source": [
    "# Python からC言語、Fortranを呼び出す\n",
    "\n",
    "C言語やFortranで書かれたライブラリは、直接Pythonから呼び出すことが出来ます。\n",
    "\n",
    "まず、C言語やFortranをコンパイルして共有ライブラリファイル(\\*.so (Linux) や \\*.dll)にして、\n",
    "そのライブラリをPythonで読み込みます。"
   ]
  },
  {
   "cell_type": "markdown",
   "metadata": {},
   "source": [
    "## Python から C言語の関数を呼び出す\n",
    "まず、呼び出される側のC言語のライブラリを用意します。\n",
    "\n",
    "ここではモンテカルロ法のための乱数の生成ライブラリ libsobol を使ってみましょう。"
   ]
  },
  {
   "cell_type": "code",
   "execution_count": 1,
   "metadata": {
    "collapsed": false
   },
   "outputs": [
    {
     "name": "stdout",
     "output_type": "stream",
     "text": [
      "#include <math.h>\r\n",
      "#include <stdint.h>\r\n",
      "#include <stdlib.h>\r\n",
      "int rightmost_unset_bit(int i) {\r\n",
      "  return log2(~i & -~i) + 1; // rightmost unset bit\r\n",
      "}\r\n",
      "void sobol(double *points, int N) {\r\n",
      "  int L = (unsigned)ceil(log2((double)N));\r\n",
      "  uint64_t V[64];\r\n",
      "  for (int j = 0; j < 2; j++) {\r\n",
      "    for (int i = 0; i < L; i++) {\r\n",
      "      uint64_t m = 0;\r\n",
      "      for (int k = 0; k < 64; k += 30) {\r\n",
      "        m = m * (RAND_MAX + 1Lu) + rand(); // 64 bit random integer\r\n",
      "      }\r\n",
      "      V[i] = m << (uint64_t) (63-i);\r\n",
      "    }\r\n",
      "    uint64_t X = 0;\r\n",
      "    for (int i = 0; i < N; i++) {\r\n",
      "      X = X ^ V[rightmost_unset_bit(i)];\r\n",
      "      points[2*i+j] = X / 0x1.0p64; /* floating-point hexadecimal literal 2**64 */\r\n",
      "    }\r\n",
      "  }\r\n",
      "}\r\n"
     ]
    }
   ],
   "source": [
    "!cat libsobol.c"
   ]
  },
  {
   "cell_type": "code",
   "execution_count": 2,
   "metadata": {
    "collapsed": true
   },
   "outputs": [],
   "source": [
    "!gcc -cpp -fPIC -shared libsobol.c -lm -o libsobol.so"
   ]
  },
  {
   "cell_type": "markdown",
   "metadata": {},
   "source": [
    "ライブラリが出来ました。では早速Pythonから呼び出してみましょう。\n",
    "ライブラリ **ctypes** と **numpy** を読み込みます。"
   ]
  },
  {
   "cell_type": "code",
   "execution_count": 3,
   "metadata": {
    "collapsed": true
   },
   "outputs": [],
   "source": [
    "from ctypes import *\n",
    "\n",
    "import numpy as np\n",
    "import matplotlib.pyplot as plt\n",
    "\n",
    "%matplotlib inline "
   ]
  },
  {
   "cell_type": "markdown",
   "metadata": {},
   "source": [
    "ついでに、動いていることを確認するためにMatplotlibも読み込みました。\n",
    "\n",
    "**`np.ctypeslib.load_library`** で読み込む共有ライブラリファイルを指定します。"
   ]
  },
  {
   "cell_type": "code",
   "execution_count": 4,
   "metadata": {
    "collapsed": true
   },
   "outputs": [],
   "source": [
    "libsobol = np.ctypeslib.load_library(\"libsobol.so\",\".\")"
   ]
  },
  {
   "cell_type": "markdown",
   "metadata": {},
   "source": [
    "libsobol.c で定義した関数がすべて読み込まれました。\n",
    "\n",
    "次に、関数の引数・戻り値の型を教えてあげます。"
   ]
  },
  {
   "cell_type": "code",
   "execution_count": 5,
   "metadata": {
    "collapsed": false
   },
   "outputs": [],
   "source": [
    "# C の関数宣言式:\n",
    "# void sobol(double *points, int N);\n",
    "\n",
    "# 引数の型を指定\n",
    "#         v 関数の名前\n",
    "libsobol.sobol.argtypes = [np.ctypeslib.ndpointer(dtype=np.float64), c_int32]\n",
    "\n",
    "# 戻り値の型を指定\n",
    "libsobol.sobol.restype = c_void_p"
   ]
  },
  {
   "cell_type": "markdown",
   "metadata": {},
   "source": [
    "代表的な型は以下のように指定します。\n",
    "\n",
    "|   |型(C言語)        |型 (C99 stdint.h) |Python での型指定                        |\n",
    "|---|----------------|------------------|---------------------------------------|\n",
    "|倍精度浮動小数点数の配列|double \\*       |                  |np.ctypeslib.ndpointer(dtype=np.float64)|\n",
    "|単精度浮動小数点数の配列|float \\*        |                  |np.ctypeslib.ndpointer(dtype=np.float32)|\n",
    "|64bit整数の配列|long long int \\*|int64_t \\*        |np.ctypeslib.ndpointer(dtype=np.int64)  |\n",
    "|32bit整数の配列|int \\*          |int32_t \\*         |np.ctypeslib.ndpointer(dtype=np.int32)  |\n",
    "|倍精度浮動小数点数|double        |                  |c_float64|\n",
    "|単精度浮動小数点数|float         |                  |c_float32|\n",
    "|64bit整数|long long int |int64_t           |c_int64  |\n",
    "|32bit整数|int           |int32_t           |c_int32  |\n",
    "|void    |void          |                  | c_void_p |"
   ]
  },
  {
   "cell_type": "code",
   "execution_count": 6,
   "metadata": {
    "collapsed": false
   },
   "outputs": [
    {
     "data": {
      "text/plain": [
       "1024"
      ]
     },
     "execution_count": 6,
     "metadata": {},
     "output_type": "execute_result"
    }
   ],
   "source": [
    "# C言語の関数 sobol に渡す numpy の配列を用意します\n",
    "a = np.zeros((1024, 2))\n",
    "\n",
    "# 関数を呼び出します。\n",
    "libsobol.sobol(a, 1024)"
   ]
  },
  {
   "cell_type": "markdown",
   "metadata": {},
   "source": [
    "C言語の関数に引数として渡された多次元配列は、C言語からは1次元配列として見えます。(`a[0, 0], a[0, 1], a[1, 0], a[1, 1] ...`)\n",
    "\n",
    "では結果を確認してみましょう。"
   ]
  },
  {
   "cell_type": "code",
   "execution_count": 7,
   "metadata": {
    "collapsed": false
   },
   "outputs": [
    {
     "data": {
      "text/plain": [
       "array([[  7.50000000e-01,   7.50000000e-01],\n",
       "       [  2.50000000e-01,   0.00000000e+00],\n",
       "       [  5.00000000e-01,   7.50000000e-01],\n",
       "       ..., \n",
       "       [  7.50007628e-01,   7.50007628e-01],\n",
       "       [  7.62840894e-06,   7.62840894e-06],\n",
       "       [  1.40739251e-09,   1.40739251e-09]])"
      ]
     },
     "execution_count": 7,
     "metadata": {},
     "output_type": "execute_result"
    }
   ],
   "source": [
    "a"
   ]
  },
  {
   "cell_type": "code",
   "execution_count": 8,
   "metadata": {
    "collapsed": false
   },
   "outputs": [
    {
     "data": {
      "text/plain": [
       "<matplotlib.collections.PathCollection at 0x7ffba3561a20>"
      ]
     },
     "execution_count": 8,
     "metadata": {},
     "output_type": "execute_result"
    },
    {
     "data": {
      "image/png": "[encoded data removed]",
      "text/plain": [
       "<matplotlib.figure.Figure at 0x7ffba35619e8>"
      ]
     },
     "metadata": {},
     "output_type": "display_data"
    }
   ],
   "source": [
    "plt.scatter(a[:,0], a[:,1])"
   ]
  },
  {
   "cell_type": "markdown",
   "metadata": {},
   "source": [
    "うまくできました。"
   ]
  },
  {
   "cell_type": "markdown",
   "metadata": {
    "collapsed": true
   },
   "source": [
    "## Python から Fortran の関数を呼び出す"
   ]
  },
  {
   "cell_type": "markdown",
   "metadata": {},
   "source": [
    "Fortran 2003 の機能により、 Fortran のサブルーチン・関数は C 言語の関数と同様に扱うことができます。Fortran 2003 に対応していないコンパイラでも、場合によっては動かすことができます。\n",
    "\n",
    "まず、Python から呼び出したいサブルーチン、関数の宣言の最後に bind(C) を書き加えます。"
   ]
  },
  {
   "cell_type": "code",
   "execution_count": 9,
   "metadata": {
    "collapsed": false
   },
   "outputs": [
    {
     "name": "stdout",
     "output_type": "stream",
     "text": [
      "subroutine rungekutta(dt, nend, values) bind(C)\r\n",
      "  implicit none\r\n",
      "  double precision, intent(in) :: dt\r\n",
      "  integer, intent(in)  :: nend\r\n",
      "  double precision, intent(out) :: values(nend)\r\n",
      "  double precision :: t, p1, p2, p3, p4, u\r\n",
      "  integer :: n\r\n",
      "  u = 1d0\r\n",
      "  do n = 1, nend\r\n",
      "    t = dt * real(n)\r\n",
      "    p1 = u\r\n",
      "    p2 = u + 0.5d0 * dt * p1\r\n",
      "    p3 = u + 0.5d0 * dt * p2\r\n",
      "    p4 = u + dt * p3\r\n",
      "    u = u + dt * 1/6d0 * (p1 + 2 * p2 + 2 * p3 + p4)\r\n",
      "    values(n) = u\r\n",
      "  end do\r\n",
      "end subroutine\r\n"
     ]
    }
   ],
   "source": [
    "!cat RK4.f90"
   ]
  },
  {
   "cell_type": "markdown",
   "metadata": {},
   "source": [
    "これを共有ライブラリにコンパイルします。"
   ]
  },
  {
   "cell_type": "code",
   "execution_count": 10,
   "metadata": {
    "collapsed": true
   },
   "outputs": [],
   "source": [
    "!gfortran -cpp -fPIC -shared RK4.f90 -o RK4.so"
   ]
  },
  {
   "cell_type": "markdown",
   "metadata": {},
   "source": [
    "Python から呼び出してみます。Fortran は参照渡しであるため、関数の引数の型を、すべてポインタとして教えていることに注意してください。"
   ]
  },
  {
   "cell_type": "code",
   "execution_count": 11,
   "metadata": {
    "collapsed": false
   },
   "outputs": [
    {
     "data": {
      "text/plain": [
       "[<matplotlib.lines.Line2D at 0x7ffba2fcfb38>]"
      ]
     },
     "execution_count": 11,
     "metadata": {},
     "output_type": "execute_result"
    },
    {
     "data": {
      "image/png": "[encoded data removed]",
      "text/plain": [
       "<matplotlib.figure.Figure at 0x7ffba3258fd0>"
      ]
     },
     "metadata": {},
     "output_type": "display_data"
    }
   ],
   "source": [
    "libRK = np.ctypeslib.load_library(\"RK4.so\",\".\")\n",
    "\n",
    "libRK.rungekutta.argtypes = [POINTER(c_double),\n",
    "                             POINTER(c_int32),\n",
    "                             np.ctypeslib.ndpointer(dtype=np.float64)]\n",
    "libRK.rungekutta.restype = c_void_p\n",
    "\n",
    "a = np.zeros((500,))\n",
    "# まず、Python の float 型変数 0.01 を c_double 型に変換し、\n",
    "# つぎにその値の入った場所へのポインタに変換している。\n",
    "dt = POINTER(c_double)(c_double(0.01))\n",
    "len = POINTER(c_int32)(c_int(500))\n",
    "\n",
    "libRK.rungekutta(dt, len, a)\n",
    "\n",
    "plt.plot(np.arange(0,5,0.01), a)"
   ]
  },
  {
   "cell_type": "markdown",
   "metadata": {},
   "source": [
    "Fortran 2003 の bind(C) に対応していないコンパイラの場合は、C言語やPythonから呼び出す時に、Fortranで宣言された関数名の末尾にアンダースコア( \\_ )をつけると呼び出せることが多いです。"
   ]
  }
 ],
 "metadata": {
  "kernelspec": {
   "display_name": "Python 3",
   "language": "python",
   "name": "python3"
  },
  "language_info": {
   "codemirror_mode": {
    "name": "ipython",
    "version": 3
   },
   "file_extension": ".py",
   "mimetype": "text/x-python",
   "name": "python",
   "nbconvert_exporter": "python",
   "pygments_lexer": "ipython3",
   "version": "3.6.0"
  }
 },
 "nbformat": 4,
 "nbformat_minor": 2
}
