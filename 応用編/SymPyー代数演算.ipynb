{
 "cells": [
  {
   "cell_type": "markdown",
   "metadata": {},
   "source": [
    "# SymPyとは\n",
    "代数演算のライブラリです。  \n",
    "Symbolicな演算（文字を数値としてではなくそのまま計算する演算）を可能にします。  "
   ]
  },
  {
   "cell_type": "code",
   "execution_count": 1,
   "metadata": {
    "collapsed": true
   },
   "outputs": [],
   "source": [
    "import sympy as sy\n",
    "sy.init_printing()"
   ]
  },
  {
   "cell_type": "code",
   "execution_count": 2,
   "metadata": {
    "collapsed": true
   },
   "outputs": [],
   "source": [
    "import numpy as np\n",
    "import matplotlib.pyplot as plt\n",
    "%matplotlib inline"
   ]
  },
  {
   "cell_type": "markdown",
   "metadata": {},
   "source": [
    "## シンボルの定義"
   ]
  },
  {
   "cell_type": "code",
   "execution_count": 3,
   "metadata": {},
   "outputs": [
    {
     "data": {
      "image/png": "[encoded data removed]",
      "text/latex": [
       "$$a$$"
      ],
      "text/plain": [
       "a"
      ]
     },
     "execution_count": 3,
     "metadata": {},
     "output_type": "execute_result"
    }
   ],
   "source": [
    "# シンボルを定義\n",
    "a = sy.Symbol(\"a\")\n",
    "a"
   ]
  },
  {
   "cell_type": "code",
   "execution_count": 4,
   "metadata": {
    "collapsed": true
   },
   "outputs": [],
   "source": [
    "# 複数のシンボルを同時に定義\n",
    "x, y = sy.symbols(\"x y\")"
   ]
  },
  {
   "cell_type": "code",
   "execution_count": 5,
   "metadata": {},
   "outputs": [
    {
     "data": {
      "image/png": "[encoded data removed]",
      "text/latex": [
       "$$\\left ( \\theta, \\quad \\gamma\\right )$$"
      ],
      "text/plain": [
       "(\\theta, \\gamma)"
      ]
     },
     "execution_count": 5,
     "metadata": {},
     "output_type": "execute_result"
    }
   ],
   "source": [
    "# LaTexの記法を使える（raw文字列にしないとエスケープ文字と認識する）\n",
    "theta, gamma = sy.symbols(r\"\\theta \\gamma\")\n",
    "theta, gamma"
   ]
  },
  {
   "cell_type": "code",
   "execution_count": 6,
   "metadata": {
    "collapsed": true
   },
   "outputs": [],
   "source": [
    "# 正の実数として定義\n",
    "r = sy.Symbol(\"r\", positive=True)\n",
    "\n",
    "# 実数として定義\n",
    "q = sy.Symbol(\"q\", real=True)"
   ]
  },
  {
   "cell_type": "markdown",
   "metadata": {},
   "source": [
    "文字の情報を与えないと非常に一般的な複素数として計算することがあるので、なるべく情報を与えるようにしましょう。"
   ]
  },
  {
   "cell_type": "markdown",
   "metadata": {},
   "source": [
    "## 基本演算"
   ]
  },
  {
   "cell_type": "code",
   "execution_count": 7,
   "metadata": {},
   "outputs": [
    {
     "data": {
      "image/png": "[encoded data removed]",
      "text/latex": [
       "$$- \\theta + a^{2} + x$$"
      ],
      "text/plain": [
       "           2    \n",
       "-\\theta + a  + x"
      ]
     },
     "execution_count": 7,
     "metadata": {},
     "output_type": "execute_result"
    }
   ],
   "source": [
    "a**2 + x - theta"
   ]
  },
  {
   "cell_type": "code",
   "execution_count": 8,
   "metadata": {},
   "outputs": [
    {
     "data": {
      "image/png": "[encoded data removed]",
      "text/latex": [
       "$$a$$"
      ],
      "text/plain": [
       "a"
      ]
     },
     "execution_count": 8,
     "metadata": {},
     "output_type": "execute_result"
    }
   ],
   "source": [
    "a**2 / a"
   ]
  },
  {
   "cell_type": "code",
   "execution_count": 9,
   "metadata": {},
   "outputs": [
    {
     "data": {
      "image/png": "[encoded data removed]",
      "text/latex": [
       "$$\\left(x + y\\right)^{3}$$"
      ],
      "text/plain": [
       "       3\n",
       "(x + y) "
      ]
     },
     "execution_count": 9,
     "metadata": {},
     "output_type": "execute_result"
    }
   ],
   "source": [
    "(x + y)**3"
   ]
  },
  {
   "cell_type": "markdown",
   "metadata": {},
   "source": [
    "### 式の展開など"
   ]
  },
  {
   "cell_type": "code",
   "execution_count": 10,
   "metadata": {},
   "outputs": [
    {
     "data": {
      "image/png": "[encoded data removed]",
      "text/latex": [
       "$$x^{3} + 3 x^{2} y + 3 x y^{2} + y^{3}$$"
      ],
      "text/plain": [
       " 3      2          2    3\n",
       "x  + 3⋅x ⋅y + 3⋅x⋅y  + y "
      ]
     },
     "execution_count": 10,
     "metadata": {},
     "output_type": "execute_result"
    }
   ],
   "source": [
    "f = (x + y)**3\n",
    "f.expand()"
   ]
  },
  {
   "cell_type": "code",
   "execution_count": 11,
   "metadata": {},
   "outputs": [
    {
     "data": {
      "image/png": "[encoded data removed]",
      "text/latex": [
       "$$3 y$$"
      ],
      "text/plain": [
       "3⋅y"
      ]
     },
     "execution_count": 11,
     "metadata": {},
     "output_type": "execute_result"
    }
   ],
   "source": [
    "# x^2の係数\n",
    "f.expand().coeff(x, n=2)"
   ]
  },
  {
   "cell_type": "markdown",
   "metadata": {},
   "source": [
    "## 微分や極限"
   ]
  },
  {
   "cell_type": "code",
   "execution_count": 12,
   "metadata": {},
   "outputs": [
    {
     "data": {
      "image/png": "[encoded data removed]",
      "text/latex": [
       "$$1$$"
      ],
      "text/plain": [
       "1"
      ]
     },
     "execution_count": 12,
     "metadata": {},
     "output_type": "execute_result"
    }
   ],
   "source": [
    "f = sy.sin(x)/x\n",
    "f.limit(x, 0)"
   ]
  },
  {
   "cell_type": "code",
   "execution_count": 13,
   "metadata": {},
   "outputs": [
    {
     "data": {
      "image/png": "[encoded data removed]",
      "text/latex": [
       "$$6 x y + y^{2}$$"
      ],
      "text/plain": [
       "         2\n",
       "6⋅x⋅y + y "
      ]
     },
     "execution_count": 13,
     "metadata": {},
     "output_type": "execute_result"
    }
   ],
   "source": [
    "# xで偏微分\n",
    "f = 3 * x**2 * y + x * y**2\n",
    "f.diff(x)"
   ]
  },
  {
   "cell_type": "code",
   "execution_count": 14,
   "metadata": {},
   "outputs": [
    {
     "data": {
      "image/png": "[encoded data removed]",
      "text/latex": [
       "$$a^{4} x + 3 a^{2} x^{2}$$"
      ],
      "text/plain": [
       " 4        2  2\n",
       "a ⋅x + 3⋅a ⋅x "
      ]
     },
     "execution_count": 14,
     "metadata": {},
     "output_type": "execute_result"
    }
   ],
   "source": [
    "# 代入（シンボルも代入できる）\n",
    "f.subs([(y, a**2)])"
   ]
  },
  {
   "cell_type": "markdown",
   "metadata": {},
   "source": [
    "## NumPyのufuncに変換\n",
    "シンボリックな表現をNumPyのufuncに変換できます。  \n",
    "これは結構すごいと思います。  \n",
    "シンボリックな計算をしたあと、数値計算を簡単にすることができます。"
   ]
  },
  {
   "cell_type": "code",
   "execution_count": 15,
   "metadata": {},
   "outputs": [
    {
     "data": {
      "image/png": "[encoded data removed]",
      "text/latex": [
       "$$a x^{2} + b x + c$$"
      ],
      "text/plain": [
       "   2          \n",
       "a⋅x  + b⋅x + c"
      ]
     },
     "execution_count": 15,
     "metadata": {},
     "output_type": "execute_result"
    }
   ],
   "source": [
    "x, a, b, c = sy.symbols(\"x a b c\")\n",
    "f = a * x**2 + b * x + c\n",
    "f"
   ]
  },
  {
   "cell_type": "code",
   "execution_count": 16,
   "metadata": {
    "collapsed": true
   },
   "outputs": [],
   "source": [
    "# ４引数を持つ関数を定義\n",
    "args = (x, a, b, c)\n",
    "func = sy.lambdify(args, f, \"numpy\")"
   ]
  },
  {
   "cell_type": "code",
   "execution_count": 17,
   "metadata": {},
   "outputs": [
    {
     "data": {
      "image/png": "[encoded data removed]",
      "text/plain": [
       "<matplotlib.figure.Figure at 0x2186d84d7b8>"
      ]
     },
     "metadata": {},
     "output_type": "display_data"
    }
   ],
   "source": [
    "# 実際に数値を代入(ufuncとして振る舞い、ベクトル演算が可能)\n",
    "xx = np.linspace(0, 1)\n",
    "plt.plot(xx, func(xx, 1, -0.5, 0))\n",
    "plt.show()"
   ]
  },
  {
   "cell_type": "markdown",
   "metadata": {},
   "source": [
    "# 応用例\n",
    "SymPyとNumPyの組み合わせが強力であることを示す例として、二重振り子を数値計算で解くということを試みます。  \n",
    "もちろん普通に解いてもしょうがないので、座標設定からラグランジアン、そして運動方程式をシンボリックに求め、最後に数値計算することにします。\n",
    "\n",
    "### モデル設定\n",
    "原点からy軸負方向に１つ目の質点が長さ$r_1$のひもでぶら下がっていて、その先に２つ目の質点が長さ$r_2$のひもでぶら下がっているとします。  \n",
    "それぞれの質点のy軸とのなす角をそれぞれ$\\theta_1, \\theta_2$とします。"
   ]
  },
  {
   "cell_type": "code",
   "execution_count": 18,
   "metadata": {
    "collapsed": true
   },
   "outputs": [],
   "source": [
    "# 変数と関数を定義\n",
    "t = sy.Symbol(\"t\", real=True)\n",
    "r1, r2, m1, m2, g = sy.symbols(r\"r_1 r_2 m_1 m_2 g\", positive=True)\n",
    "# theta1, theta2 = sy.symbols(r\"\\theta_1 \\theta_2\", real=True)\n",
    "theta1 = sy.Function(r\"\\theta_1\")(t)\n",
    "theta2 = sy.Function(r\"\\theta_2\")(t)\n",
    "theta1_dot, theta2_dot = sy.symbols(r\"\\dot{\\theta_1} \\dot{\\theta_2}\")"
   ]
  },
  {
   "cell_type": "code",
   "execution_count": 19,
   "metadata": {},
   "outputs": [
    {
     "data": {
      "image/png": "[encoded data removed]",
      "text/latex": [
       "$$\\left ( \\left[\\begin{matrix}r_{1} \\sin{\\left (\\theta_{1}{\\left (t \\right )} \\right )}\\\\- r_{1} \\cos{\\left (\\theta_{1}{\\left (t \\right )} \\right )}\\end{matrix}\\right], \\quad \\left[\\begin{matrix}r_{1} \\cos{\\left (\\theta_{1}{\\left (t \\right )} \\right )} \\frac{d}{d t} \\theta_{1}{\\left (t \\right )}\\\\r_{1} \\sin{\\left (\\theta_{1}{\\left (t \\right )} \\right )} \\frac{d}{d t} \\theta_{1}{\\left (t \\right )}\\end{matrix}\\right]\\right )$$"
      ],
      "text/plain": [
       "⎛                       ⎡                   d             ⎤⎞\n",
       "⎜                       ⎢r₁⋅cos(\\theta₁(t))⋅──(\\theta₁(t))⎥⎟\n",
       "⎜⎡r₁⋅sin(\\theta₁(t)) ⎤  ⎢                   dt            ⎥⎟\n",
       "⎜⎢                   ⎥, ⎢                                 ⎥⎟\n",
       "⎜⎣-r₁⋅cos(\\theta₁(t))⎦  ⎢                   d             ⎥⎟\n",
       "⎜                       ⎢r₁⋅sin(\\theta₁(t))⋅──(\\theta₁(t))⎥⎟\n",
       "⎝                       ⎣                   dt            ⎦⎠"
      ]
     },
     "execution_count": 19,
     "metadata": {},
     "output_type": "execute_result"
    }
   ],
   "source": [
    "# 質点１の位置と速度\n",
    "x1 = sy.Matrix([r1 * sy.sin(theta1), - r1 * sy.cos(theta1)])\n",
    "v1 = x1.diff(t)\n",
    "x1, v1"
   ]
  },
  {
   "cell_type": "code",
   "execution_count": 20,
   "metadata": {},
   "outputs": [
    {
     "data": {
      "image/png": "[encoded data removed]",
      "text/latex": [
       "$$\\left ( \\left[\\begin{matrix}r_{1} \\sin{\\left (\\theta_{1}{\\left (t \\right )} \\right )} + r_{2} \\sin{\\left (\\theta_{2}{\\left (t \\right )} \\right )}\\\\- r_{1} \\cos{\\left (\\theta_{1}{\\left (t \\right )} \\right )} - r_{2} \\cos{\\left (\\theta_{2}{\\left (t \\right )} \\right )}\\end{matrix}\\right], \\quad \\left[\\begin{matrix}r_{1} \\cos{\\left (\\theta_{1}{\\left (t \\right )} \\right )} \\frac{d}{d t} \\theta_{1}{\\left (t \\right )} + r_{2} \\cos{\\left (\\theta_{2}{\\left (t \\right )} \\right )} \\frac{d}{d t} \\theta_{2}{\\left (t \\right )}\\\\r_{1} \\sin{\\left (\\theta_{1}{\\left (t \\right )} \\right )} \\frac{d}{d t} \\theta_{1}{\\left (t \\right )} + r_{2} \\sin{\\left (\\theta_{2}{\\left (t \\right )} \\right )} \\frac{d}{d t} \\theta_{2}{\\left (t \\right )}\\end{matrix}\\right]\\right )$$"
      ],
      "text/plain": [
       "⎛                                            ⎡                   d            \n",
       "⎜                                            ⎢r₁⋅cos(\\theta₁(t))⋅──(\\theta₁(t)\n",
       "⎜⎡r₁⋅sin(\\theta₁(t)) + r₂⋅sin(\\theta₂(t)) ⎤  ⎢                   dt           \n",
       "⎜⎢                                        ⎥, ⎢                                \n",
       "⎜⎣-r₁⋅cos(\\theta₁(t)) - r₂⋅cos(\\theta₂(t))⎦  ⎢                   d            \n",
       "⎜                                            ⎢r₁⋅sin(\\theta₁(t))⋅──(\\theta₁(t)\n",
       "⎝                                            ⎣                   dt           \n",
       "\n",
       "                       d             ⎤⎞\n",
       ") + r₂⋅cos(\\theta₂(t))⋅──(\\theta₂(t))⎥⎟\n",
       "                       dt            ⎥⎟\n",
       "                                     ⎥⎟\n",
       "                       d             ⎥⎟\n",
       ") + r₂⋅sin(\\theta₂(t))⋅──(\\theta₂(t))⎥⎟\n",
       "                       dt            ⎦⎠"
      ]
     },
     "execution_count": 20,
     "metadata": {},
     "output_type": "execute_result"
    }
   ],
   "source": [
    "# 質点２の位置と速度\n",
    "x2 = x1 + sy.Matrix([r2 * sy.sin(theta2), - r2 * sy.cos(theta2)])\n",
    "v2 = x2.diff(t)\n",
    "x2, v2"
   ]
  },
  {
   "cell_type": "code",
   "execution_count": 21,
   "metadata": {},
   "outputs": [
    {
     "data": {
      "image/png": "[encoded data removed]",
      "text/latex": [
       "$$\\left ( \\frac{m_{1} r_{1}^{2}}{2} \\left(\\frac{d}{d t} \\theta_{1}{\\left (t \\right )}\\right)^{2}, \\quad \\frac{m_{2}}{2} \\left(r_{1}^{2} \\left(\\frac{d}{d t} \\theta_{1}{\\left (t \\right )}\\right)^{2} + 2 r_{1} r_{2} \\cos{\\left (\\theta_{1}{\\left (t \\right )} - \\theta_{2}{\\left (t \\right )} \\right )} \\frac{d}{d t} \\theta_{1}{\\left (t \\right )} \\frac{d}{d t} \\theta_{2}{\\left (t \\right )} + r_{2}^{2} \\left(\\frac{d}{d t} \\theta_{2}{\\left (t \\right )}\\right)^{2}\\right)\\right )$$"
      ],
      "text/plain": [
       "⎛                       2     ⎛                    2                          \n",
       "⎜     2 ⎛d             ⎞      ⎜  2 ⎛d             ⎞                           \n",
       "⎜m₁⋅r₁ ⋅⎜──(\\theta₁(t))⎟   m₂⋅⎜r₁ ⋅⎜──(\\theta₁(t))⎟  + 2⋅r₁⋅r₂⋅cos(\\theta₁(t) \n",
       "⎜       ⎝dt            ⎠      ⎝    ⎝dt            ⎠                           \n",
       "⎜────────────────────────, ───────────────────────────────────────────────────\n",
       "⎝           2                                                                 \n",
       "\n",
       "                                                                  2⎞⎞\n",
       "              d              d                  2 ⎛d             ⎞ ⎟⎟\n",
       "- \\theta₂(t))⋅──(\\theta₁(t))⋅──(\\theta₂(t)) + r₂ ⋅⎜──(\\theta₂(t))⎟ ⎟⎟\n",
       "              dt             dt                   ⎝dt            ⎠ ⎠⎟\n",
       "────────────────────────────────────────────────────────────────────⎟\n",
       "        2                                                           ⎠"
      ]
     },
     "execution_count": 21,
     "metadata": {},
     "output_type": "execute_result"
    }
   ],
   "source": [
    "# 運動エネルギー\n",
    "T1 = (m1 * (v1[0]**2 + v1[1]**2) / 2).simplify()\n",
    "T2 = (m2 * (v2[0]**2 + v2[1]**2) / 2).simplify()\n",
    "T1, T2"
   ]
  },
  {
   "cell_type": "code",
   "execution_count": 22,
   "metadata": {},
   "outputs": [
    {
     "data": {
      "image/png": "[encoded data removed]",
      "text/latex": [
       "$$\\left ( - g m_{1} r_{1} \\cos{\\left (\\theta_{1}{\\left (t \\right )} \\right )}, \\quad g m_{2} \\left(- r_{1} \\cos{\\left (\\theta_{1}{\\left (t \\right )} \\right )} - r_{2} \\cos{\\left (\\theta_{2}{\\left (t \\right )} \\right )}\\right)\\right )$$"
      ],
      "text/plain": [
       "(-g⋅m₁⋅r₁⋅cos(\\theta₁(t)), g⋅m₂⋅(-r₁⋅cos(\\theta₁(t)) - r₂⋅cos(\\theta₂(t))))"
      ]
     },
     "execution_count": 22,
     "metadata": {},
     "output_type": "execute_result"
    }
   ],
   "source": [
    "# ポテンシャル\n",
    "V1 = m1 * g * x1[1]\n",
    "V2 = m2 * g * x2[1]\n",
    "V1, V2"
   ]
  },
  {
   "cell_type": "markdown",
   "metadata": {},
   "source": [
    "運動エネルギーとポテンシャルが求まったので、ラグランジアン $L(\\theta_1, \\theta_2, \\dot{\\theta_1}, \\dot{\\theta_2})$ を得ることができます。"
   ]
  },
  {
   "cell_type": "code",
   "execution_count": 23,
   "metadata": {},
   "outputs": [
    {
     "data": {
      "image/png": "[encoded data removed]",
      "text/latex": [
       "$$g m_{1} r_{1} \\cos{\\left (\\theta_{1}{\\left (t \\right )} \\right )} - g m_{2} \\left(- r_{1} \\cos{\\left (\\theta_{1}{\\left (t \\right )} \\right )} - r_{2} \\cos{\\left (\\theta_{2}{\\left (t \\right )} \\right )}\\right) + \\frac{m_{1} r_{1}^{2}}{2} \\left(\\frac{d}{d t} \\theta_{1}{\\left (t \\right )}\\right)^{2} + \\frac{m_{2}}{2} \\left(r_{1}^{2} \\left(\\frac{d}{d t} \\theta_{1}{\\left (t \\right )}\\right)^{2} + 2 r_{1} r_{2} \\cos{\\left (\\theta_{1}{\\left (t \\right )} - \\theta_{2}{\\left (t \\right )} \\right )} \\frac{d}{d t} \\theta_{1}{\\left (t \\right )} \\frac{d}{d t} \\theta_{2}{\\left (t \\right )} + r_{2}^{2} \\left(\\frac{d}{d t} \\theta_{2}{\\left (t \\right )}\\right)^{2}\\right)$$"
      ],
      "text/plain": [
       "                                                                              \n",
       "                                                                              \n",
       "                                                                            m₁\n",
       "                                                                              \n",
       "g⋅m₁⋅r₁⋅cos(\\theta₁(t)) - g⋅m₂⋅(-r₁⋅cos(\\theta₁(t)) - r₂⋅cos(\\theta₂(t))) + ──\n",
       "                                                                              \n",
       "\n",
       "                     2      ⎛                    2                            \n",
       "   2 ⎛d             ⎞       ⎜  2 ⎛d             ⎞                             \n",
       "⋅r₁ ⋅⎜──(\\theta₁(t))⎟    m₂⋅⎜r₁ ⋅⎜──(\\theta₁(t))⎟  + 2⋅r₁⋅r₂⋅cos(\\theta₁(t) - \n",
       "     ⎝dt            ⎠       ⎝    ⎝dt            ⎠                             \n",
       "────────────────────── + ─────────────────────────────────────────────────────\n",
       "         2                                                                    \n",
       "\n",
       "                                                                2⎞\n",
       "            d              d                  2 ⎛d             ⎞ ⎟\n",
       "\\theta₂(t))⋅──(\\theta₁(t))⋅──(\\theta₂(t)) + r₂ ⋅⎜──(\\theta₂(t))⎟ ⎟\n",
       "            dt             dt                   ⎝dt            ⎠ ⎠\n",
       "──────────────────────────────────────────────────────────────────\n",
       "      2                                                           "
      ]
     },
     "execution_count": 23,
     "metadata": {},
     "output_type": "execute_result"
    }
   ],
   "source": [
    "L = T1 + T2 - V1 - V2\n",
    "L"
   ]
  },
  {
   "cell_type": "markdown",
   "metadata": {},
   "source": [
    "だんだん結果は複雑になってきましたが、人間側は相当楽をしています。  \n",
    "ラグランジアンから運動方程式はそれぞれ、\n",
    "$$\\frac{d}{dt} \\frac{\\partial L}{\\partial \\dot{\\theta_1}}=\\frac{\\partial L}{\\partial \\theta_1}$$\n",
    "$$\\frac{d}{dt} \\frac{\\partial L}{\\partial \\dot{\\theta_2}}=\\frac{\\partial L}{\\partial \\theta_2}$$\n",
    "となるので、"
   ]
  },
  {
   "cell_type": "code",
   "execution_count": 24,
   "metadata": {},
   "outputs": [
    {
     "data": {
      "image/png": "[encoded data removed]",
      "text/latex": [
       "$$m_{1} r_{1}^{2} \\frac{d^{2}}{d t^{2}}  \\theta_{1}{\\left (t \\right )} + \\frac{m_{2}}{2} \\left(2 r_{1}^{2} \\frac{d^{2}}{d t^{2}}  \\theta_{1}{\\left (t \\right )} - 2 r_{1} r_{2} \\left(\\frac{d}{d t} \\theta_{1}{\\left (t \\right )} - \\frac{d}{d t} \\theta_{2}{\\left (t \\right )}\\right) \\sin{\\left (\\theta_{1}{\\left (t \\right )} - \\theta_{2}{\\left (t \\right )} \\right )} \\frac{d}{d t} \\theta_{2}{\\left (t \\right )} + 2 r_{1} r_{2} \\cos{\\left (\\theta_{1}{\\left (t \\right )} - \\theta_{2}{\\left (t \\right )} \\right )} \\frac{d^{2}}{d t^{2}}  \\theta_{2}{\\left (t \\right )}\\right) = - g m_{1} r_{1} \\sin{\\left (\\theta_{1}{\\left (t \\right )} \\right )} - g m_{2} r_{1} \\sin{\\left (\\theta_{1}{\\left (t \\right )} \\right )} - m_{2} r_{1} r_{2} \\sin{\\left (\\theta_{1}{\\left (t \\right )} - \\theta_{2}{\\left (t \\right )} \\right )} \\frac{d}{d t} \\theta_{1}{\\left (t \\right )} \\frac{d}{d t} \\theta_{2}{\\left (t \\right )}$$"
      ],
      "text/plain": [
       "                            ⎛        2                                        \n",
       "                            ⎜    2  d                        ⎛d               \n",
       "                         m₂⋅⎜2⋅r₁ ⋅───(\\theta₁(t)) - 2⋅r₁⋅r₂⋅⎜──(\\theta₁(t)) -\n",
       "         2                  ⎜        2                       ⎝dt              \n",
       "     2  d                   ⎝      dt                                         \n",
       "m₁⋅r₁ ⋅───(\\theta₁(t)) + ─────────────────────────────────────────────────────\n",
       "         2                                                                    \n",
       "       dt                                                                     \n",
       "\n",
       "                                                                              \n",
       " d             ⎞                              d                               \n",
       " ──(\\theta₂(t))⎟⋅sin(\\theta₁(t) - \\theta₂(t))⋅──(\\theta₂(t)) + 2⋅r₁⋅r₂⋅cos(\\th\n",
       " dt            ⎠                              dt                              \n",
       "                                                                              \n",
       "──────────────────────────────────────────────────────────────────────────────\n",
       "                               2                                              \n",
       "                                                                              \n",
       "\n",
       "                        2            ⎞                                        \n",
       "                       d             ⎟                                        \n",
       "eta₁(t) - \\theta₂(t))⋅───(\\theta₂(t))⎟                                        \n",
       "                        2            ⎟                                        \n",
       "                      dt             ⎠                                        \n",
       "────────────────────────────────────── = -g⋅m₁⋅r₁⋅sin(\\theta₁(t)) - g⋅m₂⋅r₁⋅si\n",
       "                                                                              \n",
       "                                                                              \n",
       "\n",
       "                                                                              \n",
       "                                                                              \n",
       "                                                                              \n",
       "                                                                              \n",
       "                                                      d              d        \n",
       "n(\\theta₁(t)) - m₂⋅r₁⋅r₂⋅sin(\\theta₁(t) - \\theta₂(t))⋅──(\\theta₁(t))⋅──(\\theta\n",
       "                                                      dt             dt       \n",
       "                                                                              \n",
       "\n",
       "     \n",
       "     \n",
       "     \n",
       "     \n",
       "     \n",
       "₂(t))\n",
       "     \n",
       "     "
      ]
     },
     "execution_count": 24,
     "metadata": {},
     "output_type": "execute_result"
    }
   ],
   "source": [
    "# 質点１の運動方程式\n",
    "EOM_1 = sy.Eq(L.diff(theta1.diff(t)).diff(t), L.diff(theta1)) \n",
    "EOM_1"
   ]
  },
  {
   "cell_type": "code",
   "execution_count": 25,
   "metadata": {},
   "outputs": [
    {
     "data": {
      "image/png": "[encoded data removed]",
      "text/latex": [
       "$$\\frac{m_{2}}{2} \\left(- 2 r_{1} r_{2} \\left(\\frac{d}{d t} \\theta_{1}{\\left (t \\right )} - \\frac{d}{d t} \\theta_{2}{\\left (t \\right )}\\right) \\sin{\\left (\\theta_{1}{\\left (t \\right )} - \\theta_{2}{\\left (t \\right )} \\right )} \\frac{d}{d t} \\theta_{1}{\\left (t \\right )} + 2 r_{1} r_{2} \\cos{\\left (\\theta_{1}{\\left (t \\right )} - \\theta_{2}{\\left (t \\right )} \\right )} \\frac{d^{2}}{d t^{2}}  \\theta_{1}{\\left (t \\right )} + 2 r_{2}^{2} \\frac{d^{2}}{d t^{2}}  \\theta_{2}{\\left (t \\right )}\\right) = - g m_{2} r_{2} \\sin{\\left (\\theta_{2}{\\left (t \\right )} \\right )} + m_{2} r_{1} r_{2} \\sin{\\left (\\theta_{1}{\\left (t \\right )} - \\theta_{2}{\\left (t \\right )} \\right )} \\frac{d}{d t} \\theta_{1}{\\left (t \\right )} \\frac{d}{d t} \\theta_{2}{\\left (t \\right )}$$"
      ],
      "text/plain": [
       "   ⎛                                                                          \n",
       "   ⎜          ⎛d                d             ⎞                              d\n",
       "m₂⋅⎜- 2⋅r₁⋅r₂⋅⎜──(\\theta₁(t)) - ──(\\theta₂(t))⎟⋅sin(\\theta₁(t) - \\theta₂(t))⋅─\n",
       "   ⎜          ⎝dt               dt            ⎠                              d\n",
       "   ⎝                                                                          \n",
       "──────────────────────────────────────────────────────────────────────────────\n",
       "                                                                              \n",
       "\n",
       "                                                       2                      \n",
       "                                                      d                    2  \n",
       "─(\\theta₁(t)) + 2⋅r₁⋅r₂⋅cos(\\theta₁(t) - \\theta₂(t))⋅───(\\theta₁(t)) + 2⋅r₂ ⋅─\n",
       "t                                                      2                      \n",
       "                                                     dt                      d\n",
       "──────────────────────────────────────────────────────────────────────────────\n",
       "       2                                                                      \n",
       "\n",
       " 2            ⎞                                                               \n",
       "d             ⎟                                                               \n",
       "──(\\theta₂(t))⎟                                                               \n",
       " 2            ⎟                                                               \n",
       "t             ⎠                                                               \n",
       "─────────────── = -g⋅m₂⋅r₂⋅sin(\\theta₂(t)) + m₂⋅r₁⋅r₂⋅sin(\\theta₁(t) - \\theta₂\n",
       "                                                                              \n",
       "\n",
       "                                  \n",
       "                                  \n",
       "                                  \n",
       "                                  \n",
       "     d              d             \n",
       "(t))⋅──(\\theta₁(t))⋅──(\\theta₂(t))\n",
       "     dt             dt            "
      ]
     },
     "execution_count": 25,
     "metadata": {},
     "output_type": "execute_result"
    }
   ],
   "source": [
    "# 質点２の運動方程式\n",
    "EOM_2 = sy.Eq(L.diff(theta2.diff(t)).diff(t), L.diff(theta2)) \n",
    "EOM_2"
   ]
  },
  {
   "cell_type": "markdown",
   "metadata": {},
   "source": [
    "$\\ddot{\\theta_1}, \\ddot{\\theta_2}$について解くと、"
   ]
  },
  {
   "cell_type": "code",
   "execution_count": 26,
   "metadata": {},
   "outputs": [
    {
     "data": {
      "image/png": "[encoded data removed]",
      "text/latex": [
       "$$\\left \\{ \\frac{d^{2}}{d t^{2}}  \\theta_{1}{\\left (t \\right )} : \\frac{1}{r_{1} \\left(- m_{1} + m_{2} \\cos^{2}{\\left (\\theta_{1}{\\left (t \\right )} - \\theta_{2}{\\left (t \\right )} \\right )} - m_{2}\\right)} \\left(g m_{1} \\sin{\\left (\\theta_{1}{\\left (t \\right )} \\right )} + \\frac{g m_{2}}{2} \\sin{\\left (\\theta_{1}{\\left (t \\right )} - 2 \\theta_{2}{\\left (t \\right )} \\right )} + \\frac{g m_{2}}{2} \\sin{\\left (\\theta_{1}{\\left (t \\right )} \\right )} + \\frac{m_{2} r_{1}}{2} \\sin{\\left (2 \\theta_{1}{\\left (t \\right )} - 2 \\theta_{2}{\\left (t \\right )} \\right )} \\left(\\frac{d}{d t} \\theta_{1}{\\left (t \\right )}\\right)^{2} + m_{2} r_{2} \\sin{\\left (\\theta_{1}{\\left (t \\right )} - \\theta_{2}{\\left (t \\right )} \\right )} \\left(\\frac{d}{d t} \\theta_{2}{\\left (t \\right )}\\right)^{2}\\right), \\quad \\frac{d^{2}}{d t^{2}}  \\theta_{2}{\\left (t \\right )} : \\frac{1}{r_{2} \\left(- m_{1} + m_{2} \\cos^{2}{\\left (\\theta_{1}{\\left (t \\right )} - \\theta_{2}{\\left (t \\right )} \\right )} - m_{2}\\right)} \\left(\\left(m_{1} + m_{2}\\right) \\left(g \\sin{\\left (\\theta_{2}{\\left (t \\right )} \\right )} - r_{1} \\sin{\\left (\\theta_{1}{\\left (t \\right )} - \\theta_{2}{\\left (t \\right )} \\right )} \\left(\\frac{d}{d t} \\theta_{1}{\\left (t \\right )}\\right)^{2}\\right) - \\left(g m_{1} \\sin{\\left (\\theta_{1}{\\left (t \\right )} \\right )} + g m_{2} \\sin{\\left (\\theta_{1}{\\left (t \\right )} \\right )} + m_{2} r_{2} \\sin{\\left (\\theta_{1}{\\left (t \\right )} - \\theta_{2}{\\left (t \\right )} \\right )} \\left(\\frac{d}{d t} \\theta_{2}{\\left (t \\right )}\\right)^{2}\\right) \\cos{\\left (\\theta_{1}{\\left (t \\right )} - \\theta_{2}{\\left (t \\right )} \\right )}\\right)\\right \\}$$"
      ],
      "text/plain": [
       "⎧                                                                             \n",
       "⎪                                                                             \n",
       "⎪                                                                             \n",
       "⎪                                        g⋅m₂⋅sin(\\theta₁(t) - 2⋅\\theta₂(t))  \n",
       "⎨  2              g⋅m₁⋅sin(\\theta₁(t)) + ─────────────────────────────────── +\n",
       "⎪ d                                                       2                   \n",
       "⎪───(\\theta₁(t)): ────────────────────────────────────────────────────────────\n",
       "⎪  2                                                                          \n",
       "⎩dt                                                                           \n",
       "\n",
       "                                                                              \n",
       "                                                               ⎛d             \n",
       "                        m₂⋅r₁⋅sin(2⋅\\theta₁(t) - 2⋅\\theta₂(t))⋅⎜──(\\theta₁(t))\n",
       " g⋅m₂⋅sin(\\theta₁(t))                                          ⎝dt            \n",
       " ──────────────────── + ──────────────────────────────────────────────────────\n",
       "          2                                        2                          \n",
       "──────────────────────────────────────────────────────────────────────────────\n",
       "                 ⎛            2                              ⎞                \n",
       "              r₁⋅⎝-m₁ + m₂⋅cos (\\theta₁(t) - \\theta₂(t)) - m₂⎠                \n",
       "\n",
       " 2                                                                            \n",
       "⎞                                                                             \n",
       "⎟                                                       2                     \n",
       "⎠                                       ⎛d             ⎞                      \n",
       "── + m₂⋅r₂⋅sin(\\theta₁(t) - \\theta₂(t))⋅⎜──(\\theta₂(t))⎟     2              (m\n",
       "                                        ⎝dt            ⎠    d                 \n",
       "─────────────────────────────────────────────────────────, ───(\\theta₂(t)): ──\n",
       "                                                             2                \n",
       "                                                           dt                 \n",
       "\n",
       "                                                                              \n",
       "                                                                              \n",
       "        ⎛                                                                    2\n",
       "        ⎜                                                    ⎛d             ⎞ \n",
       "₁ + m₂)⋅⎜g⋅sin(\\theta₂(t)) - r₁⋅sin(\\theta₁(t) - \\theta₂(t))⋅⎜──(\\theta₁(t))⎟ \n",
       "        ⎝                                                    ⎝dt            ⎠ \n",
       "──────────────────────────────────────────────────────────────────────────────\n",
       "                                                                              \n",
       "                                                                              \n",
       "\n",
       "                                                                              \n",
       "                                                                              \n",
       "⎞   ⎛                                                                         \n",
       "⎟   ⎜                                                                         \n",
       "⎟ - ⎜g⋅m₁⋅sin(\\theta₁(t)) + g⋅m₂⋅sin(\\theta₁(t)) + m₂⋅r₂⋅sin(\\theta₁(t) - \\the\n",
       "⎠   ⎝                                                                         \n",
       "──────────────────────────────────────────────────────────────────────────────\n",
       "      ⎛            2                              ⎞                           \n",
       "   r₂⋅⎝-m₁ + m₂⋅cos (\\theta₁(t) - \\theta₂(t)) - m₂⎠                           \n",
       "\n",
       "                                                       ⎫\n",
       "                                                       ⎪\n",
       "                        2⎞                             ⎪\n",
       "        ⎛d             ⎞ ⎟                             ⎪\n",
       "ta₂(t))⋅⎜──(\\theta₂(t))⎟ ⎟⋅cos(\\theta₁(t) - \\theta₂(t))⎬\n",
       "        ⎝dt            ⎠ ⎠                             ⎪\n",
       "───────────────────────────────────────────────────────⎪\n",
       "                                                       ⎪\n",
       "                                                       ⎭"
      ]
     },
     "execution_count": 26,
     "metadata": {},
     "output_type": "execute_result"
    }
   ],
   "source": [
    "EOMs = sy.solve([EOM_1, EOM_2], (theta1.diff(t, 2), theta2.diff(t, 2)))\n",
    "EOMs"
   ]
  },
  {
   "cell_type": "code",
   "execution_count": 27,
   "metadata": {
    "collapsed": true
   },
   "outputs": [],
   "source": [
    "# 関数を変数に置き換える\n",
    "t1, t2 = sy.symbols(r\"\\theta_1 \\theta_2\")\n",
    "diff2dot = [(theta1.diff(t), theta1_dot),\n",
    "            (theta2.diff(t), theta2_dot)]\n",
    "theta1_ddot = EOMs[theta1.diff(t, 2)].subs(diff2dot).subs([(theta1, t1), (theta2, t2)])\n",
    "theta2_ddot = EOMs[theta2.diff(t, 2)].subs(diff2dot).subs([(theta1, t1), (theta2, t2)])"
   ]
  },
  {
   "cell_type": "code",
   "execution_count": 28,
   "metadata": {
    "collapsed": true
   },
   "outputs": [],
   "source": [
    "# NumPyの関数に変換する\n",
    "args = (t1, t2, theta1_dot, theta2_dot, m1, m2, r1, r2, g)\n",
    "func1 = sy.lambdify(args, theta1_ddot, \"numpy\")\n",
    "func2 = sy.lambdify(args, theta2_ddot, \"numpy\")"
   ]
  },
  {
   "cell_type": "code",
   "execution_count": 29,
   "metadata": {
    "collapsed": true
   },
   "outputs": [],
   "source": [
    "# 数値計算\n",
    "from scipy.integrate import ode\n",
    "\n",
    "def time_evolve(t, y, params):\n",
    "    theta1, theta2, theta1_dot, theta2_dot = y\n",
    "    return [theta1_dot, theta2_dot,\n",
    "            func1(*y, *params),\n",
    "            func2(*y, *params)]\n",
    "\n",
    "y0 = [np.pi * 1.01, np.pi * 1.01, 0, 0]\n",
    "params = {\"m1\": 1, \"m2\": 1, \"r1\": 0.1, \"r2\": 0.1, \"g\": 9.8}\n",
    "solver = ode(time_evolve).set_initial_value(y0, 0).set_f_params(params.values())\n",
    "\n",
    "dt = 0.01\n",
    "tmax = 100\n",
    "results = []\n",
    "while solver.t < tmax:\n",
    "    y = solver.integrate(solver.t + dt)\n",
    "    results.append([solver.t, *y])"
   ]
  },
  {
   "cell_type": "code",
   "execution_count": 30,
   "metadata": {
    "collapsed": true
   },
   "outputs": [],
   "source": [
    "import pandas as pd\n",
    "results = pd.DataFrame(results, columns=[\"t\", \"theta1\", \"theta2\", \"theta1_dot\", \"theta2_dot\"])\n",
    "results[\"x1\"] = params[\"r1\"] * np.sin(results.theta1)\n",
    "results[\"x2\"] = results.x1 + params[\"r2\"] * np.sin(results.theta2)\n",
    "results[\"y1\"] = -params[\"r1\"] * np.cos(results.theta1)\n",
    "results[\"y2\"] = results.y1 - params[\"r2\"] * np.cos(results.theta2)"
   ]
  },
  {
   "cell_type": "code",
   "execution_count": 34,
   "metadata": {},
   "outputs": [],
   "source": [
    "import matplotlib.animation as animation\n",
    "import matplotlib.patches as patches\n",
    "\n",
    "def gen():\n",
    "    for i, vals in results[[\"t\", \"x1\", \"x2\", \"y1\", \"y2\"]].iterrows():\n",
    "        yield vals.values\n",
    "\n",
    "def plot_double_pendulum(data):\n",
    "    t, x1, x2, y1, y2 = data\n",
    "    ax.cla()\n",
    "    R = params[\"r1\"] + params[\"r2\"]\n",
    "    ax.set_xlim(-R, R)\n",
    "    ax.set_ylim(-R, R)\n",
    "    ax.scatter([x1, x2], [y1, y2])\n",
    "    ax.add_patch(patches.Arrow(0, 0, x1, y1, width=0.01))\n",
    "    ax.add_patch(patches.Arrow(x1, y1, (x2-x1), (y2-y1), width=0.01))\n",
    "    ax.set_aspect(\"equal\")\n",
    "fig, ax = plt.subplots()\n",
    "ani = animation.FuncAnimation(fig, plot_double_pendulum, gen, interval=30, save_count=500)\n",
    "ani.save(\"double_pendulum.gif\", writer=\"imagemagick\", dpi=100)\n",
    "plt.show()"
   ]
  },
  {
   "cell_type": "markdown",
   "metadata": {},
   "source": [
    "<img src=\"double_pendulum.gif\">"
   ]
  },
  {
   "cell_type": "markdown",
   "metadata": {},
   "source": [
    "### まとめると\n",
    "一つのセルにまとめると以下のように書けます。"
   ]
  },
  {
   "cell_type": "code",
   "execution_count": 32,
   "metadata": {
    "collapsed": true
   },
   "outputs": [],
   "source": [
    "# 変数と関数を定義\n",
    "t = sy.Symbol(\"t\", real=True)\n",
    "r1, r2, m1, m2, g = sy.symbols(r\"r_1 r_2 m_1 m_2 g\", positive=True)\n",
    "# theta1, theta2 = sy.symbols(r\"\\theta_1 \\theta_2\", real=True)\n",
    "theta1 = sy.Function(r\"\\theta_1\")(t)\n",
    "theta2 = sy.Function(r\"\\theta_2\")(t)\n",
    "theta1_dot, theta2_dot = sy.symbols(r\"\\dot{\\theta_1} \\dot{\\theta_2}\")\n",
    "\n",
    "# 質点１の位置と速度\n",
    "x1 = sy.Matrix([r1 * sy.sin(theta1), - r1 * sy.cos(theta1)])\n",
    "v1 = x1.diff(t)\n",
    "\n",
    "# 質点２の位置と速度\n",
    "x2 = x1 + sy.Matrix([r2 * sy.sin(theta2), - r2 * sy.cos(theta2)])\n",
    "v2 = x2.diff(t)\n",
    "\n",
    "# 運動エネルギー\n",
    "T1 = (m1 * (v1[0]**2 + v1[1]**2) / 2).simplify()\n",
    "T2 = (m2 * (v2[0]**2 + v2[1]**2) / 2).simplify()\n",
    "\n",
    "# ポテンシャル\n",
    "V1 = m1 * g * x1[1]\n",
    "V2 = m2 * g * x2[1]\n",
    "\n",
    "# ラグランジアン\n",
    "L = T1 + T2 - V1 - V2\n",
    "\n",
    "# 質点１、２の運動方程式\n",
    "EOM_1 = sy.Eq(L.diff(theta1.diff(t)).diff(t), L.diff(theta1)) \n",
    "EOM_2 = sy.Eq(L.diff(theta2.diff(t)).diff(t), L.diff(theta2)) \n",
    "\n",
    "# 加速度について解く\n",
    "EOMs = sy.solve([EOM_1, EOM_2], (theta1.diff(t, 2), theta2.diff(t, 2)))\n",
    "\n",
    "# 関数を変数に変換\n",
    "t1, t2 = sy.symbols(r\"\\theta_1 \\theta_2\")\n",
    "diff2dot = [(theta1.diff(t), theta1_dot),\n",
    "            (theta2.diff(t), theta2_dot)]\n",
    "theta1_ddot = EOMs[theta1.diff(t, 2)].subs(diff2dot).subs([(theta1, t1), (theta2, t2)])\n",
    "theta2_ddot = EOMs[theta2.diff(t, 2)].subs(diff2dot).subs([(theta1, t1), (theta2, t2)])\n",
    "\n",
    "# NumPy関数化\n",
    "args = (t1, t2, theta1_dot, theta2_dot, m1, m2, r1, r2, g)\n",
    "func1 = sy.lambdify(args, theta1_ddot, \"numpy\")\n",
    "func2 = sy.lambdify(args, theta2_ddot, \"numpy\")\n",
    "\n",
    "# 数値計算\n",
    "from scipy.integrate import ode\n",
    "\n",
    "def time_evolve(t, y, params):\n",
    "    theta1, theta2, theta1_dot, theta2_dot = y\n",
    "    return [theta1_dot, theta2_dot,\n",
    "            func1(*y, *params),\n",
    "            func2(*y, *params)]\n",
    "\n",
    "# 初期値\n",
    "y0 = [np.pi * 1.01, np.pi * 1.01, 0, 0]\n",
    "params = {\"m1\": 1, \"m2\": 1, \"r1\": 0.1, \"r2\": 0.1, \"g\": 9.8}\n",
    "solver = ode(time_evolve).set_initial_value(y0, 0).set_f_params(params.values())\n",
    "\n",
    "dt = 0.1\n",
    "tmax = 50\n",
    "results = []\n",
    "while solver.t < tmax:\n",
    "    y = solver.integrate(solver.t + dt)\n",
    "    results.append([solver.t, *y])\n",
    "\n",
    "import pandas as pd\n",
    "results = pd.DataFrame(results, columns=[\"t\", \"theta1\", \"theta2\", \"theta1_dot\", \"theta2_dot\"])\n",
    "results[\"x1\"] = params[\"r1\"] * np.sin(results.theta1)\n",
    "results[\"x2\"] = results.x1 + params[\"r2\"] * np.sin(results.theta2)\n",
    "results[\"y1\"] = -params[\"r1\"] * np.cos(results.theta1)\n",
    "results[\"y2\"] = results.y1 - params[\"r2\"] * np.cos(results.theta2)"
   ]
  }
 ],
 "metadata": {
  "kernelspec": {
   "display_name": "Python 3",
   "language": "python",
   "name": "python3"
  },
  "language_info": {
   "codemirror_mode": {
    "name": "ipython",
    "version": 3
   },
   "file_extension": ".py",
   "mimetype": "text/x-python",
   "name": "python",
   "nbconvert_exporter": "python",
   "pygments_lexer": "ipython3",
   "version": "3.6.3"
  }
 },
 "nbformat": 4,
 "nbformat_minor": 2
}
