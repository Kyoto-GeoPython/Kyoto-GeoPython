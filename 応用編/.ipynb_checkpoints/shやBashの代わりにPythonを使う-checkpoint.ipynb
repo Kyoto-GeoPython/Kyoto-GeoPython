{
 "cells": [
  {
   "cell_type": "markdown",
   "metadata": {},
   "source": [
    "# 目次\n",
    "- はじめに\n",
    "- pwd: 作業ディレクトリのパスを表示する\n",
    "- ls: ファイルをリストする\n",
    "- cd: 作業ディレクトリを変更する\n",
    "- cp: ファイルをコピーする\n",
    "- mv: ファイルを移動する\n",
    "- rm: ファイルを消去する\n",
    "- mkdir: ディレクトリを作る\n",
    "- ファイル操作その他\n",
    "- プロセスの実行"
   ]
  },
  {
   "cell_type": "markdown",
   "metadata": {},
   "source": [
    "# はじめに\n",
    "Pythonの標準ライブラリを用いると、シェルスクリプト（shやbash）と同等の操作がPython上で行えます。  \n",
    "Pythonを用いることには次のような利点があります。\n",
    "- Pythonの強力な文字列操作メソッドを用いられる\n",
    "- シェルスクリプトの働きとPythonのその他のライブラリ（NumPyなど）とをシームレスにつなぐことができる  \n",
    "\n",
    "特に後者は、Pythonの強みである「言語自体の汎用性とライブラリによる専門性」を表していると言えるでしょう。\n",
    "\n",
    "本稿では、Pythonを用いてファイル操作を行う方法と、プロセスを実行する方法について、シェルのコマンドと対応させて簡単に紹介します。"
   ]
  },
  {
   "cell_type": "markdown",
   "metadata": {},
   "source": [
    "# pwd: 作業ディレクトリのパスを表示する\n",
    "pwdやlsなど、多くのファイル操作コマンドは、標準ライブラリ**os**モジュールを通して実現されています。  \n",
    "現在の作業ディレクトリのパスはos.getcwd()によって得られ、文字列型として返されます。"
   ]
  },
  {
   "cell_type": "code",
   "execution_count": 1,
   "metadata": {},
   "outputs": [],
   "source": [
    "import os\n",
    "working_dir = os.getcwd()"
   ]
  },
  {
   "cell_type": "markdown",
   "metadata": {},
   "source": [
    "# ls: ファイルをリストする\n",
    "ls *path* は os.listdir(*path*) で、*path*におけるファイルなどを、文字列のリストとして返してくれます。"
   ]
  },
  {
   "cell_type": "code",
   "execution_count": 2,
   "metadata": {},
   "outputs": [
    {
     "data": {
      "text/plain": [
       "['c02.csv',\n",
       " 'Sample.gif',\n",
       " 'c01.csv',\n",
       " 'Pandas\\u3000―\\u3000データ分析.ipynb',\n",
       " 'Pandas―データ分析（３）GroupBy.ipynb',\n",
       " 'Seaborn ― matplotlib をより美しく、使いやすく.ipynb',\n",
       " 'libsobol.c',\n",
       " 'Fortran, C言語 との連携.ipynb',\n",
       " 'RK4.f90',\n",
       " 'Pandas―データ分析（５）応用：都道府県別人口推移.ipynb',\n",
       " 'RK4_f2py.f90',\n",
       " 'Pandas―データ分析（４）ファイル入出力.ipynb',\n",
       " 'double_pendulum.gif',\n",
       " 'SymPyー代数演算（２）応用：二重振り子.ipynb',\n",
       " 'Pandas―データ分析（１）Series.ipynb',\n",
       " '.ipynb_checkpoints',\n",
       " 'SymPyー代数演算（１）使い方.ipynb',\n",
       " 'shやBashの代わりにPythonを使う.ipynb',\n",
       " 'use_RK4.py',\n",
       " 'SymPyー代数演算.ipynb',\n",
       " 'Pandas―データ分析（２）DataFrame.ipynb',\n",
       " 'Animation.ipynb']"
      ]
     },
     "execution_count": 2,
     "metadata": {},
     "output_type": "execute_result"
    }
   ],
   "source": [
    "os.listdir('.')"
   ]
  },
  {
   "cell_type": "markdown",
   "metadata": {},
   "source": [
    "os.listdirでは、任意の1文字を表す ? や任意の文字 \\* などのワイルドカード、または正規表現を使うことができません。  \n",
    "ワイルドカードや正規表現を用いて特定のファイル名のみをリストしたいときは、標準ライブラリの**glob**を用います。  \n",
    "glob.glob(*path*)で、*path*に一致するファイルをリストとして抽出できます。ただし、os.listdirと異なり、ファイル名でなくそのパスを返していることに気をつけましょう。"
   ]
  },
  {
   "cell_type": "code",
   "execution_count": 3,
   "metadata": {},
   "outputs": [
    {
     "name": "stdout",
     "output_type": "stream",
     "text": [
      "./Pandas　―　データ分析.ipynb\n",
      "./Pandas―データ分析（３）GroupBy.ipynb\n",
      "./Seaborn ― matplotlib をより美しく、使いやすく.ipynb\n",
      "./Fortran, C言語 との連携.ipynb\n",
      "./Pandas―データ分析（５）応用：都道府県別人口推移.ipynb\n",
      "./Pandas―データ分析（４）ファイル入出力.ipynb\n",
      "./SymPyー代数演算（２）応用：二重振り子.ipynb\n",
      "./Pandas―データ分析（１）Series.ipynb\n",
      "./SymPyー代数演算（１）使い方.ipynb\n",
      "./shやBashの代わりにPythonを使う.ipynb\n",
      "./SymPyー代数演算.ipynb\n",
      "./Pandas―データ分析（２）DataFrame.ipynb\n",
      "./Animation.ipynb\n"
     ]
    }
   ],
   "source": [
    "import glob\n",
    "ls2 = glob.glob(\"./*.ipynb\")\n",
    "for f in ls2:\n",
    "    print(f)"
   ]
  },
  {
   "cell_type": "markdown",
   "metadata": {},
   "source": [
    "# pathlib: 再帰的なファイル一覧\n",
    "さらに高機能なPath操作をしたい場合は、**pathlib**ライブラリが便利です。  \n",
    "**Path**オブジェクトでディレクトリを指定し、**glob**関数をワイルドカードとともに呼び出すと、サブディレクトリまで再帰的にファイルを検索します。Pathオブジェクトはイテレータになっているため、最初から全部のファイルを探すのではなく、forループごとに次のファイルへ進んでいきます。普通にリストが欲しい場合は、`list(path.glob('xxxx'))`を呼び出してください。"
   ]
  },
  {
   "cell_type": "code",
   "execution_count": 4,
   "metadata": {},
   "outputs": [
    {
     "name": "stdout",
     "output_type": "stream",
     "text": [
      "../ipynb2html.ipynb\n",
      "../スライド/1日目スライド.ipynb\n",
      "../応用編/Pandas　―　データ分析.ipynb\n",
      "../応用編/Pandas―データ分析（３）GroupBy.ipynb\n",
      "../応用編/Seaborn ― matplotlib をより美しく、使いやすく.ipynb\n",
      "../応用編/Fortran, C言語 との連携.ipynb\n",
      "../応用編/Pandas―データ分析（５）応用：都道府県別人口推移.ipynb\n",
      "../応用編/Pandas―データ分析（４）ファイル入出力.ipynb\n",
      "../応用編/SymPyー代数演算（２）応用：二重振り子.ipynb\n",
      "../応用編/Pandas―データ分析（１）Series.ipynb\n",
      "../応用編/SymPyー代数演算（１）使い方.ipynb\n",
      "../応用編/shやBashの代わりにPythonを使う.ipynb\n",
      "../応用編/SymPyー代数演算.ipynb\n",
      "../応用編/Pandas―データ分析（２）DataFrame.ipynb\n",
      "../応用編/Animation.ipynb\n",
      "../応用編/.ipynb_checkpoints/shやBashの代わりにPythonを使う-checkpoint.ipynb\n",
      "../.ipynb_checkpoints/ipynb2html-checkpoint.ipynb\n",
      "../ライブラリ集/Sympy―代数演算.ipynb\n",
      "../基礎編/Numpyを使う際の注意点.ipynb\n",
      "../基礎編/Numpyの基礎（１）導入.ipynb\n",
      "../基礎編/Numpyの基礎（７）便利なライブラリ群.ipynb\n",
      "../基礎編/Matplotlib.ipynb\n",
      "../基礎編/Numpyの基礎（４）データ型.ipynb\n",
      "../基礎編/Numpyの基礎（６）ブロードキャスト.ipynb\n",
      "../基礎編/Pythonの基礎2.ipynb\n",
      "../基礎編/文字列操作（１）str.format.ipynb\n",
      "../基礎編/Numpyの基礎（８）ファイル入出力.ipynb\n",
      "../基礎編/Numpyの基礎（５）要素の参照.ipynb\n",
      "../基礎編/numpy（基礎編）.ipynb\n",
      "../基礎編/文字列操作（２）strやファイル読み込み.ipynb\n",
      "../基礎編/Pythonの基礎1.ipynb\n",
      "../基礎編/Numpyの基礎（３）ufunc.ipynb\n",
      "../基礎編/ファイル読み込み.ipynb\n",
      "../基礎編/Numpyの基礎（２）生成関数.ipynb\n"
     ]
    }
   ],
   "source": [
    "from pathlib import Path\n",
    "\n",
    "# Pathオブジェクト(ここでは、一つ上のディレクトリを基準に作る)\n",
    "path = Path('..')\n",
    "\n",
    "#  再帰的にサブディレクトリ内の '.ipynb'ファイルを全て列挙する\n",
    "for p in path.glob('**/*.ipynb'):\n",
    "    print(p)"
   ]
  },
  {
   "cell_type": "markdown",
   "metadata": {},
   "source": [
    "より詳細な情報は、[pathlib公式ドキュメント](https://docs.python.org/ja/3/library/pathlib.html)を参照してください。"
   ]
  },
  {
   "cell_type": "markdown",
   "metadata": {},
   "source": [
    "# cd: 作業ディレクトリを変更する\n",
    "cd *path* は os.chdir(*path*) です。  \n",
    "Python上での作業ディレクトリの変更は、Pythonのセッションが終了するまで（IPythonなどを閉じるまで）有効です。"
   ]
  },
  {
   "cell_type": "code",
   "execution_count": 5,
   "metadata": {},
   "outputs": [],
   "source": [
    "os.chdir(\"../基礎編\")"
   ]
  },
  {
   "cell_type": "markdown",
   "metadata": {},
   "source": [
    "# cp: ファイルをコピーする\n",
    "cpやmvなどのコマンドは**shutil**モジュールによって提供されています。  \n",
    "cp *src* *dst*  は shutil.copy(*src*, *dst*) です。"
   ]
  },
  {
   "cell_type": "code",
   "execution_count": 6,
   "metadata": {},
   "outputs": [
    {
     "name": "stdout",
     "output_type": "stream",
     "text": [
      "['./write_binary.f90']\n",
      "['./copied_write_binary.f90', './write_binary.f90']\n"
     ]
    }
   ],
   "source": [
    "import shutil\n",
    "print(glob.glob(\"./*.f90\"))\n",
    "shutil.copy(\"write_binary.f90\", \"copied_write_binary.f90\")\n",
    "print(glob.glob(\"./*.f90\"))"
   ]
  },
  {
   "cell_type": "markdown",
   "metadata": {},
   "source": [
    "また、ディレクトリまるごとのコピー（cp -r）は、 shutil.copytree(*src*, *dst*) です。"
   ]
  },
  {
   "cell_type": "markdown",
   "metadata": {},
   "source": [
    "# mv: ファイルを移動する\n",
    "mv *src* *dst* は shutil.move(*src*,*dst*) です。"
   ]
  },
  {
   "cell_type": "code",
   "execution_count": 7,
   "metadata": {},
   "outputs": [
    {
     "name": "stdout",
     "output_type": "stream",
     "text": [
      "['./copied_write_binary.f90', './write_binary.f90']\n",
      "['./moved_write_binary.f90', './write_binary.f90']\n"
     ]
    }
   ],
   "source": [
    "print(glob.glob(\"./*.f90\"))\n",
    "shutil.move(\"copied_write_binary.f90\", \"moved_write_binary.f90\")\n",
    "print(glob.glob(\"./*.f90\"))"
   ]
  },
  {
   "cell_type": "markdown",
   "metadata": {},
   "source": [
    "# rm: ファイルを消去する\n",
    "rm *path* は os.remove(*path*) です。"
   ]
  },
  {
   "cell_type": "code",
   "execution_count": 8,
   "metadata": {},
   "outputs": [
    {
     "name": "stdout",
     "output_type": "stream",
     "text": [
      "['./moved_write_binary.f90', './write_binary.f90']\n",
      "['./write_binary.f90']\n"
     ]
    }
   ],
   "source": [
    "print(glob.glob(\"./*.f90\"))\n",
    "os.remove(\"moved_write_binary.f90\")\n",
    "print(glob.glob(\"./*.f90\"))"
   ]
  },
  {
   "cell_type": "markdown",
   "metadata": {},
   "source": [
    "また、空のディレクトリの消去（rm -r *dirname*）はos.rmdir(*dirname*)、  \n",
    "中のファイルも含めたディレクトリまるごとの消去（rm -rf *dirname*）はshutil.rmtree(*dirname*)です。"
   ]
  },
  {
   "cell_type": "markdown",
   "metadata": {},
   "source": [
    "# mkdir: ディレクトリを作る\n",
    "mkdir *dirname* は os.mkdir(*dirname*) です。"
   ]
  },
  {
   "cell_type": "markdown",
   "metadata": {},
   "source": [
    "# ファイル操作その他\n",
    "osのサブモジュール**path**は、パスの操作に便利な関数を提供しています。\n",
    "\n",
    "os.path.exists(*path*) *path*で表されるファイル・ディレクトリが存在していればTrue、存在していなければFalseを返す。  \n",
    "os.path.isdir(*path*) *path*がディレクトリならばTrue、ファイルやシンボリックリンクならばFalseを返す。  \n",
    "os.path.isfile(*path*) *path*がファイルならばTrue、ディレクトリやシンボリックリンクならばFalseを返す。\n",
    "\n",
    "次の2つは、パスの文字列を場所+ファイル名に分割したり、拡張子を取り出すのに使えます。  \n",
    "*dir*, *file* = os.path.split(*path*) *path*のファイル等の場所を*dir*に、ファイル名を*file*に文字列として返す。  \n",
    "*root*, *ext* = os.path.splitext(*path*) *path*のファイル等の拡張子を*ext*に、拡張子の手前までを*root*に文字列として返す。"
   ]
  },
  {
   "cell_type": "markdown",
   "metadata": {},
   "source": [
    "# プロセスの実行 - シェルを呼ぶ場合\n",
    "上記のファイル操作コマンドだけでなく、Pythonからシェルを呼ぶことで任意のコマンドを実行することができます。\n",
    "Python 3.5以降は**subprocess**モジュールのsubprocess.runを用いることが推奨されていますが、Python 2.xでも**os.system**から同様のことができます。"
   ]
  },
  {
   "cell_type": "code",
   "execution_count": 9,
   "metadata": {},
   "outputs": [
    {
     "data": {
      "text/plain": [
       "32512"
      ]
     },
     "execution_count": 9,
     "metadata": {},
     "output_type": "execute_result"
    }
   ],
   "source": [
    "import subprocess\n",
    "subprocess.run(\"./a.out > redirected.txt\", shell=True) # Python 3.5以降\n",
    "os.system(\"./a.out > redirected.txt\") # Python 2.x, 現在は非推奨らしい。./a.outがないため正常終了の結果（0）を返さない"
   ]
  },
  {
   "cell_type": "markdown",
   "metadata": {},
   "source": [
    "subprocessモジュールからシェルを呼ばない場合や、標準出力・標準エラー出力を得る方法については、[こちら](https://docs.python.jp/3/library/subprocess.html)や[こちら](http://qiita.com/tdrk/items/9b23ad6a58ac4032bb3b)をご覧ください。"
   ]
  },
  {
   "cell_type": "markdown",
   "metadata": {},
   "source": [
    "# IPythonマジックコマンド\n",
    "Jupyter notebookやIPythonコンソールのみで使える非常に便利なマジックコマンドと呼ばれるものがあります。  \n",
    "`%`から始まるコマンド、例えば`%pwd`や`%cd`などです。実は、有名なコマンドはだいたい`%`がなくても実行できちゃいます。しかも、変数への代入もできるのでコマンドの結果を使ったプログラムを書くことができます。"
   ]
  },
  {
   "cell_type": "code",
   "execution_count": 10,
   "metadata": {},
   "outputs": [],
   "source": [
    "my_wd = %pwd\n",
    "\n",
    "# 他には　%cd　や %mkdir などがある"
   ]
  },
  {
   "cell_type": "markdown",
   "metadata": {},
   "source": [
    "# Jupyterからシェルのコマンドそのものを呼ぶ\n",
    "Jupyterからシェルのコマンドそのものを呼ぶこともできます。  \n",
    "`!` から始まる行は、`!`以降の文字列はJupyterが起動しているOSのシェルで実行されます。  \n",
    "コマンド実行によって標準出力に吐かれるログを変数に代入ができます。"
   ]
  },
  {
   "cell_type": "code",
   "execution_count": 11,
   "metadata": {},
   "outputs": [
    {
     "name": "stdout",
     "output_type": "stream",
     "text": [
      "/usr/local/bin/python\r\n"
     ]
    }
   ],
   "source": [
    "!which python"
   ]
  },
  {
   "cell_type": "markdown",
   "metadata": {},
   "source": [
    "ちなみに`which`コマンドはプログラムバイナリの位置を教えてくれるコマンドです。"
   ]
  },
  {
   "cell_type": "code",
   "execution_count": 12,
   "metadata": {},
   "outputs": [
    {
     "data": {
      "text/plain": [
       "['/usr/local/bin/python']"
      ]
     },
     "execution_count": 12,
     "metadata": {},
     "output_type": "execute_result"
    }
   ],
   "source": [
    "python_location = !which python\n",
    "python_location"
   ]
  },
  {
   "cell_type": "markdown",
   "metadata": {},
   "source": [
    "# 「!」コマンドにPython変数を埋め込む\n",
    "シェルコマンドにPythonの変数を埋め込みたい時ありませんか？実はこれもできます。Python変数の前に`$`をつけることで、シェルの変数のように扱えます。"
   ]
  },
  {
   "cell_type": "code",
   "execution_count": 13,
   "metadata": {},
   "outputs": [],
   "source": [
    "a = '基礎編'"
   ]
  },
  {
   "cell_type": "code",
   "execution_count": 14,
   "metadata": {},
   "outputs": [
    {
     "name": "stdout",
     "output_type": "stream",
     "text": [
      "Matplotlib.ipynb\r\n",
      "NINO.3.csv\r\n",
      "Numpyの基礎（３）ufunc.ipynb\r\n",
      "Numpyの基礎（１）導入.ipynb\r\n",
      "Numpyを使う際の注意点.ipynb\r\n",
      "Numpyの基礎（２）生成関数.ipynb\r\n",
      "Numpyの基礎（４）データ型.ipynb\r\n",
      "Numpyの基礎（５）要素の参照.ipynb\r\n",
      "Numpyの基礎（８）ファイル入出力.ipynb\r\n",
      "Numpyの基礎（６）ブロードキャスト.ipynb\r\n",
      "Numpyの基礎（７）便利なライブラリ群.ipynb\r\n",
      "Pythonの基礎1.ipynb\r\n",
      "Pythonの基礎2.ipynb\r\n",
      "axis.png\r\n",
      "c01.csv\r\n",
      "ersst.v4.201702.nc\r\n",
      "my_module.py\r\n",
      "numpy（基礎編）.ipynb\r\n",
      "redirected.txt\r\n",
      "\u001b[1m\u001b[36mtemp\u001b[m\u001b[m\r\n",
      "write_binary.f90\r\n",
      "ファイル読み込み.ipynb\r\n",
      "文字列操作（１）str.format.ipynb\r\n",
      "文字列操作（２）strやファイル読み込み.ipynb\r\n"
     ]
    }
   ],
   "source": [
    "!ls ../$a"
   ]
  },
  {
   "cell_type": "markdown",
   "metadata": {},
   "source": [
    "このコマンドはforループの中でも使えます。"
   ]
  },
  {
   "cell_type": "code",
   "execution_count": 15,
   "metadata": {},
   "outputs": [
    {
     "name": "stdout",
     "output_type": "stream",
     "text": [
      "['/usr/local/bin/python']\n",
      "['/usr/bin/ruby']\n",
      "['/usr/bin/java']\n"
     ]
    }
   ],
   "source": [
    "langs = ['python', 'ruby', 'java']\n",
    "for lang in langs:\n",
    "    path_bin = !which $lang\n",
    "    print(path_bin)"
   ]
  },
  {
   "cell_type": "markdown",
   "metadata": {},
   "source": [
    "ただし、`!`を使ったシェルの呼び出しはあなたの環境でしか動かない可能性があるので、他の人にプログラムを渡す場合は使ってはいけません。  \n",
    "**os**などの標準ライブラリは環境依存しないように作られているので、こちらを使うようにしましょう。"
   ]
  }
 ],
 "metadata": {
  "kernelspec": {
   "display_name": "Python 3",
   "language": "python",
   "name": "python3"
  },
  "language_info": {
   "codemirror_mode": {
    "name": "ipython",
    "version": 3
   },
   "file_extension": ".py",
   "mimetype": "text/x-python",
   "name": "python",
   "nbconvert_exporter": "python",
   "pygments_lexer": "ipython3",
   "version": "3.7.3"
  }
 },
 "nbformat": 4,
 "nbformat_minor": 2
}
