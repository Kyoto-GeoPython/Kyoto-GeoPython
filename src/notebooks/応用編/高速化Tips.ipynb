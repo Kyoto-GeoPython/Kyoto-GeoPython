{
 "cells": [
  {
   "cell_type": "markdown",
   "id": "6d6dbdba",
   "metadata": {},
   "source": [
    "# 高速化Tips\n",
    "\n",
    "## Pythonを科学技術計算に使う人に向けてのヒント\n",
    "\n",
    "プログラムが遅いと感じたらどうする？\n",
    "「よし、とりあえずforループを全部FortranやCに書き換えて・・・」\n",
    "\n",
    "↑は間違いです！\n",
    "まずはボトルネックを調べるべき\n",
    "\n",
    "<img src=\"use-case-graphic_bottleneck.png\">\n",
    "\n",
    "もし全てのコードを高速化しようとしたら\n",
    "Pythonの利点であるコーディング時間の短さを失う！\n",
    "\n",
    "## コーディング時間＋計算時間＝研究時間\n",
    "\n",
    "### ボトルネックを見つける方法\n",
    "\n",
    "- %timeit\n",
    "- %run -p\n",
    "- line_profiler (行ごとの計算時間を計測）\n",
    "\n",
    "### ボトルネックを見つけたら？\n",
    "\n",
    "ボトルネックの種類を見極める\n",
    "\n",
    "1. Python”だから”遅い\n",
    "2. Python”でなくても”遅い\n",
    "\n",
    "### １．Python”だから”遅い\n",
    "\n",
    "（例）成分ごとにforループを回している\n",
    "\n",
    "高速化のためのライブラリが存在する\n",
    "\n",
    "Numba\n",
    "Cython\n",
    "ctypes\n",
    "↑に共通するのはコンパイルするということ！\n",
    "\n",
    "### ２．Python”でなくても”遅い\n",
    "例えば\n",
    "\n",
    "- 巨大な行列演算\n",
    "- 遅いアルゴリズムを使っている\n",
    "\n",
    "Numpyは並のC言語のコードよりも速い\n",
    "この場合、CやFortranに書き換えたとしても劇的に早くなることはない\n",
    "\n",
    "「Python”だから”遅い」ときの対処法\n",
    "どのくらい遅いか（sumの場合）"
   ]
  },
  {
   "cell_type": "code",
   "execution_count": 1,
   "id": "734e25dc",
   "metadata": {},
   "outputs": [],
   "source": [
    "import numpy as np\n",
    "\n",
    "# １０００×１０００の二次元配列\n",
    "A = np.random.randn(1000, 1000)"
   ]
  },
  {
   "cell_type": "markdown",
   "id": "f892e69b",
   "metadata": {},
   "source": [
    "### Numpyの関数を使った場合"
   ]
  },
  {
   "cell_type": "code",
   "execution_count": 2,
   "id": "c14933fd",
   "metadata": {},
   "outputs": [
    {
     "name": "stdout",
     "output_type": "stream",
     "text": [
      "350 µs ± 7.46 µs per loop (mean ± std. dev. of 7 runs, 1,000 loops each)\n"
     ]
    }
   ],
   "source": [
    "%timeit A.sum()"
   ]
  },
  {
   "cell_type": "markdown",
   "id": "c920d6cc",
   "metadata": {},
   "source": [
    "### 生のPythonで書いた場合"
   ]
  },
  {
   "cell_type": "code",
   "execution_count": 3,
   "id": "44dda153",
   "metadata": {},
   "outputs": [
    {
     "name": "stdout",
     "output_type": "stream",
     "text": [
      "180 ms ± 2.29 ms per loop (mean ± std. dev. of 7 runs, 10 loops each)\n"
     ]
    }
   ],
   "source": [
    "def my_sum(arr2d):\n",
    "    I = arr2d.shape[0]\n",
    "    J = arr2d.shape[1]\n",
    "    res = 0.\n",
    "    for i in range(I):\n",
    "        for j in range(J):\n",
    "            res += arr2d[i, j]\n",
    "    return res\n",
    "            \n",
    "%timeit my_sum(A)"
   ]
  },
  {
   "cell_type": "markdown",
   "id": "ea58fb53",
   "metadata": {},
   "source": [
    "2桁ぐらい遅い！\n",
    "\n",
    "## Numbaを使ってみる\n",
    "Numbaは、JIT(Just In Time)コンパイラ\n",
    "初めての実行時にコンパイルを行い、それ以降はコンパイルされたものを使う。\n",
    "\n",
    "（Just In Time = 必要になるときに必要な分だけ）"
   ]
  },
  {
   "cell_type": "code",
   "execution_count": 4,
   "id": "88c6f119",
   "metadata": {},
   "outputs": [],
   "source": [
    "from numba import jit\n",
    "import numba as nb"
   ]
  },
  {
   "cell_type": "code",
   "execution_count": 5,
   "id": "4bf3fefe",
   "metadata": {},
   "outputs": [
    {
     "name": "stdout",
     "output_type": "stream",
     "text": [
      "1.16 ms ± 21.1 µs per loop (mean ± std. dev. of 7 runs, 1,000 loops each)\n"
     ]
    }
   ],
   "source": [
    "@jit\n",
    "def my_sum_Numba(arr2d):\n",
    "    I = arr2d.shape[0]\n",
    "    J = arr2d.shape[1]\n",
    "    res = 0.\n",
    "    for i in range(I):\n",
    "        for j in range(J):\n",
    "            res += arr2d[i, j]\n",
    "    return res\n",
    "\n",
    "# 実行時に初めてコンパイル\n",
    "my_sum_Numba(np.random.randn(*A.shape))\n",
    "\n",
    "%timeit my_sum_Numba(A)"
   ]
  },
  {
   "cell_type": "markdown",
   "id": "9cd5e188",
   "metadata": {},
   "source": [
    "Numpyのsum関数より少し遅いが、生Pythonよりは100倍以上速い\n",
    "\n",
    "### 行列積の場合"
   ]
  },
  {
   "cell_type": "code",
   "execution_count": 6,
   "id": "03ef4aa8",
   "metadata": {},
   "outputs": [
    {
     "name": "stdout",
     "output_type": "stream",
     "text": [
      "164 µs ± 11.9 µs per loop (mean ± std. dev. of 7 runs, 10,000 loops each)\n"
     ]
    }
   ],
   "source": [
    "A = np.random.randn(100, 30)\n",
    "B = np.random.randn(30, 1000)\n",
    "C = np.empty((1000, 1000))\n",
    "            \n",
    "%timeit np.dot(A, B)"
   ]
  },
  {
   "cell_type": "markdown",
   "id": "c046dea1",
   "metadata": {},
   "source": [
    "### 生Pythonで行列積"
   ]
  },
  {
   "cell_type": "code",
   "execution_count": 7,
   "id": "966b42f9",
   "metadata": {},
   "outputs": [
    {
     "name": "stdout",
     "output_type": "stream",
     "text": [
      "1.7 s ± 8.13 ms per loop (mean ± std. dev. of 7 runs, 1 loop each)\n"
     ]
    }
   ],
   "source": [
    "def my_mul(A, B):\n",
    "    M_A, N = A.shape\n",
    "    N_B = B.shape[1]\n",
    "    C = np.zeros((M_A, N_B))\n",
    "    for i in range(M_A):\n",
    "        for j in range(N_B):\n",
    "            for k in range(N):\n",
    "                C[i, j] += A[i, k] * B[k, j]\n",
    "    return C\n",
    "\n",
    "%timeit my_mul(A, B)            "
   ]
  },
  {
   "cell_type": "markdown",
   "id": "7a7eaa01",
   "metadata": {},
   "source": [
    "数桁遅い\n",
    "\n",
    "### Numbaで行列積"
   ]
  },
  {
   "cell_type": "code",
   "execution_count": 8,
   "id": "50a3ba61",
   "metadata": {},
   "outputs": [
    {
     "name": "stdout",
     "output_type": "stream",
     "text": [
      "3.35 ms ± 27.2 µs per loop (mean ± std. dev. of 7 runs, 100 loops each)\n"
     ]
    }
   ],
   "source": [
    "# @jit(nb.float64[:,:](nb.float64[:,:], nb.float64[:,:]), nopython=True)\n",
    "@jit\n",
    "def my_mul_numba(A, B):\n",
    "    M_A, N = A.shape\n",
    "    _, N_B = B.shape\n",
    "    C = np.zeros((M_A, N_B))\n",
    "    for i in range(M_A):\n",
    "        for j in range(N_B):\n",
    "            for k in range(N):\n",
    "                C[i, j] += A[i, k] * B[k, j]\n",
    "    return C\n",
    "\n",
    "my_mul_numba(A, B)\n",
    "\n",
    "%timeit my_mul_numba(A, B)"
   ]
  },
  {
   "cell_type": "markdown",
   "id": "9cfcef2c",
   "metadata": {},
   "source": [
    "## 高速化まとめ\n",
    "\n",
    "- まずは、Numpyの関数で書く！\n",
    "- どうしても生PythonループがボトルネックになっていたらNumba等を検討！"
   ]
  }
 ],
 "metadata": {
  "kernelspec": {
   "display_name": "Python 3 (ipykernel)",
   "language": "python",
   "name": "python3"
  },
  "language_info": {
   "codemirror_mode": {
    "name": "ipython",
    "version": 3
   },
   "file_extension": ".py",
   "mimetype": "text/x-python",
   "name": "python",
   "nbconvert_exporter": "python",
   "pygments_lexer": "ipython3",
   "version": "3.10.6"
  }
 },
 "nbformat": 4,
 "nbformat_minor": 5
}
