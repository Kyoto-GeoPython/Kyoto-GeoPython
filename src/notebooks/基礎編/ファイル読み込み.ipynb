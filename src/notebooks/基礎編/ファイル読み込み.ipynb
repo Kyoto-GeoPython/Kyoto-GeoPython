{
 "cells": [
  {
   "cell_type": "markdown",
   "metadata": {},
   "source": [
    "# 目次\n",
    " - はじめに\n",
    " - テキスト(csv)ファイル読み込み\n",
    " - NetCDFファイル読み込み\n",
    " - Fortranバイナリファイル読み込み"
   ]
  },
  {
   "cell_type": "markdown",
   "metadata": {},
   "source": [
    "## はじめに\n",
    "データ解析を行う際に、データファイルを読み込むというのは最も基本的な操作になります。  \n",
    "地球物理学の分野でメジャーなデータファイルの形式は、以下の3つだと思います。  \n",
    " 1. テキストファイル\n",
    " 2. NetCDFファイル\n",
    " 3. Fortranバイナリファイル\n",
    "\n",
    "Pythonを用いれば、この3つのどの形式のデータファイルも簡単に読み込むことが可能です。  \n",
    "以下でそれぞれ順を追って説明していきますが、ご自身の必要に応じて2.、3.から読み進める等していただいても構いません。"
   ]
  },
  {
   "cell_type": "markdown",
   "metadata": {},
   "source": [
    "## テキスト(csv)ファイル読み込み\n",
    "カンマで区切られているテキストファイルを読み込んでみましょう。  \n",
    "テキストファイル内の数値データは、numpyのloadtxt関数で読み込むことが出来ます。  \n",
    "なお、今回読み込むファイルは、[気象庁のページ](http://www.data.jma.go.jp/gmd/cpd/db/elnino/index/nino3irm.html)から取得した、エルニーニョ指数データです。"
   ]
  },
  {
   "cell_type": "code",
   "execution_count": 1,
   "metadata": {},
   "outputs": [],
   "source": [
    "import numpy as np\n",
    "data=np.loadtxt('NINO.3.csv',comments='year',delimiter=',',dtype='float')"
   ]
  },
  {
   "cell_type": "markdown",
   "metadata": {},
   "source": [
    " - commentsで、読み飛ばす行の左端に存在する文字列を指定する。\n",
    " - delimiterで、区切り文字を指定する。もしスペースで区切ってあった場合には、delimiter=...という記述は必要ない。\n",
    " - dtypeで、データをどの形式で読み込むかを指定する。デフォルトはfloat(浮動小数点数)。整数として読み込みたい場合にはintとすればよい。"
   ]
  },
  {
   "cell_type": "code",
   "execution_count": 2,
   "metadata": {
    "scrolled": false
   },
   "outputs": [
    {
     "data": {
      "text/plain": [
       "array([[ 2.001e+03, -4.000e-01, -3.000e-01, -2.000e-01, -1.000e-01,\n",
       "         0.000e+00,  0.000e+00, -1.000e-01, -2.000e-01, -3.000e-01,\n",
       "        -4.000e-01, -5.000e-01, -4.000e-01],\n",
       "       [ 2.002e+03, -3.000e-01, -1.000e-01,  0.000e+00,  3.000e-01,\n",
       "         4.000e-01,  5.000e-01,  6.000e-01,  7.000e-01,  8.000e-01,\n",
       "         1.000e+00,  1.000e+00,  1.000e+00],\n",
       "       [ 2.003e+03,  8.000e-01,  5.000e-01,  0.000e+00, -2.000e-01,\n",
       "        -2.000e-01, -2.000e-01, -1.000e-01,  1.000e-01,  3.000e-01,\n",
       "         4.000e-01,  4.000e-01,  4.000e-01],\n",
       "       [ 2.004e+03,  4.000e-01,  3.000e-01,  1.000e-01,  0.000e+00,\n",
       "        -1.000e-01,  0.000e+00,  0.000e+00,  2.000e-01,  3.000e-01,\n",
       "         4.000e-01,  4.000e-01,  3.000e-01],\n",
       "       [ 2.005e+03,  2.000e-01,  1.000e-01,  1.000e-01,  1.000e-01,\n",
       "         2.000e-01,  3.000e-01,  2.000e-01,  1.000e-01, -2.000e-01,\n",
       "        -5.000e-01, -7.000e-01, -8.000e-01],\n",
       "       [ 2.006e+03, -8.000e-01, -7.000e-01, -5.000e-01, -3.000e-01,\n",
       "        -2.000e-01,  1.000e-01,  3.000e-01,  4.000e-01,  6.000e-01,\n",
       "         8.000e-01,  9.000e-01,  8.000e-01],\n",
       "       [ 2.007e+03,  5.000e-01,  2.000e-01, -2.000e-01, -5.000e-01,\n",
       "        -6.000e-01, -7.000e-01, -9.000e-01, -1.100e+00, -1.300e+00,\n",
       "        -1.400e+00, -1.500e+00, -1.500e+00],\n",
       "       [ 2.008e+03, -1.400e+00, -1.100e+00, -8.000e-01, -5.000e-01,\n",
       "        -1.000e-01,  1.000e-01,  2.000e-01,  2.000e-01,  2.000e-01,\n",
       "         0.000e+00, -2.000e-01, -4.000e-01],\n",
       "       [ 2.009e+03, -5.000e-01, -5.000e-01, -3.000e-01,  0.000e+00,\n",
       "         3.000e-01,  5.000e-01,  7.000e-01,  8.000e-01,  9.000e-01,\n",
       "         1.000e+00,  1.000e+00,  1.100e+00],\n",
       "       [ 2.010e+03,  1.100e+00,  9.000e-01,  7.000e-01,  3.000e-01,\n",
       "         0.000e+00, -4.000e-01, -8.000e-01, -1.100e+00, -1.300e+00,\n",
       "        -1.400e+00, -1.500e+00, -1.400e+00],\n",
       "       [ 2.011e+03, -1.200e+00, -9.000e-01, -7.000e-01, -4.000e-01,\n",
       "        -2.000e-01, -2.000e-01, -2.000e-01, -4.000e-01, -6.000e-01,\n",
       "        -8.000e-01, -8.000e-01, -7.000e-01],\n",
       "       [ 2.012e+03, -6.000e-01, -3.000e-01, -1.000e-01,  1.000e-01,\n",
       "         3.000e-01,  4.000e-01,  5.000e-01,  5.000e-01,  4.000e-01,\n",
       "         2.000e-01,  0.000e+00, -2.000e-01],\n",
       "       [ 2.013e+03, -2.000e-01, -3.000e-01, -4.000e-01, -4.000e-01,\n",
       "        -5.000e-01, -6.000e-01, -6.000e-01, -5.000e-01, -3.000e-01,\n",
       "        -2.000e-01, -1.000e-01, -2.000e-01],\n",
       "       [ 2.014e+03, -2.000e-01, -1.000e-01,  0.000e+00,  2.000e-01,\n",
       "         4.000e-01,  5.000e-01,  5.000e-01,  5.000e-01,  6.000e-01,\n",
       "         7.000e-01,  7.000e-01,  6.000e-01],\n",
       "       [ 2.015e+03,  5.000e-01,  5.000e-01,  6.000e-01,  8.000e-01,\n",
       "         1.200e+00,  1.600e+00,  1.900e+00,  2.200e+00,  2.500e+00,\n",
       "         2.700e+00,  2.800e+00,  2.700e+00]])"
      ]
     },
     "execution_count": 2,
     "metadata": {},
     "output_type": "execute_result"
    }
   ],
   "source": [
    "data"
   ]
  },
  {
   "cell_type": "markdown",
   "metadata": {},
   "source": [
    "## NetCDFファイル読み込み\n",
    "netCDFファイルの読み込みには、netCDF4モジュールを用います。  \n",
    "netCDF4モジュールが使えるようにする方法に関しては[こちら](https://github.com/Unidata/netcdf4-python)をご参照ください。  \n",
    "試しに、[NOAAのサイト](https://www1.ncdc.noaa.gov/pub/data/cmb/ersst/v4/netcdf/)からダウンロードした2017年2月の全球海面水温データを読み込んでみることにします。  \n",
    "まず、ターミナル上で  \n",
    "$ ncdump -c ersst.v4.201702.nc  \n",
    "と実行して、当該netCDFファイル内のデータの構造に目を通しておくことにします。  "
   ]
  },
  {
   "cell_type": "markdown",
   "metadata": {
    "scrolled": false
   },
   "source": [
    "```\n",
    "netcdf ersst.v4.201702 {\n",
    "dimensions:\n",
    "\tlat = 89 ;\n",
    "\tlev = 1 ;\n",
    "\tlon = 180 ;\n",
    "\ttime = 1 ;\n",
    "\n",
    "variables:\n",
    "\tdouble lat(lat) ;\n",
    "\t\tlat:units = \"degrees_north\" ;\n",
    "\t\tlat:long_name = \"Latitude\" ;\n",
    "\t\tlat:standard_name = \"latitude\" ;\n",
    "\t\tlat:axis = \"Y\" ;\n",
    "\t\tlat:bounds = \"lat_bnds\" ;\n",
    "\t\tlat:grids = \"Uniform grid from -88 to 88 by 2\" ;\n",
    "\tdouble lev(lev) ;\n",
    "\t\tlev:units = \"meters\" ;\n",
    "\t\tlev:long_name = \"Depth of sea surface temperature measurements\" ;\n",
    "\t\tlev:standard_name = \"depth\" ;\n",
    "\t\tlev:axis = \"Z\" ;\n",
    "\t\tlev:positive = \"down\" ;\n",
    "\t\tlev:_CoordinateAxisType = \"Height\" ;\n",
    "\t\tlev:comment = \"Measurement depth of in situ sea surface temperature varies\" ;\n",
    "\tdouble lon(lon) ;\n",
    "\t\tlon:units = \"degrees_east\" ;\n",
    "\t\tlon:long_name = \"Longitude\" ;\n",
    "\t\tlon:standard_name = \"longitude\" ;\n",
    "\t\tlon:axis = \"X\" ;\n",
    "\t\tlon:bounds = \"lon_bnds\" ;\n",
    "\t\tlon:grids = \"Uniform grid from 0 to 358 by 2\" ;\n",
    "\tfloat sst(time, lev, lat, lon) ;\n",
    "\t\tsst:_FillValue = -999.f ;\n",
    "\t\tsst:long_name = \"Extended reconstructed sea surface temperature\" ;\n",
    "\t\tsst:standard_name = \"SST\" ;\n",
    "\t\tsst:units = \"degree_C\" ;\n",
    "\t\tsst:add_offset = 0.f ;\n",
    "\t\tsst:scale_factor = 1.f ;\n",
    "\t\tsst:valid_min = -3.f ;\n",
    "\t\tsst:valid_max = 45.f ;\n",
    "\tdouble time(time) ;\n",
    "\t\ttime:long_name = \"Center time of the day\" ;\n",
    "\t\ttime:standard_name = \"time\" ;\n",
    "\t\ttime:axis = \"T\" ;\n",
    "\t\ttime:delta_t = \"0000-01-00\" ;\n",
    "\t\ttime:avg_period = \"0000-01-00\" ;\n",
    "\t\ttime:units = \"minutes since 2017-02-01 00:00\" ;\n",
    "\tfloat ssta(time, lev, lat, lon) ;\n",
    "\t\tssta:_FillValue = -999.f ;\n",
    "\t\tssta:long_name = \"Extended reconstructed SST anomalies\" ;\n",
    "\t\tssta:standard_name = \"SSTA\" ;\n",
    "\t\tssta:units = \"degree_C\" ;\n",
    "\t\tssta:add_offset = 0.f ;\n",
    "\t\tssta:scale_factor = 1.f ;\n",
    "\t\tssta:valid_min = -12.f ;\n",
    "\t\tssta:valid_max = 12.f ;\n",
    "\n",
    "// global attributes:\n",
    "\t\t:Conventions = \"CF-1.6\" ;\n",
    "\t\t:Metadata_Conventions = \"CF-1.6, Unidata Dataset Discovery v1.0\" ;\n",
    "\t\t:metadata_link = \"C00884\" ;\n",
    "\t\t:id = \"ersst.v4.201702\" ;\n",
    "\t\t:naming_authority = \"gov.noaa.ncdc\" ;\n",
    "\t\t:title = \"NOAA ERSSTv4 (in situ only)\" ;\n",
    "\t\t:summary = \"ERSST.v4 is developped based on v3b after revisions of 11 parameters using updated data sets and advanced knowledge of ERSST analysis\" ;\n",
    "\t\t:institution = \"NOAA/NESDIS/NCEI/CCOG\" ;\n",
    "\t\t:creator_name = \"Boyin Huang\" ;\n",
    "\t\t:creator_email = \"boyin.huang@noaa.gov\" ;\n",
    "\t\t:date_modified = \"2017/03/03\" ;\n",
    "\t\t:production_version = \"Version 5\" ;\n",
    "\t\t:history = \"Fri Mar  3 13:35:18 2017: ncatted -O -a _FillValue,ssta,o,f,-999.0 ssta.nc\\n\",\n",
    "    \"Version 5 based on Version 4\" ;\n",
    "\t\t:publisher_name = \"Boyin Huang\" ;\n",
    "\t\t:publisher_email = \"boyin.huang@noaa.gov\" ;\n",
    "\t\t:creator_url = \"http://www.ncdc.noaa.gov\" ;\n",
    "\t\t:license = \"No constraints on data access or use\" ;\n",
    "\t\t:time_coverage_start = \"2017-02-15T000000Z\" ;\n",
    "\t\t:time_coverage_end = \"2017-02-15T000000Z\" ;\n",
    "\t\t:geospatial_lon_min = -1.f ;\n",
    "\t\t:geospatial_lon_max = 359.f ;\n",
    "\t\t:geospatial_lat_min = -89.f ;\n",
    "\t\t:geospatial_lat_max = 89.f ;\n",
    "\t\t:geospatial_lat_units = \"degrees_north\" ;\n",
    "\t\t:geospatial_lat_resolution = 2.f ;\n",
    "\t\t:geospatial_lon_units = \"degrees_east\" ;\n",
    "\t\t:geospatial_lon_resolution = 2.f ;\n",
    "\t\t:spatial_resolution = \"2.0 degree grid\" ;\n",
    "\t\t:cdm_data_type = \"Grid\" ;\n",
    "\t\t:processing_level = \"L4\" ;\n",
    "\t\t:standard_name_vocabulary = \"CF Standard Name Table v27\" ;\n",
    "\t\t:keywords = \"Earth Science &gt; Oceans &gt; Ocean Temperature &gt; Sea Sur face Temperature &gt\" ;\n",
    "\t\t:keywords_vocabulary = \"NASA Global Change Master Directory (GCMD) Science Keywords\" ;\n",
    "\t\t:project = \"NOAA Extended Reconstructed Sea Surface Temperature (ERSST)\" ;\n",
    "\t\t:platform = \"Ship and Buoy SSTs from ICOADS R2.5 and NCEP GTS\" ;\n",
    "\t\t:instrument = \"Conventional thermometers\" ;\n",
    "\t\t:source = \"ICOADS R2.5 SST, NCEP GTS SST, HadISST ice, NCEP ice\" ;\n",
    "\t\t:comment = \"SSTs were observed by conventional thermometers in Buckets (in sulated or un-insulated canvas and wooded buckets), Engine Room Intakers, or floats and drifters\" ;\n",
    "\t\t:references = \"Huang et al, 2015: Extended Reconstructed Sea Surface Temperatures Version 4 (ERSST.v4), Part I. Upgrades and Intercomparisons. Journal of Climate, DOI: 10.1175/JCLI-D-14-00006.1.\" ;\n",
    "\t\t:climatology = \"Climatology is based on 1971-2000 SST, Xue, Y., T. M. Smith, and R. W. Reynolds, 2003: Interdecadal changes of 30-yr SST normals during 1871.2000. Journal of Climate, 16, 1601-1612.\" ;\n",
    "\t\t:description = \"In situ data: ICOADS2.5 before 2007, NCEP in situ data from 2008 to present. Ice data: HadISST ice before 2015 and NCEP ice after 2015.\" ;\n",
    "\n",
    "data:\n",
    "\n",
    " lat = -88, -86, -84, -82, -80, -78, -76, -74, -72, -70, -68, -66, -64, -62, \n",
    "    -60, -58, -56, -54, -52, -50, -48, -46, -44, -42, -40, -38, -36, -34, \n",
    "    -32, -30, -28, -26, -24, -22, -20, -18, -16, -14, -12, -10, -8, -6, -4, \n",
    "    -2, 0, 2, 4, 6, 8, 10, 12, 14, 16, 18, 20, 22, 24, 26, 28, 30, 32, 34, \n",
    "    36, 38, 40, 42, 44, 46, 48, 50, 52, 54, 56, 58, 60, 62, 64, 66, 68, 70, \n",
    "    72, 74, 76, 78, 80, 82, 84, 86, 88 ;\n",
    "\n",
    " lev = 0 ;\n",
    "\n",
    " lon = 0, 2, 4, 6, 8, 10, 12, 14, 16, 18, 20, 22, 24, 26, 28, 30, 32, 34, 36, \n",
    "    38, 40, 42, 44, 46, 48, 50, 52, 54, 56, 58, 60, 62, 64, 66, 68, 70, 72, \n",
    "    74, 76, 78, 80, 82, 84, 86, 88, 90, 92, 94, 96, 98, 100, 102, 104, 106, \n",
    "    108, 110, 112, 114, 116, 118, 120, 122, 124, 126, 128, 130, 132, 134, \n",
    "    136, 138, 140, 142, 144, 146, 148, 150, 152, 154, 156, 158, 160, 162, \n",
    "    164, 166, 168, 170, 172, 174, 176, 178, 180, 182, 184, 186, 188, 190, \n",
    "    192, 194, 196, 198, 200, 202, 204, 206, 208, 210, 212, 214, 216, 218, \n",
    "    220, 222, 224, 226, 228, 230, 232, 234, 236, 238, 240, 242, 244, 246, \n",
    "    248, 250, 252, 254, 256, 258, 260, 262, 264, 266, 268, 270, 272, 274, \n",
    "    276, 278, 280, 282, 284, 286, 288, 290, 292, 294, 296, 298, 300, 302, \n",
    "    304, 306, 308, 310, 312, 314, 316, 318, 320, 322, 324, 326, 328, 330, \n",
    "    332, 334, 336, 338, 340, 342, 344, 346, 348, 350, 352, 354, 356, 358 ;\n",
    "\n",
    " time = 0 ;\n",
    "}\n",
    "```"
   ]
  },
  {
   "cell_type": "markdown",
   "metadata": {},
   "source": [
    "以上の通り、海面水温データは、'sst'という変数名で格納されているということがわかりました。  \n",
    "そこで、この海面水温データをnetCDF4モジュールを用いて取り出してみることにします。"
   ]
  },
  {
   "cell_type": "code",
   "execution_count": 3,
   "metadata": {},
   "outputs": [],
   "source": [
    "import netCDF4\n",
    "nc=netCDF4.Dataset('ersst.v4.201702.nc','r')\n",
    "data=nc.variables['sst'][:]"
   ]
  },
  {
   "cell_type": "markdown",
   "metadata": {},
   "source": [
    "たったこれだけです。  \n",
    "2行目で、netCDFファイルの中身の情報を持った「netCDF4オブジェクト」を生成し、  \n",
    "3行目で、そのオブジェクトの一要素(今回の場合'sst'という変数名で格納されたデータの中身)を取り出しているわけです。"
   ]
  },
  {
   "cell_type": "code",
   "execution_count": 4,
   "metadata": {},
   "outputs": [
    {
     "name": "stdout",
     "output_type": "stream",
     "text": [
      "<class 'netCDF4._netCDF4.Dataset'>\n",
      "[[[[-- -- -- ... -- -- --]\n",
      "   [-- -- -- ... -- -- --]\n",
      "   [-- -- -- ... -- -- --]\n",
      "   ...\n",
      "   [-1.5788253545761108 -1.5387723445892334 -1.518031358718872 ...\n",
      "    -1.7999999523162842 -1.7702364921569824 -1.7328710556030273]\n",
      "   [-1.5536582469940186 -1.5258724689483643 -1.5181310176849365 ...\n",
      "    -1.6532748937606812 -1.6176127195358276 -1.5812113285064697]\n",
      "   [-1.7319483757019043 -1.7999999523162842 -1.7999999523162842 ...\n",
      "    -1.741258144378662 -1.7337182760238647 -1.729689598083496]]]]\n"
     ]
    }
   ],
   "source": [
    "print(type(nc))\n",
    "print(data)"
   ]
  },
  {
   "cell_type": "markdown",
   "metadata": {},
   "source": [
    "## Fortranバイナリファイル読み込み\n",
    "ここでは、まず  \n",
    "**リトルエンディアンのヘッダなし4バイト浮動小数点バイナリ(俗に言うGrADS形式と呼ばれるもの)**  \n",
    "の中身を読み込んでみることにします。  "
   ]
  },
  {
   "cell_type": "code",
   "execution_count": 5,
   "metadata": {},
   "outputs": [
    {
     "name": "stdout",
     "output_type": "stream",
     "text": [
      "program main\r\n",
      "\r\n",
      "  implicit none\r\n",
      "\r\n",
      "  integer,parameter::N=10,M=20\r\n",
      "  integer::i,j\r\n",
      "  real,dimension(1:N,1:M)::x\r\n",
      "\r\n",
      "  open(10,file='filename.out',form='unformatted',access='direct',recl=N*4)\r\n",
      "\r\n",
      "  do i = 1,N\r\n",
      "     do j = 1,M\r\n",
      "        x(i,j) = i+j*2\r\n",
      "     end do\r\n",
      "  end do\r\n",
      "\r\n",
      "  do j = 1,M\r\n",
      "     write(10,rec=j)(x(i,j),i=1,N)\r\n",
      "  end do\r\n",
      "\r\n",
      "  close(10)\r\n",
      "\r\n",
      "end program main\r\n"
     ]
    }
   ],
   "source": [
    "!cat write_binary.f90 "
   ]
  },
  {
   "cell_type": "markdown",
   "metadata": {},
   "source": [
    "まず、fortranプログラムを実行して架空のデータを作成。"
   ]
  },
  {
   "cell_type": "code",
   "execution_count": 6,
   "metadata": {},
   "outputs": [],
   "source": [
    "!gfortran write_binary.f90"
   ]
  },
  {
   "cell_type": "code",
   "execution_count": 7,
   "metadata": {},
   "outputs": [],
   "source": [
    "!./a.out"
   ]
  },
  {
   "cell_type": "markdown",
   "metadata": {},
   "source": [
    "続いてpythonでファイルの読み込みです。"
   ]
  },
  {
   "cell_type": "code",
   "execution_count": 8,
   "metadata": {},
   "outputs": [],
   "source": [
    "import numpy as np\n",
    "N=10  #1レコード番号あたりに格納されているデータの数。\n",
    "M=20  #レコードの総数。\n",
    "f=open('filename.out','r')\n",
    "dty=np.dtype([('data','<'+str(N)+'f')])\n",
    "chunk=np.fromfile(f,dtype=dty,count=M)\n",
    "data=np.array([chunk[j]['data'] for j in range(0,M)])"
   ]
  },
  {
   "cell_type": "code",
   "execution_count": 9,
   "metadata": {},
   "outputs": [
    {
     "data": {
      "text/plain": [
       "array([[ 3.,  4.,  5.,  6.,  7.,  8.,  9., 10., 11., 12.],\n",
       "       [ 5.,  6.,  7.,  8.,  9., 10., 11., 12., 13., 14.],\n",
       "       [ 7.,  8.,  9., 10., 11., 12., 13., 14., 15., 16.],\n",
       "       [ 9., 10., 11., 12., 13., 14., 15., 16., 17., 18.],\n",
       "       [11., 12., 13., 14., 15., 16., 17., 18., 19., 20.],\n",
       "       [13., 14., 15., 16., 17., 18., 19., 20., 21., 22.],\n",
       "       [15., 16., 17., 18., 19., 20., 21., 22., 23., 24.],\n",
       "       [17., 18., 19., 20., 21., 22., 23., 24., 25., 26.],\n",
       "       [19., 20., 21., 22., 23., 24., 25., 26., 27., 28.],\n",
       "       [21., 22., 23., 24., 25., 26., 27., 28., 29., 30.],\n",
       "       [23., 24., 25., 26., 27., 28., 29., 30., 31., 32.],\n",
       "       [25., 26., 27., 28., 29., 30., 31., 32., 33., 34.],\n",
       "       [27., 28., 29., 30., 31., 32., 33., 34., 35., 36.],\n",
       "       [29., 30., 31., 32., 33., 34., 35., 36., 37., 38.],\n",
       "       [31., 32., 33., 34., 35., 36., 37., 38., 39., 40.],\n",
       "       [33., 34., 35., 36., 37., 38., 39., 40., 41., 42.],\n",
       "       [35., 36., 37., 38., 39., 40., 41., 42., 43., 44.],\n",
       "       [37., 38., 39., 40., 41., 42., 43., 44., 45., 46.],\n",
       "       [39., 40., 41., 42., 43., 44., 45., 46., 47., 48.],\n",
       "       [41., 42., 43., 44., 45., 46., 47., 48., 49., 50.]], dtype=float32)"
      ]
     },
     "execution_count": 9,
     "metadata": {},
     "output_type": "execute_result"
    }
   ],
   "source": [
    "data"
   ]
  },
  {
   "cell_type": "markdown",
   "metadata": {},
   "source": [
    "最終行は、  \n"
   ]
  },
  {
   "cell_type": "code",
   "execution_count": 10,
   "metadata": {},
   "outputs": [],
   "source": [
    "for j in range(0,M):  \n",
    "     data[j,:]=chunk[j]['data']"
   ]
  },
  {
   "cell_type": "markdown",
   "metadata": {},
   "source": [
    "を1行で書き換えたものです。  \n",
    "chunk[k-1]が、fortranで言うところのレコード番号kのデータに対応しています。  \n",
    "なので、例えばレコード番号6のデータだけを取り出したい場合には、最終行を  "
   ]
  },
  {
   "cell_type": "code",
   "execution_count": 11,
   "metadata": {},
   "outputs": [],
   "source": [
    "data=chunk[5]['data']  "
   ]
  },
  {
   "cell_type": "markdown",
   "metadata": {},
   "source": [
    "に置き換えれば良いです。"
   ]
  },
  {
   "cell_type": "code",
   "execution_count": 12,
   "metadata": {},
   "outputs": [
    {
     "data": {
      "text/plain": [
       "array([13., 14., 15., 16., 17., 18., 19., 20., 21., 22.], dtype=float32)"
      ]
     },
     "execution_count": 12,
     "metadata": {},
     "output_type": "execute_result"
    }
   ],
   "source": [
    "data"
   ]
  }
 ],
 "metadata": {
  "kernelspec": {
   "display_name": "Python 3 (ipykernel)",
   "language": "python",
   "name": "python3"
  },
  "language_info": {
   "codemirror_mode": {
    "name": "ipython",
    "version": 3
   },
   "file_extension": ".py",
   "mimetype": "text/x-python",
   "name": "python",
   "nbconvert_exporter": "python",
   "pygments_lexer": "ipython3",
   "version": "3.10.6"
  }
 },
 "nbformat": 4,
 "nbformat_minor": 2
}
