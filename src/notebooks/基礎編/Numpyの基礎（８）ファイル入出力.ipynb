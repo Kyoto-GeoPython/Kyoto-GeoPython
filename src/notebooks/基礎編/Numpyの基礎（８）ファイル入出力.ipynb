{
 "cells": [
  {
   "cell_type": "markdown",
   "metadata": {
    "run_control": {
     "frozen": false,
     "read_only": false
    }
   },
   "source": [
    "# 目次\n",
    "- [ndarrayのファイル入出力](#ndarrayのファイル入出力)\n",
    "    - [ファイル入力](#ファイル入力)\n",
    "        - [テキストファイルから読み取る](#テキストファイルから読み取る)\n",
    "        - [CSVファイルから読み取る](#CSVファイルから読み取る)\n",
    "        - [固定長幅テキストファイルから読み取る](#固定長幅テキストファイルから読み取る)\n",
    "    - [npyとnpz形式でのバイナリ保存](#npyとnpz形式でのバイナリ保存)\n",
    "    - [テキストでの保存](#テキストでの保存)"
   ]
  },
  {
   "cell_type": "code",
   "execution_count": 1,
   "metadata": {},
   "outputs": [],
   "source": [
    "import numpy as np\n",
    "import matplotlib.pyplot as plt\n",
    "\n",
    "# jupyter notebookに画像を表示\n",
    "%matplotlib inline"
   ]
  },
  {
   "cell_type": "markdown",
   "metadata": {},
   "source": [
    "# ndarrayのファイル入出力\n",
    "Numpyで扱えるファイル入出力は\n",
    "- 一般的なバイナリ\n",
    "- テキスト\n",
    "- Numpy独自のバイナリ\n",
    "\n",
    "の３つに分けられます。  "
   ]
  },
  {
   "cell_type": "markdown",
   "metadata": {},
   "source": [
    "StringIOはファイル入力の代わりに文字列を渡すことができるインターフェイスです。  \n",
    "あんまり気にしないでください。"
   ]
  },
  {
   "cell_type": "code",
   "execution_count": 2,
   "metadata": {},
   "outputs": [],
   "source": [
    "from io import StringIO"
   ]
  },
  {
   "cell_type": "markdown",
   "metadata": {},
   "source": [
    "## ファイル入力\n",
    "### テキストファイルから読み取る\n",
    "\n",
    "Numpyでテキストファイル入力を取り扱う関数として、**loadtxt**や、より高機能な**genfromtxt**があります。  \n",
    "個人的にはこれらを使う機会はほとんどなく、**pandas**というデータ分析用ライブラリを使ってテキストファイル入力を取り扱っています。  \n",
    "Numpyのページで紹介するのも気が引けますが、**pandas**で読み取ったあと、ndarrayを取り出せば結局同じことなので、この項では**pandas**のファイル入力を紹介します（多分こちらのほうが簡単）。"
   ]
  },
  {
   "cell_type": "code",
   "execution_count": 3,
   "metadata": {},
   "outputs": [],
   "source": [
    "# Anacondaで入れた場合はすでに使用可能。\n",
    "# エラーが出た人は、pipでインストールしてください。\n",
    "import pandas as pd"
   ]
  },
  {
   "cell_type": "markdown",
   "metadata": {},
   "source": [
    "### CSVファイルから読み取る\n",
    "CSVファイルとは「,」で区切られたファイルのことです。   \n",
    "一般的には、float, int, 文字列が混在しています。"
   ]
  },
  {
   "cell_type": "code",
   "execution_count": 4,
   "metadata": {},
   "outputs": [
    {
     "data": {
      "text/html": [
       "<div>\n",
       "<style scoped>\n",
       "    .dataframe tbody tr th:only-of-type {\n",
       "        vertical-align: middle;\n",
       "    }\n",
       "\n",
       "    .dataframe tbody tr th {\n",
       "        vertical-align: top;\n",
       "    }\n",
       "\n",
       "    .dataframe thead th {\n",
       "        text-align: right;\n",
       "    }\n",
       "</style>\n",
       "<table border=\"1\" class=\"dataframe\">\n",
       "  <thead>\n",
       "    <tr style=\"text-align: right;\">\n",
       "      <th></th>\n",
       "      <th>I1</th>\n",
       "      <th>I2</th>\n",
       "      <th>F1</th>\n",
       "      <th>I3</th>\n",
       "      <th>S1</th>\n",
       "    </tr>\n",
       "  </thead>\n",
       "  <tbody>\n",
       "    <tr>\n",
       "      <th>0</th>\n",
       "      <td>1</td>\n",
       "      <td>1</td>\n",
       "      <td>190.290000</td>\n",
       "      <td>3</td>\n",
       "      <td>アツアツ</td>\n",
       "    </tr>\n",
       "    <tr>\n",
       "      <th>1</th>\n",
       "      <td>3</td>\n",
       "      <td>2</td>\n",
       "      <td>0.824608</td>\n",
       "      <td>9</td>\n",
       "      <td>萎え萎え</td>\n",
       "    </tr>\n",
       "  </tbody>\n",
       "</table>\n",
       "</div>"
      ],
      "text/plain": [
       "   I1  I2          F1  I3    S1\n",
       "0   1   1  190.290000   3  アツアツ\n",
       "1   3   2    0.824608   9  萎え萎え"
      ]
     },
     "execution_count": 4,
     "metadata": {},
     "output_type": "execute_result"
    }
   ],
   "source": [
    "file = \"\"\"\n",
    "I1,I2,F1,I3,S1\n",
    "1,1,1.9029e+2,3,アツアツ\n",
    "3,2,8.24608e-1,9,萎え萎え\n",
    "\"\"\"\n",
    "df = pd.read_csv(StringIO(file), delimiter=',')\n",
    "df"
   ]
  },
  {
   "cell_type": "code",
   "execution_count": 5,
   "metadata": {},
   "outputs": [],
   "source": [
    "# 実際は以下のようにパスを指定する。\n",
    "# df = pd.read_csv('data.csv', delimiter=',')"
   ]
  },
  {
   "cell_type": "markdown",
   "metadata": {},
   "source": [
    "上で得られたオブジェクトは、**pandas.DataFrame**というものです。  \n",
    "自動的に型を読み取り、適切なdtypeにしてくれます。"
   ]
  },
  {
   "cell_type": "code",
   "execution_count": 6,
   "metadata": {},
   "outputs": [
    {
     "data": {
      "text/plain": [
       "I1      int64\n",
       "I2      int64\n",
       "F1    float64\n",
       "I3      int64\n",
       "S1     object\n",
       "dtype: object"
      ]
     },
     "execution_count": 6,
     "metadata": {},
     "output_type": "execute_result"
    }
   ],
   "source": [
    "df.dtypes"
   ]
  },
  {
   "cell_type": "markdown",
   "metadata": {},
   "source": [
    "**values**でndarrayを取得できます。  \n",
    "これはコピーではなく、単なる参照です（**pandas.DataFrame**は内部でndarrayを保持しています！）。"
   ]
  },
  {
   "cell_type": "code",
   "execution_count": 7,
   "metadata": {},
   "outputs": [
    {
     "data": {
      "text/plain": [
       "array([1, 3])"
      ]
     },
     "execution_count": 7,
     "metadata": {},
     "output_type": "execute_result"
    }
   ],
   "source": [
    "df['I1'].values"
   ]
  },
  {
   "cell_type": "code",
   "execution_count": 8,
   "metadata": {},
   "outputs": [
    {
     "data": {
      "text/plain": [
       "numpy.ndarray"
      ]
     },
     "execution_count": 8,
     "metadata": {},
     "output_type": "execute_result"
    }
   ],
   "source": [
    "# 確かにndarray\n",
    "type(df['I1'].values)"
   ]
  },
  {
   "cell_type": "code",
   "execution_count": 9,
   "metadata": {},
   "outputs": [
    {
     "data": {
      "text/html": [
       "<div>\n",
       "<style scoped>\n",
       "    .dataframe tbody tr th:only-of-type {\n",
       "        vertical-align: middle;\n",
       "    }\n",
       "\n",
       "    .dataframe tbody tr th {\n",
       "        vertical-align: top;\n",
       "    }\n",
       "\n",
       "    .dataframe thead th {\n",
       "        text-align: right;\n",
       "    }\n",
       "</style>\n",
       "<table border=\"1\" class=\"dataframe\">\n",
       "  <thead>\n",
       "    <tr style=\"text-align: right;\">\n",
       "      <th></th>\n",
       "      <th>0</th>\n",
       "      <th>1</th>\n",
       "      <th>2</th>\n",
       "      <th>3</th>\n",
       "      <th>4</th>\n",
       "    </tr>\n",
       "  </thead>\n",
       "  <tbody>\n",
       "    <tr>\n",
       "      <th>0</th>\n",
       "      <td>1</td>\n",
       "      <td>1</td>\n",
       "      <td>190.290000</td>\n",
       "      <td>3</td>\n",
       "      <td>アツアツ</td>\n",
       "    </tr>\n",
       "    <tr>\n",
       "      <th>1</th>\n",
       "      <td>3</td>\n",
       "      <td>2</td>\n",
       "      <td>0.824608</td>\n",
       "      <td>9</td>\n",
       "      <td>萎え萎え</td>\n",
       "    </tr>\n",
       "  </tbody>\n",
       "</table>\n",
       "</div>"
      ],
      "text/plain": [
       "   0  1           2  3     4\n",
       "0  1  1  190.290000  3  アツアツ\n",
       "1  3  2    0.824608  9  萎え萎え"
      ]
     },
     "execution_count": 9,
     "metadata": {},
     "output_type": "execute_result"
    }
   ],
   "source": [
    "# headerがないバージョン\n",
    "file = \"\"\"\n",
    "1,1,1.9029e+2,3,アツアツ\n",
    "3,2,8.24608e-1,9,萎え萎え\n",
    "\"\"\"\n",
    "df = pd.read_csv(StringIO(file), header=None, delimiter=',')\n",
    "df"
   ]
  },
  {
   "cell_type": "markdown",
   "metadata": {},
   "source": [
    "### 固定長幅テキストファイルから読み取る\n",
    "区切り文字ではなく、「幅」で列を区切るタイプのテキストファイルです。  \n",
    "widthsに列ごとの文字数を指定すると読み取れます。  "
   ]
  },
  {
   "cell_type": "code",
   "execution_count": 10,
   "metadata": {},
   "outputs": [
    {
     "data": {
      "text/html": [
       "<div>\n",
       "<style scoped>\n",
       "    .dataframe tbody tr th:only-of-type {\n",
       "        vertical-align: middle;\n",
       "    }\n",
       "\n",
       "    .dataframe tbody tr th {\n",
       "        vertical-align: top;\n",
       "    }\n",
       "\n",
       "    .dataframe thead th {\n",
       "        text-align: right;\n",
       "    }\n",
       "</style>\n",
       "<table border=\"1\" class=\"dataframe\">\n",
       "  <thead>\n",
       "    <tr style=\"text-align: right;\">\n",
       "      <th></th>\n",
       "      <th>VALUE1</th>\n",
       "      <th>VALUE2</th>\n",
       "      <th>ID</th>\n",
       "    </tr>\n",
       "  </thead>\n",
       "  <tbody>\n",
       "    <tr>\n",
       "      <th>0</th>\n",
       "      <td>1.874295</td>\n",
       "      <td>-0.044497</td>\n",
       "      <td>30109</td>\n",
       "    </tr>\n",
       "    <tr>\n",
       "      <th>1</th>\n",
       "      <td>-1.836435</td>\n",
       "      <td>-1.877129</td>\n",
       "      <td>4005971</td>\n",
       "    </tr>\n",
       "    <tr>\n",
       "      <th>2</th>\n",
       "      <td>0.511761</td>\n",
       "      <td>-0.557850</td>\n",
       "      <td>750</td>\n",
       "    </tr>\n",
       "  </tbody>\n",
       "</table>\n",
       "</div>"
      ],
      "text/plain": [
       "     VALUE1    VALUE2       ID\n",
       "0  1.874295 -0.044497    30109\n",
       "1 -1.836435 -1.877129  4005971\n",
       "2  0.511761 -0.557850      750"
      ]
     },
     "execution_count": 10,
     "metadata": {},
     "output_type": "execute_result"
    }
   ],
   "source": [
    "s = \"\"\"         VALUE1            VALUE2         ID\n",
    "+1.87429510e+00   -4.44966444e-02   00030109\n",
    "-1.83643507e+00   -1.87712943e+00   04005971\n",
    "+5.11761193e-01   -5.57850439e-01   00000750\n",
    "\"\"\"\n",
    "df = pd.read_fwf(StringIO(s), widths=(16, 19, 11))\n",
    "df"
   ]
  },
  {
   "cell_type": "code",
   "execution_count": 11,
   "metadata": {},
   "outputs": [
    {
     "data": {
      "text/plain": [
       "array([[ 1.8742951 , -0.04449664],\n",
       "       [-1.83643507, -1.87712943],\n",
       "       [ 0.51176119, -0.55785044]])"
      ]
     },
     "execution_count": 11,
     "metadata": {},
     "output_type": "execute_result"
    }
   ],
   "source": [
    "# ndarrayが取得できるように\n",
    "df[['VALUE1', 'VALUE2']].values"
   ]
  },
  {
   "cell_type": "markdown",
   "metadata": {},
   "source": [
    "## バイナリ入力\n",
    "**fromfile**とかあるみたいです。"
   ]
  },
  {
   "cell_type": "markdown",
   "metadata": {},
   "source": [
    "## ファイル出力\n",
    "Numpyでファイル出力する場合、\n",
    "- 「.npyまたは.npz」形式でのバイナリ保存\n",
    "- テキストでの保存\n",
    "- 一般的なバイナリ保存\n",
    "\n",
    "の３つが基本となります。本稿では上の２つを説明します。    \n",
    "## npyとnpz形式でのバイナリ保存\n",
    "これらはNumpy独自のバイナリ形式です。  \n",
    "**np.save**関数では、ndarrayを **npy** という拡張子を付けて保存します。  \n",
    "この形式だと、配列のshapeやdtypeなどの情報も保存するので、**np.load**で情報を保ったまま読み込むことが出来ます。  \n",
    "複数のndarrayを保存するときは **np.savez** 関数を用いて、**npz** という拡張子で保存します。  \n",
    "npz形式の場合のロードも **np.load** 関数を使います（拡張子で判断される）。  \n",
    "まずはnpyの保存をみてみましょう。"
   ]
  },
  {
   "cell_type": "code",
   "execution_count": 12,
   "metadata": {},
   "outputs": [
    {
     "data": {
      "text/plain": [
       "True"
      ]
     },
     "execution_count": 12,
     "metadata": {},
     "output_type": "execute_result"
    }
   ],
   "source": [
    "arr = np.linspace(3, 4, 100).reshape(10, 10, 1)\n",
    "\n",
    "# arrをnpy形式で保存\n",
    "np.save(\"test_arr.npy\", arr)\n",
    "\n",
    "# npyをロード\n",
    "arr_new = np.load(\"test_arr.npy\")\n",
    "\n",
    "# 全ての要素が等しいならTrue\n",
    "np.all(arr == arr_new)"
   ]
  },
  {
   "cell_type": "markdown",
   "metadata": {},
   "source": [
    "npzでは、キーワード引数を渡すと、その名前で保存されます。"
   ]
  },
  {
   "cell_type": "code",
   "execution_count": 13,
   "metadata": {},
   "outputs": [
    {
     "data": {
      "text/plain": [
       "array([0.        , 0.00137174, 0.01097394, 0.03703704, 0.0877915 ,\n",
       "       0.17146776, 0.2962963 , 0.47050754, 0.70233196, 1.        ])"
      ]
     },
     "execution_count": 13,
     "metadata": {},
     "output_type": "execute_result"
    }
   ],
   "source": [
    "my_x = np.linspace(0,  1, 10) ** 3\n",
    "my_y = np.arange(0, 10)\n",
    "\n",
    "# キーワード引数でndarrayをsavezに渡す\n",
    "np.savez(\"test_arrs.npz\", x = my_x, y = my_y)\n",
    "\n",
    "arrs = np.load(\"test_arrs.npz\")\n",
    "\n",
    "arrs[\"x\"]"
   ]
  },
  {
   "cell_type": "markdown",
   "metadata": {},
   "source": [
    "## テキストでの保存\n",
    "ndarrayをテキスト形式で保存する関数は**np.savetxt**です。"
   ]
  },
  {
   "cell_type": "code",
   "execution_count": 14,
   "metadata": {},
   "outputs": [],
   "source": [
    "# ２次元配列\n",
    "x = np.linspace(0, 1, 10).reshape(5,2)\n",
    "\n",
    "# xをテキスト形式で保存\n",
    "np.savetxt(\"my_np.txt\", x)"
   ]
  },
  {
   "cell_type": "code",
   "execution_count": 15,
   "metadata": {},
   "outputs": [
    {
     "name": "stdout",
     "output_type": "stream",
     "text": [
      "0.000000000000000000e+00 1.111111111111111049e-01\r\n",
      "2.222222222222222099e-01 3.333333333333333148e-01\r\n",
      "4.444444444444444198e-01 5.555555555555555802e-01\r\n",
      "6.666666666666666297e-01 7.777777777777776791e-01\r\n",
      "8.888888888888888395e-01 1.000000000000000000e+00\r\n"
     ]
    }
   ],
   "source": [
    "# 保存したテキストファイルを表示\n",
    "!cat my_np.txt"
   ]
  }
 ],
 "metadata": {
  "anaconda-cloud": {},
  "kernelspec": {
   "display_name": "Python 3 (ipykernel)",
   "language": "python",
   "name": "python3"
  },
  "language_info": {
   "codemirror_mode": {
    "name": "ipython",
    "version": 3
   },
   "file_extension": ".py",
   "mimetype": "text/x-python",
   "name": "python",
   "nbconvert_exporter": "python",
   "pygments_lexer": "ipython3",
   "version": "3.10.6"
  }
 },
 "nbformat": 4,
 "nbformat_minor": 2
}
