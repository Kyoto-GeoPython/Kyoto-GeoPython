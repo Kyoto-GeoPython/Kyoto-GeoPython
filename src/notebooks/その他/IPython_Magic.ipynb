{
 "cells": [
  {
   "cell_type": "markdown",
   "id": "6f374a4f-687f-425b-a4c0-5de150abe412",
   "metadata": {},
   "source": [
    "## IPython magicの紹介\n",
    "\n",
    "### IPython magicとは？\n",
    "標準のPythonコンソールから拡張されたコマンド\n",
    "\n",
    "「%」から始まる\n",
    "複数行に渡る場合は「％％」にする\n",
    "\n",
    "### %ls\n",
    "シェルの「ls」を呼び出す。\n",
    "Windowsの場合「dir」と同じ\n",
    "\n",
    "### %cd\n",
    "シェルと同じく、カレントワーキングディレクトリを変更する。\n",
    "\n",
    "### %pwd\n",
    "カレントワーキングディレクトリを表示する。\n",
    "\n",
    "### %run [filename]\n",
    "ファイルをIPython内で実行する。変数はIPythonに残る。"
   ]
  },
  {
   "cell_type": "code",
   "execution_count": 1,
   "id": "e7adb8b3-ce93-47d9-927e-21ee4a2a18c7",
   "metadata": {},
   "outputs": [
    {
     "name": "stdout",
     "output_type": "stream",
     "text": [
      "import numpy as np\r\n",
      "            \r\n",
      "arr = np.array([1, 3, 4])        \r\n",
      "mylist = []\r\n",
      "for i in range(100):\r\n",
      "    mylist.append(i)\r\n",
      "    np.random.randn(100, 100)\r\n"
     ]
    }
   ],
   "source": [
    "!cat ./run_test.py"
   ]
  },
  {
   "cell_type": "code",
   "execution_count": 2,
   "id": "e8331332-8179-4c68-aa87-ac74da9a263f",
   "metadata": {},
   "outputs": [],
   "source": [
    "%run ./run_test.py"
   ]
  },
  {
   "cell_type": "code",
   "execution_count": 3,
   "id": "1c44dba4",
   "metadata": {},
   "outputs": [
    {
     "data": {
      "text/plain": [
       "array([1, 3, 4])"
      ]
     },
     "execution_count": 3,
     "metadata": {},
     "output_type": "execute_result"
    }
   ],
   "source": [
    "arr"
   ]
  },
  {
   "cell_type": "markdown",
   "id": "239a9bcf",
   "metadata": {},
   "source": [
    "### %run -t [filename]"
   ]
  },
  {
   "cell_type": "code",
   "execution_count": 4,
   "id": "79f72a32",
   "metadata": {},
   "outputs": [
    {
     "name": "stdout",
     "output_type": "stream",
     "text": [
      "\n",
      "IPython CPU timings (estimated):\n",
      "  User   :       0.05 s.\n",
      "  System :       0.09 s.\n",
      "Wall time:       0.03 s.\n"
     ]
    }
   ],
   "source": [
    "%run -t ./run_test.py"
   ]
  },
  {
   "cell_type": "markdown",
   "id": "d94e8f05",
   "metadata": {},
   "source": [
    "### %run -p [filename]\n",
    "ファイル実行の際、プロファイリングを行う。\n",
    "各関数について呼ばれた回数と計算時間を計測する。（%prunも似たような機能）"
   ]
  },
  {
   "cell_type": "code",
   "execution_count": 5,
   "id": "ad37f61a",
   "metadata": {},
   "outputs": [
    {
     "name": "stdout",
     "output_type": "stream",
     "text": [
      " "
     ]
    }
   ],
   "source": [
    "%run -p -s \"cumulative\" ./run_test.py "
   ]
  },
  {
   "cell_type": "markdown",
   "id": "df90234b",
   "metadata": {},
   "source": [
    "### %time\n",
    "ある文を実行する時間を計測する。\n",
    "\n",
    "### %timeit 　←　オススメ！\n",
    "ある文を繰り返し実行し、計算時間の平均を調べる　"
   ]
  },
  {
   "cell_type": "code",
   "execution_count": 6,
   "id": "a61f9b30",
   "metadata": {},
   "outputs": [
    {
     "name": "stdout",
     "output_type": "stream",
     "text": [
      "7.16 ns ± 0.225 ns per loop (mean ± std. dev. of 7 runs, 100,000,000 loops each)\n"
     ]
    }
   ],
   "source": [
    "%timeit 1 + 1"
   ]
  },
  {
   "cell_type": "code",
   "execution_count": 7,
   "id": "f15d3840",
   "metadata": {},
   "outputs": [
    {
     "name": "stdout",
     "output_type": "stream",
     "text": [
      "25.2 ms ± 822 µs per loop (mean ± std. dev. of 7 runs, 10 loops each)\n"
     ]
    }
   ],
   "source": [
    "%timeit np.random.randn(1000,1000)"
   ]
  },
  {
   "cell_type": "code",
   "execution_count": 8,
   "id": "20f085b7",
   "metadata": {},
   "outputs": [],
   "source": [
    "import numpy as np\n",
    "A = np.random.randn(1000, 1000)"
   ]
  },
  {
   "cell_type": "code",
   "execution_count": 9,
   "id": "fc45e07f",
   "metadata": {},
   "outputs": [
    {
     "name": "stdout",
     "output_type": "stream",
     "text": [
      "78.1 ms ± 27.5 ms per loop (mean ± std. dev. of 7 runs, 10 loops each)\n"
     ]
    }
   ],
   "source": [
    "# 逆行列\n",
    "%timeit np.linalg.inv(A)"
   ]
  },
  {
   "cell_type": "code",
   "execution_count": 10,
   "id": "388d7bc7",
   "metadata": {},
   "outputs": [
    {
     "name": "stdout",
     "output_type": "stream",
     "text": [
      "382 ms ± 26.4 ms per loop (mean ± std. dev. of 7 runs, 1 loop each)\n"
     ]
    }
   ],
   "source": [
    "# ムーア・ペンローズ逆行列\n",
    "%timeit np.linalg.pinv(A)"
   ]
  },
  {
   "cell_type": "code",
   "execution_count": 11,
   "id": "ce268a77",
   "metadata": {},
   "outputs": [
    {
     "name": "stdout",
     "output_type": "stream",
     "text": [
      "14.7 ms ± 725 µs per loop (mean ± std. dev. of 7 runs, 100 loops each)\n"
     ]
    }
   ],
   "source": [
    "# 行列積\n",
    "%timeit A @ A"
   ]
  },
  {
   "cell_type": "markdown",
   "id": "ee6e5382",
   "metadata": {},
   "source": [
    "### %matplotlib inline\n",
    "IPythonに埋め込むプロットをしたいとき\n",
    "\n",
    "### %matplotlib qt\n",
    "ポップアップウィンドウにプロットしたいとき"
   ]
  }
 ],
 "metadata": {
  "kernelspec": {
   "display_name": "Python 3 (ipykernel)",
   "language": "python",
   "name": "python3"
  },
  "language_info": {
   "codemirror_mode": {
    "name": "ipython",
    "version": 3
   },
   "file_extension": ".py",
   "mimetype": "text/x-python",
   "name": "python",
   "nbconvert_exporter": "python",
   "pygments_lexer": "ipython3",
   "version": "3.10.6"
  }
 },
 "nbformat": 4,
 "nbformat_minor": 5
}
