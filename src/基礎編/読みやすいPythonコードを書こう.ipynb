{
 "cells": [
  {
   "cell_type": "markdown",
   "metadata": {},
   "source": [
    "# はじめに\n",
    "Pythonは可読性の高い言語だとよく言われます。インデントが強制されることで、分岐や繰り返し、関数のスコープなどが一目見ただけでわかるようになっています。\n",
    "\n",
    "また、言語の特性上、非常に柔軟な書き方ができるため、目的の動作を実現することが簡単にコードに表現することができます。\n",
    "\n",
    "しかし、これらの言語特性が裏目に出て、次のようなコードを量産する可能性もあります。\n",
    "\n",
    "- **すぐ書けたけど、後日振り返ってみると読めない**\n",
    "- **他の人が書いたPythonコードが全然読めない**\n",
    "\n",
    "このページでは、**読みやすいPythonコードを書くためにはどうしたら良いか？**ということを、私なりにまとめてみようと思います。"
   ]
  },
  {
   "cell_type": "markdown",
   "metadata": {},
   "source": [
    "# Python コードのスタイルガイド\n",
    "[PEP: 8 Python コードのスタイルガイド](https://pep8-ja.readthedocs.io/ja/latest/) で公式のスタイルガイドが書かれています。\n",
    "\n",
    "> Guido の重要な洞察のひとつに、コードは書くよりも読まれることの方が多い、というものがあります。この文書で示すガイドラインの目的は、コードを読みやすくするとともに、Pythonで書かれた幅広いコードのスタイルを一貫させることです。PEP 20 にもあるように \"可読性重要\" です。\n",
    "\n",
    "_Guido_ さんは、Pythonの生みの親です。\n",
    "\n",
    "仮に、「自分だけが読むコードだから自分だけ読めればいいんだよ！」のように言いながら、 **意味をなさない変数名**や、 **複雑な引数と戻り値を持つ関数** を導入してしまう人がいます（昔の自分）。\n",
    "\n",
    "そして、後日読み直してみると、何をやっていたか理解できない・・・。。（あるある\n",
    "\n",
    "**一週間後の自分ですら他人**だと思ったほうが良いです。誰もが読めるように **スタイルガイドに沿った可読性を意識した優れたPythonコードを書く**ようにしてください。\n",
    "\n",
    "せっかくなので、このスタイルガイドを一つずつ例を挙げて読んでいくことにします。"
   ]
  },
  {
   "cell_type": "markdown",
   "metadata": {},
   "source": [
    "## インデント\n",
    "Pythonのインデントは、 **スペース４つ**です。\n",
    "\n",
    "また、カッコの中身が長いときの改行の位置にも気をつけましょう。"
   ]
  },
  {
   "cell_type": "code",
   "execution_count": 1,
   "metadata": {},
   "outputs": [],
   "source": [
    "# 関数定義の引数が長くなる時は改行してインデントを深くする\n",
    "def my_first_func(\n",
    "        long_argument_name_1, long_argument_name_2):\n",
    "    pass\n",
    "\n",
    "long_argument_name_1 = 1\n",
    "long_argument_name_2 = 2\n",
    "\n",
    "# 関数の引数を改行する時は、最初の文字をカッコの位置に揃える\n",
    "my_first_func(long_argument_name_1,\n",
    "                          long_argument_name_2)"
   ]
  },
  {
   "cell_type": "code",
   "execution_count": 2,
   "metadata": {},
   "outputs": [],
   "source": [
    "# リストの中身を改行するときには、以下のようにする\n",
    "my_list = [\n",
    "    \"a\", \"b\", \"c\",\n",
    "    \"d\", \"e\", \"f\", # 最後に , をつけても良い\n",
    "]"
   ]
  },
  {
   "cell_type": "code",
   "execution_count": 3,
   "metadata": {},
   "outputs": [],
   "source": [
    "v = 1.0 # [m/s]\n",
    "m = 1.0 # [kg]\n",
    "g = 9.8 # [m/s^2]\n",
    "h = 10 # [m]\n",
    "some_energy = 1.0 # [J]\n",
    "\n",
    "# 長い数式はカッコに包んで、演算子を行の最初に持ってくる\n",
    "energy = (m * v**2 / 2\n",
    "                  + m * g * h\n",
    "                  + some_energy)"
   ]
  },
  {
   "cell_type": "markdown",
   "metadata": {},
   "source": [
    "## インポート\n",
    "ファイルの先頭にずらっと並びがちなライブラリのインポートの文も見やすくしましょう。"
   ]
  },
  {
   "cell_type": "code",
   "execution_count": 4,
   "metadata": {},
   "outputs": [],
   "source": [
    "# [Good] ライブラリごとにインポート文は分ける\n",
    "import os\n",
    "import sys\n",
    "\n",
    "# [Bad] まとめてインポートする\n",
    "import os, sys\n",
    "\n",
    "# [Good] ライブラリ内のインポートはまとめて良い\n",
    "from pandas import DataFrame, Series\n",
    "\n",
    "# [Bad] ワイルドカードを用いたインポートは避ける\n",
    "from numpy import *"
   ]
  },
  {
   "cell_type": "markdown",
   "metadata": {},
   "source": [
    "## 空白文字を入れるか入れないか問題\n",
    "空白文字（スペース）を入れる場所によって、可読性が大きく変わってきます。\n",
    "\n",
    "必ず統一するようにしましょう。"
   ]
  },
  {
   "cell_type": "code",
   "execution_count": 5,
   "metadata": {},
   "outputs": [],
   "source": [
    "my_list = [1, 2, 3]\n",
    "\n",
    "# [Good] , や : の後に空白文字を入れる\n",
    "my_first_func(my_list[1], {\"args\": 2})\n",
    "\n",
    "# [Bad]  カッコの直後に空白文字\n",
    "my_first_func( my_list[ 1 ] , { \"args\" : 2} )"
   ]
  },
  {
   "cell_type": "markdown",
   "metadata": {},
   "source": [
    "リストのスライスの指定も空白文字を入れる位置に気をつけましょう。"
   ]
  },
  {
   "cell_type": "code",
   "execution_count": 6,
   "metadata": {},
   "outputs": [
    {
     "data": {
      "text/plain": [
       "[1, 2]"
      ]
     },
     "execution_count": 6,
     "metadata": {},
     "output_type": "execute_result"
    }
   ],
   "source": [
    "start, end = 0, 2\n",
    "s1, s2 , e1, e2 = 0, 1, 1, 1\n",
    "\n",
    "# [Good] 空白文字を入れない\n",
    "my_list[start:end]\n",
    "\n",
    "# [Good] 演算部分には空白文字を入れない（ : の周りだけ入れる）\n",
    "my_list[s1+s2 : e1+e2]\n",
    "\n",
    "# [Good] 演算部分にも空白文字を入れる\n",
    "my_list[s1 + s2 : e1 + e2]\n",
    "\n",
    "# [Bad] 片方に偏ってる\n",
    "my_list[start: end]"
   ]
  },
  {
   "cell_type": "markdown",
   "metadata": {},
   "source": [
    "## コメント\n",
    "[PEP: 8 Python コードのスタイルガイド](https://pep8-ja.readthedocs.io/ja/latest/#id19)によると、\n",
    "> 英語を話さない国出身の Python プログラマの方々へ：あなたのコードが、自分の言葉を話さない人に 120% 読まれないと確信していなければ、コメントを英語で書くようにお願いします。\n",
    "\n",
    "とあります。\n",
    "\n",
    "科学技術計算でPythonコードを書く場合、必ず **英語** でコメントを書くようにしましょう。"
   ]
  },
  {
   "cell_type": "markdown",
   "metadata": {},
   "source": [
    "## pycodestyle\n",
    "このようなスタイルを自動的にチェックしてくれるライブラリが作られています。\n",
    "\n",
    "[pycodestyle](https://pypi.org/project/pycodestyle/)\n",
    "\n",
    "慣れてくると、わざわざ調べなくても通るコードが書けてきますが、最初のうちはなるべくチェックして感覚を身につけましょう。\n",
    "\n",
    "### インストール\n",
    "\n",
    "```\n",
    "$ pip install pycodestyle\n",
    "```\n",
    "\n",
    "### 使い方\n",
    "\n",
    "```\n",
    "$ pycodestyle --show-source --show-pep8 <file-name>\n",
    "```"
   ]
  },
  {
   "cell_type": "markdown",
   "metadata": {},
   "source": [
    "## flake8\n",
    "さらに高度なラッパーライブラリが　**flake8** です。\n",
    "\n",
    "[flake8](https://pypi.org/project/flake8/)\n",
    "\n",
    "### インストール\n",
    "\n",
    "```\n",
    "$ pip install flake8\n",
    "```\n",
    "\n",
    "\n",
    "\n",
    "### ヘルプ\n",
    "\n",
    "```\n",
    "$ flake8 --help\n",
    "```\n",
    "\n",
    "### 使い方\n",
    "\n",
    "```\n",
    "$ flake8 your-file.py\n",
    "```\n",
    "\n",
    "フォルダに対しても実行できます。\n",
    "\n",
    "```\n",
    "$ flake8 folder/\n",
    "```\n",
    "\n",
    "実装の複雑度も測ってくれます。複雑な関数は直しましょう。\n",
    "\n",
    "```\n",
    "$ flake8 your-file.py --max-complexity 10\n",
    "```"
   ]
  },
  {
   "cell_type": "markdown",
   "metadata": {},
   "source": [
    "## エディタでコードスタイルチェックする\n",
    "AtomやVS CodeといったエディタにPEP8のスタイルチェックをしてくれる拡張機能を追加しておくと大変便利です。\n",
    "\n",
    "PyCharm, Spyderといったエディタにはデフォルトでチェックする機能がついているので、ぜひ有効にして見てください。"
   ]
  },
  {
   "cell_type": "markdown",
   "metadata": {},
   "source": [
    "# 参考資料\n",
    "\n",
    "- [Python コードのスタイルガイド - 公式](https://pep8-ja.readthedocs.io/ja/latest/)\n",
    "- [Python: pep8 は pycodestyle になったし pep257 は pydocstyle になった](https://blog.amedama.jp/entry/2017/06/13/222556)\n",
    "- [Pythonのコーディングチェックにflake8を使う](https://www.xn--ebkc7kqd.com/entry/flake8)"
   ]
  }
 ],
 "metadata": {
  "kernelspec": {
   "display_name": "Python 3",
   "language": "python",
   "name": "python3"
  },
  "language_info": {
   "codemirror_mode": {
    "name": "ipython",
    "version": 3
   },
   "file_extension": ".py",
   "mimetype": "text/x-python",
   "name": "python",
   "nbconvert_exporter": "python",
   "pygments_lexer": "ipython3",
   "version": "3.8.0"
  }
 },
 "nbformat": 4,
 "nbformat_minor": 2
}
