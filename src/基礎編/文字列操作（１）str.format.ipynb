{
 "cells": [
  {
   "cell_type": "markdown",
   "metadata": {},
   "source": [
    "本記事では、Python3.6以降で導入された機能も紹介しています。  \n",
    "特別な理由がなければ、Python3.6以降の新しいバージョンを使用することをおすすめします。"
   ]
  },
  {
   "cell_type": "markdown",
   "metadata": {},
   "source": [
    "# 目次\n",
    " - Pythonにおける文字列（string型）\n",
    " - 文字列の結合\n",
    "     - +を使った結合\n",
    "     - str.format関数\n",
    "         - 基本的な使い方\n",
    "         - （気になる人向け）書式指定子の構造\n",
    "     - f-string"
   ]
  },
  {
   "cell_type": "markdown",
   "metadata": {
    "nbpresent": {
     "id": "7a7ebca3-450c-4e75-bc4f-2b8249275abc"
    }
   },
   "source": [
    "# Pythonにおける文字列（string型）\n",
    "Pythonで文字列を扱うための組み込みクラスとして、**string**という型があります。別の言い方として、**文字列型**や**str**などと呼ばれることもあります。  \n",
    "大概の文字列操作はこのクラスだけで出来ちゃうので、マスターするとファイル入出力などで困ることがぐっと減ります。数値をフォーマットして文字列に変換したり、必要な部分を抜き出したり、特定文字を区切り文字として複数の文字列に分割したりと多機能なクラスです。  \n",
    "文字列は\"（ダブルクォーテーション）もしくは'（シングルクォーテーション）で囲むことで作れます（２つの違いはまったくない）。\n"
   ]
  },
  {
   "cell_type": "code",
   "execution_count": 1,
   "metadata": {
    "nbpresent": {
     "id": "d549ea5b-b25c-49b9-a9ae-3acd021f55d4"
    }
   },
   "outputs": [
    {
     "data": {
      "text/plain": [
       "str"
      ]
     },
     "execution_count": 1,
     "metadata": {},
     "output_type": "execute_result"
    }
   ],
   "source": [
    "s = \"hello\"\n",
    "# s = 'hello' <-- これでもよい\n",
    "type(s)"
   ]
  },
  {
   "cell_type": "markdown",
   "metadata": {
    "nbpresent": {
     "id": "d8ad8ca8-5cbc-4166-b5aa-153767f5eedf"
    }
   },
   "source": [
    "Cでの**char**やFortranでの**character**と違い、文字そのものも長さが１の文字列として扱います。事前に配列を定義する必要があったり、結合しているうちに最初に定義した配列サイズを超えるといったことはなく、直感的な操作が可能です。"
   ]
  },
  {
   "cell_type": "code",
   "execution_count": 2,
   "metadata": {},
   "outputs": [
    {
     "data": {
      "text/plain": [
       "1"
      ]
     },
     "execution_count": 2,
     "metadata": {},
     "output_type": "execute_result"
    }
   ],
   "source": [
    "len(\"a\")"
   ]
  },
  {
   "cell_type": "markdown",
   "metadata": {
    "nbpresent": {
     "id": "c26e4184-f1e6-4a79-9cc3-1494d5f17911"
    }
   },
   "source": [
    "# 文字列の結合\n",
    "## +記号を使った文字列の結合\n",
    "多くのスクリプト言語と同様に、文字列を結合するためには**+**記号を使います。"
   ]
  },
  {
   "cell_type": "code",
   "execution_count": 3,
   "metadata": {
    "nbpresent": {
     "id": "b4af0dd9-d547-43c5-9c32-0099d2aea6eb"
    }
   },
   "outputs": [
    {
     "data": {
      "text/plain": [
       "'hello,world'"
      ]
     },
     "execution_count": 3,
     "metadata": {},
     "output_type": "execute_result"
    }
   ],
   "source": [
    "# +記号を使った文字列の結合\n",
    "\"hello\" + \",\" + \"world\" # --> 'hello,world'\n",
    "\n",
    "# +を使わずこんな結合もできる\n",
    "\"hello\"\",\"\"world\" # --> 'hello,world'"
   ]
  },
  {
   "cell_type": "markdown",
   "metadata": {
    "nbpresent": {
     "id": "2389e8be-cb16-4991-81ce-b2cf416c3866"
    }
   },
   "source": [
    "ここで一つ注意しなければならないのは、**int**や**float**といった数値の型はstring型と「＋」を用いた結合ができないということです。数値をstring型と結合するためには、数値をstring型に明示的にキャスト（型の変換）する必要があります。"
   ]
  },
  {
   "cell_type": "code",
   "execution_count": 4,
   "metadata": {
    "nbpresent": {
     "id": "1ae3b7f3-2b92-494c-9d5c-94bc7d77d336"
    }
   },
   "outputs": [
    {
     "data": {
      "text/plain": [
       "'1a'"
      ]
     },
     "execution_count": 4,
     "metadata": {},
     "output_type": "execute_result"
    }
   ],
   "source": [
    "# 1 + \"a\"　#TypeError\n",
    "str(1) + \"a\""
   ]
  },
  {
   "cell_type": "markdown",
   "metadata": {
    "nbpresent": {
     "id": "5b2f57df-61fa-47e1-bff1-00cc3b5c7a51"
    }
   },
   "source": [
    "このような少し面倒な仕様になっているのは、意図していない結合をした場合に必ずエラーが出るようにするためです。  \n",
    "CやFortranのように型を事前に指定して変数を定義するコンパイル言語と違い、Pythonを始めとしたスクリプト言語では、変数に異なる型を代入できるために、間違った型を入れたままコードを書いてしまうことがあります。  \n",
    "一例を上げると、"
   ]
  },
  {
   "cell_type": "code",
   "execution_count": 5,
   "metadata": {
    "nbpresent": {
     "id": "b0ff6afa-1f1d-4365-911c-9cfcfd890876"
    }
   },
   "outputs": [
    {
     "ename": "TypeError",
     "evalue": "unsupported operand type(s) for +: 'int' and 'str'",
     "output_type": "error",
     "traceback": [
      "\u001b[1;31m---------------------------------------------------------------------------\u001b[0m",
      "\u001b[1;31mTypeError\u001b[0m                                 Traceback (most recent call last)",
      "\u001b[1;32m<ipython-input-5-63084913d688>\u001b[0m in \u001b[0;36m<module>\u001b[1;34m()\u001b[0m\n\u001b[0;32m      1\u001b[0m \u001b[0mnum1\u001b[0m \u001b[1;33m=\u001b[0m \u001b[1;36m1\u001b[0m\u001b[1;33m\u001b[0m\u001b[0m\n\u001b[0;32m      2\u001b[0m \u001b[0mnum2\u001b[0m \u001b[1;33m=\u001b[0m \u001b[1;34m\"3\"\u001b[0m \u001b[1;31m#ファイルからの読み取りの際、stringのままに変数に保存\u001b[0m\u001b[1;33m\u001b[0m\u001b[0m\n\u001b[1;32m----> 3\u001b[1;33m \u001b[0mnum1\u001b[0m \u001b[1;33m+\u001b[0m \u001b[0mnum2\u001b[0m \u001b[1;31m#TypeError\u001b[0m\u001b[1;33m\u001b[0m\u001b[0m\n\u001b[0m",
      "\u001b[1;31mTypeError\u001b[0m: unsupported operand type(s) for +: 'int' and 'str'"
     ]
    }
   ],
   "source": [
    "num1 = 1\n",
    "num2 = \"3\" #ファイルからの読み取りの際、stringのままに変数に保存\n",
    "num1 + num2 #TypeError"
   ]
  },
  {
   "cell_type": "markdown",
   "metadata": {
    "nbpresent": {
     "id": "94589dd6-89be-43df-a5fb-f8fd7c7ec6fa"
    }
   },
   "source": [
    "このコードを書いた人は最後の行では何をしようとしたのでしょうか？可能性は２つあります。  \n",
    "- num1, num2のどちらも**string**だと思って計算し、出力では「13」を出そうとした\n",
    "- num1, num2のどちらも**int**だと思って計算し、出力では「4」を出そうとした\n",
    "\n",
    "もちろん、Pythonのインタプリタ（コードを一行ごと読み込んで実行するもの）はどちらが本来意図されていたかを知る由もないのでエラーを吐き出すわけです。  \n",
    "この面倒な仕様は、スクリプト言語の宿命とも言える産物なのです。"
   ]
  },
  {
   "cell_type": "markdown",
   "metadata": {
    "nbpresent": {
     "id": "1923b8aa-55e1-4e37-92f2-92f69fd87e71"
    }
   },
   "source": [
    "## str.format関数\n",
    "上記のような宿命は納得したとしても、さすがに毎回キャストするのは面倒です。\n",
    "２つの文字列を結合するぐらいならキャストでいいかもしれませんが、大抵の場合、もっと多くの文字列を結合したいはずなので、これを簡単にする関数として**str.format**が用意されています。  \n",
    "複数の文字列、数値などを連結する場合に非常によく使います。特に、科学技術計算などで数値をフォーマット（桁数を指定するなど）する際に役立ちます。  \n",
    "生の文字列もstringなので、実は関数を呼び出すことができ、format関数を使うときには大抵このように記述します。"
   ]
  },
  {
   "cell_type": "code",
   "execution_count": 6,
   "metadata": {
    "nbpresent": {
     "id": "3d50e7de-b3c7-4237-ae3d-3e24c1f0a9b7"
    }
   },
   "outputs": [
    {
     "data": {
      "text/plain": [
       "'正の整数で一番小さいものは、「1」'"
      ]
     },
     "execution_count": 6,
     "metadata": {},
     "output_type": "execute_result"
    }
   ],
   "source": [
    "\"正の整数で一番小さいものは、「{}」\".format(1)"
   ]
  },
  {
   "cell_type": "markdown",
   "metadata": {
    "nbpresent": {
     "id": "c3a9027e-987c-40e1-bda8-1dffe00e5d98"
    }
   },
   "source": [
    "基本的にformat関数は、文字列中の「{ }」の場所に、引数をstringにキャストして埋め込むという機能を持ちます。  \n",
    "formatの引数は複数入れることも可能で、その場合、引数の個数に対応した「{}」を文字列の中に含んでいなければなりません。  "
   ]
  },
  {
   "cell_type": "code",
   "execution_count": 7,
   "metadata": {},
   "outputs": [
    {
     "data": {
      "text/plain": [
       "'1 + 3 = 4'"
      ]
     },
     "execution_count": 7,
     "metadata": {},
     "output_type": "execute_result"
    }
   ],
   "source": [
    "num1 = 1\n",
    "num2 = 3\n",
    "\"{} + {} = {}\".format(num1, num2, num1 + num2) "
   ]
  },
  {
   "cell_type": "code",
   "execution_count": 8,
   "metadata": {},
   "outputs": [
    {
     "data": {
      "text/plain": [
       "'一個目 二個目 三個目 二個目'"
      ]
     },
     "execution_count": 8,
     "metadata": {},
     "output_type": "execute_result"
    }
   ],
   "source": [
    "#「{ }」の中に埋め込みたい引数の位置を明示的に番号で与えることもできる\n",
    "# 引数のタプルのインデックスを指定している\n",
    "\"{0} {1} {2} {1}\".format(\"一個目\",\"二個目\",\"三個目\") "
   ]
  },
  {
   "cell_type": "code",
   "execution_count": 9,
   "metadata": {},
   "outputs": [
    {
     "data": {
      "text/plain": [
       "'hello, こんにちは, ニーハオ'"
      ]
     },
     "execution_count": 9,
     "metadata": {},
     "output_type": "execute_result"
    }
   ],
   "source": [
    "#リストを展開して文字列に入れたい場合。「＊」でリストをばらして引数にできる。\n",
    "greetings = [\"hello\", \"こんにちは\", \"ニーハオ\"]\n",
    "\"{}, {}, {}\".format(*greetings) "
   ]
  },
  {
   "cell_type": "code",
   "execution_count": 10,
   "metadata": {},
   "outputs": [
    {
     "data": {
      "text/plain": [
       "'0.3333333333333333'"
      ]
     },
     "execution_count": 10,
     "metadata": {},
     "output_type": "execute_result"
    }
   ],
   "source": [
    "#floatを入れた場合\n",
    "\"{}\".format(1./3) "
   ]
  },
  {
   "cell_type": "code",
   "execution_count": 11,
   "metadata": {
    "nbpresent": {
     "id": "02ce5ee9-eb23-4e37-bf35-aba0babd2b44"
    }
   },
   "outputs": [
    {
     "data": {
      "text/plain": [
       "'1 100'"
      ]
     },
     "execution_count": 11,
     "metadata": {},
     "output_type": "execute_result"
    }
   ],
   "source": [
    "#キーワード引数で可読性を上げる\n",
    "\"{arg1} {arg2}\".format(arg1=1, arg2=100) "
   ]
  },
  {
   "cell_type": "markdown",
   "metadata": {},
   "source": [
    "注：{ } の数字やキーワードを省略した場合、文字列の中に出てくる { } に0, 1, 2,…と番号をつけていくという処理が行われています。  \n",
    "\n",
    "### 書式指定子\n",
    "細かいフォーマットの指定は { } の中に**書式指定子**を入れることで可能です。  \n",
    "> **フォーマットの構造　：　{ [引数の指定] : [書式指定子] }**  \n",
    "\n",
    "\"{○:△}\"の○部分で引数の指定（上記の0,1やarg1など）を行い、△の部分に書式指定子を書きます。○の部分を省略した場合（書式指定子のみを書く場合）、**\"{:△}\"**と書きます（コロンは省略できません）。  "
   ]
  },
  {
   "cell_type": "code",
   "execution_count": 12,
   "metadata": {},
   "outputs": [
    {
     "data": {
      "text/plain": [
       "'123.46'"
      ]
     },
     "execution_count": 12,
     "metadata": {},
     "output_type": "execute_result"
    }
   ],
   "source": [
    "#小数点以下2桁まで表示\n",
    "\"{:.2f}\".format(123.4567)"
   ]
  },
  {
   "cell_type": "code",
   "execution_count": 13,
   "metadata": {},
   "outputs": [
    {
     "data": {
      "text/plain": [
       "'1.23e+02'"
      ]
     },
     "execution_count": 13,
     "metadata": {},
     "output_type": "execute_result"
    }
   ],
   "source": [
    "#指数表示\n",
    "\"{:.2e}\".format(123.4567)"
   ]
  },
  {
   "cell_type": "code",
   "execution_count": 14,
   "metadata": {},
   "outputs": [
    {
     "data": {
      "text/plain": [
       "'1.235e+02'"
      ]
     },
     "execution_count": 14,
     "metadata": {},
     "output_type": "execute_result"
    }
   ],
   "source": [
    "#指数表示\n",
    "\"{:.3e}\".format(123.4567)"
   ]
  },
  {
   "cell_type": "code",
   "execution_count": 15,
   "metadata": {},
   "outputs": [
    {
     "data": {
      "text/plain": [
       "' -12.3'"
      ]
     },
     "execution_count": 15,
     "metadata": {},
     "output_type": "execute_result"
    }
   ],
   "source": [
    "#符号も含め全体で6文字、小数点以下は1桁まで表示\n",
    "\"{:6.1f}\".format(-12.34)"
   ]
  },
  {
   "cell_type": "code",
   "execution_count": 16,
   "metadata": {},
   "outputs": [
    {
     "data": {
      "text/plain": [
       "'   -1.23e+01'"
      ]
     },
     "execution_count": 16,
     "metadata": {},
     "output_type": "execute_result"
    }
   ],
   "source": [
    "#符号も含め全体で12文字、小数点以下は2桁まで表示（空白埋め）\n",
    "\"{:12.2e}\".format(-12.3456)"
   ]
  },
  {
   "cell_type": "code",
   "execution_count": 17,
   "metadata": {},
   "outputs": [
    {
     "data": {
      "text/plain": [
       "'-0012.34'"
      ]
     },
     "execution_count": 17,
     "metadata": {},
     "output_type": "execute_result"
    }
   ],
   "source": [
    "#符号を前に出したい場合は、width（幅）の前に\"0\"をつける\n",
    "\"{:08}\".format(-12.34)"
   ]
  },
  {
   "cell_type": "code",
   "execution_count": 18,
   "metadata": {},
   "outputs": [
    {
     "data": {
      "text/plain": [
       "'  -12.34'"
      ]
     },
     "execution_count": 18,
     "metadata": {},
     "output_type": "execute_result"
    }
   ],
   "source": [
    "#空白埋めの場合はデフォルトにして幅だけ決めれば良い\n",
    "\"{:8}\".format(-12.34)  # --> '  -12.34'"
   ]
  },
  {
   "cell_type": "code",
   "execution_count": 19,
   "metadata": {},
   "outputs": [
    {
     "data": {
      "text/plain": [
       "'-012.3'"
      ]
     },
     "execution_count": 19,
     "metadata": {},
     "output_type": "execute_result"
    }
   ],
   "source": [
    "#これをベースに小数点以下の桁数などを変更する\n",
    "\"{:06.1f}\".format(-12.34)"
   ]
  },
  {
   "cell_type": "code",
   "execution_count": 20,
   "metadata": {},
   "outputs": [
    {
     "data": {
      "text/plain": [
       "'**-12.34'"
      ]
     },
     "execution_count": 20,
     "metadata": {},
     "output_type": "execute_result"
    }
   ],
   "source": [
    "#別の文字で埋めたい場合はこうすると良い\n",
    "\"{:*>8}\".format(-12.34)"
   ]
  },
  {
   "cell_type": "code",
   "execution_count": 21,
   "metadata": {},
   "outputs": [
    {
     "data": {
      "text/plain": [
       "'  -123'"
      ]
     },
     "execution_count": 21,
     "metadata": {},
     "output_type": "execute_result"
    }
   ],
   "source": [
    "#整数（空白埋め）\n",
    "\"{:6}\".format(-123)"
   ]
  },
  {
   "cell_type": "code",
   "execution_count": 22,
   "metadata": {},
   "outputs": [
    {
     "data": {
      "text/plain": [
       "'-00123'"
      ]
     },
     "execution_count": 22,
     "metadata": {},
     "output_type": "execute_result"
    }
   ],
   "source": [
    "#整数（ゼロ埋め）\n",
    "\"{:06}\".format(-123)"
   ]
  },
  {
   "cell_type": "markdown",
   "metadata": {},
   "source": [
    "## f-string\n",
    "Python3.6から**f-string**という記法が新しく導入されました。  \n",
    "これは、上述のformat関数を毎回呼ばないといけず、記述がエレガントでない、という理由で生まれました。  \n",
    "通常の文字列の最初に **f** をつけるだけで**f-string**を使うことができます。  \n",
    "使い方は**str.format**とほとんど変わりませんが、 **{ }** の中に変数を埋め込むことができます。 "
   ]
  },
  {
   "cell_type": "code",
   "execution_count": 23,
   "metadata": {},
   "outputs": [
    {
     "data": {
      "text/plain": [
       "'My favorite number is 6.'"
      ]
     },
     "execution_count": 23,
     "metadata": {},
     "output_type": "execute_result"
    }
   ],
   "source": [
    "a = 6\n",
    "f\"My favorite number is {a}.\""
   ]
  },
  {
   "cell_type": "code",
   "execution_count": 24,
   "metadata": {},
   "outputs": [
    {
     "data": {
      "text/plain": [
       "'3.14 is much larger than 3.05.'"
      ]
     },
     "execution_count": 24,
     "metadata": {},
     "output_type": "execute_result"
    }
   ],
   "source": [
    "# 書式指定子もstr.formatと同じものが使用できる\n",
    "x, y = 3.141592, 3.05\n",
    "f\"{x:.2f} is much larger than {y}.\""
   ]
  },
  {
   "cell_type": "code",
   "execution_count": 25,
   "metadata": {},
   "outputs": [
    {
     "data": {
      "text/plain": [
       "'6'"
      ]
     },
     "execution_count": 25,
     "metadata": {},
     "output_type": "execute_result"
    }
   ],
   "source": [
    "# {}内はインラインで実行される\n",
    "f\"{1 + 2 + 3}\""
   ]
  },
  {
   "cell_type": "code",
   "execution_count": 26,
   "metadata": {},
   "outputs": [
    {
     "data": {
      "text/plain": [
       "'6 + 4 = 10'"
      ]
     },
     "execution_count": 26,
     "metadata": {},
     "output_type": "execute_result"
    }
   ],
   "source": [
    "# リストの要素を以下のように取り出せる\n",
    "mylist = [6, 4, 10]\n",
    "f\"{mylist[0]} + {mylist[1]} = {mylist[2]}\""
   ]
  },
  {
   "cell_type": "markdown",
   "metadata": {},
   "source": [
    "Python3.6で導入されたこの**f-string**は非常に便利であり、それだけでもバージョンアップする価値があるかと思います。"
   ]
  },
  {
   "cell_type": "markdown",
   "metadata": {},
   "source": [
    "#### （気になる人向け）書式指定子の構造\n",
    "\n",
    "書式指定子は指定する順番によってどれを指定するかが変わります。  \n",
    "少々分かりにくいですが、公式HPより一般的な書式指定子の書き方を引用してみます。\n",
    "> [ [fill] align] [sign] [#] [0] [width] [.precision] [type]\n",
    "\n",
    "以下に、指定子をまとめた表を載せます。\n",
    "利用可能なオプションの詳細は[公式HP](https://docs.python.jp/3/library/string.html#format-specification-mini-language)で確認してください。  \n",
    "おすすめの部分は、数値をフォーマットする場合を前提として書いています。\n",
    "\n",
    "|指定子名|利用可能なオプション|意味|デフォルト|おすすめ|\n",
    "|:--------:|:----------------------:|:----:|:----------:|:-----:|\n",
    "|fill|任意の文字|空白部分に埋める文字の指定<br>（alignとセット）|\" \"（空白部分はスペースで埋める）|デフォルト|\n",
    "|align|\"<\", \">\", \"=\", \"^\"|左詰めや右詰めなどの指定|数値なら右詰め、stringなら左詰め|同上|\n",
    "|sign|\"+\", \"-\", \" \"|符号の表示の仕方|\"-\"（負数のみ符号を表示）|同上|\n",
    "|0|なし、\"0\"|\"0\"にした場合、符号を前につけ、その間を0埋め|なし|0埋めしたい場合はこれのみ指定|\n",
    "|#|なし, \"#\"|16進数のとき0xをつけるかどうかなどの指定|\"\"（デフォルトでなし）|デフォルト|\n",
    "|width|整数|全体幅の指定（幅より大きい数値ならばそれが収まるような全体幅に自動で変わる|収まるような幅|小さく取ると勝手に大きくなるので、あらかじめ大きめに取っておく|\n",
    "|.precision|整数|小数点以下の桁数の指定|16桁くらい|自由にどうぞ|\n",
    "|type|\"b\", \"d\", \"e\", \"E\", \"f\"など| 整数や小数の表示方法<br>（指数表示とか）|小数：固定小数点<br>整数：10進数| \"e\", \"E\"（どちらも指数表示、\"E\"は1.E01のように大文字になる）もしくは \"f\"（固定小数点表示）"
   ]
  }
 ],
 "metadata": {
  "anaconda-cloud": {},
  "kernelspec": {
   "display_name": "Python 3",
   "language": "python",
   "name": "python3"
  },
  "language_info": {
   "codemirror_mode": {
    "name": "ipython",
    "version": 3
   },
   "file_extension": ".py",
   "mimetype": "text/x-python",
   "name": "python",
   "nbconvert_exporter": "python",
   "pygments_lexer": "ipython3",
   "version": "3.6.3"
  }
 },
 "nbformat": 4,
 "nbformat_minor": 1
}
