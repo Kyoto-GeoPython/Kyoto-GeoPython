{
 "cells": [
  {
   "cell_type": "markdown",
   "metadata": {},
   "source": [
    "# 目次\n",
    "- はじめに\n",
    "- pwd: 作業ディレクトリのパスを表示する\n",
    "- ls: ファイルをリストする\n",
    "- cd: 作業ディレクトリを変更する\n",
    "- cp: ファイルをコピーする\n",
    "- mv: ファイルを移動する\n",
    "- rm: ファイルを消去する\n",
    "- mkdir: ディレクトリを作る\n",
    "- ファイル操作その他\n",
    "- プロセスの実行"
   ]
  },
  {
   "cell_type": "markdown",
   "metadata": {},
   "source": [
    "# はじめに\n",
    "Pythonの標準ライブラリを用いると、シェルスクリプト（shやbash）と同等の操作がPython上で行えます。  \n",
    "Pythonを用いることには次のような利点があります。\n",
    "- Pythonの強力な文字列操作メソッドを用いられる\n",
    "- シェルスクリプトの働きとPythonのその他のライブラリ（NumPyなど）とをシームレスにつなぐことができる  \n",
    "\n",
    "特に後者は、Pythonの強みである「言語自体の汎用性とライブラリによる専門性」を表していると言えるでしょう。\n",
    "\n",
    "本稿では、Pythonを用いてファイル操作を行う方法と、プロセスを実行する方法について、シェルのコマンドと対応させて簡単に紹介します。"
   ]
  },
  {
   "cell_type": "markdown",
   "metadata": {},
   "source": [
    "# pwd: 作業ディレクトリのパスを表示する\n",
    "pwdやlsなど、多くのファイル操作コマンドは、標準ライブラリ**os**モジュールを通して実現されています。  \n",
    "現在の作業ディレクトリのパスはos.getcwd()によって得られ、文字列型として返されます。"
   ]
  },
  {
   "cell_type": "code",
   "execution_count": 1,
   "metadata": {},
   "outputs": [],
   "source": [
    "import os\n",
    "working_dir = os.getcwd()"
   ]
  },
  {
   "cell_type": "markdown",
   "metadata": {},
   "source": [
    "# cd: 作業ディレクトリを変更する\n",
    "cd *path* は os.chdir(*path*) です。  \n",
    "Python上での作業ディレクトリの変更は、Pythonのセッションが終了するまで（IPythonなどを閉じるまで）有効です。"
   ]
  },
  {
   "cell_type": "code",
   "execution_count": 2,
   "metadata": {},
   "outputs": [],
   "source": [
    "os.chdir(\"./my-dir\")"
   ]
  },
  {
   "cell_type": "markdown",
   "metadata": {},
   "source": [
    "# ls: ファイルをリストする\n",
    "ls *path* は os.listdir(*path*) で、*path*におけるファイルなどを、文字列のリストとして返してくれます。"
   ]
  },
  {
   "cell_type": "code",
   "execution_count": 3,
   "metadata": {
    "scrolled": true
   },
   "outputs": [
    {
     "data": {
      "text/plain": [
       "['mycsv1.csv', 'mycsv2.csv', 'mytext2.txt', 'child-dir', 'mytext1.txt']"
      ]
     },
     "execution_count": 3,
     "metadata": {},
     "output_type": "execute_result"
    }
   ],
   "source": [
    "os.listdir('.')"
   ]
  },
  {
   "cell_type": "markdown",
   "metadata": {},
   "source": [
    "os.listdirでは、任意の1文字を表す ? や任意の文字 \\* などのワイルドカード、または正規表現を使うことができません。  \n",
    "ワイルドカードや正規表現を用いて特定のファイル名のみをリストしたいときは、標準ライブラリの**glob**を用います。  \n",
    "glob.glob(*path*)で、*path*に一致するファイルをリストとして抽出できます。ただし、os.listdirと異なり、ファイル名でなくそのパスを返していることに気をつけましょう。"
   ]
  },
  {
   "cell_type": "code",
   "execution_count": 4,
   "metadata": {},
   "outputs": [
    {
     "name": "stdout",
     "output_type": "stream",
     "text": [
      "./mytext2.txt\n",
      "./mytext1.txt\n"
     ]
    }
   ],
   "source": [
    "import glob\n",
    "ls2 = glob.glob(\"./*.txt\")\n",
    "for f in ls2:\n",
    "    print(f)"
   ]
  },
  {
   "cell_type": "markdown",
   "metadata": {},
   "source": [
    "## 再帰的なファイルリスト化\n",
    "`glob.glob()` 関数に `recursive=True` を与えてやると再帰的にファイル検索をします。"
   ]
  },
  {
   "cell_type": "code",
   "execution_count": 5,
   "metadata": {},
   "outputs": [
    {
     "data": {
      "text/plain": [
       "['./mytext2.txt', './mytext1.txt', './child-dir/childtext.txt']"
      ]
     },
     "execution_count": 5,
     "metadata": {},
     "output_type": "execute_result"
    }
   ],
   "source": [
    "glob.glob(\"./**/*.txt\", recursive=True)[:10]"
   ]
  },
  {
   "cell_type": "markdown",
   "metadata": {},
   "source": [
    "# pathlib: 再帰的なファイル一覧\n",
    "さらに高機能なPath操作をしたい場合は、**pathlib**ライブラリが便利です。  \n",
    "**Path**オブジェクトでディレクトリを指定し、**glob**関数をワイルドカードとともに呼び出すと、サブディレクトリまで再帰的にファイルを検索します。Pathオブジェクトはイテレータになっているため、最初から全部のファイルを探すのではなく、forループごとに次のファイルへ進んでいきます。普通にリストが欲しい場合は、`list(path.glob('xxxx'))`を呼び出してください。"
   ]
  },
  {
   "cell_type": "code",
   "execution_count": 6,
   "metadata": {},
   "outputs": [
    {
     "name": "stdout",
     "output_type": "stream",
     "text": [
      "mytext2.txt\n",
      "mytext1.txt\n",
      "child-dir/childtext.txt\n"
     ]
    }
   ],
   "source": [
    "from pathlib import Path\n",
    "\n",
    "# Pathオブジェクト(ここでは、今いるディレクトリを基準に作る)\n",
    "path = Path('.')\n",
    "\n",
    "#  再帰的にサブディレクトリ内の '.txt'ファイルを全て列挙する\n",
    "for p in path.glob('./**/*.txt'):\n",
    "    print(p)"
   ]
  },
  {
   "cell_type": "markdown",
   "metadata": {},
   "source": [
    "より詳細な情報は、[pathlib公式ドキュメント](https://docs.python.org/ja/3/library/pathlib.html)を参照してください。"
   ]
  },
  {
   "cell_type": "markdown",
   "metadata": {},
   "source": [
    "# mkdir: ディレクトリを作る\n",
    "mkdir *dirname* は os.makedirs(*dirname*) です。\n",
    "\n",
    "`os.mkdir` もありますが、再帰的にディレクトリを作る時に少し面倒なので、 `os.makedirs` を使うと良いです。\n",
    "\n",
    "参照： [Pythonでディレクトリ（フォルダ）を作成するmkdir, makedirs](https://note.nkmk.me/python-os-mkdir-makedirs/)"
   ]
  },
  {
   "cell_type": "code",
   "execution_count": 7,
   "metadata": {},
   "outputs": [],
   "source": [
    "os.mkdir('./new-dir')"
   ]
  },
  {
   "cell_type": "code",
   "execution_count": 8,
   "metadata": {},
   "outputs": [],
   "source": [
    "os.makedirs('./new-dir/dep1/dep2/dep3')\n",
    "\n",
    "# os.mkdir('./new-dir/dep1/dep2/dep3') はエラー"
   ]
  },
  {
   "cell_type": "markdown",
   "metadata": {},
   "source": [
    "# ファイル・フォルダが存在しているか確かめる\n",
    "`os.path.exists` 関数を使います。"
   ]
  },
  {
   "cell_type": "code",
   "execution_count": 9,
   "metadata": {},
   "outputs": [
    {
     "data": {
      "text/plain": [
       "True"
      ]
     },
     "execution_count": 9,
     "metadata": {},
     "output_type": "execute_result"
    }
   ],
   "source": [
    "os.path.exists('new-dir')"
   ]
  },
  {
   "cell_type": "markdown",
   "metadata": {},
   "source": [
    "# cp: ファイルをコピーする\n",
    "cpやmvなどのコマンドは**shutil**モジュールによって提供されています。  \n",
    "cp *src* *dst*  は shutil.copy(*src*, *dst*) です。"
   ]
  },
  {
   "cell_type": "code",
   "execution_count": 10,
   "metadata": {},
   "outputs": [
    {
     "name": "stdout",
     "output_type": "stream",
     "text": [
      "['./mytext2.txt', './mytext1.txt']\n",
      "['./mytext2.txt', './mytext1.txt', './copied_mytext1.txt']\n"
     ]
    }
   ],
   "source": [
    "import shutil\n",
    "print(glob.glob(\"./*.txt\"))\n",
    "shutil.copy(\"mytext1.txt\", \"copied_mytext1.txt\")\n",
    "print(glob.glob(\"./*.txt\"))"
   ]
  },
  {
   "cell_type": "markdown",
   "metadata": {},
   "source": [
    "また、ディレクトリまるごとのコピー（cp -r）は、 shutil.copytree(*src*, *dst*) です。"
   ]
  },
  {
   "cell_type": "markdown",
   "metadata": {},
   "source": [
    "# mv: ファイルを移動する\n",
    "mv *src* *dst* は shutil.move(*src*,*dst*) です。rename もできます。"
   ]
  },
  {
   "cell_type": "code",
   "execution_count": 11,
   "metadata": {},
   "outputs": [
    {
     "name": "stdout",
     "output_type": "stream",
     "text": [
      "['./mytext2.txt', './mytext1.txt', './copied_mytext1.txt']\n",
      "['./mytext2.txt', './mytext1.txt', './moved_mytext1.txt']\n"
     ]
    }
   ],
   "source": [
    "print(glob.glob(\"./*.txt\"))\n",
    "shutil.move(\"copied_mytext1.txt\", \"moved_mytext1.txt\")\n",
    "print(glob.glob(\"./*.txt\"))"
   ]
  },
  {
   "cell_type": "markdown",
   "metadata": {},
   "source": [
    "# rm: ファイルを消去する\n",
    "rm *path* は os.remove(*path*) です。"
   ]
  },
  {
   "cell_type": "code",
   "execution_count": 12,
   "metadata": {},
   "outputs": [
    {
     "name": "stdout",
     "output_type": "stream",
     "text": [
      "['./mytext2.txt', './mytext1.txt', './moved_mytext1.txt']\n",
      "['./mytext2.txt', './mytext1.txt']\n"
     ]
    }
   ],
   "source": [
    "print(glob.glob(\"./*.txt\"))\n",
    "os.remove(\"moved_mytext1.txt\")\n",
    "print(glob.glob(\"./*.txt\"))"
   ]
  },
  {
   "cell_type": "markdown",
   "metadata": {},
   "source": [
    "# フォルダを削除する\n",
    "`os.rmdir()` 関数を使います。空でないとエラーが出ます。\n",
    "\n",
    "フォルダ内のファイルも丸ごと削除したいときは、 `shutil.rmtree()` 関数を使います。"
   ]
  },
  {
   "cell_type": "code",
   "execution_count": 13,
   "metadata": {},
   "outputs": [
    {
     "data": {
      "text/plain": [
       "False"
      ]
     },
     "execution_count": 13,
     "metadata": {},
     "output_type": "execute_result"
    }
   ],
   "source": [
    "os.rmdir('new-dir/dep1/dep2/dep3')\n",
    "os.path.exists('new-dir/dep1/dep2/dep3')"
   ]
  },
  {
   "cell_type": "code",
   "execution_count": 14,
   "metadata": {},
   "outputs": [],
   "source": [
    "shutil.rmtree('new-dir')"
   ]
  },
  {
   "cell_type": "markdown",
   "metadata": {},
   "source": [
    "# ファイル操作その他\n",
    "osのサブモジュール**path**は、パスの操作に便利な関数を提供しています。\n",
    "\n",
    "os.path.exists(*path*) *path*で表されるファイル・ディレクトリが存在していればTrue、存在していなければFalseを返す。  \n",
    "os.path.isdir(*path*) *path*がディレクトリならばTrue、ファイルやシンボリックリンクならばFalseを返す。  \n",
    "os.path.isfile(*path*) *path*がファイルならばTrue、ディレクトリやシンボリックリンクならばFalseを返す。"
   ]
  },
  {
   "cell_type": "code",
   "execution_count": 15,
   "metadata": {},
   "outputs": [
    {
     "name": "stdout",
     "output_type": "stream",
     "text": [
      "is_dir = True :  is_path = False\n",
      "is_dir = False :  is_path = True\n",
      "is_dir = False :  is_path = True\n",
      "is_dir = False :  is_path = True\n",
      "is_dir = True :  is_path = False\n",
      "is_dir = False :  is_path = True\n",
      "is_dir = False :  is_path = True\n"
     ]
    }
   ],
   "source": [
    "for file in glob.glob('./**', recursive=True)[:10]:\n",
    "    print(f'is_dir = {os.path.isdir(file)} :  is_path = {os.path.isfile(file)}')"
   ]
  },
  {
   "cell_type": "markdown",
   "metadata": {},
   "source": [
    "次の2つは、パスの文字列を場所+ファイル名に分割したり、拡張子を取り出すのに使えます。  \n",
    "*dir*, *file* = os.path.split(*path*) *path*のファイル等の場所を*dir*に、ファイル名を*file*に文字列として返す。  \n",
    "*root*, *ext* = os.path.splitext(*path*) *path*のファイル等の拡張子を*ext*に、拡張子の手前までを*root*に文字列として返す。"
   ]
  },
  {
   "cell_type": "markdown",
   "metadata": {},
   "source": [
    "# プロセスの実行 - シェルを呼ぶ場合\n",
    "上記のファイル操作コマンドだけでなく、Pythonからシェルを呼ぶことで任意のコマンドを実行することができます。\n",
    "\n",
    "`subprocess` モジュールを使いましょう( `os.system` は非推奨)。\n",
    "\n",
    "[subprocess.run - 公式ドキュメント](https://docs.python.org/ja/3/library/subprocess.html#subprocess.run) によると、基本的にPythonから子プロセスを実行する場合は、 `subprocess.run` **のみ**を使えば良いように作られているらしいです。\n",
    "\n",
    "試しに、　ディレクトリ構成をみやすく表示してくれる `tree` というプログラムを実行してみます。"
   ]
  },
  {
   "cell_type": "code",
   "execution_count": 16,
   "metadata": {},
   "outputs": [
    {
     "name": "stdout",
     "output_type": "stream",
     "text": [
      "\u001b[01;34m.\u001b[00m\r\n",
      "├── \u001b[01;34mchild-dir\u001b[00m\r\n",
      "│   └── childtext.txt\r\n",
      "├── mycsv1.csv\r\n",
      "├── mycsv2.csv\r\n",
      "├── mytext1.txt\r\n",
      "└── mytext2.txt\r\n",
      "\r\n",
      "1 directory, 5 files\r\n"
     ]
    }
   ],
   "source": [
    "# 表示例\n",
    "! tree -L 2 ."
   ]
  },
  {
   "cell_type": "markdown",
   "metadata": {},
   "source": [
    "これを `subprocess` モジュールを使って実行してみましょう。\n",
    "\n",
    "`subprocess.run` の引数には、空白で区切ったコマンドをリストで渡してあげます。"
   ]
  },
  {
   "cell_type": "code",
   "execution_count": 17,
   "metadata": {},
   "outputs": [
    {
     "name": "stdout",
     "output_type": "stream",
     "text": [
      ".\n",
      "├── child-dir\n",
      "│   └── childtext.txt\n",
      "├── mycsv1.csv\n",
      "├── mycsv2.csv\n",
      "├── mytext1.txt\n",
      "└── mytext2.txt\n",
      "\n",
      "1 directory, 5 files\n"
     ]
    },
    {
     "data": {
      "text/plain": [
       "CompletedProcess(args=['tree', '.', '-L', '2'], returncode=0)"
      ]
     },
     "execution_count": 17,
     "metadata": {},
     "output_type": "execute_result"
    }
   ],
   "source": [
    "import subprocess\n",
    "subprocess.run(['tree', '.', '-L', '2'])"
   ]
  },
  {
   "cell_type": "markdown",
   "metadata": {},
   "source": [
    "`CompletedProcess` というオブジェクトが返っており、 `returncode=0` つまりコマンドが正常終了したことがわかります。\n",
    "\n",
    "標準出力や標準エラーを受け取りたいときは、 `capture_output=True` をセットしてあげます。"
   ]
  },
  {
   "cell_type": "code",
   "execution_count": 18,
   "metadata": {},
   "outputs": [
    {
     "data": {
      "text/plain": [
       "CompletedProcess(args=['tree', '.', '-L', '2'], returncode=0, stdout=b'.\\n\\xe2\\x94\\x9c\\xe2\\x94\\x80\\xe2\\x94\\x80 child-dir\\n\\xe2\\x94\\x82\\xc2\\xa0\\xc2\\xa0 \\xe2\\x94\\x94\\xe2\\x94\\x80\\xe2\\x94\\x80 childtext.txt\\n\\xe2\\x94\\x9c\\xe2\\x94\\x80\\xe2\\x94\\x80 mycsv1.csv\\n\\xe2\\x94\\x9c\\xe2\\x94\\x80\\xe2\\x94\\x80 mycsv2.csv\\n\\xe2\\x94\\x9c\\xe2\\x94\\x80\\xe2\\x94\\x80 mytext1.txt\\n\\xe2\\x94\\x94\\xe2\\x94\\x80\\xe2\\x94\\x80 mytext2.txt\\n\\n1 directory, 5 files\\n', stderr=b'')"
      ]
     },
     "execution_count": 18,
     "metadata": {},
     "output_type": "execute_result"
    }
   ],
   "source": [
    "proc = subprocess.run(['tree', '.', '-L', '2'], capture_output=True)\n",
    "proc"
   ]
  },
  {
   "cell_type": "code",
   "execution_count": 19,
   "metadata": {},
   "outputs": [
    {
     "name": "stdout",
     "output_type": "stream",
     "text": [
      ".\n",
      "├── child-dir\n",
      "│   └── childtext.txt\n",
      "├── mycsv1.csv\n",
      "├── mycsv2.csv\n",
      "├── mytext1.txt\n",
      "└── mytext2.txt\n",
      "\n",
      "1 directory, 5 files\n",
      "\n"
     ]
    }
   ],
   "source": [
    "# proc.stdoutはバイナリなので decode してやると文字列に変換できる\n",
    "print(proc.stdout.decode('utf-8'))"
   ]
  },
  {
   "cell_type": "code",
   "execution_count": 20,
   "metadata": {},
   "outputs": [
    {
     "name": "stdout",
     "output_type": "stream",
     "text": [
      "tree: missing argument to -o option.\n",
      "\n"
     ]
    }
   ],
   "source": [
    "# あえてエラーを起こしてみる (tree に存在しないオプション -hoge を与えてみる)\n",
    "proc_failed = subprocess.run(['tree', '-hoge'], capture_output=True)\n",
    "print(proc_failed.stderr.decode('utf-8'))"
   ]
  },
  {
   "cell_type": "markdown",
   "metadata": {},
   "source": [
    "## コマンド実行結果の標準エラーもまとめて標準出力にする\n",
    "`stdout=PIPE` と `stderr=STDOUT` を `subprocess.run` に渡すと、エラーも標準出力と一緒に出力されます。 "
   ]
  },
  {
   "cell_type": "code",
   "execution_count": 21,
   "metadata": {},
   "outputs": [
    {
     "name": "stdout",
     "output_type": "stream",
     "text": [
      "tree: missing argument to -o option.\n",
      "\n"
     ]
    }
   ],
   "source": [
    "proc = subprocess.run(['tree', '-hoge'], stdout=subprocess.PIPE, stderr=subprocess.STDOUT)\n",
    "print(proc.stdout.decode('utf-8'))"
   ]
  },
  {
   "cell_type": "markdown",
   "metadata": {},
   "source": [
    "## コマンド実行結果をファイルに保存する"
   ]
  },
  {
   "cell_type": "code",
   "execution_count": 22,
   "metadata": {},
   "outputs": [
    {
     "name": "stdout",
     "output_type": "stream",
     "text": [
      ".\r\n",
      "├── child-dir\r\n",
      "│   └── childtext.txt\r\n",
      "├── mycsv1.csv\r\n",
      "├── mycsv2.csv\r\n",
      "├── mytext1.txt\r\n",
      "├── mytext2.txt\r\n",
      "└── result.txt\r\n",
      "\r\n",
      "1 directory, 6 files\r\n"
     ]
    }
   ],
   "source": [
    "# file objectをstdoutに渡す\n",
    "with open('result.txt', 'w') as fp:\n",
    "    proc = subprocess.run(['tree', '.', '-L', '2'], stdout=fp)\n",
    "\n",
    "! cat result.txt"
   ]
  },
  {
   "cell_type": "code",
   "execution_count": 23,
   "metadata": {},
   "outputs": [],
   "source": [
    "! rm result.txt"
   ]
  },
  {
   "cell_type": "markdown",
   "metadata": {},
   "source": [
    "# IPythonマジックコマンド\n",
    "Jupyter notebookやIPythonコンソールのみで使える非常に便利なマジックコマンドと呼ばれるものがあります。  \n",
    "`%`から始まるコマンド、例えば`%pwd`や`%cd`などです。実は、有名なコマンドはだいたい`%`がなくても実行できちゃいます。しかも、変数への代入もできるのでコマンドの結果を使ったプログラムを書くことができます。"
   ]
  },
  {
   "cell_type": "code",
   "execution_count": 24,
   "metadata": {},
   "outputs": [],
   "source": [
    "my_wd = %pwd\n",
    "\n",
    "# 他には　%cd　や %mkdir などがある"
   ]
  },
  {
   "cell_type": "markdown",
   "metadata": {},
   "source": [
    "# Jupyterからシェルのコマンドそのものを呼ぶ\n",
    "Jupyterからシェルのコマンドそのものを呼ぶこともできます。  \n",
    "`!` から始まる行は、`!`以降の文字列はJupyterが起動しているOSのシェルで実行されます。  \n",
    "コマンド実行によって標準出力に吐かれるログを変数に代入ができます。"
   ]
  },
  {
   "cell_type": "code",
   "execution_count": 25,
   "metadata": {},
   "outputs": [
    {
     "name": "stdout",
     "output_type": "stream",
     "text": [
      "/Users/zawawahoge/.asdf/shims/python\r\n"
     ]
    }
   ],
   "source": [
    "!which python"
   ]
  },
  {
   "cell_type": "markdown",
   "metadata": {},
   "source": [
    "ちなみに`which`コマンドはプログラムバイナリの位置を教えてくれるコマンドです。"
   ]
  },
  {
   "cell_type": "code",
   "execution_count": 26,
   "metadata": {},
   "outputs": [
    {
     "data": {
      "text/plain": [
       "['/Users/zawawahoge/.asdf/shims/python']"
      ]
     },
     "execution_count": 26,
     "metadata": {},
     "output_type": "execute_result"
    }
   ],
   "source": [
    "python_location = !which python\n",
    "python_location"
   ]
  },
  {
   "cell_type": "markdown",
   "metadata": {},
   "source": [
    "# 「!」コマンドにPython変数を埋め込む\n",
    "シェルコマンドにPythonの変数を埋め込みたい時ありませんか？実はこれもできます。Python変数の前に`$`をつけることで、シェルの変数のように扱えます。"
   ]
  },
  {
   "cell_type": "code",
   "execution_count": 27,
   "metadata": {},
   "outputs": [
    {
     "name": "stdout",
     "output_type": "stream",
     "text": [
      "\u001b[36mchild-dir\u001b[m\u001b[m   mycsv1.csv  mycsv2.csv  mytext1.txt mytext2.txt\r\n"
     ]
    }
   ],
   "source": [
    "!ls"
   ]
  },
  {
   "cell_type": "code",
   "execution_count": 28,
   "metadata": {},
   "outputs": [],
   "source": [
    "a = 'child-dir'"
   ]
  },
  {
   "cell_type": "code",
   "execution_count": 29,
   "metadata": {},
   "outputs": [
    {
     "name": "stdout",
     "output_type": "stream",
     "text": [
      "childtext.txt\r\n"
     ]
    }
   ],
   "source": [
    "!ls ./$a"
   ]
  },
  {
   "cell_type": "markdown",
   "metadata": {},
   "source": [
    "このコマンドはforループの中でも使えます。"
   ]
  },
  {
   "cell_type": "code",
   "execution_count": 30,
   "metadata": {},
   "outputs": [
    {
     "name": "stdout",
     "output_type": "stream",
     "text": [
      "['/Users/zawawahoge/.asdf/shims/python']\n",
      "['/usr/bin/ruby']\n",
      "['/usr/bin/java']\n"
     ]
    }
   ],
   "source": [
    "langs = ['python', 'ruby', 'java']\n",
    "for lang in langs:\n",
    "    path_bin = !which $lang\n",
    "    print(path_bin)"
   ]
  },
  {
   "cell_type": "markdown",
   "metadata": {},
   "source": [
    "ただし、`!`を使ったシェルの呼び出しはあなたの環境でしか動かない可能性があるので、他の人にプログラムを渡す場合は使ってはいけません。  \n",
    "**os**などの標準ライブラリは環境依存しないように作られているので、こちらを使うようにしましょう。"
   ]
  }
 ],
 "metadata": {
  "kernelspec": {
   "display_name": "Python 3 (ipykernel)",
   "language": "python",
   "name": "python3"
  },
  "language_info": {
   "codemirror_mode": {
    "name": "ipython",
    "version": 3
   },
   "file_extension": ".py",
   "mimetype": "text/x-python",
   "name": "python",
   "nbconvert_exporter": "python",
   "pygments_lexer": "ipython3",
   "version": "3.10.6"
  }
 },
 "nbformat": 4,
 "nbformat_minor": 2
}
