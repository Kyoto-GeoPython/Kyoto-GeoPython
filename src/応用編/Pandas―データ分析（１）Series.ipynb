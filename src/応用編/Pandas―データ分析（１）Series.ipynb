{
 "cells": [
  {
   "cell_type": "markdown",
   "metadata": {},
   "source": [
    "# Pandas　―　データ分析\n",
    "Pythonでのデータ解析の決定版とも言えるライブラリです。 特徴としては、\n",
    "- 時系列データを扱うことに長けている\n",
    "- numpy.ndarrayで実装されており、大量のデータでも高速に動作する\n",
    "- 「分離ー適用ー結合」という思想に基づいていて、複雑なデータ解析を可能にしている\n",
    "- 欠損値に対する処理を書かなくても大抵うまくやってくれる\n",
    "- データの列や行に名前をつけることができ、可読性が格段に上がる\n",
    "\n",
    "と言った感じです。  \n",
    "特に、可読性（コードの読みやすさ）の向上の恩恵はとても大きいものです。  \n",
    "NumPyでは、整数しかインデックスに使えませんが、Pandasでは文字列をキーとしてデータを操作できます。  "
   ]
  },
  {
   "cell_type": "code",
   "execution_count": 1,
   "metadata": {},
   "outputs": [],
   "source": [
    "import pandas as pd\n",
    "import matplotlib.pyplot as plt\n",
    "\n",
    "%matplotlib inline\n",
    "import numpy as np"
   ]
  },
  {
   "cell_type": "markdown",
   "metadata": {},
   "source": [
    "# Series\n",
    "Pandasの基本はSeriesとDataFrameですが、その内一列のデータ構造を表すSeriesをまず紹介します。  \n",
    "イメージとしては、Excelの縦に並んだ一列のデータを表すオブジェクトだと思ってもらうといいと思います。"
   ]
  },
  {
   "cell_type": "code",
   "execution_count": 2,
   "metadata": {},
   "outputs": [
    {
     "data": {
      "text/plain": [
       "a    1\n",
       "b    2\n",
       "c    3\n",
       "dtype: int64"
      ]
     },
     "execution_count": 2,
     "metadata": {},
     "output_type": "execute_result"
    }
   ],
   "source": [
    "# Seriesは配列を渡すとできる、内部ではndarrayを持っているのでdtypeがある\n",
    "sr = pd.Series([1, 2, 3], index=[\"a\", \"b\", \"c\"])\n",
    "sr"
   ]
  },
  {
   "cell_type": "code",
   "execution_count": 3,
   "metadata": {},
   "outputs": [
    {
     "data": {
      "text/plain": [
       "array([1, 2, 3])"
      ]
     },
     "execution_count": 3,
     "metadata": {},
     "output_type": "execute_result"
    }
   ],
   "source": [
    "# Series.valuesを見るといつでもndarrayに戻ってこれる\n",
    "sr.values"
   ]
  },
  {
   "cell_type": "code",
   "execution_count": 4,
   "metadata": {},
   "outputs": [
    {
     "data": {
      "text/plain": [
       "a    11\n",
       "b    12\n",
       "c    13\n",
       "dtype: int64"
      ]
     },
     "execution_count": 4,
     "metadata": {},
     "output_type": "execute_result"
    }
   ],
   "source": [
    "# Seriesとの演算はSeriesが返ってくる\n",
    "sr + 10"
   ]
  },
  {
   "cell_type": "code",
   "execution_count": 5,
   "metadata": {},
   "outputs": [
    {
     "data": {
      "text/plain": [
       "1"
      ]
     },
     "execution_count": 5,
     "metadata": {},
     "output_type": "execute_result"
    }
   ],
   "source": [
    "# インデックスを指定すると値を取り出せる\n",
    "sr[\"a\"]"
   ]
  },
  {
   "cell_type": "code",
   "execution_count": 6,
   "metadata": {},
   "outputs": [
    {
     "data": {
      "text/plain": [
       "a    1\n",
       "b    2\n",
       "dtype: int64"
      ]
     },
     "execution_count": 6,
     "metadata": {},
     "output_type": "execute_result"
    }
   ],
   "source": [
    "# NumPyで言うファンシーインデックスが使える\n",
    "sr[[\"a\", \"b\"]]"
   ]
  },
  {
   "cell_type": "code",
   "execution_count": 7,
   "metadata": {},
   "outputs": [
    {
     "data": {
      "text/plain": [
       "1"
      ]
     },
     "execution_count": 7,
     "metadata": {},
     "output_type": "execute_result"
    }
   ],
   "source": [
    "# このように呼び出すこともできる\n",
    "sr.a"
   ]
  },
  {
   "cell_type": "code",
   "execution_count": 8,
   "metadata": {},
   "outputs": [
    {
     "data": {
      "text/plain": [
       "a    0.944061\n",
       "b    0.552352\n",
       "c    0.537724\n",
       "d    0.243601\n",
       "e    0.142049\n",
       "f    0.062852\n",
       "g    0.050503\n",
       "h    0.382466\n",
       "Name: random, dtype: float64"
      ]
     },
     "execution_count": 8,
     "metadata": {},
     "output_type": "execute_result"
    }
   ],
   "source": [
    "# Seriesにnameとindexを付ける\n",
    "sr = pd.Series(np.random.rand(8), name=\"random\", index=list(\"abcdefgh\"))\n",
    "sr"
   ]
  },
  {
   "cell_type": "code",
   "execution_count": 9,
   "metadata": {},
   "outputs": [
    {
     "data": {
      "text/plain": [
       "0    0.100830\n",
       "1    0.864965\n",
       "2    0.138075\n",
       "3    0.208757\n",
       "4    0.088073\n",
       "5    0.036091\n",
       "6    0.497169\n",
       "7    0.826876\n",
       "dtype: float64"
      ]
     },
     "execution_count": 9,
     "metadata": {},
     "output_type": "execute_result"
    }
   ],
   "source": [
    "# indexを明示的に与えない場合0, 1, 2,...と割り振られる\n",
    "sr = pd.Series(np.random.rand(8))\n",
    "sr"
   ]
  },
  {
   "cell_type": "code",
   "execution_count": 10,
   "metadata": {},
   "outputs": [
    {
     "data": {
      "text/plain": [
       "(2.7608362872673546, 0.34510453590841933)"
      ]
     },
     "execution_count": 10,
     "metadata": {},
     "output_type": "execute_result"
    }
   ],
   "source": [
    "# 統計計算は当然持っている（合計、平均）\n",
    "sr.sum(), sr.mean()"
   ]
  },
  {
   "cell_type": "code",
   "execution_count": 11,
   "metadata": {},
   "outputs": [
    {
     "data": {
      "image/png": "[encoded data removed]",
      "text/plain": [
       "<Figure size 640x480 with 1 Axes>"
      ]
     },
     "metadata": {},
     "output_type": "display_data"
    }
   ],
   "source": [
    "# プロット\n",
    "sr.plot()\n",
    "plt.xlabel(\"index\")\n",
    "plt.ylabel(\"value\")\n",
    "plt.show()"
   ]
  },
  {
   "cell_type": "code",
   "execution_count": 12,
   "metadata": {},
   "outputs": [
    {
     "data": {
      "text/plain": [
       "0     True\n",
       "1    False\n",
       "2     True\n",
       "3     True\n",
       "4     True\n",
       "5     True\n",
       "6     True\n",
       "7    False\n",
       "dtype: bool"
      ]
     },
     "execution_count": 12,
     "metadata": {},
     "output_type": "execute_result"
    }
   ],
   "source": [
    "# Seriesに対しての演算はSeriesで返ってくる\n",
    "sr < 0.5"
   ]
  },
  {
   "cell_type": "code",
   "execution_count": 13,
   "metadata": {},
   "outputs": [
    {
     "data": {
      "text/plain": [
       "0    0.100830\n",
       "2    0.138075\n",
       "3    0.208757\n",
       "4    0.088073\n",
       "5    0.036091\n",
       "6    0.497169\n",
       "dtype: float64"
      ]
     },
     "execution_count": 13,
     "metadata": {},
     "output_type": "execute_result"
    }
   ],
   "source": [
    "# bool型のSeriesをインデックスにすることで、Trueのものだけを抜き出せる\n",
    "sr[sr < 0.5]"
   ]
  },
  {
   "cell_type": "code",
   "execution_count": 14,
   "metadata": {},
   "outputs": [
    {
     "data": {
      "text/plain": [
       "2017-01-01 00:00:00+09:00    0.554398\n",
       "2017-01-02 00:00:00+09:00   -0.842455\n",
       "2017-01-03 00:00:00+09:00   -1.167190\n",
       "2017-01-04 00:00:00+09:00   -0.164714\n",
       "2017-01-05 00:00:00+09:00    0.427509\n",
       "2017-01-06 00:00:00+09:00    0.387356\n",
       "2017-01-07 00:00:00+09:00    0.851266\n",
       "2017-01-08 00:00:00+09:00    0.988950\n",
       "2017-01-09 00:00:00+09:00    1.450497\n",
       "2017-01-10 00:00:00+09:00   -2.528746\n",
       "Freq: D, dtype: float64"
      ]
     },
     "execution_count": 14,
     "metadata": {},
     "output_type": "execute_result"
    }
   ],
   "source": [
    "# indexを日付などにすると時系列が表現できる\n",
    "sr_time = pd.Series(np.random.randn(10), index=pd.date_range(\"2017/1/1\",\"2017/1/10\", tz=\"Asia/Tokyo\"))\n",
    "sr_time"
   ]
  },
  {
   "cell_type": "code",
   "execution_count": 15,
   "metadata": {},
   "outputs": [
    {
     "data": {
      "text/plain": [
       "DatetimeIndex(['2017-01-01 00:00:00', '2017-01-01 00:00:01',\n",
       "               '2017-01-01 00:00:02', '2017-01-01 00:00:03',\n",
       "               '2017-01-01 00:00:04', '2017-01-01 00:00:05',\n",
       "               '2017-01-01 00:00:06', '2017-01-01 00:00:07',\n",
       "               '2017-01-01 00:00:08', '2017-01-01 00:00:09',\n",
       "               ...\n",
       "               '2017-01-01 09:59:51', '2017-01-01 09:59:52',\n",
       "               '2017-01-01 09:59:53', '2017-01-01 09:59:54',\n",
       "               '2017-01-01 09:59:55', '2017-01-01 09:59:56',\n",
       "               '2017-01-01 09:59:57', '2017-01-01 09:59:58',\n",
       "               '2017-01-01 09:59:59', '2017-01-01 10:00:00'],\n",
       "              dtype='datetime64[ns]', length=36001, freq='S')"
      ]
     },
     "execution_count": 15,
     "metadata": {},
     "output_type": "execute_result"
    }
   ],
   "source": [
    "# pandasには日付や期間を表すオブジェクトが充実している（これは1秒ごとのインデックスを作ったもの）\n",
    "pd.date_range(\"2017/1/1/0:0\", \"2017/1/1/10:00\", freq=\"S\")"
   ]
  },
  {
   "cell_type": "code",
   "execution_count": 16,
   "metadata": {
    "scrolled": false
   },
   "outputs": [
    {
     "data": {
      "text/plain": [
       "2017-01-05 00:00:00+09:00    0.427509\n",
       "2017-01-06 00:00:00+09:00    0.387356\n",
       "2017-01-07 00:00:00+09:00    0.851266\n",
       "2017-01-08 00:00:00+09:00    0.988950\n",
       "2017-01-09 00:00:00+09:00    1.450497\n",
       "2017-01-10 00:00:00+09:00   -2.528746\n",
       "Freq: D, dtype: float64"
      ]
     },
     "execution_count": 16,
     "metadata": {},
     "output_type": "execute_result"
    }
   ],
   "source": [
    "# スライスと同じ記法で日付の範囲を抜き出せる\n",
    "sr_time[\"2017/1/5\":]"
   ]
  },
  {
   "cell_type": "code",
   "execution_count": 17,
   "metadata": {},
   "outputs": [
    {
     "data": {
      "text/plain": [
       "<AxesSubplot:>"
      ]
     },
     "execution_count": 17,
     "metadata": {},
     "output_type": "execute_result"
    },
    {
     "data": {
      "image/png": "[encoded data removed]",
      "text/plain": [
       "<Figure size 640x480 with 1 Axes>"
      ]
     },
     "metadata": {},
     "output_type": "display_data"
    }
   ],
   "source": [
    "sr_time.plot()"
   ]
  },
  {
   "cell_type": "markdown",
   "metadata": {},
   "source": [
    "### 欠損値を含む場合\n",
    "デフォルトだと、平均などは欠損値を覗いて計算されます。  \n",
    "データが汚い場合でも、データの整理に時間を取られず、本当にやりたい解析に集中することが出来ます。"
   ]
  },
  {
   "cell_type": "code",
   "execution_count": 18,
   "metadata": {},
   "outputs": [
    {
     "data": {
      "text/plain": [
       "0    1.0\n",
       "1    0.7\n",
       "2    NaN\n",
       "3    3.9\n",
       "4   -0.4\n",
       "dtype: float64"
      ]
     },
     "execution_count": 18,
     "metadata": {},
     "output_type": "execute_result"
    }
   ],
   "source": [
    "# ３つ目に欠損値「None」、numpy.nanに変換され、dtypeはfloatとして扱える\n",
    "sr = pd.Series([1.0, 0.7, None, 3.9, -0.4])\n",
    "sr"
   ]
  },
  {
   "cell_type": "code",
   "execution_count": 19,
   "metadata": {},
   "outputs": [
    {
     "data": {
      "text/plain": [
       "1.2999999999999998"
      ]
     },
     "execution_count": 19,
     "metadata": {},
     "output_type": "execute_result"
    }
   ],
   "source": [
    "# 平均は欠損値を除いて計算されている（大抵の場合、理想的な処理）\n",
    "sr.mean()"
   ]
  },
  {
   "cell_type": "code",
   "execution_count": 20,
   "metadata": {},
   "outputs": [
    {
     "data": {
      "text/plain": [
       "0    1.0\n",
       "1    0.7\n",
       "2    0.0\n",
       "3    3.9\n",
       "4   -0.4\n",
       "dtype: float64"
      ]
     },
     "execution_count": 20,
     "metadata": {},
     "output_type": "execute_result"
    }
   ],
   "source": [
    "# NaNを0で埋める処理\n",
    "sr.fillna(0.)"
   ]
  }
 ],
 "metadata": {
  "anaconda-cloud": {},
  "kernelspec": {
   "display_name": "Python 3 (ipykernel)",
   "language": "python",
   "name": "python3"
  },
  "language_info": {
   "codemirror_mode": {
    "name": "ipython",
    "version": 3
   },
   "file_extension": ".py",
   "mimetype": "text/x-python",
   "name": "python",
   "nbconvert_exporter": "python",
   "pygments_lexer": "ipython3",
   "version": "3.10.6"
  }
 },
 "nbformat": 4,
 "nbformat_minor": 2
}
