{
 "cells": [
  {
   "cell_type": "markdown",
   "metadata": {},
   "source": [
    "# SymPy の応用例：二重振り子\n",
    "SymPyとNumPyの組み合わせが強力であることを示す例として、二重振り子を数値計算で解くということを試みます。  \n",
    "もちろん普通に解いてもしょうがないので、座標設定からラグランジアン、そして運動方程式をシンボリックに求め、最後に数値計算することにします。\n",
    "\n",
    "[解析力学(Wikipedia)](https://ja.wikipedia.org/wiki/%E8%A7%A3%E6%9E%90%E5%8A%9B%E5%AD%A6) の知識が必要ですが、コメントで補足しながら進めます。\n",
    "\n",
    "## モデル設定\n",
    "水平にx軸、鉛直上向きにy軸があり、y軸負方向に重力がかかっています。  \n",
    "また、原点から長さ$r_1$の棒の先に１つ目の質点がついていて、そこから長さ$r_2$の棒で２つ目の質点がつながっているとします。  \n",
    "それぞれの棒がy軸とのなす角をそれぞれ$\\theta_1, \\theta_2$とします。\n",
    "\n",
    "二つの質点の質量をそれぞれ $m_1, m_2$ とします。\n",
    "\n",
    "<img src=\"double_pendulum_model.png\" width=500>"
   ]
  },
  {
   "cell_type": "markdown",
   "metadata": {},
   "source": [
    "## ゴールの確認\n",
    "\n",
    "二重振り子の運動方程式は、最終的には時刻 $t$ についての連立2階線形微分方程式になります。\n",
    "\n",
    "今回は、極座標表現を用いるので、質点の（角度の）加速度 $\\ddot{\\theta_1}, \\ddot{\\theta_2}$についての微分方程式が得られれば、数値計算することができます。\n",
    "\n",
    "$$\\ddot{\\theta_1} = f_1 (\\theta_1, \\dot{\\theta_1}, \\theta_2, \\dot{\\theta_2})$$\n",
    "$$\\ddot{\\theta_2} = f_2 (\\theta_1, \\dot{\\theta_1}, \\theta_2, \\dot{\\theta_2})$$\n",
    "\n",
    "$f_1, f_2$ の具体的な形を求めにいきましょう。"
   ]
  },
  {
   "cell_type": "code",
   "execution_count": 1,
   "metadata": {},
   "outputs": [],
   "source": [
    "# 準備\n",
    "import sympy as sy\n",
    "sy.init_printing()\n",
    "\n",
    "import numpy as np\n",
    "import matplotlib.pyplot as plt\n",
    "%matplotlib inline"
   ]
  },
  {
   "cell_type": "markdown",
   "metadata": {},
   "source": [
    "時刻を表す $t$ や、質点ごとの棒の長さを表す $r_1, r_2$ 、 質量を表す $m_1, m_2$ 、重力加速度を表す $g$ を定義します。\n",
    "\n",
    "$\\theta_1, \\theta_2$ は $t$ の関数 $\\theta_1(t), \\theta_2(t)$として扱います。\n",
    "\n",
    "$\\dot{\\theta_1} \\dot{\\theta_2}$ は $\\theta_1, \\theta_2$ の時間微分です。\n"
   ]
  },
  {
   "cell_type": "code",
   "execution_count": 2,
   "metadata": {},
   "outputs": [],
   "source": [
    "# 変数と関数を定義\n",
    "t = sy.Symbol(\"t\", real=True)\n",
    "r1, r2, m1, m2, g = sy.symbols(r\"r_1 r_2 m_1 m_2 g\", positive=True)\n",
    "theta1 = sy.Function(r\"\\theta_1\")(t)\n",
    "theta2 = sy.Function(r\"\\theta_2\")(t)\n",
    "theta1_dot, theta2_dot = sy.symbols(r\"\\dot{\\theta_1} \\dot{\\theta_2}\")"
   ]
  },
  {
   "cell_type": "markdown",
   "metadata": {},
   "source": [
    "質点1 は原点を中心とする半径 $r_1$ の円上を動きます。\n",
    "\n",
    "y 軸とのなす角である $\\theta_1$ を使うことで、 $(x_1, y_1)$ 座標は以下のように表せます。"
   ]
  },
  {
   "cell_type": "code",
   "execution_count": 3,
   "metadata": {},
   "outputs": [
    {
     "data": {
      "text/latex": [
       "$\\displaystyle \\left( \\left[\\begin{matrix}r_{1} \\sin{\\left(\\theta_{1}{\\left(t \\right)} \\right)}\\\\- r_{1} \\cos{\\left(\\theta_{1}{\\left(t \\right)} \\right)}\\end{matrix}\\right], \\  \\left[\\begin{matrix}r_{1} \\cos{\\left(\\theta_{1}{\\left(t \\right)} \\right)} \\frac{d}{d t} \\theta_{1}{\\left(t \\right)}\\\\r_{1} \\sin{\\left(\\theta_{1}{\\left(t \\right)} \\right)} \\frac{d}{d t} \\theta_{1}{\\left(t \\right)}\\end{matrix}\\right]\\right)$"
      ],
      "text/plain": [
       "⎛                       ⎡                   d             ⎤⎞\n",
       "⎜                       ⎢r₁⋅cos(\\theta₁(t))⋅──(\\theta₁(t))⎥⎟\n",
       "⎜⎡r₁⋅sin(\\theta₁(t)) ⎤  ⎢                   dt            ⎥⎟\n",
       "⎜⎢                   ⎥, ⎢                                 ⎥⎟\n",
       "⎜⎣-r₁⋅cos(\\theta₁(t))⎦  ⎢                   d             ⎥⎟\n",
       "⎜                       ⎢r₁⋅sin(\\theta₁(t))⋅──(\\theta₁(t))⎥⎟\n",
       "⎝                       ⎣                   dt            ⎦⎠"
      ]
     },
     "execution_count": 3,
     "metadata": {},
     "output_type": "execute_result"
    }
   ],
   "source": [
    "# 質点１の位置と速度\n",
    "x1 = sy.Matrix([r1 * sy.sin(theta1), - r1 * sy.cos(theta1)])\n",
    "v1 = x1.diff(t)\n",
    "x1, v1"
   ]
  },
  {
   "cell_type": "markdown",
   "metadata": {},
   "source": [
    "質点2 は質点1を中心とする半径 $r_2$ の円上を動きます。\n",
    "\n",
    "y 軸とのなす角である $\\theta_2$ を使うことで、 $(x_2, y_2)$ 座標は以下のように表せます。"
   ]
  },
  {
   "cell_type": "code",
   "execution_count": 4,
   "metadata": {},
   "outputs": [
    {
     "data": {
      "text/latex": [
       "$\\displaystyle \\left( \\left[\\begin{matrix}r_{1} \\sin{\\left(\\theta_{1}{\\left(t \\right)} \\right)} + r_{2} \\sin{\\left(\\theta_{2}{\\left(t \\right)} \\right)}\\\\- r_{1} \\cos{\\left(\\theta_{1}{\\left(t \\right)} \\right)} - r_{2} \\cos{\\left(\\theta_{2}{\\left(t \\right)} \\right)}\\end{matrix}\\right], \\  \\left[\\begin{matrix}r_{1} \\cos{\\left(\\theta_{1}{\\left(t \\right)} \\right)} \\frac{d}{d t} \\theta_{1}{\\left(t \\right)} + r_{2} \\cos{\\left(\\theta_{2}{\\left(t \\right)} \\right)} \\frac{d}{d t} \\theta_{2}{\\left(t \\right)}\\\\r_{1} \\sin{\\left(\\theta_{1}{\\left(t \\right)} \\right)} \\frac{d}{d t} \\theta_{1}{\\left(t \\right)} + r_{2} \\sin{\\left(\\theta_{2}{\\left(t \\right)} \\right)} \\frac{d}{d t} \\theta_{2}{\\left(t \\right)}\\end{matrix}\\right]\\right)$"
      ],
      "text/plain": [
       "⎛                                            ⎡                   d                                   d             ⎤⎞\n",
       "⎜                                            ⎢r₁⋅cos(\\theta₁(t))⋅──(\\theta₁(t)) + r₂⋅cos(\\theta₂(t))⋅──(\\theta₂(t))⎥⎟\n",
       "⎜⎡r₁⋅sin(\\theta₁(t)) + r₂⋅sin(\\theta₂(t)) ⎤  ⎢                   dt                                  dt            ⎥⎟\n",
       "⎜⎢                                        ⎥, ⎢                                                                     ⎥⎟\n",
       "⎜⎣-r₁⋅cos(\\theta₁(t)) - r₂⋅cos(\\theta₂(t))⎦  ⎢                   d                                   d             ⎥⎟\n",
       "⎜                                            ⎢r₁⋅sin(\\theta₁(t))⋅──(\\theta₁(t)) + r₂⋅sin(\\theta₂(t))⋅──(\\theta₂(t))⎥⎟\n",
       "⎝                                            ⎣                   dt                                  dt            ⎦⎠"
      ]
     },
     "execution_count": 4,
     "metadata": {},
     "output_type": "execute_result"
    }
   ],
   "source": [
    "# 質点２の位置と速度\n",
    "x2 = x1 + sy.Matrix([r2 * sy.sin(theta2), - r2 * sy.cos(theta2)])\n",
    "v2 = x2.diff(t)\n",
    "x2, v2"
   ]
  },
  {
   "cell_type": "markdown",
   "metadata": {},
   "source": [
    "運動エネルギーを $T$、 ポテンシャルエネルギーを $V$ とすると、ラグランジアンは $L = T - V$ と表せます。"
   ]
  },
  {
   "cell_type": "markdown",
   "metadata": {},
   "source": [
    "ラグランジアンを求めるため、運動エネルギーを求めましょう。\n",
    "\n",
    "高校物理でやるように、運動エネルギーは $T = \\frac{mv^2}{2}$ です。それをそのまま入れると計算できます。"
   ]
  },
  {
   "cell_type": "code",
   "execution_count": 5,
   "metadata": {},
   "outputs": [
    {
     "data": {
      "image/png": "[encoded data removed]",
      "text/latex": [
       "$\\displaystyle \\left( \\frac{m_{1} r_{1}^{2} \\left(\\frac{d}{d t} \\theta_{1}{\\left(t \\right)}\\right)^{2}}{2}, \\  \\frac{m_{2} \\left(r_{1}^{2} \\left(\\frac{d}{d t} \\theta_{1}{\\left(t \\right)}\\right)^{2} + 2 r_{1} r_{2} \\cos{\\left(\\theta_{1}{\\left(t \\right)} - \\theta_{2}{\\left(t \\right)} \\right)} \\frac{d}{d t} \\theta_{1}{\\left(t \\right)} \\frac{d}{d t} \\theta_{2}{\\left(t \\right)} + r_{2}^{2} \\left(\\frac{d}{d t} \\theta_{2}{\\left(t \\right)}\\right)^{2}\\right)}{2}\\right)$"
      ],
      "text/plain": [
       "⎛                       2     ⎛                    2                                                                                            2⎞⎞\n",
       "⎜     2 ⎛d             ⎞      ⎜  2 ⎛d             ⎞                                         d              d                  2 ⎛d             ⎞ ⎟⎟\n",
       "⎜m₁⋅r₁ ⋅⎜──(\\theta₁(t))⎟   m₂⋅⎜r₁ ⋅⎜──(\\theta₁(t))⎟  + 2⋅r₁⋅r₂⋅cos(\\theta₁(t) - \\theta₂(t))⋅──(\\theta₁(t))⋅──(\\theta₂(t)) + r₂ ⋅⎜──(\\theta₂(t))⎟ ⎟⎟\n",
       "⎜       ⎝dt            ⎠      ⎝    ⎝dt            ⎠                                         dt             dt                   ⎝dt            ⎠ ⎠⎟\n",
       "⎜────────────────────────, ───────────────────────────────────────────────────────────────────────────────────────────────────────────────────────⎟\n",
       "⎝           2                                                                         2                                                           ⎠"
      ]
     },
     "execution_count": 5,
     "metadata": {},
     "output_type": "execute_result"
    }
   ],
   "source": [
    "# 運動エネルギー\n",
    "T1 = (m1 * (v1[0]**2 + v1[1]**2) / 2).simplify()\n",
    "T2 = (m2 * (v2[0]**2 + v2[1]**2) / 2).simplify()\n",
    "T1, T2"
   ]
  },
  {
   "cell_type": "markdown",
   "metadata": {},
   "source": [
    "つづいて、ポテンシャルエネルギーを求めましょう。\n",
    "\n",
    "$V = mgh$ です。今、 `x1` がベクトルを表し、 y 座標が `x1[1]` となります（ちょっとややこしいので注意..）。"
   ]
  },
  {
   "cell_type": "code",
   "execution_count": 6,
   "metadata": {},
   "outputs": [
    {
     "data": {
      "image/png": "[encoded data removed]",
      "text/latex": [
       "$\\displaystyle \\left( - g m_{1} r_{1} \\cos{\\left(\\theta_{1}{\\left(t \\right)} \\right)}, \\  g m_{2} \\left(- r_{1} \\cos{\\left(\\theta_{1}{\\left(t \\right)} \\right)} - r_{2} \\cos{\\left(\\theta_{2}{\\left(t \\right)} \\right)}\\right)\\right)$"
      ],
      "text/plain": [
       "(-g⋅m₁⋅r₁⋅cos(\\theta₁(t)), g⋅m₂⋅(-r₁⋅cos(\\theta₁(t)) - r₂⋅cos(\\theta₂(t))))"
      ]
     },
     "execution_count": 6,
     "metadata": {},
     "output_type": "execute_result"
    }
   ],
   "source": [
    "# ポテンシャル\n",
    "V1 = m1 * g * x1[1]\n",
    "V2 = m2 * g * x2[1]\n",
    "V1, V2"
   ]
  },
  {
   "cell_type": "markdown",
   "metadata": {},
   "source": [
    "運動エネルギーとポテンシャルが求まったので、ラグランジアン $L(\\theta_1, \\theta_2, \\dot{\\theta_1}, \\dot{\\theta_2})$ を得ることができます。\n",
    "\n",
    "系全体のラグランジアンは、質点1, 質点2 のものを足し合わせることで得ることができます。\n",
    "\n",
    "つまり、系のラグランジアン $L$ は、\n",
    "$$L = L_1 + L_2 = (T_1 - V_1) + (T_2 - V_2) = T_1 + T_2 - V_1 - V_2$$\n",
    "\n",
    "ということになります。"
   ]
  },
  {
   "cell_type": "code",
   "execution_count": 7,
   "metadata": {},
   "outputs": [
    {
     "data": {
      "image/png": "[encoded data removed]",
      "text/latex": [
       "$\\displaystyle g m_{1} r_{1} \\cos{\\left(\\theta_{1}{\\left(t \\right)} \\right)} - g m_{2} \\left(- r_{1} \\cos{\\left(\\theta_{1}{\\left(t \\right)} \\right)} - r_{2} \\cos{\\left(\\theta_{2}{\\left(t \\right)} \\right)}\\right) + \\frac{m_{1} r_{1}^{2} \\left(\\frac{d}{d t} \\theta_{1}{\\left(t \\right)}\\right)^{2}}{2} + \\frac{m_{2} \\left(r_{1}^{2} \\left(\\frac{d}{d t} \\theta_{1}{\\left(t \\right)}\\right)^{2} + 2 r_{1} r_{2} \\cos{\\left(\\theta_{1}{\\left(t \\right)} - \\theta_{2}{\\left(t \\right)} \\right)} \\frac{d}{d t} \\theta_{1}{\\left(t \\right)} \\frac{d}{d t} \\theta_{2}{\\left(t \\right)} + r_{2}^{2} \\left(\\frac{d}{d t} \\theta_{2}{\\left(t \\right)}\\right)^{2}\\right)}{2}$"
      ],
      "text/plain": [
       "                                                                                                   2      ⎛                    2                                           \n",
       "                                                                                 2 ⎛d             ⎞       ⎜  2 ⎛d             ⎞                                         d  \n",
       "                                                                            m₁⋅r₁ ⋅⎜──(\\theta₁(t))⎟    m₂⋅⎜r₁ ⋅⎜──(\\theta₁(t))⎟  + 2⋅r₁⋅r₂⋅cos(\\theta₁(t) - \\theta₂(t))⋅──(\n",
       "                                                                                   ⎝dt            ⎠       ⎝    ⎝dt            ⎠                                         dt \n",
       "g⋅m₁⋅r₁⋅cos(\\theta₁(t)) - g⋅m₂⋅(-r₁⋅cos(\\theta₁(t)) - r₂⋅cos(\\theta₂(t))) + ──────────────────────── + ────────────────────────────────────────────────────────────────────\n",
       "                                                                                       2                                                                          2        \n",
       "\n",
       "                                                 2⎞\n",
       "            d                  2 ⎛d             ⎞ ⎟\n",
       "\\theta₁(t))⋅──(\\theta₂(t)) + r₂ ⋅⎜──(\\theta₂(t))⎟ ⎟\n",
       "            dt                   ⎝dt            ⎠ ⎠\n",
       "───────────────────────────────────────────────────\n",
       "                                                   "
      ]
     },
     "execution_count": 7,
     "metadata": {},
     "output_type": "execute_result"
    }
   ],
   "source": [
    "L = T1 + T2 - V1 - V2\n",
    "L"
   ]
  },
  {
   "cell_type": "markdown",
   "metadata": {},
   "source": [
    "だんだん結果は複雑になってきましたが、人間側は相当楽をしています。  \n",
    "\n",
    "## ラグランジアンから運動方程式を導出する\n",
    "\n",
    "なぜラグランジアンを求めたかというと、ラグランジアンを使うと、運動方程式が（形式的には）簡単に求められるからです。\n",
    "\n",
    "ラグランジアンをある座標表現を表現し、それをラグランジュ方程式に突っ込めば、自動的にその座標系での運動方程式が導出されます。\n",
    "\n",
    "$$\\frac{d}{dt} \\frac{\\partial L}{\\partial \\dot{\\theta_1}}=\\frac{\\partial L}{\\partial \\theta_1}$$\n",
    "$$\\frac{d}{dt} \\frac{\\partial L}{\\partial \\dot{\\theta_2}}=\\frac{\\partial L}{\\partial \\theta_2}$$\n",
    "\n",
    "ここでは、 $(\\theta_1, \\theta_2, \\dot{\\theta_1}, \\dot{\\theta_2})$ という座標系でのラグランジアンということになります。"
   ]
  },
  {
   "cell_type": "markdown",
   "metadata": {},
   "source": [
    "質点1 に対応する運動方程式は、一つ目のラグランジュ方程式から導出できます。"
   ]
  },
  {
   "cell_type": "code",
   "execution_count": 8,
   "metadata": {},
   "outputs": [
    {
     "data": {
      "image/png": "[encoded data removed]",
      "text/latex": [
       "$\\displaystyle m_{1} r_{1}^{2} \\frac{d^{2}}{d t^{2}} \\theta_{1}{\\left(t \\right)} + \\frac{m_{2} \\cdot \\left(2 r_{1}^{2} \\frac{d^{2}}{d t^{2}} \\theta_{1}{\\left(t \\right)} - 2 r_{1} r_{2} \\left(\\frac{d}{d t} \\theta_{1}{\\left(t \\right)} - \\frac{d}{d t} \\theta_{2}{\\left(t \\right)}\\right) \\sin{\\left(\\theta_{1}{\\left(t \\right)} - \\theta_{2}{\\left(t \\right)} \\right)} \\frac{d}{d t} \\theta_{2}{\\left(t \\right)} + 2 r_{1} r_{2} \\cos{\\left(\\theta_{1}{\\left(t \\right)} - \\theta_{2}{\\left(t \\right)} \\right)} \\frac{d^{2}}{d t^{2}} \\theta_{2}{\\left(t \\right)}\\right)}{2} = - g m_{1} r_{1} \\sin{\\left(\\theta_{1}{\\left(t \\right)} \\right)} - g m_{2} r_{1} \\sin{\\left(\\theta_{1}{\\left(t \\right)} \\right)} - m_{2} r_{1} r_{2} \\sin{\\left(\\theta_{1}{\\left(t \\right)} - \\theta_{2}{\\left(t \\right)} \\right)} \\frac{d}{d t} \\theta_{1}{\\left(t \\right)} \\frac{d}{d t} \\theta_{2}{\\left(t \\right)}$"
      ],
      "text/plain": [
       "                            ⎛        2                                                                                                                                     \n",
       "                            ⎜    2  d                        ⎛d                d             ⎞                              d                                              \n",
       "                         m₂⋅⎜2⋅r₁ ⋅───(\\theta₁(t)) - 2⋅r₁⋅r₂⋅⎜──(\\theta₁(t)) - ──(\\theta₂(t))⎟⋅sin(\\theta₁(t) - \\theta₂(t))⋅──(\\theta₂(t)) + 2⋅r₁⋅r₂⋅cos(\\theta₁(t) - \\thet\n",
       "         2                  ⎜        2                       ⎝dt               dt            ⎠                              dt                                             \n",
       "     2  d                   ⎝      dt                                                                                                                                      \n",
       "m₁⋅r₁ ⋅───(\\theta₁(t)) + ──────────────────────────────────────────────────────────────────────────────────────────────────────────────────────────────────────────────────\n",
       "         2                                                                                                   2                                                             \n",
       "       dt                                                                                                                                                                  \n",
       "\n",
       "         2            ⎞                                                                                                                           \n",
       "        d             ⎟                                                                                                                           \n",
       "a₂(t))⋅───(\\theta₂(t))⎟                                                                                                                           \n",
       "         2            ⎟                                                                                                                           \n",
       "       dt             ⎠                                                                                              d              d             \n",
       "─────────────────────── = -g⋅m₁⋅r₁⋅sin(\\theta₁(t)) - g⋅m₂⋅r₁⋅sin(\\theta₁(t)) - m₂⋅r₁⋅r₂⋅sin(\\theta₁(t) - \\theta₂(t))⋅──(\\theta₁(t))⋅──(\\theta₂(t))\n",
       "                                                                                                                     dt             dt            \n",
       "                                                                                                                                                  "
      ]
     },
     "execution_count": 8,
     "metadata": {},
     "output_type": "execute_result"
    }
   ],
   "source": [
    "# 質点１の運動方程式\n",
    "EOM_1 = sy.Eq(L.diff(theta1.diff(t)).diff(t), L.diff(theta1)) \n",
    "EOM_1"
   ]
  },
  {
   "cell_type": "markdown",
   "metadata": {},
   "source": [
    "質点2 に対応する運動方程式は、二つ目のラグランジュ方程式から導出できます。"
   ]
  },
  {
   "cell_type": "code",
   "execution_count": 9,
   "metadata": {},
   "outputs": [
    {
     "data": {
      "image/png": "[encoded data removed]",
      "text/latex": [
       "$\\displaystyle \\frac{m_{2} \\left(- 2 r_{1} r_{2} \\left(\\frac{d}{d t} \\theta_{1}{\\left(t \\right)} - \\frac{d}{d t} \\theta_{2}{\\left(t \\right)}\\right) \\sin{\\left(\\theta_{1}{\\left(t \\right)} - \\theta_{2}{\\left(t \\right)} \\right)} \\frac{d}{d t} \\theta_{1}{\\left(t \\right)} + 2 r_{1} r_{2} \\cos{\\left(\\theta_{1}{\\left(t \\right)} - \\theta_{2}{\\left(t \\right)} \\right)} \\frac{d^{2}}{d t^{2}} \\theta_{1}{\\left(t \\right)} + 2 r_{2}^{2} \\frac{d^{2}}{d t^{2}} \\theta_{2}{\\left(t \\right)}\\right)}{2} = - g m_{2} r_{2} \\sin{\\left(\\theta_{2}{\\left(t \\right)} \\right)} + m_{2} r_{1} r_{2} \\sin{\\left(\\theta_{1}{\\left(t \\right)} - \\theta_{2}{\\left(t \\right)} \\right)} \\frac{d}{d t} \\theta_{1}{\\left(t \\right)} \\frac{d}{d t} \\theta_{2}{\\left(t \\right)}$"
      ],
      "text/plain": [
       "   ⎛                                                                                                                                 2                       2            ⎞\n",
       "   ⎜          ⎛d                d             ⎞                              d                                                      d                    2  d             ⎟\n",
       "m₂⋅⎜- 2⋅r₁⋅r₂⋅⎜──(\\theta₁(t)) - ──(\\theta₂(t))⎟⋅sin(\\theta₁(t) - \\theta₂(t))⋅──(\\theta₁(t)) + 2⋅r₁⋅r₂⋅cos(\\theta₁(t) - \\theta₂(t))⋅───(\\theta₁(t)) + 2⋅r₂ ⋅───(\\theta₂(t))⎟\n",
       "   ⎜          ⎝dt               dt            ⎠                              dt                                                      2                       2            ⎟\n",
       "   ⎝                                                                                                                               dt                      dt             ⎠\n",
       "───────────────────────────────────────────────────────────────────────────────────────────────────────────────────────────────────────────────────────────────────────────\n",
       "                                                                                     2                                                                                     \n",
       "\n",
       "                                                                                                 \n",
       "                                                                                                 \n",
       "                                                                                                 \n",
       "                                                                                                 \n",
       "                                                                    d              d             \n",
       " = -g⋅m₂⋅r₂⋅sin(\\theta₂(t)) + m₂⋅r₁⋅r₂⋅sin(\\theta₁(t) - \\theta₂(t))⋅──(\\theta₁(t))⋅──(\\theta₂(t))\n",
       "                                                                    dt             dt            "
      ]
     },
     "execution_count": 9,
     "metadata": {},
     "output_type": "execute_result"
    }
   ],
   "source": [
    "# 質点２の運動方程式\n",
    "EOM_2 = sy.Eq(L.diff(theta2.diff(t)).diff(t), L.diff(theta2)) \n",
    "EOM_2"
   ]
  },
  {
   "cell_type": "markdown",
   "metadata": {},
   "source": [
    "運動方程式は、連立２階微分方程式となっています。\n",
    "\n",
    "今回の微分方程式は、線形であり、数値的には簡単に解けるものです。\n",
    "\n",
    "質点の（角度の）加速度 $\\ddot{\\theta_1}, \\ddot{\\theta_2}$について解き、数値計算しやすい形に表します。\n",
    "\n",
    "$$\\ddot{\\theta_1} = f_1 (\\theta_1, \\dot{\\theta_1}, \\theta_2, \\dot{\\theta_2})$$\n",
    "$$\\ddot{\\theta_2} = f_2 (\\theta_1, \\dot{\\theta_1}, \\theta_2, \\dot{\\theta_2})$$"
   ]
  },
  {
   "cell_type": "code",
   "execution_count": 10,
   "metadata": {},
   "outputs": [
    {
     "data": {
      "image/png": "[encoded data removed]",
      "text/latex": [
       "$\\displaystyle \\left\\{ \\frac{d^{2}}{d t^{2}} \\theta_{1}{\\left(t \\right)} : \\frac{g m_{1} \\sin{\\left(\\theta_{1}{\\left(t \\right)} \\right)}}{- m_{1} r_{1} + m_{2} r_{1} \\cos^{2}{\\left(\\theta_{1}{\\left(t \\right)} - \\theta_{2}{\\left(t \\right)} \\right)} - m_{2} r_{1}} + \\frac{g m_{2} \\sin{\\left(\\theta_{1}{\\left(t \\right)} \\right)}}{- m_{1} r_{1} + m_{2} r_{1} \\cos^{2}{\\left(\\theta_{1}{\\left(t \\right)} - \\theta_{2}{\\left(t \\right)} \\right)} - m_{2} r_{1}} - \\frac{g m_{2} \\sin{\\left(\\theta_{2}{\\left(t \\right)} \\right)} \\cos{\\left(\\theta_{1}{\\left(t \\right)} - \\theta_{2}{\\left(t \\right)} \\right)}}{- m_{1} r_{1} + m_{2} r_{1} \\cos^{2}{\\left(\\theta_{1}{\\left(t \\right)} - \\theta_{2}{\\left(t \\right)} \\right)} - m_{2} r_{1}} + \\frac{m_{2} r_{1} \\sin{\\left(\\theta_{1}{\\left(t \\right)} - \\theta_{2}{\\left(t \\right)} \\right)} \\cos{\\left(\\theta_{1}{\\left(t \\right)} - \\theta_{2}{\\left(t \\right)} \\right)} \\left(\\frac{d}{d t} \\theta_{1}{\\left(t \\right)}\\right)^{2}}{- m_{1} r_{1} + m_{2} r_{1} \\cos^{2}{\\left(\\theta_{1}{\\left(t \\right)} - \\theta_{2}{\\left(t \\right)} \\right)} - m_{2} r_{1}} + \\frac{m_{2} r_{2} \\sin{\\left(\\theta_{1}{\\left(t \\right)} - \\theta_{2}{\\left(t \\right)} \\right)} \\left(\\frac{d}{d t} \\theta_{2}{\\left(t \\right)}\\right)^{2}}{- m_{1} r_{1} + m_{2} r_{1} \\cos^{2}{\\left(\\theta_{1}{\\left(t \\right)} - \\theta_{2}{\\left(t \\right)} \\right)} - m_{2} r_{1}}, \\  \\frac{d^{2}}{d t^{2}} \\theta_{2}{\\left(t \\right)} : - \\frac{g m_{1} \\sin{\\left(\\theta_{1}{\\left(t \\right)} \\right)} \\cos{\\left(\\theta_{1}{\\left(t \\right)} - \\theta_{2}{\\left(t \\right)} \\right)}}{- m_{1} r_{2} + m_{2} r_{2} \\cos^{2}{\\left(\\theta_{1}{\\left(t \\right)} - \\theta_{2}{\\left(t \\right)} \\right)} - m_{2} r_{2}} + \\frac{g m_{1} \\sin{\\left(\\theta_{2}{\\left(t \\right)} \\right)}}{- m_{1} r_{2} + m_{2} r_{2} \\cos^{2}{\\left(\\theta_{1}{\\left(t \\right)} - \\theta_{2}{\\left(t \\right)} \\right)} - m_{2} r_{2}} - \\frac{g m_{2} \\sin{\\left(\\theta_{1}{\\left(t \\right)} \\right)} \\cos{\\left(\\theta_{1}{\\left(t \\right)} - \\theta_{2}{\\left(t \\right)} \\right)}}{- m_{1} r_{2} + m_{2} r_{2} \\cos^{2}{\\left(\\theta_{1}{\\left(t \\right)} - \\theta_{2}{\\left(t \\right)} \\right)} - m_{2} r_{2}} + \\frac{g m_{2} \\sin{\\left(\\theta_{2}{\\left(t \\right)} \\right)}}{- m_{1} r_{2} + m_{2} r_{2} \\cos^{2}{\\left(\\theta_{1}{\\left(t \\right)} - \\theta_{2}{\\left(t \\right)} \\right)} - m_{2} r_{2}} - \\frac{m_{1} r_{1} \\sin{\\left(\\theta_{1}{\\left(t \\right)} - \\theta_{2}{\\left(t \\right)} \\right)} \\left(\\frac{d}{d t} \\theta_{1}{\\left(t \\right)}\\right)^{2}}{- m_{1} r_{2} + m_{2} r_{2} \\cos^{2}{\\left(\\theta_{1}{\\left(t \\right)} - \\theta_{2}{\\left(t \\right)} \\right)} - m_{2} r_{2}} - \\frac{m_{2} r_{1} \\sin{\\left(\\theta_{1}{\\left(t \\right)} - \\theta_{2}{\\left(t \\right)} \\right)} \\left(\\frac{d}{d t} \\theta_{1}{\\left(t \\right)}\\right)^{2}}{- m_{1} r_{2} + m_{2} r_{2} \\cos^{2}{\\left(\\theta_{1}{\\left(t \\right)} - \\theta_{2}{\\left(t \\right)} \\right)} - m_{2} r_{2}} - \\frac{m_{2} r_{2} \\sin{\\left(\\theta_{1}{\\left(t \\right)} - \\theta_{2}{\\left(t \\right)} \\right)} \\cos{\\left(\\theta_{1}{\\left(t \\right)} - \\theta_{2}{\\left(t \\right)} \\right)} \\left(\\frac{d}{d t} \\theta_{2}{\\left(t \\right)}\\right)^{2}}{- m_{1} r_{2} + m_{2} r_{2} \\cos^{2}{\\left(\\theta_{1}{\\left(t \\right)} - \\theta_{2}{\\left(t \\right)} \\right)} - m_{2} r_{2}}\\right\\}$"
      ],
      "text/plain": [
       "⎧                                                                                                                                                                          \n",
       "⎪                                                                                                                                                                          \n",
       "⎪  2                                                                                                                                                                       \n",
       "⎨ d                               g⋅m₁⋅sin(\\theta₁(t))                                   g⋅m₂⋅sin(\\theta₁(t))                    g⋅m₂⋅sin(\\theta₂(t))⋅cos(\\theta₁(t) - \\the\n",
       "⎪───(\\theta₁(t)): ──────────────────────────────────────────────────── + ──────────────────────────────────────────────────── - ───────────────────────────────────────────\n",
       "⎪  2                                2                                                      2                                                      2                        \n",
       "⎩dt               -m₁⋅r₁ + m₂⋅r₁⋅cos (\\theta₁(t) - \\theta₂(t)) - m₂⋅r₁   -m₁⋅r₁ + m₂⋅r₁⋅cos (\\theta₁(t) - \\theta₂(t)) - m₂⋅r₁   -m₁⋅r₁ + m₂⋅r₁⋅cos (\\theta₁(t) - \\theta₂(t)\n",
       "\n",
       "                                                                                            2                                                      2                       \n",
       "                                                                            ⎛d             ⎞                                       ⎛d             ⎞                        \n",
       "            m₂⋅r₁⋅sin(\\theta₁(t) - \\theta₂(t))⋅cos(\\theta₁(t) - \\theta₂(t))⋅⎜──(\\theta₁(t))⎟    m₂⋅r₂⋅sin(\\theta₁(t) - \\theta₂(t))⋅⎜──(\\theta₂(t))⎟     2                  \n",
       "ta₂(t))                                                                     ⎝dt            ⎠                                       ⎝dt            ⎠    d                  g\n",
       "───────── + ───────────────────────────────────────────────────────────────────────────────── + ────────────────────────────────────────────────────, ───(\\theta₂(t)): - ──\n",
       "                                             2                                                                    2                                     2                  \n",
       ") - m₂⋅r₁                  -m₁⋅r₁ + m₂⋅r₁⋅cos (\\theta₁(t) - \\theta₂(t)) - m₂⋅r₁                 -m₁⋅r₁ + m₂⋅r₁⋅cos (\\theta₁(t) - \\theta₂(t)) - m₂⋅r₁  dt                 -m\n",
       "\n",
       "                                                                                                                                                                           \n",
       "                                                                                                                                                                           \n",
       "                                                                                                                                                                           \n",
       "⋅m₁⋅sin(\\theta₁(t))⋅cos(\\theta₁(t) - \\theta₂(t))                     g⋅m₁⋅sin(\\theta₂(t))                    g⋅m₂⋅sin(\\theta₁(t))⋅cos(\\theta₁(t) - \\theta₂(t))             \n",
       "────────────────────────────────────────────────── + ──────────────────────────────────────────────────── - ──────────────────────────────────────────────────── + ────────\n",
       "                2                                                      2                                                      2                                            \n",
       "₁⋅r₂ + m₂⋅r₂⋅cos (\\theta₁(t) - \\theta₂(t)) - m₂⋅r₂   -m₁⋅r₂ + m₂⋅r₂⋅cos (\\theta₁(t) - \\theta₂(t)) - m₂⋅r₂   -m₁⋅r₂ + m₂⋅r₂⋅cos (\\theta₁(t) - \\theta₂(t)) - m₂⋅r₂   -m₁⋅r₂ +\n",
       "\n",
       "                                                                                                  2                                                      2                 \n",
       "                                                                                  ⎛d             ⎞                                       ⎛d             ⎞                  \n",
       "                                               m₁⋅r₁⋅sin(\\theta₁(t) - \\theta₂(t))⋅⎜──(\\theta₁(t))⎟    m₂⋅r₁⋅sin(\\theta₁(t) - \\theta₂(t))⋅⎜──(\\theta₁(t))⎟    m₂⋅r₂⋅sin(\\the\n",
       "        g⋅m₂⋅sin(\\theta₂(t))                                                      ⎝dt            ⎠                                       ⎝dt            ⎠                  \n",
       "──────────────────────────────────────────── - ──────────────────────────────────────────────────── - ──────────────────────────────────────────────────── - ──────────────\n",
       "          2                                                      2                                                      2                                                  \n",
       " m₂⋅r₂⋅cos (\\theta₁(t) - \\theta₂(t)) - m₂⋅r₂   -m₁⋅r₂ + m₂⋅r₂⋅cos (\\theta₁(t) - \\theta₂(t)) - m₂⋅r₂   -m₁⋅r₂ + m₂⋅r₂⋅cos (\\theta₁(t) - \\theta₂(t)) - m₂⋅r₂                 \n",
       "\n",
       "                                                                  2⎫\n",
       "                                                  ⎛d             ⎞ ⎪\n",
       "ta₁(t) - \\theta₂(t))⋅cos(\\theta₁(t) - \\theta₂(t))⋅⎜──(\\theta₂(t))⎟ ⎪\n",
       "                                                  ⎝dt            ⎠ ⎬\n",
       "───────────────────────────────────────────────────────────────────⎪\n",
       "                   2                                               ⎪\n",
       " -m₁⋅r₂ + m₂⋅r₂⋅cos (\\theta₁(t) - \\theta₂(t)) - m₂⋅r₂              ⎭"
      ]
     },
     "execution_count": 10,
     "metadata": {},
     "output_type": "execute_result"
    }
   ],
   "source": [
    "EOMs = sy.solve([EOM_1, EOM_2], (theta1.diff(t, 2), theta2.diff(t, 2)))\n",
    "EOMs"
   ]
  },
  {
   "cell_type": "code",
   "execution_count": 11,
   "metadata": {},
   "outputs": [],
   "source": [
    "# 関数を変数に置き換える\n",
    "t1, t2 = sy.symbols(r\"\\theta_1 \\theta_2\")\n",
    "diff2dot = [(theta1.diff(t), theta1_dot),\n",
    "            (theta2.diff(t), theta2_dot)]\n",
    "theta1_ddot = EOMs[theta1.diff(t, 2)].subs(diff2dot).subs([(theta1, t1), (theta2, t2)])\n",
    "theta2_ddot = EOMs[theta2.diff(t, 2)].subs(diff2dot).subs([(theta1, t1), (theta2, t2)])"
   ]
  },
  {
   "cell_type": "markdown",
   "metadata": {},
   "source": [
    "## 質点1の微分方程式\n",
    "$$\\ddot{\\theta_1} = f_1 (\\theta_1, \\dot{\\theta_1}, \\theta_2, \\dot{\\theta_2})$$\n",
    "\n",
    "は次のような関数となります。"
   ]
  },
  {
   "cell_type": "code",
   "execution_count": 12,
   "metadata": {},
   "outputs": [
    {
     "data": {
      "image/png": "[encoded data removed]",
      "text/latex": [
       "$\\displaystyle \\frac{\\dot{\\theta_1}^{2} m_{2} r_{1} \\sin{\\left(\\theta_{1} - \\theta_{2} \\right)} \\cos{\\left(\\theta_{1} - \\theta_{2} \\right)}}{- m_{1} r_{1} + m_{2} r_{1} \\cos^{2}{\\left(\\theta_{1} - \\theta_{2} \\right)} - m_{2} r_{1}} + \\frac{\\dot{\\theta_2}^{2} m_{2} r_{2} \\sin{\\left(\\theta_{1} - \\theta_{2} \\right)}}{- m_{1} r_{1} + m_{2} r_{1} \\cos^{2}{\\left(\\theta_{1} - \\theta_{2} \\right)} - m_{2} r_{1}} + \\frac{g m_{1} \\sin{\\left(\\theta_{1} \\right)}}{- m_{1} r_{1} + m_{2} r_{1} \\cos^{2}{\\left(\\theta_{1} - \\theta_{2} \\right)} - m_{2} r_{1}} + \\frac{g m_{2} \\sin{\\left(\\theta_{1} \\right)}}{- m_{1} r_{1} + m_{2} r_{1} \\cos^{2}{\\left(\\theta_{1} - \\theta_{2} \\right)} - m_{2} r_{1}} - \\frac{g m_{2} \\sin{\\left(\\theta_{2} \\right)} \\cos{\\left(\\theta_{1} - \\theta_{2} \\right)}}{- m_{1} r_{1} + m_{2} r_{1} \\cos^{2}{\\left(\\theta_{1} - \\theta_{2} \\right)} - m_{2} r_{1}}$"
      ],
      "text/plain": [
       "              2                                                                      2                                                                                     \n",
       "\\dot{\\theta_1} ⋅m₂⋅r₁⋅sin(\\theta₁ - \\theta₂)⋅cos(\\theta₁ - \\theta₂)    \\dot{\\theta_2} ⋅m₂⋅r₂⋅sin(\\theta₁ - \\theta₂)                  g⋅m₁⋅sin(\\theta₁)                     \n",
       "─────────────────────────────────────────────────────────────────── + ────────────────────────────────────────────── + ────────────────────────────────────────────── + ───\n",
       "                             2                                                          2                                                2                                 \n",
       "           -m₁⋅r₁ + m₂⋅r₁⋅cos (\\theta₁ - \\theta₂) - m₂⋅r₁             -m₁⋅r₁ + m₂⋅r₁⋅cos (\\theta₁ - \\theta₂) - m₂⋅r₁   -m₁⋅r₁ + m₂⋅r₁⋅cos (\\theta₁ - \\theta₂) - m₂⋅r₁   -m₁\n",
       "\n",
       "                                                                                            \n",
       "           g⋅m₂⋅sin(\\theta₁)                     g⋅m₂⋅sin(\\theta₂)⋅cos(\\theta₁ - \\theta₂)   \n",
       "─────────────────────────────────────────── - ──────────────────────────────────────────────\n",
       "               2                                                2                           \n",
       "⋅r₁ + m₂⋅r₁⋅cos (\\theta₁ - \\theta₂) - m₂⋅r₁   -m₁⋅r₁ + m₂⋅r₁⋅cos (\\theta₁ - \\theta₂) - m₂⋅r₁"
      ]
     },
     "execution_count": 12,
     "metadata": {},
     "output_type": "execute_result"
    }
   ],
   "source": [
    "theta1_ddot"
   ]
  },
  {
   "cell_type": "markdown",
   "metadata": {},
   "source": [
    "## 質点2の微分方程式\n",
    "$$\\ddot{\\theta_2} = f_2 (\\theta_1, \\dot{\\theta_1}, \\theta_2, \\dot{\\theta_2})$$\n",
    "\n",
    "は次のような関数となります。"
   ]
  },
  {
   "cell_type": "code",
   "execution_count": 13,
   "metadata": {},
   "outputs": [
    {
     "data": {
      "image/png": "[encoded data removed]",
      "text/latex": [
       "$\\displaystyle - \\frac{\\dot{\\theta_1}^{2} m_{1} r_{1} \\sin{\\left(\\theta_{1} - \\theta_{2} \\right)}}{- m_{1} r_{2} + m_{2} r_{2} \\cos^{2}{\\left(\\theta_{1} - \\theta_{2} \\right)} - m_{2} r_{2}} - \\frac{\\dot{\\theta_1}^{2} m_{2} r_{1} \\sin{\\left(\\theta_{1} - \\theta_{2} \\right)}}{- m_{1} r_{2} + m_{2} r_{2} \\cos^{2}{\\left(\\theta_{1} - \\theta_{2} \\right)} - m_{2} r_{2}} - \\frac{\\dot{\\theta_2}^{2} m_{2} r_{2} \\sin{\\left(\\theta_{1} - \\theta_{2} \\right)} \\cos{\\left(\\theta_{1} - \\theta_{2} \\right)}}{- m_{1} r_{2} + m_{2} r_{2} \\cos^{2}{\\left(\\theta_{1} - \\theta_{2} \\right)} - m_{2} r_{2}} - \\frac{g m_{1} \\sin{\\left(\\theta_{1} \\right)} \\cos{\\left(\\theta_{1} - \\theta_{2} \\right)}}{- m_{1} r_{2} + m_{2} r_{2} \\cos^{2}{\\left(\\theta_{1} - \\theta_{2} \\right)} - m_{2} r_{2}} + \\frac{g m_{1} \\sin{\\left(\\theta_{2} \\right)}}{- m_{1} r_{2} + m_{2} r_{2} \\cos^{2}{\\left(\\theta_{1} - \\theta_{2} \\right)} - m_{2} r_{2}} - \\frac{g m_{2} \\sin{\\left(\\theta_{1} \\right)} \\cos{\\left(\\theta_{1} - \\theta_{2} \\right)}}{- m_{1} r_{2} + m_{2} r_{2} \\cos^{2}{\\left(\\theta_{1} - \\theta_{2} \\right)} - m_{2} r_{2}} + \\frac{g m_{2} \\sin{\\left(\\theta_{2} \\right)}}{- m_{1} r_{2} + m_{2} r_{2} \\cos^{2}{\\left(\\theta_{1} - \\theta_{2} \\right)} - m_{2} r_{2}}$"
      ],
      "text/plain": [
       "                 2                                                2                                               2                                                        \n",
       "   \\dot{\\theta_1} ⋅m₁⋅r₁⋅sin(\\theta₁ - \\theta₂)     \\dot{\\theta_1} ⋅m₂⋅r₁⋅sin(\\theta₁ - \\theta₂)    \\dot{\\theta_2} ⋅m₂⋅r₂⋅sin(\\theta₁ - \\theta₂)⋅cos(\\theta₁ - \\theta₂)    \n",
       "- ────────────────────────────────────────────── - ────────────────────────────────────────────── - ─────────────────────────────────────────────────────────────────── - ─\n",
       "                    2                                                2                                                           2                                         \n",
       "  -m₁⋅r₂ + m₂⋅r₂⋅cos (\\theta₁ - \\theta₂) - m₂⋅r₂   -m₁⋅r₂ + m₂⋅r₂⋅cos (\\theta₁ - \\theta₂) - m₂⋅r₂              -m₁⋅r₂ + m₂⋅r₂⋅cos (\\theta₁ - \\theta₂) - m₂⋅r₂             -\n",
       "\n",
       "                                                                                                                                                                           \n",
       "  g⋅m₁⋅sin(\\theta₁)⋅cos(\\theta₁ - \\theta₂)                    g⋅m₁⋅sin(\\theta₂)                     g⋅m₂⋅sin(\\theta₁)⋅cos(\\theta₁ - \\theta₂)                    g⋅m₂⋅sin(\\t\n",
       "───────────────────────────────────────────── + ────────────────────────────────────────────── - ────────────────────────────────────────────── + ─────────────────────────\n",
       "                 2                                                2                                                2                                                2      \n",
       "m₁⋅r₂ + m₂⋅r₂⋅cos (\\theta₁ - \\theta₂) - m₂⋅r₂   -m₁⋅r₂ + m₂⋅r₂⋅cos (\\theta₁ - \\theta₂) - m₂⋅r₂   -m₁⋅r₂ + m₂⋅r₂⋅cos (\\theta₁ - \\theta₂) - m₂⋅r₂   -m₁⋅r₂ + m₂⋅r₂⋅cos (\\thet\n",
       "\n",
       "                     \n",
       "heta₂)               \n",
       "─────────────────────\n",
       "                     \n",
       "a₁ - \\theta₂) - m₂⋅r₂"
      ]
     },
     "execution_count": 13,
     "metadata": {},
     "output_type": "execute_result"
    }
   ],
   "source": [
    "theta2_ddot"
   ]
  },
  {
   "cell_type": "markdown",
   "metadata": {},
   "source": [
    "$t$ についての微分方程式を数値的に解くため、 $f_1, f_2$ を NumPy 関数に変換します。"
   ]
  },
  {
   "cell_type": "code",
   "execution_count": 14,
   "metadata": {},
   "outputs": [],
   "source": [
    "# NumPyの関数に変換する\n",
    "args = (t1, t2, theta1_dot, theta2_dot, m1, m2, r1, r2, g)\n",
    "func1 = sy.lambdify(args, theta1_ddot, \"numpy\")\n",
    "func2 = sy.lambdify(args, theta2_ddot, \"numpy\")"
   ]
  },
  {
   "cell_type": "markdown",
   "metadata": {},
   "source": [
    "## 数値計算\n",
    "\n",
    "scipy の `ode` ソルバーを使って常微分方程式を解いてみます。\n",
    "\n",
    "（解析的に解いてから数値計算をしていますが、陰関数のまま数値計算を行い、数値計算時にタイムステップごとに逆行列を求める方法もあると思います。興味ある人は試してみてください）"
   ]
  },
  {
   "cell_type": "code",
   "execution_count": 15,
   "metadata": {},
   "outputs": [],
   "source": [
    "# 数値計算\n",
    "from scipy.integrate import ode\n",
    "\n",
    "def time_evolve(t, y, params):\n",
    "    theta1, theta2, theta1_dot, theta2_dot = y\n",
    "    return [theta1_dot, theta2_dot,\n",
    "            func1(*y, *params),\n",
    "            func2(*y, *params)]\n",
    "\n",
    "y0 = [np.pi * 1.01, np.pi * 1.01, 0, 0]\n",
    "params = {\"m1\": 1, \"m2\": 1, \"r1\": 0.1, \"r2\": 0.1, \"g\": 9.8}\n",
    "solver = ode(time_evolve).set_initial_value(y0, 0).set_f_params(params.values())\n",
    "\n",
    "dt = 0.01\n",
    "tmax = 100\n",
    "results = []\n",
    "while solver.t < tmax:\n",
    "    y = solver.integrate(solver.t + dt)\n",
    "    results.append([solver.t, *y])"
   ]
  },
  {
   "cell_type": "code",
   "execution_count": 16,
   "metadata": {},
   "outputs": [],
   "source": [
    "import pandas as pd\n",
    "results = pd.DataFrame(results, columns=[\"t\", \"theta1\", \"theta2\", \"theta1_dot\", \"theta2_dot\"])\n",
    "results[\"x1\"] = params[\"r1\"] * np.sin(results.theta1)\n",
    "results[\"x2\"] = results.x1 + params[\"r2\"] * np.sin(results.theta2)\n",
    "results[\"y1\"] = -params[\"r1\"] * np.cos(results.theta1)\n",
    "results[\"y2\"] = results.y1 - params[\"r2\"] * np.cos(results.theta2)"
   ]
  },
  {
   "cell_type": "code",
   "execution_count": 17,
   "metadata": {},
   "outputs": [
    {
     "data": {
      "image/png": "[encoded data removed]",
      "text/plain": [
       "<Figure size 640x480 with 1 Axes>"
      ]
     },
     "metadata": {},
     "output_type": "display_data"
    }
   ],
   "source": [
    "import matplotlib.animation as animation\n",
    "import matplotlib.patches as patches\n",
    "\n",
    "def gen():\n",
    "    for i, vals in results[[\"t\", \"x1\", \"x2\", \"y1\", \"y2\"]].iterrows():\n",
    "        yield vals.values\n",
    "\n",
    "def plot_double_pendulum(data):\n",
    "    t, x1, x2, y1, y2 = data\n",
    "    ax.cla()\n",
    "    R = params[\"r1\"] + params[\"r2\"]\n",
    "    ax.set_xlim(-R, R)\n",
    "    ax.set_ylim(-R, R)\n",
    "    ax.scatter([x1, x2], [y1, y2])\n",
    "    ax.add_patch(patches.Arrow(0, 0, x1, y1, width=0.01))\n",
    "    ax.add_patch(patches.Arrow(x1, y1, (x2-x1), (y2-y1), width=0.01))\n",
    "    ax.set_aspect(\"equal\")\n",
    "fig, ax = plt.subplots()\n",
    "ani = animation.FuncAnimation(fig, plot_double_pendulum, gen, interval=30, save_count=500)\n",
    "# ani.save(\"double_pendulum.gif\", writer=\"imagemagick\", dpi=100)\n",
    "# この辺は、 Jupyter Notebook でやるより、スクリプトで実行したほうが扱いやすい気がする... のでご注意\n",
    "plt.show()"
   ]
  },
  {
   "cell_type": "markdown",
   "metadata": {},
   "source": [
    "## 結果\n",
    "\n",
    "いい感じに二重振り子のアニメーションが作れました。（長めバージョン）\n",
    "\n",
    "<img src=\"double_pendulum.gif\">"
   ]
  },
  {
   "cell_type": "markdown",
   "metadata": {},
   "source": [
    "### まとめると\n",
    "一つのセルにまとめると以下のように書けます。"
   ]
  },
  {
   "cell_type": "code",
   "execution_count": 18,
   "metadata": {},
   "outputs": [],
   "source": [
    "# 変数と関数を定義\n",
    "t = sy.Symbol(\"t\", real=True)\n",
    "r1, r2, m1, m2, g = sy.symbols(r\"r_1 r_2 m_1 m_2 g\", positive=True)\n",
    "# theta1, theta2 = sy.symbols(r\"\\theta_1 \\theta_2\", real=True)\n",
    "theta1 = sy.Function(r\"\\theta_1\")(t)\n",
    "theta2 = sy.Function(r\"\\theta_2\")(t)\n",
    "theta1_dot, theta2_dot = sy.symbols(r\"\\dot{\\theta_1} \\dot{\\theta_2}\")\n",
    "\n",
    "# 質点１の位置と速度\n",
    "x1 = sy.Matrix([r1 * sy.sin(theta1), - r1 * sy.cos(theta1)])\n",
    "v1 = x1.diff(t)\n",
    "\n",
    "# 質点２の位置と速度\n",
    "x2 = x1 + sy.Matrix([r2 * sy.sin(theta2), - r2 * sy.cos(theta2)])\n",
    "v2 = x2.diff(t)\n",
    "\n",
    "# 運動エネルギー\n",
    "T1 = (m1 * (v1[0]**2 + v1[1]**2) / 2).simplify()\n",
    "T2 = (m2 * (v2[0]**2 + v2[1]**2) / 2).simplify()\n",
    "\n",
    "# ポテンシャル\n",
    "V1 = m1 * g * x1[1]\n",
    "V2 = m2 * g * x2[1]\n",
    "\n",
    "# ラグランジアン\n",
    "L = T1 + T2 - V1 - V2\n",
    "\n",
    "# 質点１、２の運動方程式\n",
    "EOM_1 = sy.Eq(L.diff(theta1.diff(t)).diff(t), L.diff(theta1)) \n",
    "EOM_2 = sy.Eq(L.diff(theta2.diff(t)).diff(t), L.diff(theta2)) \n",
    "\n",
    "# 加速度について解く\n",
    "EOMs = sy.solve([EOM_1, EOM_2], (theta1.diff(t, 2), theta2.diff(t, 2)))\n",
    "\n",
    "# 関数を変数に変換\n",
    "t1, t2 = sy.symbols(r\"\\theta_1 \\theta_2\")\n",
    "diff2dot = [(theta1.diff(t), theta1_dot),\n",
    "            (theta2.diff(t), theta2_dot)]\n",
    "theta1_ddot = EOMs[theta1.diff(t, 2)].subs(diff2dot).subs([(theta1, t1), (theta2, t2)])\n",
    "theta2_ddot = EOMs[theta2.diff(t, 2)].subs(diff2dot).subs([(theta1, t1), (theta2, t2)])\n",
    "\n",
    "# NumPy関数化\n",
    "args = (t1, t2, theta1_dot, theta2_dot, m1, m2, r1, r2, g)\n",
    "func1 = sy.lambdify(args, theta1_ddot, \"numpy\")\n",
    "func2 = sy.lambdify(args, theta2_ddot, \"numpy\")\n",
    "\n",
    "# 数値計算\n",
    "from scipy.integrate import ode\n",
    "\n",
    "def time_evolve(t, y, params):\n",
    "    theta1, theta2, theta1_dot, theta2_dot = y\n",
    "    return [theta1_dot, theta2_dot,\n",
    "            func1(*y, *params),\n",
    "            func2(*y, *params)]\n",
    "\n",
    "# 初期値\n",
    "y0 = [np.pi * 1.01, np.pi * 1.01, 0, 0]\n",
    "params = {\"m1\": 1, \"m2\": 1, \"r1\": 0.1, \"r2\": 0.1, \"g\": 9.8}\n",
    "solver = ode(time_evolve).set_initial_value(y0, 0).set_f_params(params.values())\n",
    "\n",
    "dt = 0.1\n",
    "tmax = 50\n",
    "results = []\n",
    "while solver.t < tmax:\n",
    "    y = solver.integrate(solver.t + dt)\n",
    "    results.append([solver.t, *y])\n",
    "\n",
    "import pandas as pd\n",
    "results = pd.DataFrame(results, columns=[\"t\", \"theta1\", \"theta2\", \"theta1_dot\", \"theta2_dot\"])\n",
    "results[\"x1\"] = params[\"r1\"] * np.sin(results.theta1)\n",
    "results[\"x2\"] = results.x1 + params[\"r2\"] * np.sin(results.theta2)\n",
    "results[\"y1\"] = -params[\"r1\"] * np.cos(results.theta1)\n",
    "results[\"y2\"] = results.y1 - params[\"r2\"] * np.cos(results.theta2)"
   ]
  }
 ],
 "metadata": {
  "kernelspec": {
   "display_name": "Python 3 (ipykernel)",
   "language": "python",
   "name": "python3"
  },
  "language_info": {
   "codemirror_mode": {
    "name": "ipython",
    "version": 3
   },
   "file_extension": ".py",
   "mimetype": "text/x-python",
   "name": "python",
   "nbconvert_exporter": "python",
   "pygments_lexer": "ipython3",
   "version": "3.10.6"
  }
 },
 "nbformat": 4,
 "nbformat_minor": 2
}
