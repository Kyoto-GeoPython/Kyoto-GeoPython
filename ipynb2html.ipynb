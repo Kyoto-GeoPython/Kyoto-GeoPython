{
 "cells": [
  {
   "cell_type": "code",
   "execution_count": 6,
   "metadata": {},
   "outputs": [],
   "source": [
    "import os\n",
    "from jinja2 import Template\n",
    "import glob\n",
    "\n",
    "with open('template.html', 'r') as fp:\n",
    "    template_html = fp.read()\n",
    "\n",
    "template = Template(template_html)\n",
    "target = os.path.join(\"docs\", \"html\")"
   ]
  },
  {
   "cell_type": "code",
   "execution_count": 7,
   "metadata": {},
   "outputs": [],
   "source": [
    "def listofipynb():\n",
    "    folders = [folder for folder in os.listdir() if os.path.isdir(folder) and not folder[0].startswith('.')]\n",
    "    path_title_html = []\n",
    "    for folder in folders:\n",
    "        paths = glob.glob(f'{folder}/*.ipynb')\n",
    "        path_title_html.extend([(path, path.split('/')[1].split('.')[0], path.replace('ipynb', 'html')) for path in paths])\n",
    "    return path_title_html"
   ]
  },
  {
   "cell_type": "code",
   "execution_count": 22,
   "metadata": {},
   "outputs": [],
   "source": [
    "def redirect_html(path_html):\n",
    "    html_rendered = template.render(redirect_to=f'https://kyotogeopython.zawawahoge.com/{path_html}')\n",
    "    return html_rendered"
   ]
  },
  {
   "cell_type": "code",
   "execution_count": 13,
   "metadata": {},
   "outputs": [],
   "source": [
    "from pathlib import Path"
   ]
  },
  {
   "cell_type": "code",
   "execution_count": 27,
   "metadata": {},
   "outputs": [],
   "source": [
    "p = Path('docs')\n",
    "\n",
    "for page in p.glob('**/*.html'):\n",
    "    path_full = page.as_posix()\n",
    "    path_html = path_full.replace('docs/', '')\n",
    "    with open(path_full,  'w') as fp:\n",
    "        fp.write(redirect_html(path_html))"
   ]
  },
  {
   "cell_type": "code",
   "execution_count": 21,
   "metadata": {},
   "outputs": [
    {
     "data": {
      "text/plain": [
       "'docs/template_library.html'"
      ]
     },
     "execution_count": 21,
     "metadata": {},
     "output_type": "execute_result"
    }
   ],
   "source": [
    "_p.as_posix()"
   ]
  },
  {
   "cell_type": "code",
   "execution_count": 11,
   "metadata": {},
   "outputs": [
    {
     "name": "stdout",
     "output_type": "stream",
     "text": [
      "スライド/1日目スライド.html\n",
      "応用編/Pandas　―　データ分析.html\n",
      "応用編/Pandas―データ分析（３）GroupBy.html\n",
      "応用編/Seaborn ― matplotlib をより美しく、使いやすく.html\n",
      "応用編/Fortran, C言語 との連携.html\n",
      "応用編/Pandas―データ分析（５）応用：都道府県別人口推移.html\n",
      "応用編/Pandas―データ分析（４）ファイル入出力.html\n",
      "応用編/SymPyー代数演算（２）応用：二重振り子.html\n",
      "応用編/Pandas―データ分析（１）Series.html\n",
      "応用編/SymPyー代数演算（１）使い方.html\n",
      "応用編/shやBashの代わりにPythonを使う.html\n",
      "応用編/SymPyー代数演算.html\n",
      "応用編/Pandas―データ分析（２）DataFrame.html\n",
      "応用編/Animation.html\n",
      "ライブラリ集/Sympy―代数演算.html\n",
      "基礎編/Numpyを使う際の注意点.html\n",
      "基礎編/Numpyの基礎（１）導入.html\n",
      "基礎編/Numpyの基礎（７）便利なライブラリ群.html\n",
      "基礎編/Matplotlib.html\n",
      "基礎編/Numpyの基礎（４）データ型.html\n",
      "基礎編/Numpyの基礎（６）ブロードキャスト.html\n",
      "基礎編/Pythonの基礎2.html\n",
      "基礎編/文字列操作（１）str.format.html\n",
      "基礎編/Numpyの基礎（８）ファイル入出力.html\n",
      "基礎編/Numpyの基礎（５）要素の参照.html\n",
      "基礎編/numpy（基礎編）.html\n",
      "基礎編/文字列操作（２）strやファイル読み込み.html\n",
      "基礎編/Pythonの基礎1.html\n",
      "基礎編/Numpyの基礎（３）ufunc.html\n",
      "基礎編/ファイル読み込み.html\n",
      "基礎編/Numpyの基礎（２）生成関数.html\n"
     ]
    }
   ],
   "source": [
    "for path_nb, title, path_html in listofipynb():\n",
    "    with open(os.path.join(target, path_html), 'w') as fp:\n",
    "        fp.write(redirect_html(path_html))\n",
    "    print(path_html)"
   ]
  },
  {
   "cell_type": "code",
   "execution_count": null,
   "metadata": {},
   "outputs": [],
   "source": []
  }
 ],
 "metadata": {
  "kernelspec": {
   "display_name": "Python 3",
   "language": "python",
   "name": "python3"
  },
  "language_info": {
   "codemirror_mode": {
    "name": "ipython",
    "version": 3
   },
   "file_extension": ".py",
   "mimetype": "text/x-python",
   "name": "python",
   "nbconvert_exporter": "python",
   "pygments_lexer": "ipython3",
   "version": "3.7.3"
  }
 },
 "nbformat": 4,
 "nbformat_minor": 2
}
