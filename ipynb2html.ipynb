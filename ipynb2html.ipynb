{
 "cells": [
  {
   "cell_type": "code",
   "execution_count": 1,
   "metadata": {},
   "outputs": [],
   "source": [
    "import os\n",
    "from jinja2 import Template\n",
    "import glob"
   ]
  },
  {
   "cell_type": "code",
   "execution_count": 2,
   "metadata": {},
   "outputs": [],
   "source": [
    "with open('notebook-template.html', 'r') as fp:\n",
    "    template_html = fp.read()\n",
    "\n",
    "template = Template(template_html)\n",
    "target = os.path.join(\"docs\", \"html\")"
   ]
  },
  {
   "cell_type": "code",
   "execution_count": 3,
   "metadata": {},
   "outputs": [],
   "source": [
    "def listofipynb():\n",
    "    folders = [folder for folder in os.listdir() if os.path.isdir(folder) and not folder[0].startswith('.')]\n",
    "    path_title_html = []\n",
    "    for folder in folders:\n",
    "        paths = glob.glob(f'{folder}/*.ipynb')\n",
    "        path_title_html.extend([(path, path.split('/')[1].split('.')[0], path.replace('ipynb', 'html')) for path in paths])\n",
    "    return path_title_html\n",
    "\n",
    "def nb2html(path_nb, title):\n",
    "    body = !jupyter nbconvert $path_nb --to html --template basic --stdout\n",
    "    element_html = '\\n'.join(body[1:])\n",
    "    html_rendered = template.render(body=element_html, title=title)\n",
    "    return html_rendered"
   ]
  },
  {
   "cell_type": "code",
   "execution_count": 4,
   "metadata": {},
   "outputs": [],
   "source": [
    "for path_nb, title, path_html in listofipynb():\n",
    "    with open(os.path.join(target, path_html), 'w') as fp:\n",
    "        fp.write(nb2html(path_nb, title))"
   ]
  }
 ],
 "metadata": {
  "kernelspec": {
   "display_name": "Python 3",
   "language": "python",
   "name": "python3"
  },
  "language_info": {
   "codemirror_mode": {
    "name": "ipython",
    "version": 3
   },
   "file_extension": ".py",
   "mimetype": "text/x-python",
   "name": "python",
   "nbconvert_exporter": "python",
   "pygments_lexer": "ipython3",
   "version": "3.7.3"
  }
 },
 "nbformat": 4,
 "nbformat_minor": 2
}
