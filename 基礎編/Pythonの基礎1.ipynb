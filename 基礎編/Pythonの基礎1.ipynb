{
 "cells": [
  {
   "cell_type": "markdown",
   "metadata": {},
   "source": [
    "# 目次\n",
    "- はじめに\n",
    "    - Pythonの紹介\n",
    "    - Hello, World!\n",
    "- 型と基本演算・操作\n",
    "    - 数（int, float, complex, ...）\n",
    "    - 論理型（Boolean）\n",
    "    - 配列のたぐい\n",
    "    - ユーザー定義型\n",
    "    - 型変換\n",
    "- 参考文献"
   ]
  },
  {
   "cell_type": "markdown",
   "metadata": {},
   "source": [
    "# はじめに\n",
    "## Pythonの紹介\n",
    "[Python](https://www.python.org)は汎用プログラミング言語の一つで、科学計算のみならずWeb開発、ソフトフェア開発などの広い目的に利用されています。Pythonの特徴として、基本的な言語仕様は書きやすく読みやすいシンプルなものである一方、多くの強力なサードパーティライブラリによって非常に高機能な専門ツールとして使えることが挙げられます。何より言語そのものに加え多くのライブラリがオープンソースで開発されており、フリーで使えるという強みがあります。\n",
    "\n",
    "近年、NumPy（高速な配列計算）、SciPy（高機能な科学計算）、Matplotlib（描画）などのライブラリの発展に伴って、科学計算ツールとしてのPythonはMatlabなどの有料ソフトに劣らないものとなってきました。Pythonを用いた科学計算ではこれらのライブラリを駆使していくことになるのですが、本稿ではその目的のために必要なPythonそのものの文法を解説します。\n",
    "\n",
    "本稿はPython 3.6に準拠した解説を行いますが、Python 2系統からの変更点についても言及しています。"
   ]
  },
  {
   "cell_type": "markdown",
   "metadata": {},
   "source": [
    "## Hello, World!\n",
    "まずは伝統に従い、端末にメッセージを出力させてみましょう。Pythonにおいては、**print**関数を用いて次のように行います。"
   ]
  },
  {
   "cell_type": "code",
   "execution_count": 1,
   "metadata": {
    "collapsed": false
   },
   "outputs": [
    {
     "name": "stdout",
     "output_type": "stream",
     "text": [
      "Hello, World!\n"
     ]
    }
   ],
   "source": [
    "print(\"Hello, World!\")"
   ]
  },
  {
   "cell_type": "markdown",
   "metadata": {},
   "source": [
    "print関数は引数としてさまざまな種類のオブジェクト（変数）をとることができます。上の例の場合、引数となっているのは文字列\"Hello, World!\"です。他の言語と同様に、print関数は変数の値や計算結果を出力するのに使えます。"
   ]
  },
  {
   "cell_type": "code",
   "execution_count": 2,
   "metadata": {
    "collapsed": false
   },
   "outputs": [
    {
     "name": "stdout",
     "output_type": "stream",
     "text": [
      "6\n",
      "9\n"
     ]
    }
   ],
   "source": [
    "a = 3\n",
    "b = 2*a\n",
    "print(b)\n",
    "print(a+b)"
   ]
  },
  {
   "cell_type": "markdown",
   "metadata": {},
   "source": [
    "なお、Python 2においてprintは関数ではなく、print文と呼ばれるものでした（おそらくこれがPython 2と3の最大の違いです）。print文は次のように使います。\n",
    "```\n",
    "print \"Hello, World!\"\n",
    "print b\n",
    "print a+b\n",
    "```"
   ]
  },
  {
   "cell_type": "markdown",
   "metadata": {},
   "source": [
    "# 型と基本演算・操作\n",
    "つづいて、Pythonによる科学計算に頻出するデータ型（クラス）と、それらの基本的な演算・操作を紹介します。\n",
    "\n",
    "型の紹介に入る前に、**type**関数を紹介します。type関数は、引数のオブジェクトの型を返してくれます。対話型環境の場合はtype(*変数*)、スクリプト実行の場合はprint(type(*変数*))とすると出力してくれます。"
   ]
  },
  {
   "cell_type": "code",
   "execution_count": 3,
   "metadata": {
    "collapsed": false
   },
   "outputs": [
    {
     "name": "stdout",
     "output_type": "stream",
     "text": [
      "<class 'int'>\n",
      "<class 'float'>\n",
      "<class 'str'>\n"
     ]
    }
   ],
   "source": [
    "a = 1\n",
    "b = 1.0\n",
    "c = \"Spam!\"\n",
    "print(type(a))\n",
    "print(type(b))\n",
    "print(type(c))"
   ]
  },
  {
   "cell_type": "markdown",
   "metadata": {},
   "source": [
    "## 数\n",
    "Pythonは動的型付け言語で、変数の定義の仕方によって自動で型が判別されます（上の例の場合、変数aとbは同じ値だが、aは整数、bは実数として判別された）。数の型には整数**int**、倍精度実数**float**、複素数**complex**などがあります。"
   ]
  },
  {
   "cell_type": "code",
   "execution_count": 4,
   "metadata": {
    "collapsed": true
   },
   "outputs": [],
   "source": [
    "my_int = -10 # 整数\n",
    "my_float = 2.5 # 実数\n",
    "my_complex = 3 + 2.5j # 複素数"
   ]
  },
  {
   "cell_type": "markdown",
   "metadata": {},
   "source": [
    "基本的な四則演算を次に示します。"
   ]
  },
  {
   "cell_type": "code",
   "execution_count": 5,
   "metadata": {
    "collapsed": false
   },
   "outputs": [
    {
     "name": "stdout",
     "output_type": "stream",
     "text": [
      "5\n",
      "1\n",
      "6\n",
      "1.5\n",
      "1\n",
      "1\n",
      "9\n"
     ]
    }
   ],
   "source": [
    "x = 3\n",
    "y = 2\n",
    "\n",
    "print(x + y) # 足し算\n",
    "print(x - y) # 引き算\n",
    "print(x * y) # 掛け算\n",
    "print(x / y) # 割り算 （Python 3から、intわるintでもfloatで返してくれるようになった。Python 2ではFortranなどと同じ）\n",
    "print(x // y) # 割り算（整数部）\n",
    "print(x % y) # 余り\n",
    "print(x ** y) # べき乗"
   ]
  },
  {
   "cell_type": "markdown",
   "metadata": {
    "collapsed": true
   },
   "source": [
    "## 論理型\n",
    "**論理型**は**Boolean**とも呼ばれ、**True**と**False**の2値のみをとる変数型です（注意: Pythonでは変数名の大文字と小文字を区別します。a=trueやb=TRUEなどとしてもtrueなどが定義されていない限りエラーとなります）。\n",
    "\n",
    "論理型を返す代表的な演算として、Comparison operatorがあります。以下、Comparison operatorの例を示します。"
   ]
  },
  {
   "cell_type": "code",
   "execution_count": 6,
   "metadata": {
    "collapsed": false
   },
   "outputs": [
    {
     "name": "stdout",
     "output_type": "stream",
     "text": [
      "False\n",
      "True\n",
      "False\n",
      "True\n",
      "False\n",
      "True\n"
     ]
    }
   ],
   "source": [
    "x = 3\n",
    "y = 2\n",
    "\n",
    "print(x == y) # 等しい  x,yが数以外のときも用いることができる\n",
    "print(x > y) # 大なり\n",
    "print(x < y) # 小なり\n",
    "print(x >= y) # 大なりイコール\n",
    "print(x <= y) # 小なりイコール\n",
    "print(x != y) # ノットイコール"
   ]
  },
  {
   "cell_type": "markdown",
   "metadata": {},
   "source": [
    "2つの論理型変数の間の論理積、論理和を表す演算子として**and**と**or**、1つの論理型変数の否定を表す演算子として**not**があります。これらの間の優先順位は\n",
    "\n",
    "```\n",
    "not > and > or\n",
    "```\n",
    "\n",
    "ですが、カッコをつけた方が安全で読みやすい場合も多いでしょう。"
   ]
  },
  {
   "cell_type": "code",
   "execution_count": 7,
   "metadata": {
    "collapsed": false
   },
   "outputs": [
    {
     "name": "stdout",
     "output_type": "stream",
     "text": [
      "False\n",
      "True\n",
      "True\n"
     ]
    }
   ],
   "source": [
    "a = (1 < 2) # a = True\n",
    "b = (3**2 < 2**3) # b = False\n",
    "\n",
    "print(a and b)\n",
    "print(a or b)\n",
    "print(a and (not b))"
   ]
  },
  {
   "cell_type": "markdown",
   "metadata": {},
   "source": [
    "## 配列のたぐい\n",
    "Pythonには、「配列」に相当する型が複数あります（配列という名前の型は無いのですが、便宜上複数データを格納する型を「配列型」と呼ぶことにします）。Pythonでは配列要素はa[n]のように表され、ここでnは原則0からN-1（Nが配列の長さ）の整数を表します。**配列要素のインデックスが0から始まることに注意しましょう。**\n",
    "\n",
    "ここに挙げる配列型のすべてにおいて、配列要素数を得る**len**関数を用いることができます。"
   ]
  },
  {
   "cell_type": "code",
   "execution_count": 8,
   "metadata": {
    "collapsed": false
   },
   "outputs": [
    {
     "name": "stdout",
     "output_type": "stream",
     "text": [
      "5\n",
      "13\n"
     ]
    }
   ],
   "source": [
    "my_list = [1,2,3,4,5]\n",
    "my_str = \"Hello, world!\"\n",
    "print(len(my_list))\n",
    "print(len(my_str))"
   ]
  },
  {
   "cell_type": "markdown",
   "metadata": {},
   "source": [
    "### list, tuple, str"
   ]
  },
  {
   "cell_type": "markdown",
   "metadata": {},
   "source": [
    "**list**（リスト）は代表的な配列で、[ ]（スクエアブラケット）で囲われていることで特徴づけられます。listの要素の型は統一されている必要はなく、数、論理型、果てはlistやtupleまで、あらゆる型のものを要素として取ることができます。"
   ]
  },
  {
   "cell_type": "code",
   "execution_count": 9,
   "metadata": {
    "collapsed": false
   },
   "outputs": [
    {
     "name": "stdout",
     "output_type": "stream",
     "text": [
      "1.0\n",
      "orange\n",
      "[1, 2, 3]\n",
      "1\n"
     ]
    }
   ],
   "source": [
    "my_list = [1.0, \"orange\", [1,2,3]]\n",
    "print(my_list[0])\n",
    "print(my_list[1])\n",
    "print(my_list[2])\n",
    "print(my_list[2][0])"
   ]
  },
  {
   "cell_type": "markdown",
   "metadata": {},
   "source": [
    "listの代表的な操作として、**append**メソッドと**pop**メソッドを紹介します。**メソッド**とはある型の変数（オブジェクトといいます）に固有の関数で、\n",
    "\n",
    "```\n",
    "[オブジェクト名].[メソッド名]([引数])\n",
    "```\n",
    "\n",
    "のかたちで用いられます。\n",
    "\n",
    "appendはlistの最後に[引数]を付け足すメソッド、popは[引数]番目の要素を取り消すメソッドです。"
   ]
  },
  {
   "cell_type": "code",
   "execution_count": 10,
   "metadata": {
    "collapsed": false
   },
   "outputs": [
    {
     "name": "stdout",
     "output_type": "stream",
     "text": [
      "[1.0, 'orange', [1, 2, 3]]\n",
      "[1.0, 'orange', [1, 2, 3], 3.14]\n",
      "[1.0, [1, 2, 3], 3.14]\n"
     ]
    }
   ],
   "source": [
    "print(my_list)\n",
    "my_list.append(3.14)\n",
    "print(my_list)\n",
    "my_list.pop(1) # インデックスは0から始まることに注意\n",
    "print(my_list)"
   ]
  },
  {
   "cell_type": "markdown",
   "metadata": {},
   "source": [
    "listのその他の操作は[こちら](https://docs.python.org/3/tutorial/datastructures.html)に詳しいです。"
   ]
  },
  {
   "cell_type": "markdown",
   "metadata": {},
   "source": [
    "**tuple**（タプル）はlistと並び代表的な配列で、( )（丸カッコ）で囲われていることで特徴づけられます。\n",
    "listとtupleの最大の違いは、listでは要素の書き換えが行えるのに対して、tupleはそれを許さないということです。"
   ]
  },
  {
   "cell_type": "code",
   "execution_count": 11,
   "metadata": {
    "collapsed": false
   },
   "outputs": [
    {
     "name": "stdout",
     "output_type": "stream",
     "text": [
      "[1.0, [1, 2, 3], 3.14]\n",
      "(1.0, [1, 2, 3], 3.14)\n",
      "[1.0, [1, 2, 3], 'replaced']\n"
     ]
    },
    {
     "ename": "TypeError",
     "evalue": "'tuple' object does not support item assignment",
     "output_type": "error",
     "traceback": [
      "\u001b[0;31m---------------------------------------------------------------------------\u001b[0m",
      "\u001b[0;31mTypeError\u001b[0m                                 Traceback (most recent call last)",
      "\u001b[0;32m<ipython-input-11-ff2e4038ef82>\u001b[0m in \u001b[0;36m<module>\u001b[0;34m()\u001b[0m\n\u001b[1;32m      4\u001b[0m \u001b[0mmy_list\u001b[0m\u001b[0;34m[\u001b[0m\u001b[0;36m2\u001b[0m\u001b[0;34m]\u001b[0m \u001b[0;34m=\u001b[0m \u001b[0;34m\"replaced\"\u001b[0m\u001b[0;34m\u001b[0m\u001b[0m\n\u001b[1;32m      5\u001b[0m \u001b[0mprint\u001b[0m\u001b[0;34m(\u001b[0m\u001b[0mmy_list\u001b[0m\u001b[0;34m)\u001b[0m\u001b[0;34m\u001b[0m\u001b[0m\n\u001b[0;32m----> 6\u001b[0;31m \u001b[0mmy_tuple\u001b[0m\u001b[0;34m[\u001b[0m\u001b[0;36m2\u001b[0m\u001b[0;34m]\u001b[0m \u001b[0;34m=\u001b[0m \u001b[0;34m\"replaced?\"\u001b[0m \u001b[0;31m# raises TypeError\u001b[0m\u001b[0;34m\u001b[0m\u001b[0m\n\u001b[0m",
      "\u001b[0;31mTypeError\u001b[0m: 'tuple' object does not support item assignment"
     ]
    }
   ],
   "source": [
    "my_tuple = (1.0, [1,2,3], 3.14)\n",
    "print(my_list)\n",
    "print(my_tuple)\n",
    "my_list[2] = \"replaced\"\n",
    "print(my_list)\n",
    "my_tuple[2] = \"replaced?\" # raises TypeError"
   ]
  },
  {
   "cell_type": "markdown",
   "metadata": {},
   "source": [
    "**str**（ストリング、文字列型）はその名の通り文字列の型で、' '（シングルクォーテーション）または\" \"（ダブルクォーテーション）によって生成されます。インデックスによって「何文字目」かを表現するというように、配列的な操作が行われます。"
   ]
  },
  {
   "cell_type": "code",
   "execution_count": 12,
   "metadata": {
    "collapsed": false
   },
   "outputs": [
    {
     "name": "stdout",
     "output_type": "stream",
     "text": [
      "abc\n",
      "a\n"
     ]
    }
   ],
   "source": [
    "my_str = \"abc\"\n",
    "print(my_str)\n",
    "print(my_str[0])"
   ]
  },
  {
   "cell_type": "markdown",
   "metadata": {},
   "source": [
    "strどうしの結合はconcentrationと呼ばれ、+（足し算）で行うことができます。"
   ]
  },
  {
   "cell_type": "code",
   "execution_count": 13,
   "metadata": {
    "collapsed": false
   },
   "outputs": [
    {
     "name": "stdout",
     "output_type": "stream",
     "text": [
      "abcdef\n"
     ]
    }
   ],
   "source": [
    "new_str = my_str + \"def\"\n",
    "print(new_str)"
   ]
  },
  {
   "cell_type": "markdown",
   "metadata": {},
   "source": [
    "配列のなかでもlist, tuple, strは0からN-1（Nは要素数）の整数でインデクシングが行われています（要素に順序がある）。これらの型ではFortranなどと同様に部分配列を得る操作が行えます（スライスと呼ばれます）。スライスの文法は、\n",
    "\n",
    "```\n",
    "a[start:stop:step]\n",
    "```\n",
    "\n",
    "のようになっています。ここで*start*は部分配列の始まりのインデックスで、省略するとaの始まり(0)となります。*stop*は部分配列の終わりのインデックスで、省略するとaの終わりとなります。**注意すべきなのは、a[stop]の要素自体はスライスされた部分配列に含まれないということです。** *step*はスライスする要素の間隔を指示し、省略すると（*step*の前のコロンから省略できます）*start*と*stop*の間のすべての要素を抜き出します。"
   ]
  },
  {
   "cell_type": "code",
   "execution_count": 14,
   "metadata": {
    "collapsed": false
   },
   "outputs": [
    {
     "name": "stdout",
     "output_type": "stream",
     "text": [
      "[2, 3, 4]\n",
      "[1, 4, 7]\n",
      "[8, 9]\n",
      "[9, 8, 7, 6, 5, 4, 3, 2, 1, 0]\n"
     ]
    }
   ],
   "source": [
    "my_list = [0,1,2,3,4,5,6,7,8,9]\n",
    "slice1 = my_list[2:5]    # my_list[5]を含まないことに注目\n",
    "slice2 = my_list[1:8:3]  # 1から8まで（8を含まない）、増分3（2つおき）\n",
    "slice3 = my_list[8:]     # 8から終わりまで\n",
    "slice4 = my_list[::-1]   # 9から0まで1つずつ減っていく: stepが負の時はstartおよびstopのデフォルト値が入れ替わる\n",
    "print(slice1)\n",
    "print(slice2)\n",
    "print(slice3)\n",
    "print(slice4)"
   ]
  },
  {
   "cell_type": "markdown",
   "metadata": {},
   "source": [
    "list, tuple, strのインデックスは原則0からN-1（Nは要素数）の整数ですが、-Nから-1までの負の数をインデックスに用いることができます。\n",
    "\n",
    "a[-1]=a[N-1], a[-2]=a[N-2], ..., a[-N]=a[0]\n",
    "\n",
    "を意味します。"
   ]
  },
  {
   "cell_type": "markdown",
   "metadata": {},
   "source": [
    "### その他の配列型\n",
    "その他たまに使う配列型として、整数ではなく文字列でインデクシングを行う**dictionary**や、要素の順序を区別せず、またダブった要素を同一視する**set**などが挙げられます。"
   ]
  },
  {
   "cell_type": "code",
   "execution_count": 15,
   "metadata": {
    "collapsed": false
   },
   "outputs": [
    {
     "name": "stdout",
     "output_type": "stream",
     "text": [
      "20\n",
      "{0, 4, 5, 7, 8, 9}\n"
     ]
    }
   ],
   "source": [
    "my_dict = {\"Jim\": 10, \"Alex\": 20, \"Mike\": 30} # dictionary\n",
    "print(my_dict[\"Alex\"])\n",
    "my_set = {4,7,8,9,4,5,8,9,0} # set\n",
    "print(my_set)"
   ]
  },
  {
   "cell_type": "markdown",
   "metadata": {},
   "source": [
    "## ユーザー定義型\n",
    "オブジェクト指向型言語であるPythonでは、ユーザーが新たな型（クラス）を定義する際に、そのデータ構造だけでなく演算規則（+,-,...）や多様なメソッドまでも定義することができます。自らクラスを定義して洗練されたコード運用を行うまでいかなくても、ライブラリを使用するときにユーザー定義型のお世話になることはよくあります。その中で最も重要な例として、**NumPy ndarray**オブジェクトが挙げられます。NumPy ndarrayはNumpyモジュールで定義されるユーザー定義型で、多次元配列（数を要素とする）を高速に扱うことができます（実際の運用においてデータ格納のためにlistやtupleを用いると、多くの場合遅くて使えたものではありません）。NumPy Arrayの詳しい使い方はここでは述べませんが、以下にユーザー定義されたNumPy ndarrayの演算規則やメソッドの例を示します。"
   ]
  },
  {
   "cell_type": "code",
   "execution_count": 16,
   "metadata": {
    "collapsed": false
   },
   "outputs": [
    {
     "name": "stdout",
     "output_type": "stream",
     "text": [
      "<class 'numpy.ndarray'>\n",
      "[0 1 2 3 4 5 6 7 8 9]\n",
      "[ 0  2  4  6  8 10 12 14 16 18]\n",
      "[ 0  3  6  9 12 15 18 21 24 27]\n",
      "45\n"
     ]
    }
   ],
   "source": [
    "import numpy as np       # NumPyモジュールのインポート: モジュールのインポートについては後述\n",
    "my_arr1 = np.arange(10)   # NumPy Arrayの生成\n",
    "my_arr2 = np.arange(0,20,2)\n",
    "print(type(my_arr1))\n",
    "print(my_arr1)\n",
    "print(my_arr2)\n",
    "print(my_arr1 + my_arr2)  # 要素ごとの足し算\n",
    "print(my_arr1.sum())      # 和をとるメソッド"
   ]
  },
  {
   "cell_type": "markdown",
   "metadata": {},
   "source": [
    "## 型変換\n",
    "Fortranなどの言語と同様に、[*型の名前*]\\([*変換する変数*]\\)のようにして型の変換を行うことができます。"
   ]
  },
  {
   "cell_type": "code",
   "execution_count": 17,
   "metadata": {
    "collapsed": false
   },
   "outputs": [
    {
     "name": "stdout",
     "output_type": "stream",
     "text": [
      "123\n",
      "(-10+0j)\n",
      "('a', 1, 1.5)\n"
     ]
    }
   ],
   "source": [
    "print(str(123))            # int -> str\n",
    "print(complex(-10.0))      # float -> complex\n",
    "print(tuple(['a',1, 1.5])) # list -> tuple"
   ]
  },
  {
   "cell_type": "markdown",
   "metadata": {},
   "source": [
    "# 参考文献\n",
    "- [The Python tutorial](https://docs.python.org/3/tutorial/)（[日本語](http://docs.python.jp/3/tutorial/)）\n",
    "- [Scipy Lecture notes - The Python language](http://www.scipy-lectures.org/intro/language/python_language.html)（[日本語](http://www.turbare.net/transl/scipy-lecture-notes/intro/language/python_language.html)）"
   ]
  }
 ],
 "metadata": {
  "kernelspec": {
   "display_name": "Python 3",
   "language": "python",
   "name": "python3"
  },
  "language_info": {
   "codemirror_mode": {
    "name": "ipython",
    "version": 3
   },
   "file_extension": ".py",
   "mimetype": "text/x-python",
   "name": "python",
   "nbconvert_exporter": "python",
   "pygments_lexer": "ipython3",
   "version": "3.6.0"
  }
 },
 "nbformat": 4,
 "nbformat_minor": 2
}
