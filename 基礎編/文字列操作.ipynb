{
 "cells": [
  {
   "cell_type": "markdown",
   "metadata": {
    "nbpresent": {
     "id": "f392ade4-2b27-4304-9938-d7e70f3f28fd"
    }
   },
   "source": [
    "注：  このページはPython2.6以降のバージョンを対象に書かれています。  "
   ]
  },
  {
   "cell_type": "markdown",
   "metadata": {},
   "source": [
    "# 目次\n",
    " - Pythonにおける文字列（string型）\n",
    " - 文字列の結合\n",
    "     - +を使った結合\n",
    "     - str.format関数\n",
    "         - 基本的な使い方\n",
    "         - 書式指定子\n",
    "             - 具体例\n",
    "             - おすすめの書式指定子\n",
    " - strクラスの便利な関数\n",
    "     - str.strip\n",
    "     - str.split\n",
    "     - str.replace\n",
    " - 応用\n",
    "     - 人口推移をプロットしてみる\n",
    "         \n",
    " "
   ]
  },
  {
   "cell_type": "markdown",
   "metadata": {
    "nbpresent": {
     "id": "7a7ebca3-450c-4e75-bc4f-2b8249275abc"
    }
   },
   "source": [
    "# Pythonにおける文字列（string型）\n",
    "Pythonで文字列を扱うための組み込みクラスとして、**string**という型があります。別の言い方として、**文字列型**や**str**などと呼ばれることもあります。  \n",
    "大概の文字列操作はこのクラスだけで出来ちゃうので、マスターするとファイル入出力などで困ることがぐっと減ります。数値をフォーマットして文字列に変換したり、必要な部分を抜き出したり、特定文字を区切り文字として複数の文字列に分割したりと多機能なクラスです。  \n",
    "文字列は\"（ダブルクォーテーション）もしくは'（シングルクォーテーション）で囲むことで作れます（２つの違いはまったくない）。\n"
   ]
  },
  {
   "cell_type": "code",
   "execution_count": 1,
   "metadata": {
    "collapsed": false,
    "nbpresent": {
     "id": "d549ea5b-b25c-49b9-a9ae-3acd021f55d4"
    }
   },
   "outputs": [
    {
     "data": {
      "text/plain": [
       "str"
      ]
     },
     "execution_count": 1,
     "metadata": {},
     "output_type": "execute_result"
    }
   ],
   "source": [
    "s = \"hello\"\n",
    "# s = 'hello' <-- これでもよい\n",
    "type(s)"
   ]
  },
  {
   "cell_type": "markdown",
   "metadata": {
    "nbpresent": {
     "id": "d8ad8ca8-5cbc-4166-b5aa-153767f5eedf"
    }
   },
   "source": [
    "Cでの**char**やFortranでの**character**と違い、文字そのものも長さが１の文字列として扱います。事前に配列を定義する必要があったり、結合しているうちに最初に定義した配列サイズを超えるといったことはなく、直感的な操作が可能です。"
   ]
  },
  {
   "cell_type": "markdown",
   "metadata": {
    "nbpresent": {
     "id": "c26e4184-f1e6-4a79-9cc3-1494d5f17911"
    }
   },
   "source": [
    "# 文字列の結合\n",
    "## +記号を使った文字列の結合\n",
    "多くのスクリプト言語と同様に、文字列を結合するためには**+**記号を使います。"
   ]
  },
  {
   "cell_type": "code",
   "execution_count": 2,
   "metadata": {
    "collapsed": true,
    "nbpresent": {
     "id": "b4af0dd9-d547-43c5-9c32-0099d2aea6eb"
    }
   },
   "outputs": [
    {
     "data": {
      "text/plain": [
       "'hello,world'"
      ]
     },
     "execution_count": 2,
     "metadata": {},
     "output_type": "execute_result"
    }
   ],
   "source": [
    "# +記号を使った文字列の結合\n",
    "\"hello\" + \",\" + \"world\" # --> 'hello,world'\n",
    "\n",
    "# +を使わずこんな結合もできる\n",
    "\"hello\"\",\"\"world\" # --> 'hello,world'"
   ]
  },
  {
   "cell_type": "markdown",
   "metadata": {
    "nbpresent": {
     "id": "2389e8be-cb16-4991-81ce-b2cf416c3866"
    }
   },
   "source": [
    "ここで一つ注意しなければならないのは、**int**や**float**といった数値の型はstring型と「＋」を用いた結合ができないということです。数値をstring型と結合するためには、数値をstring型に明示的にキャスト（型の変換）する必要があります。"
   ]
  },
  {
   "cell_type": "code",
   "execution_count": 3,
   "metadata": {
    "collapsed": false,
    "nbpresent": {
     "id": "1ae3b7f3-2b92-494c-9d5c-94bc7d77d336"
    }
   },
   "outputs": [
    {
     "data": {
      "text/plain": [
       "'1a'"
      ]
     },
     "execution_count": 3,
     "metadata": {},
     "output_type": "execute_result"
    }
   ],
   "source": [
    "# 1 + \"a\"　#TypeError\n",
    "str(1) + \"a\""
   ]
  },
  {
   "cell_type": "markdown",
   "metadata": {
    "nbpresent": {
     "id": "5b2f57df-61fa-47e1-bff1-00cc3b5c7a51"
    }
   },
   "source": [
    "このような少し面倒な仕様になっているのは、意図していない結合をした場合に必ずエラーが出るようにするためです。  \n",
    "CやFortranのように型を事前に指定して変数を定義するコンパイル言語と違い、Pythonを始めとしたスクリプト言語では、変数に異なる型を代入できるために、間違った型を入れたままコードを書いてしまうことがあります。  \n",
    "一例を上げると、"
   ]
  },
  {
   "cell_type": "code",
   "execution_count": 4,
   "metadata": {
    "collapsed": false,
    "nbpresent": {
     "id": "b0ff6afa-1f1d-4365-911c-9cfcfd890876"
    }
   },
   "outputs": [
    {
     "ename": "TypeError",
     "evalue": "unsupported operand type(s) for +: 'int' and 'str'",
     "output_type": "error",
     "traceback": [
      "\u001b[0;31m---------------------------------------------------------------------------\u001b[0m",
      "\u001b[0;31mTypeError\u001b[0m                                 Traceback (most recent call last)",
      "\u001b[0;32m<ipython-input-4-63084913d688>\u001b[0m in \u001b[0;36m<module>\u001b[0;34m()\u001b[0m\n\u001b[1;32m      1\u001b[0m \u001b[0mnum1\u001b[0m \u001b[1;33m=\u001b[0m \u001b[1;36m1\u001b[0m\u001b[1;33m\u001b[0m\u001b[0m\n\u001b[1;32m      2\u001b[0m \u001b[0mnum2\u001b[0m \u001b[1;33m=\u001b[0m \u001b[1;34m\"3\"\u001b[0m \u001b[1;31m#ファイルからの読み取りの際、stringのままに変数に保存\u001b[0m\u001b[1;33m\u001b[0m\u001b[0m\n\u001b[0;32m----> 3\u001b[0;31m \u001b[0mnum1\u001b[0m \u001b[1;33m+\u001b[0m \u001b[0mnum2\u001b[0m \u001b[1;31m#TypeError\u001b[0m\u001b[1;33m\u001b[0m\u001b[0m\n\u001b[0m",
      "\u001b[0;31mTypeError\u001b[0m: unsupported operand type(s) for +: 'int' and 'str'"
     ]
    }
   ],
   "source": [
    "num1 = 1\n",
    "num2 = \"3\" #ファイルからの読み取りの際、stringのままに変数に保存\n",
    "num1 + num2 #TypeError"
   ]
  },
  {
   "cell_type": "markdown",
   "metadata": {
    "nbpresent": {
     "id": "94589dd6-89be-43df-a5fb-f8fd7c7ec6fa"
    }
   },
   "source": [
    "このコードを書いた人は最後の行では何をしようとしたのでしょうか？可能性は２つあります。  \n",
    "- num1, num2のどちらも**string**だと思って計算し、出力では「13」を出そうとした\n",
    "- num1, num2のどちらも**int**だと思って計算し、出力では「4」を出そうとした\n",
    "\n",
    "もちろん、Pythonのインタプリタ（コードを一行ごと読み込んで実行するもの）はどちらが本来意図されていたかを知る由もないのでエラーを吐き出すわけです。  \n",
    "この面倒な仕様は、スクリプト言語の宿命とも言える産物なのです。"
   ]
  },
  {
   "cell_type": "markdown",
   "metadata": {
    "nbpresent": {
     "id": "1923b8aa-55e1-4e37-92f2-92f69fd87e71"
    }
   },
   "source": [
    "## str.format関数\n",
    "上記のような宿命は納得したとしても、さすがに毎回キャストするのは面倒です。\n",
    "２つの文字列を結合するぐらいならキャストでいいかもしれませんが、大抵の場合、もっと多くの文字列を結合したいはずなので、これを簡単にする関数として**str.format**が用意されています。  \n",
    "複数の文字列、数値などを連結する場合に非常によく使います。特に、科学技術計算などで数値をフォーマット（桁数を指定するなど）する際に役立ちます。  \n",
    "生の文字列もstringなので、実は関数を呼び出すことができ、format関数を使うときには大抵このように記述します。"
   ]
  },
  {
   "cell_type": "code",
   "execution_count": 5,
   "metadata": {
    "collapsed": false,
    "nbpresent": {
     "id": "3d50e7de-b3c7-4237-ae3d-3e24c1f0a9b7"
    }
   },
   "outputs": [
    {
     "data": {
      "text/plain": [
       "'正の整数で一番小さいものは、「1」'"
      ]
     },
     "execution_count": 5,
     "metadata": {},
     "output_type": "execute_result"
    }
   ],
   "source": [
    "\"正の整数で一番小さいものは、「{}」\".format(1)"
   ]
  },
  {
   "cell_type": "markdown",
   "metadata": {
    "nbpresent": {
     "id": "c3a9027e-987c-40e1-bda8-1dffe00e5d98"
    }
   },
   "source": [
    "基本的にformat関数は、文字列中の「{ }」の場所に、引数をstringにキャストして埋め込むという機能を持ちます。  \n",
    "formatの引数は複数入れることも可能で、その場合、引数の個数に対応した「{}」を文字列の中に含んでいなければなりません。  "
   ]
  },
  {
   "cell_type": "code",
   "execution_count": 6,
   "metadata": {
    "collapsed": true,
    "nbpresent": {
     "id": "02ce5ee9-eb23-4e37-bf35-aba0babd2b44"
    }
   },
   "outputs": [
    {
     "data": {
      "text/plain": [
       "'1 100'"
      ]
     },
     "execution_count": 6,
     "metadata": {},
     "output_type": "execute_result"
    }
   ],
   "source": [
    "num1 = 1\n",
    "num2 = 3\n",
    "\"{} + {} = {}\".format(num1, num2, num1 + num2) \n",
    "# --> '1 + 3 = 4'\n",
    "\n",
    "#「{ }」の中に埋め込みたい引数の位置を明示的に番号で与えることもできる\n",
    "# 引数のタプルのインデックスを指定している\n",
    "\"{0} {1} {2} {1}\".format(\"一個目\",\"二個目\",\"三個目\") \n",
    "# --> '一個目 二個目 三個目 二個目'\n",
    "\n",
    "#リストを展開して文字列に入れたい場合。「＊」でリストをばらして引数にできる。\n",
    "greetings = [\"hello\", \"こんにちは\", \"ニーハオ\"]\n",
    "\"{}, {}, {}\".format(*greetings) \n",
    "# --> 'hello, こんにちは, ニーハオ'\n",
    "\n",
    "#floatを入れた場合\n",
    "\"{}\".format(1./3) \n",
    "# --> '0.3333333333333333'\n",
    "\n",
    "#キーワード引数で可読性を上げる\n",
    "\"{arg1} {arg2}\".format(arg1=1, arg2=100) \n",
    "# --> '1 100'\n",
    "\n"
   ]
  },
  {
   "cell_type": "markdown",
   "metadata": {},
   "source": [
    "注：{ } の数字やキーワードを省略した場合、文字列の中に出てくる { } に0, 1, 2,…と番号をつけていくという処理が行われています。  \n",
    "\n",
    "### 書式指定子\n",
    "細かいフォーマットの指定は { } の中に**書式指定子**を入れることで可能です。  \n",
    "> **フォーマットの構造　：　{ [引数の指定] : [書式指定子] }**  \n",
    "\n",
    "\"{○:△}\"の○部分で引数の指定（上記の0,1やarg1など）を行い、△の部分に書式指定子を書きます。○の部分を省略した場合（書式指定子のみを書く場合）、**\"{:△}\"**と書きます（コロンは省略できません）。  \n",
    "\n",
    "#### 書式指定子の構造\n",
    "書式指定子は指定する順番によってどれを指定するかが変わります。  \n",
    "少々分かりにくいですが、公式HPより一般的な書式指定子の書き方を引用してみます。\n",
    "> [ [fill] align] [sign] [#] [0] [width] [.precision] [type]\n",
    "\n",
    "以下に、指定子をまとめた表を載せます。\n",
    "利用可能なオプションの詳細は[公式HP](https://docs.python.jp/3/library/string.html#format-specification-mini-language)で確認してください。  \n",
    "おすすめの部分は、数値をフォーマットする場合を前提として書いています。\n",
    "\n",
    "|指定子名|利用可能なオプション|意味|デフォルト|おすすめ|\n",
    "|:--------:|:----------------------:|:----:|:----------:|:-----:|\n",
    "|fill|任意の文字|空白部分に埋める文字の指定<br>（alignとセット）|\" \"（空白部分はスペースで埋める）|デフォルト|\n",
    "|align|\"<\", \">\", \"=\", \"^\"|左詰めや右詰めなどの指定|数値なら右詰め、stringなら左詰め|同上|\n",
    "|sign|\"+\", \"-\", \" \"|符号の表示の仕方|\"-\"（負数のみ符号を表示）|同上|\n",
    "|0|なし、\"0\"|\"0\"にした場合、符号を前につけ、その間を0埋め|なし|0埋めしたい場合はこれのみ指定|\n",
    "|#|なし, \"#\"|16進数のとき0xをつけるかどうかなどの指定|\"\"（デフォルトでなし）|デフォルト|\n",
    "|width|整数|全体幅の指定（幅より大きい数値ならばそれが収まるような全体幅に自動で変わる|収まるような幅|小さく取ると勝手に大きくなるので、あらかじめ大きめに取っておく|\n",
    "|.precision|整数|小数点以下の桁数の指定|16桁くらい|自由にどうぞ|\n",
    "|type|\"b\", \"d\", \"e\", \"E\", \"f\"など| 整数や小数の表示方法<br>（指数表示とか）|小数：固定小数点<br>整数：10進数| \"e\", \"E\"（どちらも指数表示、\"E\"は1.E01のように大文字になる）もしくは \"f\"（固定小数点表示）\n"
   ]
  },
  {
   "cell_type": "markdown",
   "metadata": {},
   "source": [
    "#### 具体例\n",
    "書式指定子の種類は多く、指定子の順番などで混乱することがあるので、いくつか具体例を挙げていきます。  \n",
    "もちろん書式指定子は全部書く必要はなく、一度出力してみて指定したいところのみ書けばいいと思います。  \n",
    "細かい書式なんていいという人は、[おすすめの書式指定子](#おすすめの書式指定子)だけ見れいただければ十分です。"
   ]
  },
  {
   "cell_type": "code",
   "execution_count": 7,
   "metadata": {
    "collapsed": true
   },
   "outputs": [
    {
     "data": {
      "text/plain": [
       "'100101100 300 12c 12C'"
      ]
     },
     "execution_count": 7,
     "metadata": {},
     "output_type": "execute_result"
    }
   ],
   "source": [
    "\"{:0>-6.2f}\".format(2.568) # --> '002.57'\n",
    "# [fill]            0 : 空白部分に０を詰める\n",
    "# [align]        > : 全体を右詰めする\n",
    "# [sign]          - : 負数のみ符号を表示する、正数の場合符号の文字数はカウントしない\n",
    "# [width]       6 : 全体幅を6にする（小数点や符号を含む）\n",
    "# [.precision] .2 : 小数点以下の桁数を２にする（はみ出す場合四捨五入される）\n",
    "# [type]          f : 固定小数点表記にする\n",
    "\n",
    "\"{:*^+20.2e}\".format(62.33777) # --> '*****+6.23e+01******'\n",
    "# [fill]            * : 空白部分に*を詰める\n",
    "# [align]        ^ : 全体をできるだけ中央寄せする\n",
    "# [sign]         + : 正負どちらでも符号を表示する\n",
    "# [width]       20 : 全体幅を２０にする\n",
    "#[.precision]  .2 : 小数点以下２桁まで表示する\n",
    "# [type]          e : 指数表記にする（Eなら大文字）\n",
    "\n",
    "#intの場合\n",
    "\"{0:b} {0:d} {0:x} {0:X}\".format(300) # --> '100101100 300 12c 12C'\n",
    "# [type]    b : ２進数。\n",
    "# [type]    d : 10進数\n",
    "# [type]    x : 16進数\n",
    "# [type]    X : 16進数（大文字）"
   ]
  },
  {
   "cell_type": "code",
   "execution_count": 8,
   "metadata": {
    "collapsed": true
   },
   "outputs": [
    {
     "data": {
      "text/plain": [
       "'-  12.34'"
      ]
     },
     "execution_count": 8,
     "metadata": {},
     "output_type": "execute_result"
    }
   ],
   "source": [
    "# --------------ここからやや細かい具体例です。とばしてもかまいません。-----------------\n",
    "\n",
    "# ------- fillの例 -------\n",
    "\"{:06}\".format(123) # --> '000123'\n",
    "\"{: 6}\".format(123) # --> '   123'\n",
    "\n",
    "# ------- alignの例 -------\n",
    "#右詰め（空白を0埋め）。これは良くない例。\n",
    "\"{:0>6}\".format(-123) # --> '00-123'\n",
    "\n",
    "#それを防ぐには右詰めするときは空白埋めすべき（つまりデフォルト）\n",
    "\"{:6}\".format(-123) # --> '  -123'\n",
    "\n",
    "# alignを\"=\"（符号だけを前に出す右詰め）\n",
    "\"{:0=6}\".format(-123) # --> '-00123'\n",
    "#これは下と等価（widthの前の\"0\"は\"0=\"と等価）\n",
    "\"{:06}\".format(-123)   # --> '-00123'\n",
    "\n",
    "#0埋め、かつ符号だけ前に出す右詰め、幅7\n",
    "#signを \"-\"と\" \"の例を示した。負数の場合変わらないが、正数の場合は符号の扱いが異なる。\n",
    "\"{:-07}\".format(12.34)  # --> '0012.34'\n",
    "\"{: 07}\".format(12.34)  # --> ' 012.34'　符号部分が空白になっている\n",
    "\n",
    "# \"=\"だけの指定は空白埋めと相性が悪い。\n",
    "\"{:=8}\".format(-12.34)  # --> '-  12.34'"
   ]
  },
  {
   "cell_type": "markdown",
   "metadata": {},
   "source": [
    "#### おすすめの書式指定子\n",
    "結局、一番いい書式が最もシンプルになるように考えられて設計されているようです。  "
   ]
  },
  {
   "cell_type": "code",
   "execution_count": 9,
   "metadata": {
    "collapsed": true
   },
   "outputs": [
    {
     "data": {
      "text/plain": [
       "'**-12.34'"
      ]
     },
     "execution_count": 9,
     "metadata": {},
     "output_type": "execute_result"
    }
   ],
   "source": [
    "#符号を前に出したい場合は、width（幅）の前に\"0\"をつける\n",
    "\"{:08}\".format(-12.34) # --> '-0012.34'\n",
    "\n",
    "#空白埋めの場合はデフォルトにして幅だけ決めれば良い\n",
    "\"{:8}\".format(-12.34)  # --> '  -12.34'\n",
    "\n",
    "#これをベースに小数点以下の桁数などを変更する\n",
    "\"{:06.1f}\".format(-12.34) # --> '-012.3'\n",
    "\"{:6.1f}\".format(-12.34)  # --> ' -12.3'\n",
    "\n",
    "#別の文字で埋めたい場合はこうすると良い\n",
    "\"{:*>8}\".format(-12.34)  # --> '**-12.34'"
   ]
  },
  {
   "cell_type": "markdown",
   "metadata": {},
   "source": [
    "## strクラスの便利な関数\n",
    "strクラスには、str.format以外にも使い勝手の良い関数が多数用意されています。  \n",
    "ここでは、そのうちファイル入力を処理する際などに役立つ関数を紹介します。\n",
    "### str.strip\n",
    "stripは「取り除く、奪う」などの意味を持つ単語ですが、その名の通りこの関数は文字列の最初や最後にある余計な空白や改行文字を取り除いてくれます。"
   ]
  },
  {
   "cell_type": "code",
   "execution_count": 10,
   "metadata": {
    "collapsed": true
   },
   "outputs": [
    {
     "data": {
      "text/plain": [
       "'最後に  改行文字が   含まれる例'"
      ]
     },
     "execution_count": 10,
     "metadata": {},
     "output_type": "execute_result"
    }
   ],
   "source": [
    "#最初と最後の空白を取り除く\n",
    "\"       空白が        たくさん     あるよ　　　\".strip()\n",
    "# --> '空白が        たくさん     あるよ'\n",
    "\n",
    "# 改行文字も取り除く\n",
    "\"      最後に  改行文字が   含まれる例    \\n\".strip()\n",
    "# --> '最後に  改行文字が   含まれる例'"
   ]
  },
  {
   "cell_type": "markdown",
   "metadata": {},
   "source": [
    "### str.split\n",
    "この関数では、指定した区切り文字で文字列を分割して文字列のリストを返します。区切り文字を指定しない場合、スペースやタブのような空白でうまいこと分割してくれるので、まずは区切り文字を指定しないでやってみることをおすすめします。"
   ]
  },
  {
   "cell_type": "code",
   "execution_count": 11,
   "metadata": {
    "collapsed": true
   },
   "outputs": [
    {
     "data": {
      "text/plain": [
       "['csvファイルなどに', '使う場合を', '想定しています']"
      ]
     },
     "execution_count": 11,
     "metadata": {},
     "output_type": "execute_result"
    }
   ],
   "source": [
    "#スペースで分割\n",
    "\"a b c\".split() # --> ['a', 'b', 'c']\n",
    "\n",
    "#タブやスペースが混在しててもうまく分割してくれる\n",
    "\"a \\t   b  \\t  c\".split() # --> ['a', 'b', 'c']\n",
    "\n",
    "#区切り文字を指定する場合\n",
    "\"csvファイルなどに,使う場合を,想定しています\".split(\",\")\n",
    "# --> ['csvファイルなどに', '使う場合を', '想定しています']"
   ]
  },
  {
   "cell_type": "markdown",
   "metadata": {},
   "source": [
    "### str.replace\n",
    "その名の通り、文字列に含まれるある文字を別の文字に置き換えた文字列を返す関数です。"
   ]
  },
  {
   "cell_type": "code",
   "execution_count": 12,
   "metadata": {
    "collapsed": true
   },
   "outputs": [
    {
     "data": {
      "text/plain": [
       "'いいういいういいういいういいういいういいう'"
      ]
     },
     "execution_count": 12,
     "metadata": {},
     "output_type": "execute_result"
    }
   ],
   "source": [
    "\"あいうあいうあいうあいうあいうあいうあいう\".replace(\"あ\",\"い\") # \"あ\"を\"い\"に置き換える\n",
    "# --> 'いいういいういいういいういいういいういいう'"
   ]
  },
  {
   "cell_type": "markdown",
   "metadata": {},
   "source": [
    "# 応用例\n",
    "## 人口推移をプロットしてみる\n",
    "上の３つの関数を組み合わせると、テキストファイルのデータをリストに変換することが非常に簡単になります。  \n",
    "具体例を示すために、総務省が国勢調査をまとめ男女別の人口推移が[CSV形式で公開されている](http://www.e-stat.go.jp/SG1/estat/GL08020103.do?_csvDownload_&fileId=000007847517&releaseCount=1)のでこれを使って、全国の人口推移をグラフにするところまでやってみることにしましょう。  \n",
    "もちろんCSV形式はnumpyなどを使えば一発で変換できますが、世の中にはいろいろな形式がはびこっていますので、そのような形式に出会ったときでも素早く処理できるようにCSVで練習しておきましょう。\n"
   ]
  },
  {
   "cell_type": "code",
   "execution_count": 13,
   "metadata": {
    "collapsed": false,
    "scrolled": true
   },
   "outputs": [
    {
     "data": {
      "text/plain": [
       "['\"都道府県コード\",\"都道府県名\",\"元号\",\"和暦（年）\",\"西暦（年）\",\"注\",\"人口（総数）\",\"人口（男）\",\"人口（女）\"\\n',\n",
       " '\"00\",\"全国\",\"大正\",9,1920,\"\",55963053,28044185,27918868\\n',\n",
       " '\"01\",\"北海道\",\"大正\",9,1920,\"\",2359183,1244322,1114861\\n',\n",
       " '\"02\",\"青森県\",\"大正\",9,1920,\"\",756454,381293,375161\\n',\n",
       " '\"03\",\"岩手県\",\"大正\",9,1920,\"\",845540,421069,424471\\n']"
      ]
     },
     "execution_count": 13,
     "metadata": {},
     "output_type": "execute_result"
    }
   ],
   "source": [
    "#ファイルをテキストモードで開く\n",
    "with open(\"c01.csv\", \"r\") as fp:\n",
    "    # 読み取ったテキストを各行をリストに保存（最後の２行はデータではないので取り除く）\n",
    "    lines = fp.readlines()[:-2]\n",
    "lines[:5]  #リストの最初５個を表示"
   ]
  },
  {
   "cell_type": "code",
   "execution_count": 14,
   "metadata": {
    "collapsed": false
   },
   "outputs": [
    {
     "data": {
      "text/plain": [
       "['\"都道府県コード\"',\n",
       " '\"都道府県名\"',\n",
       " '\"元号\"',\n",
       " '\"和暦（年）\"',\n",
       " '\"西暦（年）\"',\n",
       " '\"注\"',\n",
       " '\"人口（総数）\"',\n",
       " '\"人口（男）\"',\n",
       " '\"人口（女）\"\\n']"
      ]
     },
     "execution_count": 14,
     "metadata": {},
     "output_type": "execute_result"
    }
   ],
   "source": [
    "#最初の行をsplitしてみる\n",
    "lines[0].split(\",\")"
   ]
  },
  {
   "cell_type": "markdown",
   "metadata": {},
   "source": [
    "この出力を見ても分かるように、最後に改行文字（\\n）がついており、単純にstr.splitしてもうまく行きません。  \n",
    "こういうときは先にstr.stripで改行文字のような不必要なものを取り除く必要があります。"
   ]
  },
  {
   "cell_type": "code",
   "execution_count": 15,
   "metadata": {
    "collapsed": false
   },
   "outputs": [
    {
     "data": {
      "text/plain": [
       "['\"都道府県コード\"',\n",
       " '\"都道府県名\"',\n",
       " '\"元号\"',\n",
       " '\"和暦（年）\"',\n",
       " '\"西暦（年）\"',\n",
       " '\"注\"',\n",
       " '\"人口（総数）\"',\n",
       " '\"人口（男）\"',\n",
       " '\"人口（女）\"']"
      ]
     },
     "execution_count": 15,
     "metadata": {},
     "output_type": "execute_result"
    }
   ],
   "source": [
    "lines[0].strip().split(\",\")"
   ]
  },
  {
   "cell_type": "markdown",
   "metadata": {},
   "source": [
    "なぜかこのデータはもともとのcsvがダブルクォーテーションでくくられていて気に食わないので、ここでreplaceで先に「”」を「」などに置換（つまり文字列から\"を消す）して消してしまいましょう。"
   ]
  },
  {
   "cell_type": "code",
   "execution_count": 16,
   "metadata": {
    "collapsed": false
   },
   "outputs": [
    {
     "data": {
      "text/plain": [
       "['都道府県コード', '都道府県名', '元号', '和暦（年）', '西暦（年）', '注', '人口（総数）', '人口（男）', '人口（女）']"
      ]
     },
     "execution_count": 16,
     "metadata": {},
     "output_type": "execute_result"
    }
   ],
   "source": [
    "lines[0].replace('\"', \"\").strip().split(\",\")"
   ]
  },
  {
   "cell_type": "markdown",
   "metadata": {},
   "source": [
    "すっきりしましたね。  \n",
    "最初の行がうまくリスト化できることがわかったので、この処理を全ての行に適用するためにリスト内包表記という書き方を使って楽をしましょう。  "
   ]
  },
  {
   "cell_type": "code",
   "execution_count": 17,
   "metadata": {
    "collapsed": false
   },
   "outputs": [
    {
     "data": {
      "text/plain": [
       "[0, 1, 4, 9, 16]"
      ]
     },
     "execution_count": 17,
     "metadata": {},
     "output_type": "execute_result"
    }
   ],
   "source": [
    "#リスト内包表記の例（各要素になんらかの処理を施したリストを返してくる）\n",
    "[i*i for i in range(5)]"
   ]
  },
  {
   "cell_type": "code",
   "execution_count": 18,
   "metadata": {
    "collapsed": false
   },
   "outputs": [
    {
     "data": {
      "text/plain": [
       "[['都道府県コード', '都道府県名', '元号', '和暦（年）', '西暦（年）', '注', '人口（総数）', '人口（男）', '人口（女）'],\n",
       " ['00', '全国', '大正', '9', '1920', '', '55963053', '28044185', '27918868'],\n",
       " ['01', '北海道', '大正', '9', '1920', '', '2359183', '1244322', '1114861'],\n",
       " ['02', '青森県', '大正', '9', '1920', '', '756454', '381293', '375161'],\n",
       " ['03', '岩手県', '大正', '9', '1920', '', '845540', '421069', '424471']]"
      ]
     },
     "execution_count": 18,
     "metadata": {},
     "output_type": "execute_result"
    }
   ],
   "source": [
    "lines_splited = [line.replace('\"', \"\").strip().split(\",\") for line in lines] #リスト内包表記\n",
    "lines_splited[:5] #変換後のリストの最初５個を表示"
   ]
  },
  {
   "cell_type": "markdown",
   "metadata": {},
   "source": [
    "もともと、全国のものだけをデータとしてほしいので、各リストの２番めが\"全国\"に等しいものだけを取り出してきましょう。"
   ]
  },
  {
   "cell_type": "code",
   "execution_count": 19,
   "metadata": {
    "collapsed": false
   },
   "outputs": [
    {
     "data": {
      "text/plain": [
       "[['00', '全国', '大正', '9', '1920', '', '55963053', '28044185', '27918868'],\n",
       " ['00', '全国', '大正', '14', '1925', '', '59736822', '30013109', '29723713'],\n",
       " ['00', '全国', '昭和', '5', '1930', '', '64450005', '32390155', '32059850'],\n",
       " ['00', '全国', '昭和', '10', '1935', '', '69254148', '34734133', '34520015'],\n",
       " ['00', '全国', '昭和', '15', '1940', '', '73114308', '36566010', '36548298']]"
      ]
     },
     "execution_count": 19,
     "metadata": {},
     "output_type": "execute_result"
    }
   ],
   "source": [
    "lines_全国 = [line for line in lines_splited if line[1] == \"全国\"] #リスト内包表記で条件を満たすものだけを取り出す\n",
    "lines_全国[:5]"
   ]
  },
  {
   "cell_type": "code",
   "execution_count": 20,
   "metadata": {
    "collapsed": false
   },
   "outputs": [],
   "source": [
    "#入れ子になって分かり辛いが、各リストの最後から５, ３，２，１番目をそれぞれintにキャストしてリスト化している\n",
    "year, pop_all, pop_man, pop_woman = [[int(line[i]) for line in lines_全国] for i in [-5, -3, -2, -1]]"
   ]
  },
  {
   "cell_type": "code",
   "execution_count": 21,
   "metadata": {
    "collapsed": false,
    "scrolled": true
   },
   "outputs": [
    {
     "data": {
      "text/plain": [
       "['西暦（年）', '人口（総数）', '人口（男）', '人口（女）']"
      ]
     },
     "execution_count": 21,
     "metadata": {},
     "output_type": "execute_result"
    }
   ],
   "source": [
    "labels = [lines_splited[0][i] for i in [-5, -3, -2, -1]]\n",
    "labels # 抜き出し方が正しいことを確認"
   ]
  },
  {
   "cell_type": "markdown",
   "metadata": {},
   "source": [
    "リスト内包表記を組み合わせると一行で色々なことができるのでとてもおすすめです。  \n",
    "何はともあれデータが抜き出せたのでプロットしてみましょう。"
   ]
  },
  {
   "cell_type": "code",
   "execution_count": 22,
   "metadata": {
    "collapsed": false
   },
   "outputs": [
    {
     "data": {
      "image/png": "[encoded data removed]",
      "text/plain": [
       "<matplotlib.figure.Figure at 0x20904f61358>"
      ]
     },
     "metadata": {},
     "output_type": "display_data"
    }
   ],
   "source": [
    "import matplotlib.pyplot as plt\n",
    "%matplotlib inline\n",
    "labels = [\"all\", \"man\", \"woman\"] # 凡例用（注：matplotlibは日本語が文字化けするため英語にしている）\n",
    "plt.xlabel(\"year\")\n",
    "plt.ylabel(\"population\")\n",
    "for label, pop in zip(labels, [pop_all, pop_man, pop_woman]):\n",
    "    plt.plot(year, pop, label=label)\n",
    "plt.legend(loc=\"best\")\n",
    "plt.show()"
   ]
  },
  {
   "cell_type": "markdown",
   "metadata": {},
   "source": [
    "戦争のときに男性の人口が減っていること、最近は全体が減少に転じつつあることが分かります。  \n",
    "以上のことをまとめると次のセルのようになります。データの取得だけだと５行で書けていることになります。  \n",
    "Pythonの文字列操作の関数自体はシンプルなものばかりですが、リスト内包表記のような組み込み関数と組み合わせると素早く必要な処理を行うことが出来ます。  \n",
    "エクセルでできることをわざわざやっただけのように思えるかもしれませんが、numpyと組み合わせると、膨大なデータでも苦もなくプロットでき、非常に応用範囲が広いです。"
   ]
  },
  {
   "cell_type": "code",
   "execution_count": 23,
   "metadata": {
    "collapsed": false
   },
   "outputs": [
    {
     "data": {
      "image/png": "[encoded data removed]",
      "text/plain": [
       "<matplotlib.figure.Figure at 0x20904f70e10>"
      ]
     },
     "metadata": {},
     "output_type": "display_data"
    }
   ],
   "source": [
    "# 全体まとめ\n",
    "with open(\"c01.csv\", \"r\") as fp:\n",
    "    lines = fp.readlines()[:-2]\n",
    "lines_splited = [line.replace('\"', \"\").strip().split(\",\") for line in lines]  \n",
    "lines_全国 = [line for line in lines_splited if line[1] == \"全国\"]\n",
    "year, pop_all, pop_man, pop_woman = [[int(line[i]) for line in lines_全国] for i in [-5, -3, -2, -1]]\n",
    "\n",
    "import matplotlib.pyplot as plt\n",
    "%matplotlib inline\n",
    "labels = [\"all\", \"man\", \"woman\"]\n",
    "plt.xlabel(\"year\")\n",
    "plt.ylabel(\"population\")\n",
    "for label, pop in zip(labels, [pop_all, pop_man, pop_woman]):\n",
    "    plt.plot(year, pop, label=label)\n",
    "plt.legend(loc=\"best\")\n",
    "plt.show()"
   ]
  }
 ],
 "metadata": {
  "anaconda-cloud": {},
  "kernelspec": {
   "display_name": "Python [default]",
   "language": "python",
   "name": "python3"
  },
  "language_info": {
   "codemirror_mode": {
    "name": "ipython",
    "version": 3
   },
   "file_extension": ".py",
   "mimetype": "text/x-python",
   "name": "python",
   "nbconvert_exporter": "python",
   "pygments_lexer": "ipython3",
   "version": "3.5.2"
  }
 },
 "nbformat": 4,
 "nbformat_minor": 1
}
