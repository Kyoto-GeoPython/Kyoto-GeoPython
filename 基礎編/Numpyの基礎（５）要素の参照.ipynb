{
 "cells": [
  {
   "cell_type": "markdown",
   "metadata": {
    "run_control": {
     "frozen": false,
     "read_only": false
    }
   },
   "source": [
    "# 目次\n",
    "- [インデックス参照](#インデックス参照)\n",
    "    - [スライス](#スライス)\n",
    "    - [ファンシーインデックス参照](#ファンシーインデックス参照)"
   ]
  },
  {
   "cell_type": "code",
   "execution_count": 1,
   "metadata": {
    "collapsed": true
   },
   "outputs": [],
   "source": [
    "import numpy as np\n",
    "import matplotlib.pyplot as plt"
   ]
  },
  {
   "cell_type": "markdown",
   "metadata": {
    "run_control": {
     "frozen": false,
     "read_only": false
    }
   },
   "source": [
    "## インデックス参照\n",
    "Numpyでは、部分配列の取り出し方に様々な種類があり、使いこなせると便利です。  \n",
    "\n",
    "ただ、取り出し方が**コピー**であるか**ビュー（参照）**であるかを混乱することがあるので、チェックしておいてください。  \n",
    "### スライス\n",
    "Pythonのリストやタプルにも実装されているスライスをndarrayに対してするとその部分配列が**ビュー（参照）**で返ってきます。  \n",
    "つまり、その取り出した部分配列を書き換えると元々の配列も変わるということです。  \n",
    "スライスは高速に動作するので、使えるときはガンガン使っていきましょう。  \n",
    "一例を見てみます。"
   ]
  },
  {
   "cell_type": "code",
   "execution_count": 2,
   "metadata": {
    "ExecuteTime": {
     "end_time": "2017-03-16T22:46:43.962100",
     "start_time": "2017-03-16T22:46:43.957085"
    },
    "run_control": {
     "frozen": false,
     "read_only": false
    }
   },
   "outputs": [
    {
     "data": {
      "text/plain": [
       "array([[ 0,  1,  2,  3],\n",
       "       [ 4,  5,  6,  7],\n",
       "       [ 8,  9, 10, 11],\n",
       "       [12, 13, 14, 15]])"
      ]
     },
     "execution_count": 2,
     "metadata": {},
     "output_type": "execute_result"
    }
   ],
   "source": [
    "arr = np.arange(16).reshape(4, 4)\n",
    "arr"
   ]
  },
  {
   "cell_type": "code",
   "execution_count": 3,
   "metadata": {
    "ExecuteTime": {
     "end_time": "2017-03-16T22:46:44.652654",
     "start_time": "2017-03-16T22:46:44.647651"
    },
    "run_control": {
     "frozen": false,
     "read_only": false
    }
   },
   "outputs": [
    {
     "data": {
      "text/plain": [
       "array([[ 0,  1,  2,  3],\n",
       "       [ 0,  0,  0,  0],\n",
       "       [ 0,  0,  0,  0],\n",
       "       [12, 13, 14, 15]])"
      ]
     },
     "execution_count": 3,
     "metadata": {},
     "output_type": "execute_result"
    }
   ],
   "source": [
    "# スライスした部分配列（行1, 2）の要素に全て-1を代入する\n",
    "arr[1:3] = 0\n",
    "\n",
    "# オリジナルの配列\n",
    "arr"
   ]
  },
  {
   "cell_type": "code",
   "execution_count": 4,
   "metadata": {},
   "outputs": [
    {
     "data": {
      "text/plain": [
       "array([[0, 0, 0, 0],\n",
       "       [0, 0, 0, 0],\n",
       "       [0, 0, 0, 0],\n",
       "       [0, 0, 0, 0]])"
      ]
     },
     "execution_count": 4,
     "metadata": {},
     "output_type": "execute_result"
    }
   ],
   "source": [
    "# 全て0に初期化（配列を再生成せず、要素のみ書き換えている）\n",
    "arr[:]  = 0\n",
    "arr"
   ]
  },
  {
   "cell_type": "markdown",
   "metadata": {
    "run_control": {
     "frozen": false,
     "read_only": false
    }
   },
   "source": [
    "使い道としては、各軸の値をなんらかの計算をしたあと、再び代入するのに使います。"
   ]
  },
  {
   "cell_type": "code",
   "execution_count": 5,
   "metadata": {},
   "outputs": [
    {
     "data": {
      "text/plain": [
       "array([[0.86830027, 0.19571313, 0.77775386, 0.05897186],\n",
       "       [0.94106792, 0.0309926 , 0.43908545, 0.30118229],\n",
       "       [0.54388156, 0.03884835, 0.55800978, 0.72663719]])"
      ]
     },
     "execution_count": 5,
     "metadata": {},
     "output_type": "execute_result"
    }
   ],
   "source": [
    "# 一様乱数\n",
    "arr = np.random.rand(3, 4)\n",
    "arr"
   ]
  },
  {
   "cell_type": "code",
   "execution_count": 6,
   "metadata": {},
   "outputs": [
    {
     "data": {
      "text/plain": [
       "array([[ 0.86830027,  0.19571313,  0.77775386,  0.05897186],\n",
       "       [ 0.94106792,  0.0309926 ,  0.43908545,  0.30118229],\n",
       "       [-0.45611844, -0.96115165, -0.44199022, -0.27336281]])"
      ]
     },
     "execution_count": 6,
     "metadata": {},
     "output_type": "execute_result"
    }
   ],
   "source": [
    "# ３行目を書き換える\n",
    "arr[2] = arr[2] - 1\n",
    "arr"
   ]
  },
  {
   "cell_type": "code",
   "execution_count": 7,
   "metadata": {},
   "outputs": [
    {
     "data": {
      "text/plain": [
       "array([[ 0.86830027,  0.97346699,  0.77775386,  0.05897186],\n",
       "       [ 0.94106792,  0.47007805,  0.43908545,  0.30118229],\n",
       "       [-0.45611844, -1.40314188, -0.44199022, -0.27336281]])"
      ]
     },
     "execution_count": 7,
     "metadata": {},
     "output_type": "execute_result"
    }
   ],
   "source": [
    "# ２列めを書き換える\n",
    "arr[:, 1] = arr[:, 1] + arr[:, 2]\n",
    "arr"
   ]
  },
  {
   "cell_type": "markdown",
   "metadata": {
    "run_control": {
     "frozen": false,
     "read_only": false
    }
   },
   "source": [
    "オリジナルの配列が変わってほしくないときは、copy関数で同じ配列を複製できます。"
   ]
  },
  {
   "cell_type": "code",
   "execution_count": 8,
   "metadata": {},
   "outputs": [
    {
     "data": {
      "text/plain": [
       "array([[ 0.86830027,  0.97346699,  0.77775386,  0.05897186],\n",
       "       [ 0.94106792,  0.47007805,  0.43908545,  0.30118229],\n",
       "       [-0.45611844, -1.40314188, -0.44199022, -0.27336281]])"
      ]
     },
     "execution_count": 8,
     "metadata": {},
     "output_type": "execute_result"
    }
   ],
   "source": [
    "arr_copied = arr.copy()\n",
    "arr_copied"
   ]
  },
  {
   "cell_type": "markdown",
   "metadata": {
    "run_control": {
     "frozen": false,
     "read_only": false
    }
   },
   "source": [
    "#### 代入時の注意点\n",
    "配列に値や配列を代入するときには、意識的にスライスを使うようにした方がいいです。  \n",
    "例えばスカラーを配列の全要素に代入しようとしたとき、スライスを使わないといけません。"
   ]
  },
  {
   "cell_type": "code",
   "execution_count": 9,
   "metadata": {},
   "outputs": [
    {
     "data": {
      "text/plain": [
       "array([0, 1, 2, 3, 4, 5, 6, 7, 8, 9])"
      ]
     },
     "execution_count": 9,
     "metadata": {},
     "output_type": "execute_result"
    }
   ],
   "source": [
    "a = np.arange(10)\n",
    "a"
   ]
  },
  {
   "cell_type": "code",
   "execution_count": 10,
   "metadata": {
    "ExecuteTime": {
     "end_time": "2017-03-16T22:46:48.113677",
     "start_time": "2017-03-16T22:46:48.109674"
    },
    "run_control": {
     "frozen": false,
     "read_only": false
    }
   },
   "outputs": [
    {
     "data": {
      "text/plain": [
       "-100"
      ]
     },
     "execution_count": 10,
     "metadata": {},
     "output_type": "execute_result"
    }
   ],
   "source": [
    "# ↓-100をaの全要素に代入するつもりで書いたら\n",
    "# 配列ですらなくなっている！？\n",
    "a = -100\n",
    "a"
   ]
  },
  {
   "cell_type": "code",
   "execution_count": 11,
   "metadata": {},
   "outputs": [
    {
     "data": {
      "text/plain": [
       "array([-100, -100, -100, -100, -100, -100, -100, -100, -100, -100])"
      ]
     },
     "execution_count": 11,
     "metadata": {},
     "output_type": "execute_result"
    }
   ],
   "source": [
    "# 正しくは\n",
    "a = np.arange(10)\n",
    "a[:] = -100\n",
    "a"
   ]
  },
  {
   "cell_type": "markdown",
   "metadata": {
    "run_control": {
     "frozen": false,
     "read_only": false
    }
   },
   "source": [
    "配列として扱いたい場合は、スライスを使った代入を心がけましょう。"
   ]
  },
  {
   "cell_type": "markdown",
   "metadata": {},
   "source": [
    "### ファンシーインデックス参照\n",
    "スライスよりも柔軟に部分配列を取り出せるインデックス参照が**ファンシーインデックス参照**です。  \n",
    "配列（ndarrayやリスト、タプルなど）をインデックスに入れると、部分配列（コピー）を返すという機能です。  \n",
    "Numpyの使いやすさを格段に上げる機能であり、使う機会も多くなると思います。　　  \n",
    "インデックスに配列を入れることで、対応する軸を抜き出すということをしてくれます。"
   ]
  },
  {
   "cell_type": "code",
   "execution_count": 12,
   "metadata": {},
   "outputs": [
    {
     "data": {
      "text/plain": [
       "array([[ 0,  1,  2],\n",
       "       [ 3,  4,  5],\n",
       "       [ 6,  7,  8],\n",
       "       [ 9, 10, 11]])"
      ]
     },
     "execution_count": 12,
     "metadata": {},
     "output_type": "execute_result"
    }
   ],
   "source": [
    "a = np.arange(12).reshape(4, 3)\n",
    "a"
   ]
  },
  {
   "cell_type": "code",
   "execution_count": 13,
   "metadata": {},
   "outputs": [
    {
     "data": {
      "text/plain": [
       "array([[ 3,  4,  5],\n",
       "       [ 9, 10, 11]])"
      ]
     },
     "execution_count": 13,
     "metadata": {},
     "output_type": "execute_result"
    }
   ],
   "source": [
    "# ファンシーインデックス参照の一例（行1, 3を抜き出す）\n",
    "a[[1, 3]]"
   ]
  },
  {
   "cell_type": "code",
   "execution_count": 14,
   "metadata": {},
   "outputs": [
    {
     "data": {
      "text/plain": [
       "array([[ 0,  1],\n",
       "       [ 3,  4],\n",
       "       [ 6,  7],\n",
       "       [ 9, 10]])"
      ]
     },
     "execution_count": 14,
     "metadata": {},
     "output_type": "execute_result"
    }
   ],
   "source": [
    "# ファンシーインデックス参照の一例（列0, 1を抜き出す）\n",
    "a[:, [0, 1]]"
   ]
  },
  {
   "cell_type": "code",
   "execution_count": 15,
   "metadata": {},
   "outputs": [
    {
     "data": {
      "text/plain": [
       "array([[  0,  10,   2],\n",
       "       [ 30,  40,   5],\n",
       "       [ 60,  70,   8],\n",
       "       [ 90, 100,  11]])"
      ]
     },
     "execution_count": 15,
     "metadata": {},
     "output_type": "execute_result"
    }
   ],
   "source": [
    "# ファンシーインデックス参照を使った代入の例（列0, 1をそれぞれ10倍する）\n",
    "a[:, [0, 1]] = a[:, [0, 1]] * 10\n",
    "a"
   ]
  },
  {
   "cell_type": "markdown",
   "metadata": {},
   "source": [
    "ファンシーインデックス参照は直接代入するときは上のようにビューとして振る舞いますが、変数に格納するときはコピーされます。"
   ]
  },
  {
   "cell_type": "code",
   "execution_count": 16,
   "metadata": {},
   "outputs": [
    {
     "data": {
      "text/plain": [
       "array([[  0,  10,   2],\n",
       "       [ 30,  40,   5],\n",
       "       [ 60,  70,   8],\n",
       "       [ 90, 100,  11]])"
      ]
     },
     "execution_count": 16,
     "metadata": {},
     "output_type": "execute_result"
    }
   ],
   "source": [
    "a"
   ]
  },
  {
   "cell_type": "code",
   "execution_count": 17,
   "metadata": {},
   "outputs": [
    {
     "data": {
      "text/plain": [
       "array([[  0,  10],\n",
       "       [ 30,  40],\n",
       "       [ 60,  70],\n",
       "       [ 90, 100]])"
      ]
     },
     "execution_count": 17,
     "metadata": {},
     "output_type": "execute_result"
    }
   ],
   "source": [
    "# 列0, 1を抜き出す（コピーになる）\n",
    "b = a[:, [0, 1]]\n",
    "b"
   ]
  },
  {
   "cell_type": "code",
   "execution_count": 18,
   "metadata": {},
   "outputs": [
    {
     "data": {
      "text/plain": [
       "array([[0, 0],\n",
       "       [0, 0],\n",
       "       [0, 0],\n",
       "       [0, 0]])"
      ]
     },
     "execution_count": 18,
     "metadata": {},
     "output_type": "execute_result"
    }
   ],
   "source": [
    "# 全要素を0\n",
    "b[:] = 0\n",
    "b"
   ]
  },
  {
   "cell_type": "code",
   "execution_count": 19,
   "metadata": {},
   "outputs": [
    {
     "data": {
      "text/plain": [
       "array([[  0,  10,   2],\n",
       "       [ 30,  40,   5],\n",
       "       [ 60,  70,   8],\n",
       "       [ 90, 100,  11]])"
      ]
     },
     "execution_count": 19,
     "metadata": {},
     "output_type": "execute_result"
    }
   ],
   "source": [
    "# もともとの配列は書き換わらない（コピーされている！）\n",
    "a"
   ]
  }
 ],
 "metadata": {
  "anaconda-cloud": {},
  "kernelspec": {
   "display_name": "Python 3",
   "language": "python",
   "name": "python3"
  },
  "language_info": {
   "codemirror_mode": {
    "name": "ipython",
    "version": 3
   },
   "file_extension": ".py",
   "mimetype": "text/x-python",
   "name": "python",
   "nbconvert_exporter": "python",
   "pygments_lexer": "ipython3",
   "version": "3.6.3"
  }
 },
 "nbformat": 4,
 "nbformat_minor": 2
}
