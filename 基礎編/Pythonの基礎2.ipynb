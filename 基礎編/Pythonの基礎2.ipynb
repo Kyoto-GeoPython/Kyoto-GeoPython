{
 "cells": [
  {
   "cell_type": "markdown",
   "metadata": {},
   "source": [
    "# 目次\n",
    "- プログラムの流れ\n",
    "    - 条件分岐\n",
    "    - 繰り返し\n",
    "- プログラムの再利用\n",
    "    - 関数\n",
    "    - モジュール\n",
    "- その他\n",
    "    - コメント\n",
    "    - 継続行\n",
    "- 参考文献"
   ]
  },
  {
   "cell_type": "markdown",
   "metadata": {},
   "source": [
    "# プログラムの流れ\n",
    "## 条件分岐: if, elif, else\n",
    "if文による条件分岐処理の基本文法は次のとおりです。\n",
    "\n",
    "```\n",
    "if [論理型]:\n",
    "    [処理]         # ifの条件がTrueの場合\n",
    "elif [論理型]: \n",
    "    [処理]         # ifの条件がFalseで、elifの条件がTrueの場合\n",
    "else:\n",
    "    [処理]         # ifもelifもFalseの場合\n",
    "```\n",
    "\n",
    "end ifに相当する（ブロックの終わりを示す）文が無いことがわかると思います。これがPythonの見た目上の大きな特徴で、**インデントによってブロックを判別している**のです。インデントはスペースでもタブでもよいのですが、プログラムを通して統一されている必要があります。通常、スペース4つがインデントに用いられます。ifなどの行末のコロンを忘れないようにしましょう。\n",
    "\n",
    "if文の構造は必ずしもこの形である必要はなく、ifブロックのみや、if-elif、if-else、if-elif-elif-...などの形ももちろん可能です。"
   ]
  },
  {
   "cell_type": "code",
   "execution_count": 1,
   "metadata": {
    "collapsed": false
   },
   "outputs": [
    {
     "name": "stdout",
     "output_type": "stream",
     "text": [
      "Good afternoon!\n"
     ]
    }
   ],
   "source": [
    "time_now = 15\n",
    "\n",
    "if (time_now < 7) or (23 < time_now): # False \n",
    "    print(\"Sleeping\")\n",
    "elif time_now < 12:                   # False\n",
    "    print(\"Good morning!\")\n",
    "elif time_now < 17:                   # True\n",
    "    print(\"Good afternoon!\")\n",
    "else:\n",
    "    print(\"Good evening!\")"
   ]
  },
  {
   "cell_type": "markdown",
   "metadata": {},
   "source": [
    "## 繰り返し: for, while\n",
    "繰り返しは、**for**文や**while**文を用います。\n",
    "\n",
    "for文の基本文法は次のとおりです。\n",
    "\n",
    "```\n",
    "for n in [配列型]:\n",
    "    [処理]\n",
    "```\n",
    "例によってインデント記法です。forの行のコロンに気をつけましょう。\n",
    "ここでnはダミー変数（文字はなんでもよい）で、配列型の要素を順に取ります。配列型としてはlist,tuple,strなどを用いるほか、**range**関数を用いることも多いです。range関数は次のような文法によって、等差数列を順に生成します（厳密には、range関数は「等差数列を順に返すオブジェクト」を生成しています。これをrange型のオブジェクトと呼ぶことができます）。\n",
    "```\n",
    "range(start,end,interval)   # startからendまで（endは含まない）、間隔はinterval\n",
    "range(start,end)            # 省略するとinterval = 1\n",
    "range(end)                  # start = 0, interval = 1\n",
    "```\n",
    "rangeはPython 2までは数列の入ったlistを返していたのですが、Python 3からrangeオブジェクトを返すようになりました（生成される数をメモリ上に格納しないため、メモリの節約になります）。使い方は同じです。"
   ]
  },
  {
   "cell_type": "code",
   "execution_count": 2,
   "metadata": {
    "collapsed": false
   },
   "outputs": [
    {
     "name": "stdout",
     "output_type": "stream",
     "text": [
      "o\n",
      "r\n",
      "a\n",
      "n\n",
      "g\n",
      "e\n"
     ]
    }
   ],
   "source": [
    "my_str = \"orange\"\n",
    "for n in my_str:\n",
    "    print(n)"
   ]
  },
  {
   "cell_type": "code",
   "execution_count": 3,
   "metadata": {
    "collapsed": false
   },
   "outputs": [
    {
     "name": "stdout",
     "output_type": "stream",
     "text": [
      "0\n",
      "1\n",
      "8\n",
      "27\n",
      "64\n",
      "125\n",
      "216\n",
      "343\n",
      "512\n",
      "729\n"
     ]
    }
   ],
   "source": [
    "for i in range(10):\n",
    "    cube = i**3\n",
    "    print(cube)"
   ]
  },
  {
   "cell_type": "markdown",
   "metadata": {},
   "source": [
    "For文においてもうひとつ便利な関数として、**enumerate**があります。enumerate関数は次のような文法で、インデックスnと配列要素a[n]のtupleを返してくれます。\n",
    "```\n",
    "for (n,a) in enumerate([配列型]):\n",
    "    [処理]\n",
    "```"
   ]
  },
  {
   "cell_type": "code",
   "execution_count": 4,
   "metadata": {
    "collapsed": false
   },
   "outputs": [
    {
     "name": "stdout",
     "output_type": "stream",
     "text": [
      "0, a\n",
      "1, p\n",
      "2, p\n",
      "3, l\n",
      "4, e\n"
     ]
    }
   ],
   "source": [
    "for (n,a) in enumerate(\"apple\"):\n",
    "    print(str(n)+\", \"+a)"
   ]
  },
  {
   "cell_type": "markdown",
   "metadata": {},
   "source": [
    "while文の基本文法は次のとおりです。\n",
    "```\n",
    "while [論理型]:\n",
    "    [処理]\n",
    "```\n",
    "条件式（論理型の部分）がTrueである限り、処理を繰り返します。条件式がどこかでFalseになるようにするか、**break**文によってループから出ることでループを終わらせます。"
   ]
  },
  {
   "cell_type": "code",
   "execution_count": 5,
   "metadata": {
    "collapsed": false
   },
   "outputs": [
    {
     "name": "stdout",
     "output_type": "stream",
     "text": [
      "10.0\n",
      "5.0\n",
      "2.5\n",
      "1.25\n"
     ]
    }
   ],
   "source": [
    "i = 10.0\n",
    "while i > 1:\n",
    "    print(i)\n",
    "    i = i / 2"
   ]
  },
  {
   "cell_type": "markdown",
   "metadata": {},
   "source": [
    "# プログラムの再利用\n",
    "## 関数\n",
    "Pythonでは、Fortranにおけるsubroutineとfunctionの差はなく、まとめて**function**（関数）として扱われます。関数は次のように定義されます。\n",
    "```\n",
    "def [関数名](引数):\n",
    "    [処理]\n",
    "    return [戻り値]\n",
    "```\n",
    "これもインデント記法が必須です。コロンを忘れないようにしましょう。\n",
    "例を使って詳しく見ていきましょう。"
   ]
  },
  {
   "cell_type": "code",
   "execution_count": 6,
   "metadata": {
    "collapsed": false
   },
   "outputs": [
    {
     "name": "stdout",
     "output_type": "stream",
     "text": [
      "25\n"
     ]
    }
   ],
   "source": [
    "# 引数を2乗して返す関数\n",
    "def square(x):\n",
    "    return x**2\n",
    "\n",
    "y = square(3) + square(4) # 3**2 + 4**2 = 25\n",
    "print(y)"
   ]
  },
  {
   "cell_type": "code",
   "execution_count": 7,
   "metadata": {
    "collapsed": false
   },
   "outputs": [
    {
     "name": "stdout",
     "output_type": "stream",
     "text": [
      "1.3333333333333333\n"
     ]
    }
   ],
   "source": [
    "# 引数のうち大きい方を返す関数\n",
    "def greater(x,y):\n",
    "    if x >= y:\n",
    "        return x\n",
    "    else:\n",
    "        return y\n",
    "    \n",
    "print(greater(4/3, 1))"
   ]
  },
  {
   "cell_type": "code",
   "execution_count": 8,
   "metadata": {
    "collapsed": false
   },
   "outputs": [
    {
     "name": "stdout",
     "output_type": "stream",
     "text": [
      "Bow-wow!\n"
     ]
    }
   ],
   "source": [
    "# 引数なしやreturnなしの関数もできます\n",
    "def bark():\n",
    "    print(\"Bow-wow!\")\n",
    "\n",
    "bark()"
   ]
  },
  {
   "cell_type": "code",
   "execution_count": 9,
   "metadata": {
    "collapsed": false
   },
   "outputs": [
    {
     "name": "stdout",
     "output_type": "stream",
     "text": [
      "Hamburger!\n",
      "Vegetarian hamburger!\n"
     ]
    }
   ],
   "source": [
    "# オプション引数は、関数定義の際に[引数=デフォルト値]とすることでセットできます（通常の引数より後ろにおくこと）\n",
    "def lunch(time,vegetarian=False):\n",
    "    if time < 11:\n",
    "        print(\"Too early for lunch!\")\n",
    "    elif time > 16:\n",
    "        print(\"Too late for lunch!\")\n",
    "    else:\n",
    "        if not vegetarian:\n",
    "            print(\"Hamburger!\")\n",
    "        else:\n",
    "            print(\"Vegetarian hamburger!\")\n",
    "            \n",
    "lunch(15)\n",
    "lunch(15, vegetarian=True)"
   ]
  },
  {
   "cell_type": "markdown",
   "metadata": {},
   "source": [
    "関数は基本的に値渡しです。"
   ]
  },
  {
   "cell_type": "code",
   "execution_count": 10,
   "metadata": {
    "collapsed": false
   },
   "outputs": [
    {
     "name": "stdout",
     "output_type": "stream",
     "text": [
      "11\n",
      "10\n"
     ]
    }
   ],
   "source": [
    "n = 10\n",
    "def plusone(x):\n",
    "    x = x + 1\n",
    "    return x\n",
    "print(plusone(n))\n",
    "print(n)"
   ]
  },
  {
   "cell_type": "markdown",
   "metadata": {},
   "source": [
    "リストやディクショナリなどはすべて参照として扱われるため、関数に渡した場合でも参照渡しのようになります。"
   ]
  },
  {
   "cell_type": "code",
   "execution_count": 11,
   "metadata": {
    "collapsed": false
   },
   "outputs": [
    {
     "name": "stdout",
     "output_type": "stream",
     "text": [
      "newlis [11]\n",
      "lis [11]\n",
      "plusone [12]\n"
     ]
    }
   ],
   "source": [
    "# lis には参照が入る\n",
    "lis = [10]\n",
    "\n",
    "# 代入文でも参照が渡される\n",
    "newlis = lis\n",
    "\n",
    "# newlis を変更すると、その内容は lis にも伝播する\n",
    "newlis[0] = 11\n",
    "print(\"newlis\", newlis)\n",
    "print(\"lis\", lis)\n",
    "\n",
    "# 配列の中身を変更する関数\n",
    "def plusone(x):\n",
    "    x[0] = x[0] + 1\n",
    "    \n",
    "# この関数を呼ぶと、関数の中で行われた変更は、呼び出し元の変数 lis に伝播する\n",
    "plusone(lis)\n",
    "print(\"plusone\", lis)"
   ]
  },
  {
   "cell_type": "markdown",
   "metadata": {},
   "source": [
    "詳細は述べませんが、関数内で変数を書き換える場合、その影響は関数内にとどまります（ローカルスコープ）。関数外で定義された変数を書き換えたい場合は、**global**文を用いてその変数がグローバル変数であることを宣言する必要があります。"
   ]
  },
  {
   "cell_type": "code",
   "execution_count": 12,
   "metadata": {
    "collapsed": false
   },
   "outputs": [
    {
     "name": "stdout",
     "output_type": "stream",
     "text": [
      "10\n",
      "20\n"
     ]
    },
    {
     "ename": "UnboundLocalError",
     "evalue": "local variable 'x' referenced before assignment",
     "output_type": "error",
     "traceback": [
      "\u001b[0;31m---------------------------------------------------------------------------\u001b[0m",
      "\u001b[0;31mUnboundLocalError\u001b[0m                         Traceback (most recent call last)",
      "\u001b[0;32m<ipython-input-12-596a42660a12>\u001b[0m in \u001b[0;36m<module>\u001b[0;34m()\u001b[0m\n\u001b[1;32m     11\u001b[0m \u001b[0mtry_to_rewrite_1\u001b[0m\u001b[0;34m(\u001b[0m\u001b[0;34m)\u001b[0m \u001b[0;31m# successful\u001b[0m\u001b[0;34m\u001b[0m\u001b[0m\n\u001b[1;32m     12\u001b[0m \u001b[0mprint\u001b[0m\u001b[0;34m(\u001b[0m\u001b[0mx\u001b[0m\u001b[0;34m)\u001b[0m\u001b[0;34m\u001b[0m\u001b[0m\n\u001b[0;32m---> 13\u001b[0;31m \u001b[0mtry_to_rewrite_2\u001b[0m\u001b[0;34m(\u001b[0m\u001b[0;34m)\u001b[0m \u001b[0;31m# raises Error\u001b[0m\u001b[0;34m\u001b[0m\u001b[0m\n\u001b[0m",
      "\u001b[0;32m<ipython-input-12-596a42660a12>\u001b[0m in \u001b[0;36mtry_to_rewrite_2\u001b[0;34m()\u001b[0m\n\u001b[1;32m      6\u001b[0m \u001b[0;34m\u001b[0m\u001b[0m\n\u001b[1;32m      7\u001b[0m \u001b[0;32mdef\u001b[0m \u001b[0mtry_to_rewrite_2\u001b[0m\u001b[0;34m(\u001b[0m\u001b[0;34m)\u001b[0m\u001b[0;34m:\u001b[0m\u001b[0;34m\u001b[0m\u001b[0m\n\u001b[0;32m----> 8\u001b[0;31m     \u001b[0mx\u001b[0m \u001b[0;34m=\u001b[0m \u001b[0mx\u001b[0m \u001b[0;34m+\u001b[0m \u001b[0;36m10\u001b[0m\u001b[0;34m\u001b[0m\u001b[0m\n\u001b[0m\u001b[1;32m      9\u001b[0m \u001b[0;34m\u001b[0m\u001b[0m\n\u001b[1;32m     10\u001b[0m \u001b[0mprint\u001b[0m\u001b[0;34m(\u001b[0m\u001b[0mx\u001b[0m\u001b[0;34m)\u001b[0m\u001b[0;34m\u001b[0m\u001b[0m\n",
      "\u001b[0;31mUnboundLocalError\u001b[0m: local variable 'x' referenced before assignment"
     ]
    }
   ],
   "source": [
    "x = 10\n",
    "\n",
    "def try_to_rewrite_1():\n",
    "    global x\n",
    "    x = x + 10\n",
    "\n",
    "def try_to_rewrite_2():\n",
    "    x = x + 10\n",
    "    \n",
    "print(x)\n",
    "try_to_rewrite_1() # successful\n",
    "print(x)\n",
    "try_to_rewrite_2() # raises Error"
   ]
  },
  {
   "cell_type": "markdown",
   "metadata": {},
   "source": [
    "## モジュール\n",
    "汎用的な関数や定数群などを異なる複数のスクリプトで用いるときは、**モジュール**を用いるのが便利です。\n",
    "モジュールの作り方は簡単で、基本的には独立したスクリプト(my_module.pyとします)の中に関数や定数を順に書いていくだけです。\n",
    "\n",
    "たとえば、次のような内容のmy_module.pyを作ったとしましょう。\n",
    "```\n",
    "pi = 3.141592\n",
    "\n",
    "def area(r):\n",
    "    return pi * r * r\n",
    "```\n",
    "このモジュールを使うには、my_module.pyがあるディレクトリで（あるいは後述のようにmy_module.pyへのパスを通して）、次のようにします。"
   ]
  },
  {
   "cell_type": "code",
   "execution_count": 13,
   "metadata": {
    "collapsed": false
   },
   "outputs": [
    {
     "name": "stdout",
     "output_type": "stream",
     "text": [
      "0\n",
      "3.141592\n"
     ]
    }
   ],
   "source": [
    "import my_module\n",
    "\n",
    "radius = 5.0\n",
    "S = my_module.area(radius) # my_module内のarea関数\n",
    "\n",
    "pi = 0\n",
    "print(pi)                  # このスクリプト内の定数pi\n",
    "print(my_module.pi)        # my_module内の定数pi"
   ]
  },
  {
   "cell_type": "markdown",
   "metadata": {},
   "source": [
    "モジュールで定義された変数や関数は、このスクリプト内の名前空間ではmy_module.[*オブジェクト名*]として扱われます。そのため、スクリプト内のオブジェクトとモジュール内の（しばしば把握しきれていない）オブジェクトとが干渉することが避けられます。\n",
    "\n",
    "次のようなimportの方法もあります。"
   ]
  },
  {
   "cell_type": "code",
   "execution_count": 14,
   "metadata": {
    "collapsed": false
   },
   "outputs": [
    {
     "name": "stdout",
     "output_type": "stream",
     "text": [
      "3.141592\n",
      "3.141592\n"
     ]
    }
   ],
   "source": [
    "import my_module as mod   # 別名をつける\n",
    "print(mod.pi)\n",
    "\n",
    "from my_module import pi  # モジュール内の特定のオブジェクトのみをインポート\n",
    "print(pi)                  # この場合、モジュール内の選ばれたオブジェクトがこのスクリプトの名前空間内に定義される"
   ]
  },
  {
   "cell_type": "markdown",
   "metadata": {},
   "source": [
    "モジュール内の**すべての**オブジェクトをスクリプトの名前空間にインポートする、\n",
    "```\n",
    "from my_module import *\n",
    "```\n",
    "という方法もありますが、モジュール内の把握しきれないオブジェクトがスクリプト内の変数と干渉するおそれがあるため、使わないことをお勧めします。"
   ]
  },
  {
   "cell_type": "markdown",
   "metadata": {},
   "source": [
    "ここではmy_module.pyをスクリプトと同じディレクトリに置いた状態での使い方を紹介しましたが、色んな所から同じモジュールを呼び出したいときにはimportが参照するパスにmy_module.pyの場所を追加することができます。たとえばLinuxの場合は環境変数PYTHONPATHを用いたり、Pythonスクリプト上からsysモジュールを用いて次のようにパスを通すことができます。\n",
    "```\n",
    "from sys import path  # pathは通っているパスが格納されているリストです\n",
    "path.append(\"/home/username/where/module/is/located\") # リストのappendメソッドで要素を追加  \n",
    "```\n",
    "\n",
    "処理の高速化のため、一度読まれたモジュールはimport文があっても再び読まれません。\n",
    "モジュールを修正して再び読み込んでほしい時には、セッションを再スタートする（IPythonなどを一度閉じる）か、importlibモジュール内の**reload**関数を用います。Python 2では組み込み関数としてreload()が定義されているため、importlibモジュールをインポートする必要はありません。"
   ]
  },
  {
   "cell_type": "code",
   "execution_count": 15,
   "metadata": {
    "collapsed": false
   },
   "outputs": [],
   "source": [
    "import my_module\n",
    "# この時点でmy_module.pyを書き換えたとする\n",
    "import my_module\n",
    "# ここではモジュールの更新が適用されていない\n",
    "from importlib import reload\n",
    "my_module = reload(my_module)\n",
    "# モジュールの更新が適用される"
   ]
  },
  {
   "cell_type": "markdown",
   "metadata": {},
   "source": [
    "Python組み込みの便利なモジュールとして、ファイル管理などを通してシェルスクリプトを代替する機能を得られる**os**や**shutil**、正規表現を扱う**re**、日付を扱える**datetime**などがあります。**numpy**、**scipy**、**matplotlib**といったサードパーティのライブラリもモジュールの形で利用することになります。scipyなどの大きなモジュールは**サブモジュール**という階層構造をとっていることも多く、メモリ節約のために必要なサブモジュールだけをインポートすることも覚えておくとよいでしょう。"
   ]
  },
  {
   "cell_type": "code",
   "execution_count": 16,
   "metadata": {
    "collapsed": false
   },
   "outputs": [
    {
     "name": "stdout",
     "output_type": "stream",
     "text": [
      "3.141592653589793\n"
     ]
    }
   ],
   "source": [
    "import numpy as np    # NumPyはまるごとインポートしても大丈夫です\n",
    "print(np.pi)           # piやexp, cosなどの重要関数はnumpy直下にあります\n",
    "x = np.random.rand(10) # randomサブモジュール内のrand関数\n",
    "y = np.cos(x)          # numpyモジュール内のcos関数\n",
    "\n",
    "from scipy import special as sp # 特殊関数関連のサブモジュール\n",
    "z = sp.erf(x)          # 誤差関数"
   ]
  },
  {
   "cell_type": "markdown",
   "metadata": {},
   "source": [
    "# その他\n",
    "## コメント\n",
    "1行のコメントアウトならば **#** （シャープ）が用いられ、#以後改行までの内容が無視されます。   \n",
    "複数行のコメントアウトはシングルクォーテーション3つまたはダブルクォーテーション3つをコメントの前後に配置します。  \n",
    "特に関数の定義(def func():)の次の行から始まる複数行コメントアウトは**docstring**と呼ばれ、そこに関数の説明を加えておくことが推奨されています。"
   ]
  },
  {
   "cell_type": "code",
   "execution_count": 17,
   "metadata": {
    "collapsed": true
   },
   "outputs": [],
   "source": [
    "def func(x):\n",
    "    \"\"\"\n",
    "    This is an example docstring.\n",
    "    \"\"\"\n",
    "    sq = x*x # コメント\n",
    "    return sq"
   ]
  },
  {
   "cell_type": "markdown",
   "metadata": {},
   "source": [
    "## 継続行\n",
    "行を継続するときは、行の終わりに** \\\\ **（バックスラッシュ）を入れます。  \n",
    "ただし、関数の引数が数多くある場合など、(), [], {}のカッコの中で改行するときには\\\\を省略できます。\n",
    "\n",
    "また、継続行の行頭の開始位置に関して制約はありません。"
   ]
  },
  {
   "cell_type": "code",
   "execution_count": 18,
   "metadata": {
    "collapsed": false
   },
   "outputs": [],
   "source": [
    "x = 3\n",
    "y = 1 + 2*x + 3*np.sin(x) \\\n",
    "  + 4*np.cos(x) + 5*np.exp(x)\n",
    "\n",
    "some_list = [1, 2, 3, 4, 5,\n",
    "            6, 7, 8, 9, 10]"
   ]
  },
  {
   "cell_type": "markdown",
   "metadata": {},
   "source": [
    "# 参考文献\n",
    "- [The Python tutorial](https://docs.python.org/3/tutorial/)（[日本語](http://docs.python.jp/3/tutorial/)）\n",
    "- [Scipy Lecture notes - The Python language](http://www.scipy-lectures.org/intro/language/python_language.html)（[日本語](http://www.turbare.net/transl/scipy-lecture-notes/intro/language/python_language.html)）"
   ]
  }
 ],
 "metadata": {
  "kernelspec": {
   "display_name": "Python 3",
   "language": "python",
   "name": "python3"
  },
  "language_info": {
   "codemirror_mode": {
    "name": "ipython",
    "version": 3
   },
   "file_extension": ".py",
   "mimetype": "text/x-python",
   "name": "python",
   "nbconvert_exporter": "python",
   "pygments_lexer": "ipython3",
   "version": "3.6.0"
  }
 },
 "nbformat": 4,
 "nbformat_minor": 2
}
