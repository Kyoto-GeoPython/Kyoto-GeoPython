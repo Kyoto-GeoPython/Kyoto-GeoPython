{
 "cells": [
  {
   "cell_type": "markdown",
   "metadata": {},
   "source": [
    "# 目次\n",
    " - strクラスの便利な関数\n",
    "     - str.strip\n",
    "     - str.split\n",
    "     - str.replace\n",
    " - テキストファイル読み込み"
   ]
  },
  {
   "cell_type": "markdown",
   "metadata": {},
   "source": [
    "## strクラスの便利な関数\n",
    "strクラスには、str.format以外にも使い勝手の良い関数が多数用意されています。  \n",
    "ここでは、そのうちファイル入力を処理する際などに役立つ関数を紹介します。\n",
    "### str.strip\n",
    "stripは「取り除く、奪う」などの意味を持つ単語ですが、その名の通りこの関数は文字列の最初や最後にある余計な空白や改行文字を取り除いてくれます。"
   ]
  },
  {
   "cell_type": "code",
   "execution_count": 1,
   "metadata": {},
   "outputs": [
    {
     "data": {
      "text/plain": [
       "'空白が        たくさん     あるよ'"
      ]
     },
     "execution_count": 1,
     "metadata": {},
     "output_type": "execute_result"
    }
   ],
   "source": [
    "#最初と最後の空白を取り除く\n",
    "\"       空白が        たくさん     あるよ　　　\".strip()"
   ]
  },
  {
   "cell_type": "code",
   "execution_count": 2,
   "metadata": {},
   "outputs": [
    {
     "data": {
      "text/plain": [
       "'最後に  改行文字が   含まれる例'"
      ]
     },
     "execution_count": 2,
     "metadata": {},
     "output_type": "execute_result"
    }
   ],
   "source": [
    "# 改行文字も取り除く\n",
    "\"      最後に  改行文字が   含まれる例    \\n\".strip()"
   ]
  },
  {
   "cell_type": "markdown",
   "metadata": {},
   "source": [
    "### str.split\n",
    "この関数では、指定した区切り文字で文字列を分割して文字列のリストを返します。区切り文字を指定しない場合、スペースやタブのような空白でうまいこと分割してくれるので、まずは区切り文字を指定しないでやってみることをおすすめします。"
   ]
  },
  {
   "cell_type": "code",
   "execution_count": 3,
   "metadata": {},
   "outputs": [
    {
     "data": {
      "text/plain": [
       "['a', 'b', 'c']"
      ]
     },
     "execution_count": 3,
     "metadata": {},
     "output_type": "execute_result"
    }
   ],
   "source": [
    "#スペースで分割\n",
    "\"a b c\".split()"
   ]
  },
  {
   "cell_type": "code",
   "execution_count": 4,
   "metadata": {},
   "outputs": [
    {
     "data": {
      "text/plain": [
       "['a', 'b', 'c']"
      ]
     },
     "execution_count": 4,
     "metadata": {},
     "output_type": "execute_result"
    }
   ],
   "source": [
    "#タブやスペースが混在しててもうまく分割してくれる\n",
    "\"a \\t   b  \\t  c\".split()"
   ]
  },
  {
   "cell_type": "code",
   "execution_count": 5,
   "metadata": {},
   "outputs": [
    {
     "data": {
      "text/plain": [
       "['csvファイルなどに', '使う場合を', '想定しています']"
      ]
     },
     "execution_count": 5,
     "metadata": {},
     "output_type": "execute_result"
    }
   ],
   "source": [
    "#区切り文字を指定する場合\n",
    "\"csvファイルなどに,使う場合を,想定しています\".split(\",\")"
   ]
  },
  {
   "cell_type": "markdown",
   "metadata": {},
   "source": [
    "### str.replace\n",
    "その名の通り、文字列に含まれるある文字を別の文字に置き換えた文字列を返す関数です。"
   ]
  },
  {
   "cell_type": "code",
   "execution_count": 6,
   "metadata": {},
   "outputs": [
    {
     "data": {
      "text/plain": [
       "'いいういいう'"
      ]
     },
     "execution_count": 6,
     "metadata": {},
     "output_type": "execute_result"
    }
   ],
   "source": [
    "\"あいうあいう\".replace(\"あ\",\"い\") # \"あ\"を\"い\"に置き換える"
   ]
  },
  {
   "cell_type": "markdown",
   "metadata": {},
   "source": [
    "## テキストファイル読み込み\n",
    "**with**構文をファイル入出力の際に使いましょう。  \n",
    "エラーが起きても、ファイルを自動的に閉じてくれるため、安全にファイル入出力を行うことができます。  "
   ]
  },
  {
   "cell_type": "code",
   "execution_count": 7,
   "metadata": {},
   "outputs": [],
   "source": [
    "# ファイルの最後までを文字列としてdataに入れる\n",
    "with open(\"data.txt\", \"r\", encoding=\"utf-8\") as fp:\n",
    "    data = fp.read()"
   ]
  },
  {
   "cell_type": "code",
   "execution_count": 8,
   "metadata": {
    "collapsed": true
   },
   "outputs": [],
   "source": [
    "# 下はwith構文で書いた場合と大体等価ですが、\n",
    "# １行増えた上にインデントがなく、読みにくい\n",
    "fp = open(\"data.txt\", \"r\", encoding=\"utf-8\")\n",
    "data = fp.read()\n",
    "fp.close()"
   ]
  },
  {
   "cell_type": "markdown",
   "metadata": {},
   "source": [
    "一行ずつ読み取りたい場合は、fpに対してforループを回すと良いです。  \n",
    "下の例では、各行が改行文字を含んだまま取り出されているので**str.strip**関数でそれを取り除いています。"
   ]
  },
  {
   "cell_type": "code",
   "execution_count": 9,
   "metadata": {},
   "outputs": [
    {
     "name": "stdout",
     "output_type": "stream",
     "text": [
      "\"都道府県コード\",\"都道府県名\",\"元号\",\"和暦（年）\",\"西暦（年）\",\"注\",\"人口（総数）\",\"人口（男）\",\"人口（女）\"\n",
      "\"00\",\"全国\",\"大正\",9,1920,\"\",55963053,28044185,27918868\n",
      "\"01\",\"北海道\",\"大正\",9,1920,\"\",2359183,1244322,1114861\n",
      "\"02\",\"青森県\",\"大正\",9,1920,\"\",756454,381293,375161\n",
      "\"03\",\"岩手県\",\"大正\",9,1920,\"\",845540,421069,424471\n",
      "\"04\",\"宮城県\",\"大正\",9,1920,\"\",961768,485309,476459\n",
      "\"05\",\"秋田県\",\"大正\",9,1920,\"\",898537,453682,444855\n",
      "\"06\",\"山形県\",\"大正\",9,1920,\"\",968925,478328,490597\n"
     ]
    }
   ],
   "source": [
    "with open(\"data.txt\", \"r\", encoding=\"utf-8\") as fp:\n",
    "    for line in fp:\n",
    "        print(line.strip())"
   ]
  },
  {
   "cell_type": "markdown",
   "metadata": {},
   "source": [
    "テキストファイルはそれぞれに異なる文字コードが使われています。  \n",
    "もともとの文字コードと違う文字コードで読み込もうとすると「文字化け」と言われる現象が起きます。  \n",
    "うまくテキストファイルをopenできない場合、以下のencodingを試してみると良いです。  \n",
    "- utf-8\n",
    "- shift-jis\n",
    "- cp932\n",
    "- euc-jp\n",
    "\n",
    "大概のテキストファイルはどれかに当てはまります。  "
   ]
  }
 ],
 "metadata": {
  "anaconda-cloud": {},
  "kernelspec": {
   "display_name": "Python 3",
   "language": "python",
   "name": "python3"
  },
  "language_info": {
   "codemirror_mode": {
    "name": "ipython",
    "version": 3
   },
   "file_extension": ".py",
   "mimetype": "text/x-python",
   "name": "python",
   "nbconvert_exporter": "python",
   "pygments_lexer": "ipython3",
   "version": "3.6.3"
  }
 },
 "nbformat": 4,
 "nbformat_minor": 1
}
