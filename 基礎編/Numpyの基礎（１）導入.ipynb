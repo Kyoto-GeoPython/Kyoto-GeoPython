{
 "cells": [
  {
   "cell_type": "markdown",
   "metadata": {},
   "source": [
    "本HPでは、Numpyの記事をいくつかに分類しています。  "
   ]
  },
  {
   "cell_type": "markdown",
   "metadata": {
    "run_control": {
     "frozen": false,
     "read_only": false
    }
   },
   "source": [
    "# 目次\n",
    "- [Numpyとは？](#Numpyとは？)\n",
    "    - [なぜNumpyが必要？](#なぜNumpyが必要？)\n",
    "    - [Numpyの特徴とは？](#Numpyの特徴とは？)\n",
    "    - [ndarrayオブジェクト](#ndarrayオブジェクト)\n",
    "    - [Numpyを使う際の注意点](#Numpyを使う際の注意点)\n",
    "- [実際に使ってみる](#実際に使ってみる)\n",
    "    - [インポートする](#インポートする)\n",
    "    - [簡単な演算](#簡単な演算)"
   ]
  },
  {
   "cell_type": "markdown",
   "metadata": {
    "run_control": {
     "frozen": false,
     "read_only": false
    }
   },
   "source": [
    "# Numpyとは？\n",
    "**Numpy**は、標準の演算が遅いというPythonの欠点を補うために開発された高速なベクトル演算をサポートするライブラリです。  \n",
    "Pythonで科学技術計算をする上では必須と言っても良いライブラリです。  \n",
    "（本稿の大部分は、「[Pythonによるデータ分析入門](https://www.oreilly.co.jp/books/9784873116556/)（O'REILLY、ピンク本！）」の第４章を参考にして書かれています。  \n",
    "この本は翻訳もわかりやすく、とても読みやすい本なのでおすすめです。）\n",
    "## なぜNumpyが必要？\n",
    "C言語やFortranのような**静的型付け言語（コンパイル時に型を決定する言語）**では、配列や変数を宣言する際、型を明示的にコンパイラに伝えます。  \n",
    "このようにコンパイルの段階で型が決まっていると、マシンとしては余計な動作をする必要が無いために効率よくメモリを使用できる上に高速に動作します。  \n",
    "一方、Pythonのような**動的型付け言語（実行時に型を決める言語）**では、そのような高速な動作を失う代わりに、型を気にせずにリストに入れたり、宣言の手間が省けたりと、柔軟で短いコードが書けるようになります。  \n",
    "しかし、科学技術計算においては動作の遅さは致命的になります。  \n",
    "もしPythonで科学技術計算しようとするならば、高速な動作が必要になるところでは型を指定して高速な計算ができるようにする必要があります。  \n",
    "そこで生まれたのが**Numpy**です（Numerical Pythonの略）。  \n",
    "Numpyでは、C言語の配列をPythonで扱いやすいオブジェクト（ndarray）として使うことで、**高速でありながら柔軟なプログラミング**が可能です。  \n",
    "また、CやFortranと同様に大規模配列を扱うことにも長けているため、使いこなせればかなり強力なツールです。  \n",
    "Numpyは非常に高機能であり、全ての機能を1ページで説明することは難しいです。  \n",
    "ここでは、いくつかの記事にわけ、ざっくりと概観していくことにします。\n",
    "## Numpyの特徴とは？\n",
    "ざっとNumpyの特徴を上げてみると、\n",
    "- ベクトル演算をベースにした省メモリで高速な多次元配列（ndarrayオブジェクト）\n",
    "- 行列演算（逆行列など）や乱数生成、フーリエ変換を簡単に呼び出せる\n",
    "- PythonとC, C++, Fortranとの連携を可能にする低級インターフェイスの提供\n",
    "- バイナリやテキストでのファイル入出力を簡単にできる\n",
    "\n",
    "のようなものがあります。  \n",
    "行列演算などの実装はCやFortranで使われているライブラリを使用しており、同等の速度を発揮します。  \n",
    "## ndarrayオブジェクト\n",
    "Numpyで配列と言うとき、たいていndarray（N-dimensional array）オブジェクトのことを指します。  \n",
    "ndarrayはCの配列に加え、その形状や型、関数などを情報として持っています。  \n",
    "本稿でも、特に断らない限り、配列はndarrayのことを意味することにします。\n",
    "## Numpyを使う際の注意点\n",
    "Numpyも万能ではなく、得意ではない処理もあります。それは、配列要素ごとに回すforループです。  \n",
    "要素ごとにforループを回すと、Pythonの遅さが如実に出てしまい、Numpyの利点が活かせません。  \n",
    "Numpyが本当に力を発揮するのは**ベクトル演算**であり、それは並列化によって実現されています。  \n",
    "もし、要素ごとの計算をしたい場合は、\n",
    "- CやFortranでその部分だけを書き、それをPythonで呼び出す\n",
    "- NumbaやCythonといった他のライブラリを使用しコンパイルを行う\n",
    "\n",
    "と言った方法があります。  \n",
    "まずはなるべくベクトル化を試みて、それが難しい場合は上記のような手段を考えてみると良いでしょう。  "
   ]
  },
  {
   "cell_type": "markdown",
   "metadata": {
    "run_control": {
     "frozen": false,
     "read_only": false
    }
   },
   "source": [
    "# 実際に使ってみる\n",
    "## インポートする"
   ]
  },
  {
   "cell_type": "code",
   "execution_count": 1,
   "metadata": {
    "ExecuteTime": {
     "end_time": "2017-03-16T22:46:28.574670",
     "start_time": "2017-03-16T22:46:28.572670"
    },
    "collapsed": true,
    "run_control": {
     "frozen": false,
     "read_only": false
    }
   },
   "outputs": [],
   "source": [
    "import numpy as np    #慣習でnpと名付けることが多い\n",
    "import matplotlib.pyplot as plt # 可視化用ライブラリ"
   ]
  },
  {
   "cell_type": "markdown",
   "metadata": {
    "run_control": {
     "frozen": false,
     "read_only": false
    }
   },
   "source": [
    "インポートに失敗する場合、numpyがそもそもインストールされていない可能性があります。その場合以下のようなコマンドを実行してください。  \n",
    "- Anacondaの場合「conda install numpy」\n",
    "- pipの場合「pip install numpy」\n",
    "\n",
    "condaはコンパイル済みのものをインストールするためにインストールエラーが起きにくいです。  \n",
    "pipはインストール時にコンパイルするため、コンパイルエラーが起きる場合があります（特にWindows）。  \n",
    "なるべく、Anacondaで一気に導入すると良いでしょう。\n",
    "\n",
    "## ndarrayの構造\n",
    "\n",
    "さっそく、一次元配列を作ってみましょう。np.array関数にリストやタプルを渡すことで作ることが出来ます。  "
   ]
  },
  {
   "cell_type": "code",
   "execution_count": 2,
   "metadata": {},
   "outputs": [
    {
     "data": {
      "text/plain": [
       "array([1.  , 0.01, 0.7 ])"
      ]
     },
     "execution_count": 2,
     "metadata": {},
     "output_type": "execute_result"
    }
   ],
   "source": [
    "x = np.array([1., 0.01, 0.7])\n",
    "x"
   ]
  },
  {
   "cell_type": "markdown",
   "metadata": {
    "run_control": {
     "frozen": false,
     "read_only": false
    }
   },
   "source": [
    "ndarrayの重要な属性として、**shape**、**dtype**があります。  \n",
    "**type()**はPythonの組み込み関数で、引数が何のオブジェクトかを教えてくれます（dtypeとは違うものなので注意）。  \n",
    "いくつか例を挙げましょう。"
   ]
  },
  {
   "cell_type": "code",
   "execution_count": 3,
   "metadata": {},
   "outputs": [
    {
     "data": {
      "text/plain": [
       "numpy.ndarray"
      ]
     },
     "execution_count": 3,
     "metadata": {},
     "output_type": "execute_result"
    }
   ],
   "source": [
    "# xが何のオブジェクトか表示する\n",
    "type(x)"
   ]
  },
  {
   "cell_type": "markdown",
   "metadata": {},
   "source": [
    "**shape**は、まさに配列の形状で、多次元配列であれば、軸に沿った要素の個数をそれぞれの軸について並べたタプルです。  \n",
    "一次元であれば、(n,)のようなタプルになります。  \n",
    "軸が一つしか含まれない場合、(n)とすると単なるnになってしまうので、(n,)のようにカンマが付きます。  "
   ]
  },
  {
   "cell_type": "code",
   "execution_count": 4,
   "metadata": {},
   "outputs": [
    {
     "data": {
      "text/plain": [
       "(3,)"
      ]
     },
     "execution_count": 4,
     "metadata": {},
     "output_type": "execute_result"
    }
   ],
   "source": [
    "# xの形状\n",
    "x.shape"
   ]
  },
  {
   "cell_type": "markdown",
   "metadata": {},
   "source": [
    "**dtype**は、配列の型を表すものです（floatやint、complexなど、詳細は別記事参照）。 "
   ]
  },
  {
   "cell_type": "code",
   "execution_count": 5,
   "metadata": {},
   "outputs": [
    {
     "data": {
      "text/plain": [
       "dtype('float64')"
      ]
     },
     "execution_count": 5,
     "metadata": {},
     "output_type": "execute_result"
    }
   ],
   "source": [
    "# xの型（この場合８バイト浮動小数点型）\n",
    "x.dtype"
   ]
  },
  {
   "cell_type": "markdown",
   "metadata": {},
   "source": [
    "\n",
    "**ndim**は、配列の次元を表します。"
   ]
  },
  {
   "cell_type": "code",
   "execution_count": 6,
   "metadata": {},
   "outputs": [
    {
     "data": {
      "text/plain": [
       "1"
      ]
     },
     "execution_count": 6,
     "metadata": {},
     "output_type": "execute_result"
    }
   ],
   "source": [
    "# xの次元\n",
    "x.ndim"
   ]
  },
  {
   "cell_type": "markdown",
   "metadata": {},
   "source": [
    "多次元配列はこのように定義できます。"
   ]
  },
  {
   "cell_type": "code",
   "execution_count": 7,
   "metadata": {},
   "outputs": [
    {
     "data": {
      "text/plain": [
       "array([[ 1.  ,  0.1 ,  3.  ],\n",
       "       [ 3.  , 20.  ,  0.07]])"
      ]
     },
     "execution_count": 7,
     "metadata": {},
     "output_type": "execute_result"
    }
   ],
   "source": [
    "# ２×３の２次元配列を定義\n",
    "y = np.array([[1., 0.1, 3.],\n",
    "              [3., 20., 0.07]])\n",
    "\n",
    "# 一行でも書いてよいですが、見やすい方法を選ぶといいでしょう。\n",
    "y = np.array([[1., 0.1, 3.], [3., 20., 0.07]])\n",
    "y"
   ]
  },
  {
   "cell_type": "code",
   "execution_count": 8,
   "metadata": {},
   "outputs": [
    {
     "data": {
      "text/plain": [
       "(2, 3)"
      ]
     },
     "execution_count": 8,
     "metadata": {},
     "output_type": "execute_result"
    }
   ],
   "source": [
    "# 形状\n",
    "y.shape"
   ]
  },
  {
   "cell_type": "code",
   "execution_count": 9,
   "metadata": {},
   "outputs": [
    {
     "data": {
      "text/plain": [
       "dtype('float64')"
      ]
     },
     "execution_count": 9,
     "metadata": {},
     "output_type": "execute_result"
    }
   ],
   "source": [
    "# 型は１次元と同様\n",
    "y.dtype"
   ]
  },
  {
   "cell_type": "code",
   "execution_count": 10,
   "metadata": {},
   "outputs": [
    {
     "data": {
      "text/plain": [
       "2"
      ]
     },
     "execution_count": 10,
     "metadata": {},
     "output_type": "execute_result"
    }
   ],
   "source": [
    "# 次元（つまりlen(y.shape)と等しい）\n",
    "y.ndim"
   ]
  },
  {
   "cell_type": "markdown",
   "metadata": {},
   "source": [
    "整数を入れると、intとして配列を作ります。"
   ]
  },
  {
   "cell_type": "code",
   "execution_count": 11,
   "metadata": {},
   "outputs": [
    {
     "data": {
      "text/plain": [
       "array([1, 2, 3])"
      ]
     },
     "execution_count": 11,
     "metadata": {},
     "output_type": "execute_result"
    }
   ],
   "source": [
    "# 整数を入れた場合\n",
    "x = np.array([1, 2, 3])\n",
    "x"
   ]
  },
  {
   "cell_type": "code",
   "execution_count": 12,
   "metadata": {},
   "outputs": [
    {
     "data": {
      "text/plain": [
       "dtype('int32')"
      ]
     },
     "execution_count": 12,
     "metadata": {},
     "output_type": "execute_result"
    }
   ],
   "source": [
    "# 自動的に４バイトintと型推論している\n",
    "x.dtype"
   ]
  },
  {
   "cell_type": "markdown",
   "metadata": {},
   "source": [
    "もちろん複素数も扱えます。"
   ]
  },
  {
   "cell_type": "code",
   "execution_count": 13,
   "metadata": {},
   "outputs": [
    {
     "data": {
      "text/plain": [
       "array([0.+1.j, 3.+6.j, 9.+0.j])"
      ]
     },
     "execution_count": 13,
     "metadata": {},
     "output_type": "execute_result"
    }
   ],
   "source": [
    "# 複素数を入れた場合\n",
    "x = np.array([1.j, 3 + 6j, 9])\n",
    "x"
   ]
  },
  {
   "cell_type": "code",
   "execution_count": 14,
   "metadata": {},
   "outputs": [
    {
     "data": {
      "text/plain": [
       "dtype('complex128')"
      ]
     },
     "execution_count": 14,
     "metadata": {},
     "output_type": "execute_result"
    }
   ],
   "source": [
    "# 実部、虚部それぞれ８バイトの１６バイト複素数\n",
    "x.dtype"
   ]
  },
  {
   "cell_type": "markdown",
   "metadata": {
    "run_control": {
     "frozen": false,
     "read_only": false
    }
   },
   "source": [
    "### 要素へのアクセス\n",
    "また、各要素にアクセスするためには、リストやタプルのようにインデックスを指定します。  \n",
    "多次元配列でのアクセスは、リストなどと違う記法なので注意してください。  "
   ]
  },
  {
   "cell_type": "code",
   "execution_count": 15,
   "metadata": {},
   "outputs": [
    {
     "data": {
      "text/plain": [
       "1.0"
      ]
     },
     "execution_count": 15,
     "metadata": {},
     "output_type": "execute_result"
    }
   ],
   "source": [
    "x = np.array([1., 2., 3.,])\n",
    "x[0]"
   ]
  },
  {
   "cell_type": "code",
   "execution_count": 16,
   "metadata": {},
   "outputs": [
    {
     "data": {
      "text/plain": [
       "array([2., 3.])"
      ]
     },
     "execution_count": 16,
     "metadata": {},
     "output_type": "execute_result"
    }
   ],
   "source": [
    "# タプルと同じようにスライスを使える\n",
    "x[1:]"
   ]
  },
  {
   "cell_type": "code",
   "execution_count": 17,
   "metadata": {},
   "outputs": [
    {
     "data": {
      "text/plain": [
       "array([[ 0,  1,  2,  3,  4],\n",
       "       [ 5,  6,  7,  8,  9],\n",
       "       [10, 11, 12, 13, 14],\n",
       "       [15, 16, 17, 18, 19]])"
      ]
     },
     "execution_count": 17,
     "metadata": {},
     "output_type": "execute_result"
    }
   ],
   "source": [
    "# 多次元配列の場合\n",
    "x = np.arange(20).reshape(4,5)\n",
    "x"
   ]
  },
  {
   "cell_type": "code",
   "execution_count": 18,
   "metadata": {},
   "outputs": [
    {
     "data": {
      "text/plain": [
       "1"
      ]
     },
     "execution_count": 18,
     "metadata": {},
     "output_type": "execute_result"
    }
   ],
   "source": [
    "# 行0, 列1の値\n",
    "x[0, 1]"
   ]
  },
  {
   "cell_type": "code",
   "execution_count": 19,
   "metadata": {},
   "outputs": [
    {
     "data": {
      "text/plain": [
       "array([15, 16, 17, 18, 19])"
      ]
     },
     "execution_count": 19,
     "metadata": {},
     "output_type": "execute_result"
    }
   ],
   "source": [
    "# 行3\n",
    "x[3]"
   ]
  },
  {
   "cell_type": "code",
   "execution_count": 20,
   "metadata": {},
   "outputs": [
    {
     "data": {
      "text/plain": [
       "array([ 4,  9, 14, 19])"
      ]
     },
     "execution_count": 20,
     "metadata": {},
     "output_type": "execute_result"
    }
   ],
   "source": [
    "# 列4\n",
    "x[:, 4]"
   ]
  },
  {
   "cell_type": "code",
   "execution_count": 21,
   "metadata": {},
   "outputs": [
    {
     "data": {
      "text/plain": [
       "array([[ 3,  4],\n",
       "       [ 8,  9],\n",
       "       [13, 14],\n",
       "       [18, 19]])"
      ]
     },
     "execution_count": 21,
     "metadata": {},
     "output_type": "execute_result"
    }
   ],
   "source": [
    "# 列3, 4を抜き出す\n",
    "x[:, 3:]"
   ]
  },
  {
   "cell_type": "markdown",
   "metadata": {
    "run_control": {
     "frozen": false,
     "read_only": false
    }
   },
   "source": [
    "## 簡単な演算\n",
    "スカラーとの四則演算は普通のベクトルのような書き方ができます（Fortranと一緒）。  \n",
    "このような演算はリストやタプルでは出来ないので、そのためにndarrayに変換することもよくあります。"
   ]
  },
  {
   "cell_type": "code",
   "execution_count": 22,
   "metadata": {
    "ExecuteTime": {
     "end_time": "2017-03-16T22:46:28.954467",
     "start_time": "2017-03-16T22:46:28.878677"
    },
    "run_control": {
     "frozen": false,
     "read_only": false
    }
   },
   "outputs": [
    {
     "data": {
      "text/plain": [
       "array([1.e-05, 1.e-07, 7.e-06])"
      ]
     },
     "execution_count": 22,
     "metadata": {},
     "output_type": "execute_result"
    }
   ],
   "source": [
    "x = np.array([1., 0.01, 0.7])\n",
    "x + 1 # ==> [ 2.  ,  1.01,  1.7 ]\n",
    "2 * x # ==> [ 2.  ,  0.02,  1.4 ]\n",
    "x / 1e5 # ==> [  1.00000000e-05,   1.00000000e-07,   7.00000000e-06]"
   ]
  },
  {
   "cell_type": "markdown",
   "metadata": {
    "run_control": {
     "frozen": false,
     "read_only": false
    }
   },
   "source": [
    "同じ形状の配列同士の四則演算は、要素ごとに演算した結果になります。  \n",
    "（異なる形状の配列であっても、場合によっては演算できることがあり、それを**ブロードキャスト**（別記事）と言います）"
   ]
  },
  {
   "cell_type": "code",
   "execution_count": 23,
   "metadata": {
    "ExecuteTime": {
     "end_time": "2017-03-16T22:46:29.090734",
     "start_time": "2017-03-16T22:46:28.955960"
    },
    "run_control": {
     "frozen": false,
     "read_only": false
    }
   },
   "outputs": [
    {
     "data": {
      "text/plain": [
       "array([2. , 1.5, 0.6])"
      ]
     },
     "execution_count": 23,
     "metadata": {},
     "output_type": "execute_result"
    }
   ],
   "source": [
    "x = np.array([8., 0.3, 90])\n",
    "y = np.array([4., 0.2, 150])\n",
    "x + y # ==> [  12. ,    0.5,  240. ]\n",
    "x - y # ==> [  4. ,   0.1, -60. ]\n",
    "x * y # ==> [  3.20000000e+01,   6.00000000e-02,   1.35000000e+04]\n",
    "x / y # ==> [ 2. ,  1.5,  0.6]"
   ]
  },
  {
   "cell_type": "markdown",
   "metadata": {
    "run_control": {
     "frozen": false,
     "read_only": false
    }
   },
   "source": [
    "多次元配列でも同じように要素ごとの演算になります。  \n",
    "行列積を計算したい場合は、np.dot関数を用いるか、Python3.5以降であれば@マークを使えます。"
   ]
  },
  {
   "cell_type": "code",
   "execution_count": 24,
   "metadata": {},
   "outputs": [
    {
     "data": {
      "text/plain": [
       "array([[0, 1, 2],\n",
       "       [3, 4, 5],\n",
       "       [6, 7, 8]])"
      ]
     },
     "execution_count": 24,
     "metadata": {},
     "output_type": "execute_result"
    }
   ],
   "source": [
    "# ３×３行列を作成\n",
    "A = np.arange(9).reshape(3,3)\n",
    "A"
   ]
  },
  {
   "cell_type": "code",
   "execution_count": 25,
   "metadata": {},
   "outputs": [
    {
     "data": {
      "text/plain": [
       "array([[2., 0., 0.],\n",
       "       [0., 2., 0.],\n",
       "       [0., 0., 2.]])"
      ]
     },
     "execution_count": 25,
     "metadata": {},
     "output_type": "execute_result"
    }
   ],
   "source": [
    "# ３×３の単位行列の２倍\n",
    "B = np.eye(3) * 2\n",
    "B"
   ]
  },
  {
   "cell_type": "code",
   "execution_count": 26,
   "metadata": {},
   "outputs": [
    {
     "data": {
      "text/plain": [
       "array([[ 0.,  0.,  0.],\n",
       "       [ 0.,  8.,  0.],\n",
       "       [ 0.,  0., 16.]])"
      ]
     },
     "execution_count": 26,
     "metadata": {},
     "output_type": "execute_result"
    }
   ],
   "source": [
    "# 要素ごとの積になる（行列積ではない！）\n",
    "A * B"
   ]
  },
  {
   "cell_type": "code",
   "execution_count": 27,
   "metadata": {},
   "outputs": [
    {
     "data": {
      "text/plain": [
       "array([[ 0.,  2.,  4.],\n",
       "       [ 6.,  8., 10.],\n",
       "       [12., 14., 16.]])"
      ]
     },
     "execution_count": 27,
     "metadata": {},
     "output_type": "execute_result"
    }
   ],
   "source": [
    "# 行列積\n",
    "A.dot(B)"
   ]
  },
  {
   "cell_type": "code",
   "execution_count": 28,
   "metadata": {},
   "outputs": [
    {
     "data": {
      "text/plain": [
       "array([[ 0.,  2.,  4.],\n",
       "       [ 6.,  8., 10.],\n",
       "       [12., 14., 16.]])"
      ]
     },
     "execution_count": 28,
     "metadata": {},
     "output_type": "execute_result"
    }
   ],
   "source": [
    "# Python3.5以降\n",
    "A @ B"
   ]
  }
 ],
 "metadata": {
  "anaconda-cloud": {},
  "kernelspec": {
   "display_name": "Python 3",
   "language": "python",
   "name": "python3"
  },
  "language_info": {
   "codemirror_mode": {
    "name": "ipython",
    "version": 3
   },
   "file_extension": ".py",
   "mimetype": "text/x-python",
   "name": "python",
   "nbconvert_exporter": "python",
   "pygments_lexer": "ipython3",
   "version": "3.6.3"
  }
 },
 "nbformat": 4,
 "nbformat_minor": 2
}
