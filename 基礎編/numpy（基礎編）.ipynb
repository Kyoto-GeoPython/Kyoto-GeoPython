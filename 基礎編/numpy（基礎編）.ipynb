{
 "cells": [
  {
   "cell_type": "markdown",
   "metadata": {
    "run_control": {
     "frozen": false,
     "read_only": false
    }
   },
   "source": [
    "# 目次\n",
    "- Numpyとは？\n",
    "    - なぜNumpyが必要？\n",
    "    - Numpyの特徴とは？\n",
    "    - ndarrayオブジェクト\n",
    "    - Numpyを使う際の注意点\n",
    "- 実際に使ってみる\n",
    "    - インポートする\n",
    "    - 簡単な演算\n",
    "    - 関数を使ってみよう\n",
    "        - np.reshape\n",
    "- Numpyの基礎\n",
    "    - ndarrayの生成関数\n",
    "        - np.array, np.asarray\n",
    "        - np.arange\n",
    "        - np.ones, np.ones_like\n",
    "        - np.zeros, np.zeros_like\n",
    "        - np.linspace\n",
    "        - その他\n",
    "    - Numpyのデータ型\n",
    "    - インデックス参照\n",
    "    - ユニバーサル関数\n",
    "- 科学技術計算のための機能\n",
    "    - 線形代数（np.linalg）\n",
    "    - 乱数生成（np.random）\n",
    "    - フーリエ変換（np.fft）\n",
    "- ndarrayのファイル入出力    \n",
    "    "
   ]
  },
  {
   "cell_type": "markdown",
   "metadata": {
    "run_control": {
     "frozen": false,
     "read_only": false
    }
   },
   "source": [
    "# Numpyとは？\n",
    "**Numpy**は、標準の演算が遅いというPythonの欠点を補うために開発された高速なベクトル演算をサポートするライブラリです。  \n",
    "Pythonで科学技術計算をする上では必須と言っても良いライブラリです。  \n",
    "（本稿の大部分は、「[Pythonによるデータ分析入門](https://www.oreilly.co.jp/books/9784873116556/)（O'REILLY）」の第４章を参考にして書かれています。  \n",
    "この本は翻訳もわかりやすく、とても読みやすい本なのでおすすめです。）\n",
    "## なぜNumpyが必要？\n",
    "C言語やFortranのような**静的型付け言語（コンパイル時に型を決定する言語）**では、配列や変数を宣言する際、型を明示的にコンパイラに伝えます。  \n",
    "このようにコンパイルの段階で型が決まっていると、マシンとしては余計な動作をする必要が無いために効率よくメモリを使用できる上に高速に動作します。  \n",
    "一方、Pythonのような**動的型付け言語（実行時に型を決める言語）**では、そのような高速な動作を失う代わりに、型を気にせずにリストに入れたり、宣言の手間が省けたりと、柔軟で短いコードが書けるようになります。  \n",
    "しかし、科学技術計算においては動作の遅さは致命的になります。  \n",
    "もしPythonで科学技術計算しようとするならば、高速な動作が必要になるところでは型を指定して高速な計算ができるようにする必要があります。  \n",
    "そこで生まれたのが**Numpy**です（Numerical Pythonの略）。  \n",
    "Numpyでは、C言語の配列をPythonで扱いやすいオブジェクト（ndarray）として使うことで、**高速でありながら柔軟なプログラミング**が可能です。  \n",
    "また、CやFortranと同様に大規模配列を扱うことにも長けているため、使いこなせればかなり強力なツールです。  \n",
    "Numpyは非常に高機能であり、全ての機能を1ページで説明することは難しいです。  \n",
    "本稿では、詳しい実装には立ち入らず、とりあえず使えるようになることを目的としています。\n",
    "## Numpyの特徴とは？\n",
    "ざっとNumpyの特徴を上げてみると、\n",
    "- ベクトル演算をベースにした省メモリで高速な多次元配列（ndarrayオブジェクト）\n",
    "- 行列演算（逆行列など）や乱数生成、フーリエ変換を簡単にできる\n",
    "- C, C++, Fortranとの連携\n",
    "- バイナリやテキストでのファイル入出力を簡単にできる\n",
    "\n",
    "のようなものがあります。  \n",
    "行列演算などの実装はCやFortranで使われているライブラリを使用しており、同等の速度を発揮します。  \n",
    "## ndarrayオブジェクト\n",
    "Numpyで配列と言うとき、たいていndarray（N-dimensional array）オブジェクトのことを指します。  \n",
    "ndarrayはCの配列に加え、その形状や型、関数などを情報として持っています。  \n",
    "本稿でも、特に断らない限り、配列はndarrayのことを意味することにします。\n",
    "## Numpyを使う際の注意点\n",
    "Numpyも万能ではなく、得意ではない処理もあります。それは、配列要素ごとに回すforループです。  \n",
    "要素ごとにforループを回すと、Pythonの遅さが如実に出てしまい、Numpyの利点が活かせません。  \n",
    "Numpyが本当に力を発揮するのは**ベクトル演算**であり、それは並列化によって実現されています。  \n",
    "もし、要素ごとの計算をしたい場合は、\n",
    "- CやFortranでその部分だけを書き、それをPythonで呼び出す\n",
    "- NumbaやCythonといった他のライブラリを使用しコンパイルを行う\n",
    "\n",
    "と言った方法があります。  \n",
    "まずはなるべくベクトル化を試みて、それが難しい場合は上記のような手段を考えてみると良いでしょう。  "
   ]
  },
  {
   "cell_type": "markdown",
   "metadata": {
    "run_control": {
     "frozen": false,
     "read_only": false
    }
   },
   "source": [
    "# 実際に使ってみる\n",
    "## インポートする"
   ]
  },
  {
   "cell_type": "code",
   "execution_count": 1,
   "metadata": {
    "ExecuteTime": {
     "end_time": "2017-03-16T22:46:28.574670",
     "start_time": "2017-03-16T22:46:28.572670"
    },
    "collapsed": false,
    "run_control": {
     "frozen": false,
     "read_only": false
    }
   },
   "outputs": [],
   "source": [
    "import numpy as np    #慣習でnpと名付けることが多い"
   ]
  },
  {
   "cell_type": "markdown",
   "metadata": {
    "run_control": {
     "frozen": false,
     "read_only": false
    }
   },
   "source": [
    "インポートに失敗する場合、numpyがそもそもインストールされていない可能性があります。その場合以下のようなコマンドを実行してください。  \n",
    "- Anacondaの場合「conda install numpy」\n",
    "- pipの場合「pip install numpy」\n",
    "\n",
    "condaはコンパイル済みのものをインストールするためにインストールエラーが起きにくいです。  \n",
    "pipはインストール時にコンパイルするため、コンパイルエラーが起きる場合があります。  \n",
    "\n",
    "## ndarrayの構造\n",
    "\n",
    "さっそく、一次元配列を作ってみましょう。np.array関数にリストやタプルを渡すことで作ることが出来ます。  "
   ]
  },
  {
   "cell_type": "code",
   "execution_count": 2,
   "metadata": {
    "ExecuteTime": {
     "end_time": "2017-03-16T22:46:28.747233",
     "start_time": "2017-03-16T22:46:28.576172"
    },
    "collapsed": false,
    "run_control": {
     "frozen": false,
     "read_only": false
    },
    "scrolled": true
   },
   "outputs": [
    {
     "name": "stdout",
     "output_type": "stream",
     "text": [
      "x = [ 1.    0.01  0.7 ]\n",
      "type = <class 'numpy.ndarray'>\n",
      "shape = (3,)\n",
      "dtype = float64\n",
      "ndim = 1\n"
     ]
    }
   ],
   "source": [
    "x = np.array([1., 0.01, 0.7])\n",
    "print(\"x = {}\".format(x))\n",
    "print(\"type = {}\".format(type(x)))\n",
    "print(\"shape = {}\".format(x.shape))\n",
    "print(\"dtype = {}\".format(x.dtype))\n",
    "print(\"ndim = {}\".format(x.ndim))"
   ]
  },
  {
   "cell_type": "markdown",
   "metadata": {
    "run_control": {
     "frozen": false,
     "read_only": false
    }
   },
   "source": [
    "ndarrayの重要な属性として、**shape**、**dtype**があります。  \n",
    "**shape**は、まさに配列の形状で、多次元配列であれば、軸に沿った要素の個数をそれぞれの軸について並べたタプルです。一次元であれば、(n,)のようなタプルになります。タプルの要素が一つしか含まれない場合、(n)とすると単なるnになってしまうので、(n,)のようにカンマを付ける必要があります。  \n",
    "**dtype**は、配列の型を表すものです（floatやint、complexなど）。  \n",
    "**ndim**は、配列の次元を表します。 上の場合、１次元配列なのでndim=1です。   \n",
    "**type()**はPythonの組み込み関数で、何のオブジェクトかを教えてくれます（dtypeとは違うものなので注意）。  \n",
    "いくつか例を挙げましょう。"
   ]
  },
  {
   "cell_type": "code",
   "execution_count": 3,
   "metadata": {
    "ExecuteTime": {
     "end_time": "2017-03-16T22:46:28.812011",
     "start_time": "2017-03-16T22:46:28.748232"
    },
    "collapsed": false,
    "run_control": {
     "frozen": false,
     "read_only": false
    }
   },
   "outputs": [
    {
     "name": "stdout",
     "output_type": "stream",
     "text": [
      "[整数のみを入れた場合]\n",
      "x = [1 2 3]\n",
      "type = <class 'numpy.ndarray'>\n",
      "shape = (3,)\n",
      "dtype = int32\n",
      "ndim = 1\n",
      "\n",
      "[２次元配列]\n",
      "x = [[  1.     0.1    3.  ]\n",
      " [  3.    20.     0.07]]\n",
      "type = <class 'numpy.ndarray'>\n",
      "shape = (2, 3)\n",
      "dtype = float64\n",
      "ndim = 2\n",
      "\n",
      "[複素数を入れた場合]\n",
      "x = [ 0.+1.j  3.+6.j  9.+0.j]\n",
      "type = <class 'numpy.ndarray'>\n",
      "shape = (3,)\n",
      "dtype = complex128\n",
      "ndim = 1\n",
      "\n"
     ]
    }
   ],
   "source": [
    "# 簡単のために関数を作る\n",
    "def show_ndarray_info(x):\n",
    "    x = np.asarray(x)\n",
    "    print(\"x = {}\".format(x))\n",
    "    print(\"type = {}\".format(type(x)))\n",
    "    print(\"shape = {}\".format(x.shape))\n",
    "    print(\"dtype = {}\".format(x.dtype))\n",
    "    print(\"ndim = {}\".format(x.ndim))\n",
    "    print()\n",
    "    \n",
    "print(\"[整数のみを入れた場合]\")\n",
    "show_ndarray_info([1, 2, 3])\n",
    "print(\"[２次元配列]\")\n",
    "show_ndarray_info([\n",
    "        [1., 0.1, 3.],\n",
    "        [3., 20., 0.07]\n",
    "        ])\n",
    "print(\"[複素数を入れた場合]\")\n",
    "show_ndarray_info([1j, 3+6j, 9.])"
   ]
  },
  {
   "cell_type": "markdown",
   "metadata": {
    "run_control": {
     "frozen": false,
     "read_only": false
    }
   },
   "source": [
    "### 要素へのアクセス\n",
    "また、各要素にアクセスするためには、リストやタプルのようにインデックスを指定します。  \n",
    "多次元配列でのアクセスは、リストなどと違う記法なので注意してください。"
   ]
  },
  {
   "cell_type": "code",
   "execution_count": 4,
   "metadata": {
    "ExecuteTime": {
     "end_time": "2017-03-16T22:46:28.877685",
     "start_time": "2017-03-16T22:46:28.818516"
    },
    "collapsed": false,
    "run_control": {
     "frozen": false,
     "read_only": false
    }
   },
   "outputs": [
    {
     "data": {
      "text/plain": [
       "array([15, 16, 17, 18, 19])"
      ]
     },
     "execution_count": 4,
     "metadata": {},
     "output_type": "execute_result"
    }
   ],
   "source": [
    "x = np.array([1., 2., 3.,])\n",
    "x[0] # ==> 1.0\n",
    "\n",
    "#スライスも使える（小さいndarrayが返ってくる）\n",
    "x[1:] # ==> [ 2.,  3.]\n",
    "\n",
    "# 多次元配列の場合\n",
    "x = np.arange(20).reshape(4,5)\n",
    "# ==> [[ 0,  1,  2,  3,  4],\n",
    "#          [ 5,  6,  7,  8,  9],\n",
    "#          [10, 11, 12, 13, 14],\n",
    "#          [15, 16, 17, 18, 19]]\n",
    "# まず0~19までの一次元配列を作り、そのshapeを変更して４×５の多次元配列を作っている。\n",
    "\n",
    "x[0,1] #==> 1\n",
    "x[1,-1] #==> 9 （負のインデックスは後ろから数えたもの。x[1,3]と等価）\n",
    "\n",
    "x[3]  # １次元配列を取り出す\n",
    "# ==> [15, 16, 17, 18, 19]\n",
    "\n",
    "# #一つの軸でのスライスではndimは変わらず、shapeだけが小さくなる（２×５の多次元配列に）。\n",
    "# x[2:4] \n",
    "# # ==> [[10, 11, 12, 13, 14],\n",
    "# #          [15, 16, 17, 18, 19]]\n",
    "\n",
    "# #複数の軸でのスライスも可能。\n",
    "# x[2:4, 2:4]  # ２×２\n",
    "# # ==> [[12, 13],\n",
    "# #          [17, 18]]"
   ]
  },
  {
   "cell_type": "markdown",
   "metadata": {
    "run_control": {
     "frozen": false,
     "read_only": false
    }
   },
   "source": [
    "## 簡単な演算\n",
    "スカラーとの四則演算は普通のベクトルのような書き方ができます（Fortranと一緒）。  \n",
    "このような演算はリストやタプルでは出来ないので、そのためにndarrayに変換することもよくあります。"
   ]
  },
  {
   "cell_type": "code",
   "execution_count": 5,
   "metadata": {
    "ExecuteTime": {
     "end_time": "2017-03-16T22:46:28.954467",
     "start_time": "2017-03-16T22:46:28.878677"
    },
    "collapsed": false,
    "run_control": {
     "frozen": false,
     "read_only": false
    }
   },
   "outputs": [
    {
     "data": {
      "text/plain": [
       "array([  1.00000000e-05,   1.00000000e-07,   7.00000000e-06])"
      ]
     },
     "execution_count": 5,
     "metadata": {},
     "output_type": "execute_result"
    }
   ],
   "source": [
    "x = np.array([1., 0.01, 0.7])\n",
    "x + 1 # ==> [ 2.  ,  1.01,  1.7 ]\n",
    "2 * x # ==> [ 2.  ,  0.02,  1.4 ]\n",
    "x / 1e5 # ==> [  1.00000000e-05,   1.00000000e-07,   7.00000000e-06]"
   ]
  },
  {
   "cell_type": "markdown",
   "metadata": {
    "run_control": {
     "frozen": false,
     "read_only": false
    }
   },
   "source": [
    "同じ形状の配列同士の四則演算は、要素ごとに演算した結果になります。  \n",
    "（異なる形状の配列であっても、場合によっては演算できることがあり、それを**ブロードキャスト**と言います（後述））"
   ]
  },
  {
   "cell_type": "code",
   "execution_count": 6,
   "metadata": {
    "ExecuteTime": {
     "end_time": "2017-03-16T22:46:29.090734",
     "start_time": "2017-03-16T22:46:28.955960"
    },
    "collapsed": false,
    "run_control": {
     "frozen": false,
     "read_only": false
    }
   },
   "outputs": [
    {
     "data": {
      "text/plain": [
       "array([ 2. ,  1.5,  0.6])"
      ]
     },
     "execution_count": 6,
     "metadata": {},
     "output_type": "execute_result"
    }
   ],
   "source": [
    "x = np.array([8., 0.3, 90])\n",
    "y = np.array([4., 0.2, 150])\n",
    "x + y # ==> [  12. ,    0.5,  240. ]\n",
    "x - y # ==> [  4. ,   0.1, -60. ]\n",
    "x * y # ==> [  3.20000000e+01,   6.00000000e-02,   1.35000000e+04]\n",
    "x / y # ==> [ 2. ,  1.5,  0.6]"
   ]
  },
  {
   "cell_type": "markdown",
   "metadata": {
    "run_control": {
     "frozen": false,
     "read_only": false
    }
   },
   "source": [
    "多次元配列でも同じように要素ごとの演算になります。  \n",
    "行列演算がしたい場合は、np.dot関数を用いるか、Python3.5以降であれば@マークを使えます。"
   ]
  },
  {
   "cell_type": "code",
   "execution_count": 7,
   "metadata": {
    "ExecuteTime": {
     "end_time": "2017-03-16T22:46:29.300506",
     "start_time": "2017-03-16T22:46:29.092236"
    },
    "collapsed": false,
    "run_control": {
     "frozen": false,
     "read_only": false
    }
   },
   "outputs": [
    {
     "data": {
      "text/plain": [
       "array([[  0.,   2.,   4.],\n",
       "       [  6.,   8.,  10.],\n",
       "       [ 12.,  14.,  16.]])"
      ]
     },
     "execution_count": 7,
     "metadata": {},
     "output_type": "execute_result"
    }
   ],
   "source": [
    "# ３×３行列を作成\n",
    "A = np.arange(9).reshape(3,3)\n",
    "# ==> [[0, 1, 2],\n",
    "#          [3, 4, 5],\n",
    "#          [6, 7, 8]]\n",
    "\n",
    "# ３×３の単位行列の２倍\n",
    "B = np.eye(3) * 2\n",
    "# ==> [[ 2.,  0.,  0.],\n",
    "#          [ 0.,  2.,  0.],\n",
    "#          [ 0.,  0.,  2.]]\n",
    "\n",
    "# 要素ごとの積になる\n",
    "A * B\n",
    "# ==> [[  0.,   0.,   0.],\n",
    "#          [  0.,   8.,   0.],\n",
    "#          [  0.,   0.,  16.]]\n",
    "\n",
    "# 行列積\n",
    "np.dot(A, B)\n",
    "# ==> [[  0.,   2.,   4.],\n",
    "#          [  6.,   8.,  10.],        2*Aと等しくなっている\n",
    "#          [ 12.,  14.,  16.]]\n",
    "\n",
    "# Python3.5以降であれば、行列積を@で記述可\n",
    "A @ B\n",
    "# ==> [[  0.,   2.,   4.],\n",
    "#          [  6.,   8.,  10.],\n",
    "#          [ 12.,  14.,  16.]]"
   ]
  },
  {
   "cell_type": "markdown",
   "metadata": {},
   "source": [
    "## 関数を使ってみよう\n",
    "### np.reshape\n",
    "Numpyを使っていると、しょっちゅう出会うのがこのreshape関数です。  "
   ]
  },
  {
   "cell_type": "code",
   "execution_count": 8,
   "metadata": {
    "ExecuteTime": {
     "end_time": "2017-03-16T22:46:29.307023",
     "start_time": "2017-03-16T22:46:29.302009"
    },
    "collapsed": false
   },
   "outputs": [
    {
     "data": {
      "text/plain": [
       "array([[0, 1, 2, 3, 4],\n",
       "       [5, 6, 7, 8, 9]])"
      ]
     },
     "execution_count": 8,
     "metadata": {},
     "output_type": "execute_result"
    }
   ],
   "source": [
    "a = np.arange(10).reshape(2,5)\n",
    "a"
   ]
  },
  {
   "cell_type": "markdown",
   "metadata": {},
   "source": [
    "文字通り、ndarrayのshapeを変更する関数なのですが、２つほど注意する点があります。  \n",
    "一つ目は、全体のsizeを変更しないようにしなければならないということです。  \n",
    "つまり、新しいshapeの各要素を掛け合わせた値が元々の要素の総数を一致する必要があるということです。"
   ]
  },
  {
   "cell_type": "code",
   "execution_count": 9,
   "metadata": {
    "ExecuteTime": {
     "end_time": "2017-03-16T22:46:29.380182",
     "start_time": "2017-03-16T22:46:29.308512"
    },
    "collapsed": false
   },
   "outputs": [
    {
     "data": {
      "text/plain": [
       "10"
      ]
     },
     "execution_count": 9,
     "metadata": {},
     "output_type": "execute_result"
    }
   ],
   "source": [
    "#ndarray.sizeは配列に含まれるデータの総数（必ずスカラーになる）\n",
    "a.size"
   ]
  },
  {
   "cell_type": "code",
   "execution_count": 10,
   "metadata": {
    "ExecuteTime": {
     "end_time": "2017-03-16T22:46:30.101519",
     "start_time": "2017-03-16T22:46:29.381682"
    },
    "collapsed": false
   },
   "outputs": [
    {
     "ename": "ValueError",
     "evalue": "total size of new array must be unchanged",
     "output_type": "error",
     "traceback": [
      "\u001b[0;31m---------------------------------------------------------------------------\u001b[0m",
      "\u001b[0;31mValueError\u001b[0m                                Traceback (most recent call last)",
      "\u001b[0;32m<ipython-input-10-eccaecc34b0e>\u001b[0m in \u001b[0;36m<module>\u001b[0;34m()\u001b[0m\n\u001b[1;32m      1\u001b[0m \u001b[1;31m# total sizeが変化しているので怒られる\u001b[0m\u001b[1;33m\u001b[0m\u001b[1;33m\u001b[0m\u001b[0m\n\u001b[0;32m----> 2\u001b[0;31m \u001b[0ma\u001b[0m\u001b[1;33m.\u001b[0m\u001b[0mreshape\u001b[0m\u001b[1;33m(\u001b[0m\u001b[1;36m1000\u001b[0m\u001b[1;33m,\u001b[0m \u001b[1;36m100000\u001b[0m\u001b[1;33m)\u001b[0m\u001b[1;33m\u001b[0m\u001b[0m\n\u001b[0m",
      "\u001b[0;31mValueError\u001b[0m: total size of new array must be unchanged"
     ]
    }
   ],
   "source": [
    "# total sizeが変化しているので怒られる\n",
    "a.reshape(1000, 100000)"
   ]
  },
  {
   "cell_type": "markdown",
   "metadata": {},
   "source": [
    "逆に言うと、sizeが同じであるならば、どのようなshapeでも作ることが出来ます。"
   ]
  },
  {
   "cell_type": "code",
   "execution_count": 11,
   "metadata": {
    "ExecuteTime": {
     "end_time": "2017-03-16T22:46:37.634248",
     "start_time": "2017-03-16T22:46:37.629732"
    },
    "collapsed": false
   },
   "outputs": [
    {
     "data": {
      "text/plain": [
       "array([[[[[0, 1, 2, 3, 4]],\n",
       "\n",
       "         [[5, 6, 7, 8, 9]]]]])"
      ]
     },
     "execution_count": 11,
     "metadata": {},
     "output_type": "execute_result"
    }
   ],
   "source": [
    "a.reshape(1, 1, 2, 1, 5)"
   ]
  },
  {
   "cell_type": "markdown",
   "metadata": {},
   "source": [
    "このような変形は、次元の異なる配列同士の計算をするために用いることがあります（ブロードキャスト）。  \n",
    "また、reshapeの引数に-1を入れると、sizeを変えないようなshapeを計算してくれます。  "
   ]
  },
  {
   "cell_type": "code",
   "execution_count": 12,
   "metadata": {
    "ExecuteTime": {
     "end_time": "2017-03-16T22:46:38.166636",
     "start_time": "2017-03-16T22:46:38.162127"
    },
    "collapsed": false
   },
   "outputs": [
    {
     "data": {
      "text/plain": [
       "array([[0, 1, 2, 3, 4],\n",
       "       [5, 6, 7, 8, 9]])"
      ]
     },
     "execution_count": 12,
     "metadata": {},
     "output_type": "execute_result"
    }
   ],
   "source": [
    "a = np.arange(10)\n",
    "a.reshape(-1, 5) # reshape(2,5)と等価"
   ]
  },
  {
   "cell_type": "markdown",
   "metadata": {},
   "source": [
    "二つ目の注意する点は、reshapeによって返ってくるndarrayは、元々のndarrayと同じメモリを参照している点です。  \n",
    "つまり、reshapeによって返ってきたndarrayを書き換えると、オリジナルも変化するということです。  \n",
    "このような参照をコピーと対比させて、**ビュー**と言います。"
   ]
  },
  {
   "cell_type": "code",
   "execution_count": 13,
   "metadata": {
    "ExecuteTime": {
     "end_time": "2017-03-16T22:46:38.249684",
     "start_time": "2017-03-16T22:46:38.231170"
    },
    "collapsed": false,
    "run_control": {
     "marked": false
    },
    "scrolled": true
   },
   "outputs": [
    {
     "data": {
      "text/plain": [
       "array([100,   1,   2,   3,   4,   5,   6,   7,   8,   9])"
      ]
     },
     "execution_count": 13,
     "metadata": {},
     "output_type": "execute_result"
    }
   ],
   "source": [
    "b = np.arange(10)\n",
    "c = b.reshape(2,5)\n",
    "c[0, 0] = 100\n",
    "b"
   ]
  },
  {
   "cell_type": "markdown",
   "metadata": {},
   "source": [
    "科学技術計算の上ではこの性質は重要です。なぜなら、大規模な配列をいちいちreshapeのたびにコピーされると困るからです。  \n",
    "もし、オリジナルを書き換えたくないならば、**copy**関数を使う必要があります。"
   ]
  },
  {
   "cell_type": "code",
   "execution_count": 14,
   "metadata": {
    "ExecuteTime": {
     "end_time": "2017-03-16T22:46:38.337245",
     "start_time": "2017-03-16T22:46:38.299718"
    },
    "collapsed": false
   },
   "outputs": [
    {
     "data": {
      "text/plain": [
       "array([0, 1, 2, 3, 4, 5, 6, 7, 8, 9])"
      ]
     },
     "execution_count": 14,
     "metadata": {},
     "output_type": "execute_result"
    }
   ],
   "source": [
    "b = np.arange(10)\n",
    "c = b.reshape(2,5).copy() # copyは複製したndarrayを返す\n",
    "c[0, 0] = 100\n",
    "b"
   ]
  },
  {
   "cell_type": "markdown",
   "metadata": {},
   "source": [
    "少しだけ、reshapeの実装について考えてみます。  \n",
    "C言語では、多次元配列であってもメモリ上に連続に配置され、インデックスを１変えたときに参照する位置を１次元の場合よりも大きくジャンプさせることであたかも隣接しているかのように操作することが出来ます。  \n",
    "shapeを変えるということは、ある軸のインデックスが１増えたときにメモリ上への参照を何バイトだけジャンプするかを変更することを意味します。  \n",
    "このジャンプの量を**strides**といいます。"
   ]
  },
  {
   "cell_type": "code",
   "execution_count": 15,
   "metadata": {
    "ExecuteTime": {
     "end_time": "2017-03-16T22:46:38.409296",
     "start_time": "2017-03-16T22:46:38.365765"
    },
    "collapsed": false
   },
   "outputs": [
    {
     "data": {
      "text/plain": [
       "(20, 4)"
      ]
     },
     "execution_count": 15,
     "metadata": {},
     "output_type": "execute_result"
    }
   ],
   "source": [
    "b = np.arange(10)\n",
    "c = b.reshape(2,5)\n",
    "c.strides"
   ]
  },
  {
   "cell_type": "code",
   "execution_count": 16,
   "metadata": {
    "ExecuteTime": {
     "end_time": "2017-03-16T22:46:38.552693",
     "start_time": "2017-03-16T22:46:38.410807"
    },
    "collapsed": false
   },
   "outputs": [
    {
     "data": {
      "text/plain": [
       "5"
      ]
     },
     "execution_count": 16,
     "metadata": {},
     "output_type": "execute_result"
    }
   ],
   "source": [
    "c.dtype # ==> dtype('int32')\n",
    "c[1,0] # ==> 5\n",
    "b[5] # ==> 5"
   ]
  },
  {
   "cell_type": "markdown",
   "metadata": {},
   "source": [
    "この例では、変数cの一つ目の軸（axis 0といいます）のインデックスが１増えたとき、メモリの参照を20バイト飛ばすということです。  \n",
    "今、dtypeがint32で一つの変数が4バイトなので、int32型の5個分先に移動することになります。  \n",
    "したがって、b[5]とc[1,0]が（参照しているメモリアドレスについても）等しくなるということです。  \n",
    "C言語の多次元配列は、後ろの軸であればあるほどメモリが隣接するような設計になっています。  \n",
    "１次元配列を多次元配列に変更するときには、２つの流派があります。  \n",
    "一つは、C言語と同じように、後ろの軸が隣接するようなものと、Fortranのように前の方の軸が隣接するようなものです。  \n",
    "reshape関数は、キーワード引数orderがあり、この２つを選べるようになっています。  \n",
    "もちろん、そこまで使う機会はないと思うのですが（デフォルトで十分）、このような実装を理解しておくと、困ったときに対処しやすいと思います。"
   ]
  },
  {
   "cell_type": "code",
   "execution_count": 17,
   "metadata": {
    "ExecuteTime": {
     "end_time": "2017-03-16T22:46:38.694499",
     "start_time": "2017-03-16T22:46:38.554694"
    },
    "collapsed": false
   },
   "outputs": [
    {
     "data": {
      "text/plain": [
       "array([[0, 1, 2, 3, 4],\n",
       "       [5, 6, 7, 8, 9]])"
      ]
     },
     "execution_count": 17,
     "metadata": {},
     "output_type": "execute_result"
    }
   ],
   "source": [
    "# C言語での多次元配列（デフォルトの動作）\n",
    "np.arange(10).reshape(2,5, order=\"c\")"
   ]
  },
  {
   "cell_type": "code",
   "execution_count": 18,
   "metadata": {
    "ExecuteTime": {
     "end_time": "2017-03-16T22:46:38.841773",
     "start_time": "2017-03-16T22:46:38.696500"
    },
    "collapsed": false
   },
   "outputs": [
    {
     "data": {
      "text/plain": [
       "array([[0, 2, 4, 6, 8],\n",
       "       [1, 3, 5, 7, 9]])"
      ]
     },
     "execution_count": 18,
     "metadata": {},
     "output_type": "execute_result"
    }
   ],
   "source": [
    "# Fortranでの多次元配列\n",
    "np.arange(10).reshape(2,5, order=\"F\")"
   ]
  },
  {
   "cell_type": "markdown",
   "metadata": {},
   "source": [
    "reshapeについてのまとめです。  \n",
    "- sizeを変化させない。引数に-1を使うと便利。\n",
    "- reshapeはコピーではなくビューを返す。"
   ]
  },
  {
   "cell_type": "markdown",
   "metadata": {
    "run_control": {
     "frozen": false,
     "read_only": false
    }
   },
   "source": [
    "# Numpyの基礎\n",
    "## ndarrayの生成関数\n",
    "色々な配列を作る便利な関数が用意されています。ここではそれらを紹介します。\n",
    "### np.array, np.asarray\n",
    "上でも述べた関数です。リストやタプルを引数に取り、配列を返す関数です。  \n",
    "型を指定しない場合は、勝手に推測してくれますが、キーワード引数で指定することも出来ます。\n",
    "np.asarrayは引数がndarrayであれば、そのままndarrayを返し、そうでないならnp.arrayと同じ働きをする関数です。"
   ]
  },
  {
   "cell_type": "code",
   "execution_count": 19,
   "metadata": {
    "ExecuteTime": {
     "end_time": "2017-03-16T22:46:39.357380",
     "start_time": "2017-03-16T22:46:39.352876"
    },
    "collapsed": false,
    "run_control": {
     "frozen": false,
     "read_only": false
    }
   },
   "outputs": [
    {
     "data": {
      "text/plain": [
       "dtype('int32')"
      ]
     },
     "execution_count": 19,
     "metadata": {},
     "output_type": "execute_result"
    }
   ],
   "source": [
    "# dtypeを指定\n",
    "np.array([1, 2, 3], dtype=float).dtype # ==> dtype('float64')\n",
    "\n",
    "#指定しない場合は推測してくれる\n",
    "np.array([1, 2, 3]).dtype # ==> dtype('int32')"
   ]
  },
  {
   "cell_type": "markdown",
   "metadata": {
    "run_control": {
     "frozen": false,
     "read_only": false
    }
   },
   "source": [
    "### np.arange\n",
    "Python組み込み関数のrange()と同じ働きをする関数で、ndarrayを返します。  \n",
    "stepには小数も入れることが出来ます。"
   ]
  },
  {
   "cell_type": "code",
   "execution_count": 20,
   "metadata": {
    "ExecuteTime": {
     "end_time": "2017-03-16T22:46:39.541459",
     "start_time": "2017-03-16T22:46:39.423283"
    },
    "collapsed": false,
    "run_control": {
     "frozen": false,
     "read_only": false
    }
   },
   "outputs": [
    {
     "data": {
      "text/plain": [
       "array([ 0,  4,  8, 12, 16])"
      ]
     },
     "execution_count": 20,
     "metadata": {},
     "output_type": "execute_result"
    }
   ],
   "source": [
    "# 引数が一つの場合、stopのみstart=0となる\n",
    "np.arange(10) # ==> [0, 1, 2, 3, 4, 5, 6, 7, 8, 9]\n",
    "np.arange(10.) # ==> [ 0.,  1.,  2.,  3.,  4.,  5.,  6.,  7.,  8.,  9.]\n",
    "np.arange(10, dtype=float) # ==> [ 0.,  1.,  2.,  3.,  4.,  5.,  6.,  7.,  8.,  9.]\n",
    "\n",
    "# 引数が２つの場合、startとstopになる（stopは含まない）\n",
    "np.arange(3, 10) # ==> [3, 4, 5, 6, 7, 8, 9]\n",
    "\n",
    "#引数が３つの場合、start, stop, stepになる\n",
    "np.arange(0, 1, 0.1) # ==> [ 0. ,  0.1,  0.2,  0.3,  0.4,  0.5,  0.6,  0.7,  0.8,  0.9]\n",
    "np.arange(start=0, stop=1, step=0.1) #上と等価\n",
    "\n",
    "# 整数ステップ\n",
    "np.arange(0, 20, 4) # ==> [ 0,  4,  8, 12, 16]"
   ]
  },
  {
   "cell_type": "markdown",
   "metadata": {
    "run_control": {
     "frozen": false,
     "read_only": false
    }
   },
   "source": [
    "### np.ones, np.ones_like\n",
    "np.onesは、引数で与えられたshapeで、全ての要素が１であるようなndarrayを返します。  \n",
    "np.ones_likeは、引数にndarrayを取り、そのndarrayのshapeと同じshapeで全ての要素が１となるndarrayを返します。"
   ]
  },
  {
   "cell_type": "code",
   "execution_count": 21,
   "metadata": {
    "ExecuteTime": {
     "end_time": "2017-03-16T22:46:39.869914",
     "start_time": "2017-03-16T22:46:39.862399"
    },
    "collapsed": false,
    "run_control": {
     "frozen": false,
     "read_only": false
    }
   },
   "outputs": [
    {
     "data": {
      "text/plain": [
       "array([[1, 1, 1, 1, 1],\n",
       "       [1, 1, 1, 1, 1]])"
      ]
     },
     "execution_count": 21,
     "metadata": {},
     "output_type": "execute_result"
    }
   ],
   "source": [
    "#１次元の場合はスカラーを引数に与えることが可能\n",
    "np.ones(5) # ==> [ 1.,  1.,  1.,  1.,  1.]\n",
    "# np.ones((5,))と等価\n",
    "\n",
    "# 多次元配列の場合、タプルを引数にしなければならない（2×２×２行列）\n",
    "np.ones((2,2,2))\n",
    "# ==> [[[ 1.,  1.],\n",
    "#           [ 1.,  1.]],\n",
    "#\n",
    "#          [[ 1.,  1.],\n",
    "#           [ 1.,  1.]]]\n",
    "\n",
    "#デフォルトではfloatなので、dtypeをintにしてみる\n",
    "np.ones(5, dtype=int) # ==> [1, 1, 1, 1, 1]\n",
    "\n",
    "A = np.arange(10).reshape(2,5)\n",
    "A.shape # ==> (2, 5)\n",
    "np.ones_like(A)\n",
    "# ==> [[1, 1, 1, 1, 1],\n",
    "#          [1, 1, 1, 1, 1]]"
   ]
  },
  {
   "cell_type": "markdown",
   "metadata": {
    "run_control": {
     "frozen": false,
     "read_only": false
    }
   },
   "source": [
    "### np.zeros, np.zeros_like\n",
    "全ての要素を0にする他は、np.ones, np.ones_likeと同じなのでそちらを見てください。\n",
    "\n",
    "### np.empty, np.empty_like\n",
    "上の２つと似ていますが、こちらは初期化をせずに配列の領域だけを確保する関数です。  \n",
    "巨大な配列を自分で初期化したい場合や、値は何でもいいが配列だけ作りたいときに使います。   \n",
    "初期化のプロセスを省略するためにnp.zerosなどよりも高速に動作します。  \n",
    "ときどき変な値が入ってることがあるので、自分で初期化するときのみ使うのが吉です。"
   ]
  },
  {
   "cell_type": "code",
   "execution_count": 22,
   "metadata": {
    "ExecuteTime": {
     "end_time": "2017-03-16T22:46:40.473059",
     "start_time": "2017-03-16T22:46:40.469044"
    },
    "collapsed": false,
    "run_control": {
     "frozen": false,
     "read_only": false
    }
   },
   "outputs": [
    {
     "data": {
      "text/plain": [
       "108"
      ]
     },
     "execution_count": 22,
     "metadata": {},
     "output_type": "execute_result"
    }
   ],
   "source": [
    "# 2048個のbool型の中にあるTrueの個数（実行するたびに変化する）\n",
    "np.empty(2048, dtype=np.bool).sum()"
   ]
  },
  {
   "cell_type": "markdown",
   "metadata": {
    "run_control": {
     "frozen": false,
     "read_only": false
    }
   },
   "source": [
    "### np.linspace\n",
    "start, stopの２つを引数に取り、startからendまで均等に分けた配列を返します。  \n",
    "キーワード引数としてnumがあり、均等に分ける個数を指定できます。デフォルトではnum=50です。  \n",
    "\n",
    "> np.linspace(start, stop, num=50, endpoint=True, retstep=False, dtype=None)\n",
    "\n",
    "endpointはstopを含むかどうかをBooleanで渡す引数です。"
   ]
  },
  {
   "cell_type": "code",
   "execution_count": 23,
   "metadata": {
    "ExecuteTime": {
     "end_time": "2017-03-16T22:46:41.026087",
     "start_time": "2017-03-16T22:46:41.021072"
    },
    "collapsed": false,
    "run_control": {
     "frozen": false,
     "read_only": false
    }
   },
   "outputs": [
    {
     "data": {
      "text/plain": [
       "array([ 0.        ,  0.02040816,  0.04081633,  0.06122449,  0.08163265,\n",
       "        0.10204082,  0.12244898,  0.14285714,  0.16326531,  0.18367347,\n",
       "        0.20408163,  0.2244898 ,  0.24489796,  0.26530612,  0.28571429,\n",
       "        0.30612245,  0.32653061,  0.34693878,  0.36734694,  0.3877551 ,\n",
       "        0.40816327,  0.42857143,  0.44897959,  0.46938776,  0.48979592,\n",
       "        0.51020408,  0.53061224,  0.55102041,  0.57142857,  0.59183673,\n",
       "        0.6122449 ,  0.63265306,  0.65306122,  0.67346939,  0.69387755,\n",
       "        0.71428571,  0.73469388,  0.75510204,  0.7755102 ,  0.79591837,\n",
       "        0.81632653,  0.83673469,  0.85714286,  0.87755102,  0.89795918,\n",
       "        0.91836735,  0.93877551,  0.95918367,  0.97959184,  1.        ])"
      ]
     },
     "execution_count": 23,
     "metadata": {},
     "output_type": "execute_result"
    }
   ],
   "source": [
    "np.linspace(0, 1)"
   ]
  },
  {
   "cell_type": "code",
   "execution_count": 24,
   "metadata": {
    "ExecuteTime": {
     "end_time": "2017-03-16T22:46:41.371048",
     "start_time": "2017-03-16T22:46:41.366044"
    },
    "collapsed": false,
    "run_control": {
     "frozen": false,
     "read_only": false
    }
   },
   "outputs": [
    {
     "data": {
      "text/plain": [
       "array([ 0.        ,  0.34906585,  0.6981317 ,  1.04719755,  1.3962634 ,\n",
       "        1.74532925,  2.0943951 ,  2.44346095,  2.7925268 ,  3.14159265])"
      ]
     },
     "execution_count": 24,
     "metadata": {},
     "output_type": "execute_result"
    }
   ],
   "source": [
    "#この２つは等価\n",
    "np.linspace(0, np.pi, 10)\n",
    "np.linspace(0, np.pi, num=10)"
   ]
  },
  {
   "cell_type": "code",
   "execution_count": 25,
   "metadata": {
    "ExecuteTime": {
     "end_time": "2017-03-16T22:46:41.729702",
     "start_time": "2017-03-16T22:46:41.725701"
    },
    "collapsed": false,
    "run_control": {
     "frozen": false,
     "read_only": false
    }
   },
   "outputs": [
    {
     "data": {
      "text/plain": [
       "array([ 0.        ,  0.31415927,  0.62831853,  0.9424778 ,  1.25663706,\n",
       "        1.57079633,  1.88495559,  2.19911486,  2.51327412,  2.82743339])"
      ]
     },
     "execution_count": 25,
     "metadata": {},
     "output_type": "execute_result"
    }
   ],
   "source": [
    "#endpoint=Falseの場合。stopの値を含まない。\n",
    "np.linspace(0, np.pi, 10, endpoint=False)"
   ]
  },
  {
   "cell_type": "markdown",
   "metadata": {},
   "source": [
    "### np.eye, np.identity\n",
    "この２つは単位行列を生成する関数で、違いはほとんどありません。"
   ]
  },
  {
   "cell_type": "code",
   "execution_count": 26,
   "metadata": {
    "ExecuteTime": {
     "end_time": "2017-03-16T22:46:42.377856",
     "start_time": "2017-03-16T22:46:42.373340"
    },
    "collapsed": false
   },
   "outputs": [
    {
     "data": {
      "text/plain": [
       "array([[ 1.,  0.,  0.,  0.],\n",
       "       [ 0.,  1.,  0.,  0.],\n",
       "       [ 0.,  0.,  1.,  0.],\n",
       "       [ 0.,  0.,  0.,  1.]])"
      ]
     },
     "execution_count": 26,
     "metadata": {},
     "output_type": "execute_result"
    }
   ],
   "source": [
    "np.eye(4)"
   ]
  },
  {
   "cell_type": "markdown",
   "metadata": {
    "run_control": {
     "frozen": false,
     "read_only": false
    }
   },
   "source": [
    "## Numpyのデータ型\n",
    "既に出てきたように、ndarrayには様々なdtypeが存在します。  \n",
    "基本的には精度の高い型が使われているためにそこまで意識する必要はないかもしれませんが、Cなどと連携するときやバイナリ入出力のときには考えないといけないこともあると思います。  \n",
    "表でまとめると以下のようになります。\n",
    "\n",
    "|型|説明|C言語|Fortran|\n",
    "|:--:|:-----:|:------:|:--------:|\n",
    "|int32 / uint32|符号あり/なし　32ビット整数型（４バイト）|long もしくは int|INTEGER|\n",
    "|int64 / uint64|符号あり/なし　64ビット整数型（８バイト）|long long int|INTEGER(8)|\n",
    "|float32|単精度浮動小数点数型|float|REAL もしくはREAL(4)|\n",
    "|float64|倍精度浮動小数点数型|double|REAL(8)|\n",
    "|complex64|実部・虚部それぞれ単精度|float complex|COMPLEX もしくは COMPLEX(4)|\n",
    "|complex128|実部・虚部それぞれ倍精度|double complex|COMPLEX(8)|\n",
    "|bool|真偽値（TrueとFalse）|(bool)|LOGICAL|\n",
    "|object|任意のPythonオブジェクト| | |\n",
    "|string_|固定長文字列型|char*|CHARACTER(LEN=○)|\n",
    "|unicode_|固定長ユニコード文字列型| | | |\n",
    "\n",
    "ndarrayのdtypeのキャストは**astype**を使います。"
   ]
  },
  {
   "cell_type": "code",
   "execution_count": 27,
   "metadata": {
    "ExecuteTime": {
     "end_time": "2017-03-16T22:46:43.179577",
     "start_time": "2017-03-16T22:46:43.173074"
    },
    "collapsed": false,
    "run_control": {
     "frozen": false,
     "read_only": false
    }
   },
   "outputs": [
    {
     "data": {
      "text/plain": [
       "array([  1.23000000e+002,  -1.00000000e-004,   6.84300000e+256])"
      ]
     },
     "execution_count": 27,
     "metadata": {},
     "output_type": "execute_result"
    }
   ],
   "source": [
    "a = np.arange(10)\n",
    "a \n",
    "# ==> array([0, 1, 2, 3, 4, 5, 6, 7, 8, 9])\n",
    "\n",
    "a.dtype \n",
    "# ==> dtype('int32')\n",
    "\n",
    "b = a.astype(np.float64)\n",
    "b \n",
    "# ==> array([ 0.,  1.,  2.,  3.,  4.,  5.,  6.,  7.,  8.,  9.])\n",
    "\n",
    "b.dtype \n",
    "# ==> dtype('float64')\n",
    "\n",
    "# stringからfloatへのキャスト\n",
    "np.array([\"123.\", \"-0.0001\", \"6.843e256\"]).astype(np.float64)"
   ]
  },
  {
   "cell_type": "markdown",
   "metadata": {},
   "source": [
    "## インデックス参照\n",
    "Numpyでは、部分配列の取り出し方に様々な種類があり、使いこなせると便利です。  \n",
    "ただ、取り出し方がコピーであるかビュー（参照）であるかを混乱することがあるので、チェックしておいてください。  \n",
    "### スライス\n",
    "Pythonのリストやタプルにも実装されているスライスをndarrayに対してするとその部分配列が**ビュー（参照）**で返ってきます。  \n",
    "つまり、その部分配列を書き換えると元々の配列も変わるということです。  \n",
    "スライスは高速に動作するので、使えるときはガンガン使っていきましょう。  \n",
    "一例を見てみます。"
   ]
  },
  {
   "cell_type": "code",
   "execution_count": 28,
   "metadata": {
    "ExecuteTime": {
     "end_time": "2017-03-16T22:46:43.962100",
     "start_time": "2017-03-16T22:46:43.957085"
    },
    "collapsed": false
   },
   "outputs": [
    {
     "data": {
      "text/plain": [
       "array([[ 0,  1,  2,  3],\n",
       "       [ 4,  5,  6,  7],\n",
       "       [ 8,  9, 10, 11],\n",
       "       [12, 13, 14, 15]])"
      ]
     },
     "execution_count": 28,
     "metadata": {},
     "output_type": "execute_result"
    }
   ],
   "source": [
    "arr = np.arange(16).reshape(4, 4)\n",
    "arr"
   ]
  },
  {
   "cell_type": "code",
   "execution_count": 29,
   "metadata": {
    "ExecuteTime": {
     "end_time": "2017-03-16T22:46:44.300176",
     "start_time": "2017-03-16T22:46:44.295172"
    },
    "collapsed": false,
    "scrolled": true
   },
   "outputs": [
    {
     "data": {
      "text/plain": [
       "array([[ 5,  6],\n",
       "       [ 9, 10]])"
      ]
     },
     "execution_count": 29,
     "metadata": {},
     "output_type": "execute_result"
    }
   ],
   "source": [
    "# スライスする（２×２行列のビューができる）\n",
    "arr_sliced = arr[1:3, 1:3]\n",
    "arr_sliced"
   ]
  },
  {
   "cell_type": "code",
   "execution_count": 30,
   "metadata": {
    "ExecuteTime": {
     "end_time": "2017-03-16T22:46:44.652654",
     "start_time": "2017-03-16T22:46:44.647651"
    },
    "collapsed": false
   },
   "outputs": [
    {
     "data": {
      "text/plain": [
       "array([[ 0,  1,  2,  3],\n",
       "       [ 4, -1, -1,  7],\n",
       "       [ 8, -1, -1, 11],\n",
       "       [12, 13, 14, 15]])"
      ]
     },
     "execution_count": 30,
     "metadata": {},
     "output_type": "execute_result"
    }
   ],
   "source": [
    "# スライスした部分配列の要素に全て-1を代入する\n",
    "arr_sliced[:,:] = -1\n",
    "\n",
    "# オリジナルの配列\n",
    "arr"
   ]
  },
  {
   "cell_type": "markdown",
   "metadata": {},
   "source": [
    "オリジナル配列のスライスされた部分が全て-1に変わっていることがわかります。   \n",
    "多次元配列のスライスは、一つ一つの軸のスライスを順番にスライスしていって小さくなっていくと考えると分かりやすいと思います。  \n",
    "直接ビューに代入することも出来ます。"
   ]
  },
  {
   "cell_type": "code",
   "execution_count": 31,
   "metadata": {
    "ExecuteTime": {
     "end_time": "2017-03-16T22:46:45.450189",
     "start_time": "2017-03-16T22:46:45.445185"
    },
    "collapsed": false
   },
   "outputs": [
    {
     "data": {
      "text/plain": [
       "array([[100,   1, 100,   3],\n",
       "       [  4,   5,   6,   7],\n",
       "       [100,   9, 100,  11],\n",
       "       [ 12,  13,  14,  15]])"
      ]
     },
     "execution_count": 31,
     "metadata": {},
     "output_type": "execute_result"
    }
   ],
   "source": [
    "arr = np.arange(16).reshape(4, 4)\n",
    "\n",
    "# 一個飛ばし\n",
    "arr[::2, ::2] = 100\n",
    "arr"
   ]
  },
  {
   "cell_type": "markdown",
   "metadata": {},
   "source": [
    "ビューのshapeと同じshapeを持つ配列を使って代入することも出来ます。"
   ]
  },
  {
   "cell_type": "code",
   "execution_count": 32,
   "metadata": {
    "ExecuteTime": {
     "end_time": "2017-03-16T22:46:46.394425",
     "start_time": "2017-03-16T22:46:46.388920"
    },
    "collapsed": false
   },
   "outputs": [
    {
     "data": {
      "text/plain": [
       "array([[  0,   1,   2,   3],\n",
       "       [  4, -50,   6, -50],\n",
       "       [  8,   9,  10,  11],\n",
       "       [ 12, -50,  14, -50]])"
      ]
     },
     "execution_count": 32,
     "metadata": {},
     "output_type": "execute_result"
    }
   ],
   "source": [
    "arr = np.arange(16).reshape(4, 4)\n",
    "\n",
    "# ２×２行列で各要素が-50の配列を作る\n",
    "arr_small = -50 * np.ones((2, 2))\n",
    "\n",
    "# インデックス１から一個飛ばし（２×２のスライス）\n",
    "arr[1::2, 1::2] = arr_small\n",
    "arr"
   ]
  },
  {
   "cell_type": "markdown",
   "metadata": {},
   "source": [
    " 変わってほしくないときは、reshapeの場合と同様に、コピーしなくてはなりません。  "
   ]
  },
  {
   "cell_type": "code",
   "execution_count": 33,
   "metadata": {
    "ExecuteTime": {
     "end_time": "2017-03-16T22:46:47.132243",
     "start_time": "2017-03-16T22:46:47.125239"
    },
    "collapsed": false
   },
   "outputs": [
    {
     "data": {
      "text/plain": [
       "array([[ 0,  1,  2,  3],\n",
       "       [ 4,  5,  6,  7],\n",
       "       [ 8,  9, 10, 11],\n",
       "       [12, 13, 14, 15]])"
      ]
     },
     "execution_count": 33,
     "metadata": {},
     "output_type": "execute_result"
    }
   ],
   "source": [
    "# 同様のオリジナル配列を作る\n",
    "arr = np.arange(16).reshape(4,4)\n",
    "\n",
    "# ndarray.copy関数は自分自身を複製したndarrayを返す\n",
    "arr_sliced = arr[1:3,1:3].copy()\n",
    "\n",
    "# 全要素に-1を代入\n",
    "arr_sliced[:,:] = -1\n",
    "\n",
    "# オリジナル配列は変化していない\n",
    "arr"
   ]
  },
  {
   "cell_type": "markdown",
   "metadata": {},
   "source": [
    "コピーをするともちろんオリジナルは変化しません。  \n",
    "\n",
    "#### 代入時の注意点\n",
    "配列に値や配列を代入するときには、意識的にスライスを使うようにした方がいいです。  \n",
    "例えばスカラーを配列の全要素に代入しようとしたとき、スライスを使わないと、配列を表していた変数が、新しく代入しようとしたスカラーを表す変数に置き換わってしまう事があります。  "
   ]
  },
  {
   "cell_type": "code",
   "execution_count": 34,
   "metadata": {
    "ExecuteTime": {
     "end_time": "2017-03-16T22:46:48.113677",
     "start_time": "2017-03-16T22:46:48.109674"
    },
    "collapsed": false
   },
   "outputs": [
    {
     "data": {
      "text/plain": [
       "-100"
      ]
     },
     "execution_count": 34,
     "metadata": {},
     "output_type": "execute_result"
    }
   ],
   "source": [
    "a = np.arange(10)\n",
    "\n",
    "# ↓-100をaの全要素に代入するつもりで書いた\n",
    "a = -100\n",
    "a # 配列ですらなくなっている！？"
   ]
  },
  {
   "cell_type": "markdown",
   "metadata": {},
   "source": [
    "ひと目見ただけでも面倒なバグを生みそうな気配がします。  \n",
    "\n",
    "配列に配列を代入するときはもっと深刻なバグの原因になるので気を付けるべきです。  \n",
    "コピーされたものだと思ってオリジナルを書き換えていると、コピー先が変わっているということが起こり得ます。  \n",
    "このようなバグはスカラーの場合と異なり、気付きにくいエラーなので要注意です。"
   ]
  },
  {
   "cell_type": "code",
   "execution_count": 35,
   "metadata": {
    "ExecuteTime": {
     "end_time": "2017-03-16T22:46:48.970894",
     "start_time": "2017-03-16T22:46:48.965390"
    },
    "collapsed": false,
    "scrolled": true
   },
   "outputs": [
    {
     "data": {
      "text/plain": [
       "array([-1, -1, -1, -1, -1, -1, -1, -1, -1, -1])"
      ]
     },
     "execution_count": 35,
     "metadata": {},
     "output_type": "execute_result"
    }
   ],
   "source": [
    "a = np.arange(10)\n",
    "temp = np.zeros(10)\n",
    "\n",
    "# aの要素をtempの要素に代入したつもりだったが・・・\n",
    "temp = a\n",
    "\n",
    "# aを書き換えると\n",
    "a[:] = -1\n",
    "\n",
    "temp # tempも変わってしまっている"
   ]
  },
  {
   "cell_type": "markdown",
   "metadata": {},
   "source": [
    "この問題を避けるためには、２つの手段があります。  \n",
    "一つ目は（自分自身だとしても）スライスを使うということです。"
   ]
  },
  {
   "cell_type": "code",
   "execution_count": 36,
   "metadata": {
    "ExecuteTime": {
     "end_time": "2017-03-16T22:46:49.771296",
     "start_time": "2017-03-16T22:46:49.765291"
    },
    "collapsed": false,
    "scrolled": true
   },
   "outputs": [
    {
     "data": {
      "text/plain": [
       "array([ 0.,  1.,  2.,  3.,  4.,  5.,  6.,  7.,  8.,  9.])"
      ]
     },
     "execution_count": 36,
     "metadata": {},
     "output_type": "execute_result"
    }
   ],
   "source": [
    "a = np.arange(10)\n",
    "temp = np.zeros(10)\n",
    "\n",
    "# 自分自身のスライスに代入\n",
    "temp[:] = a\n",
    "\n",
    "a[:] = -1\n",
    "\n",
    "temp # 値が書き換わっていない"
   ]
  },
  {
   "cell_type": "markdown",
   "metadata": {},
   "source": [
    "もう一つは、コピーを渡すことです。  \n",
    "前もって配列を用意する必要がないために素早く書ける方法なので、比較的小さな配列であればおすすめ出来ます。  \n",
    "ただ、コピーを作ることは新しい配列を作るということなので、コンピュータにとっては負担が大きくなる可能性があります。  \n",
    "巨大配列であれば、スライスによって配列を再利用すれば、メモリの節約になるだけでなく、計算速度が上る可能性が高いです。"
   ]
  },
  {
   "cell_type": "code",
   "execution_count": 37,
   "metadata": {
    "ExecuteTime": {
     "end_time": "2017-03-16T22:46:51.116642",
     "start_time": "2017-03-16T22:46:51.109637"
    },
    "collapsed": false
   },
   "outputs": [
    {
     "data": {
      "text/plain": [
       "array([0, 1, 2, 3, 4, 5, 6, 7, 8, 9])"
      ]
     },
     "execution_count": 37,
     "metadata": {},
     "output_type": "execute_result"
    }
   ],
   "source": [
    "a = np.arange(10)\n",
    "# temp = np.zeros(10)\n",
    "\n",
    "# コピーを渡す\n",
    "temp = a.copy()\n",
    "\n",
    "a[:] = -1\n",
    "\n",
    "temp # 値が書き換わっていない"
   ]
  },
  {
   "cell_type": "code",
   "execution_count": null,
   "metadata": {
    "collapsed": true
   },
   "outputs": [],
   "source": []
  }
 ],
 "metadata": {
  "anaconda-cloud": {},
  "kernelspec": {
   "display_name": "Python 3",
   "language": "python",
   "name": "python3"
  },
  "language_info": {
   "codemirror_mode": {
    "name": "ipython",
    "version": 3
   },
   "file_extension": ".py",
   "mimetype": "text/x-python",
   "name": "python",
   "nbconvert_exporter": "python",
   "pygments_lexer": "ipython3",
   "version": "3.5.1"
  }
 },
 "nbformat": 4,
 "nbformat_minor": 2
}
