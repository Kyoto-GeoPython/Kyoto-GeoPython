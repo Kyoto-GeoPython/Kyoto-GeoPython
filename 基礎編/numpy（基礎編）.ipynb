{
 "cells": [
  {
   "cell_type": "markdown",
   "metadata": {
    "run_control": {
     "frozen": false,
     "read_only": false
    }
   },
   "source": [
    "# 目次\n",
    "- [Numpyとは？](#Numpyとは？)\n",
    "    - [なぜNumpyが必要？](#なぜNumpyが必要？)\n",
    "    - [Numpyの特徴とは？](#Numpyの特徴とは？)\n",
    "    - [ndarrayオブジェクト](#ndarrayオブジェクト)\n",
    "    - [Numpyを使う際の注意点](#Numpyを使う際の注意点)\n",
    "- [実際に使ってみる](#実際に使ってみる)\n",
    "    - [インポートする](#インポートする)\n",
    "    - [簡単な演算](#簡単な演算)\n",
    "    - [関数を使ってみよう](#関数を使ってみよう)\n",
    "        - [np.reshape](#np.reshape)\n",
    "- [Numpyの基礎](#Numpyの基礎)\n",
    "    - [ndarrayの生成関数](#ndarrayの生成関数)\n",
    "        - [np.array, np.asarray](#np.array,-np.asarray)\n",
    "        - [np.arange](#np.arange)\n",
    "        - [np.ones, np.ones_like](#np.ones,-np.ones_like)\n",
    "        - [np.zeros, np.zeros_like](#np.zeros,-np.zeros_like)\n",
    "        - [np.linspace](#np.linspace)\n",
    "        - [np.eye, np.identity](#np.eye,-np.identity)\n",
    "    - [ndarrayにおけるaxisとは](#ndarrayにおけるaxisとは)\n",
    "    - [Numpyのデータ型](#Numpyのデータ型)\n",
    "    - [インデックス参照](#インデックス参照)\n",
    "        - [スライス](#スライス)\n",
    "        - [ファンシーインデックス参照](#ファンシーインデックス参照)\n",
    "    -  [ユニバーサル関数（ufunc）](#ユニバーサル関数（ufunc）)\n",
    "    - [ブロードキャスト](#ブロードキャスト)\n",
    "- [C言語ライブラリのラッパー](#C言語ライブラリのラッパー)\n",
    "    - [線形代数（np.linalg）](#線形代数（np.linalg）)\n",
    "    - [乱数生成（np.random）](#乱数生成（np.random）)\n",
    "    - [フーリエ変換（np.fft）](#フーリエ変換（np.fft）)\n",
    "- [ndarrayのファイル入出力](#ndarrayのファイル入出力)\n",
    "    - [npyとnpz形式でのバイナリ保存](#npyとnpz形式でのバイナリ保存)\n",
    "    - [テキストでの保存](#テキストでの保存)"
   ]
  },
  {
   "cell_type": "markdown",
   "metadata": {
    "run_control": {
     "frozen": false,
     "read_only": false
    }
   },
   "source": [
    "# Numpyとは？\n",
    "**Numpy**は、標準の演算が遅いというPythonの欠点を補うために開発された高速なベクトル演算をサポートするライブラリです。  \n",
    "Pythonで科学技術計算をする上では必須と言っても良いライブラリです。  \n",
    "（本稿の大部分は、「[Pythonによるデータ分析入門](https://www.oreilly.co.jp/books/9784873116556/)（O'REILLY）」の第４章を参考にして書かれています。  \n",
    "この本は翻訳もわかりやすく、とても読みやすい本なのでおすすめです。）\n",
    "## なぜNumpyが必要？\n",
    "C言語やFortranのような**静的型付け言語（コンパイル時に型を決定する言語）**では、配列や変数を宣言する際、型を明示的にコンパイラに伝えます。  \n",
    "このようにコンパイルの段階で型が決まっていると、マシンとしては余計な動作をする必要が無いために効率よくメモリを使用できる上に高速に動作します。  \n",
    "一方、Pythonのような**動的型付け言語（実行時に型を決める言語）**では、そのような高速な動作を失う代わりに、型を気にせずにリストに入れたり、宣言の手間が省けたりと、柔軟で短いコードが書けるようになります。  \n",
    "しかし、科学技術計算においては動作の遅さは致命的になります。  \n",
    "もしPythonで科学技術計算しようとするならば、高速な動作が必要になるところでは型を指定して高速な計算ができるようにする必要があります。  \n",
    "そこで生まれたのが**Numpy**です（Numerical Pythonの略）。  \n",
    "Numpyでは、C言語の配列をPythonで扱いやすいオブジェクト（ndarray）として使うことで、**高速でありながら柔軟なプログラミング**が可能です。  \n",
    "また、CやFortranと同様に大規模配列を扱うことにも長けているため、使いこなせればかなり強力なツールです。  \n",
    "Numpyは非常に高機能であり、全ての機能を1ページで説明することは難しいです。  \n",
    "本稿では、詳しい実装には立ち入らず、とりあえず使えるようになることを目的としています。\n",
    "## Numpyの特徴とは？\n",
    "ざっとNumpyの特徴を上げてみると、\n",
    "- ベクトル演算をベースにした省メモリで高速な多次元配列（ndarrayオブジェクト）\n",
    "- 行列演算（逆行列など）や乱数生成、フーリエ変換を簡単に呼び出せる\n",
    "- PythonとC, C++, Fortranとの連携を可能にするインターフェイスの提供\n",
    "- バイナリやテキストでのファイル入出力を簡単にできる\n",
    "\n",
    "のようなものがあります。  \n",
    "行列演算などの実装はCやFortranで使われているライブラリを使用しており、同等の速度を発揮します。  \n",
    "## ndarrayオブジェクト\n",
    "Numpyで配列と言うとき、たいていndarray（N-dimensional array）オブジェクトのことを指します。  \n",
    "ndarrayはCの配列に加え、その形状や型、関数などを情報として持っています。  \n",
    "本稿でも、特に断らない限り、配列はndarrayのことを意味することにします。\n",
    "## Numpyを使う際の注意点\n",
    "Numpyも万能ではなく、得意ではない処理もあります。それは、配列要素ごとに回すforループです。  \n",
    "要素ごとにforループを回すと、Pythonの遅さが如実に出てしまい、Numpyの利点が活かせません。  \n",
    "Numpyが本当に力を発揮するのは**ベクトル演算**であり、それは並列化によって実現されています。  \n",
    "もし、要素ごとの計算をしたい場合は、\n",
    "- CやFortranでその部分だけを書き、それをPythonで呼び出す\n",
    "- NumbaやCythonといった他のライブラリを使用しコンパイルを行う\n",
    "\n",
    "と言った方法があります。  \n",
    "まずはなるべくベクトル化を試みて、それが難しい場合は上記のような手段を考えてみると良いでしょう。  "
   ]
  },
  {
   "cell_type": "markdown",
   "metadata": {
    "run_control": {
     "frozen": false,
     "read_only": false
    }
   },
   "source": [
    "# 実際に使ってみる\n",
    "## インポートする"
   ]
  },
  {
   "cell_type": "code",
   "execution_count": 1,
   "metadata": {
    "ExecuteTime": {
     "end_time": "2017-03-16T22:46:28.574670",
     "start_time": "2017-03-16T22:46:28.572670"
    },
    "collapsed": false,
    "run_control": {
     "frozen": false,
     "read_only": false
    }
   },
   "outputs": [],
   "source": [
    "import numpy as np    #慣習でnpと名付けることが多い"
   ]
  },
  {
   "cell_type": "markdown",
   "metadata": {
    "run_control": {
     "frozen": false,
     "read_only": false
    }
   },
   "source": [
    "インポートに失敗する場合、numpyがそもそもインストールされていない可能性があります。その場合以下のようなコマンドを実行してください。  \n",
    "- Anacondaの場合「conda install numpy」\n",
    "- pipの場合「pip install numpy」\n",
    "\n",
    "condaはコンパイル済みのものをインストールするためにインストールエラーが起きにくいです。  \n",
    "pipはインストール時にコンパイルするため、コンパイルエラーが起きる場合があります。  \n",
    "\n",
    "## ndarrayの構造\n",
    "\n",
    "さっそく、一次元配列を作ってみましょう。np.array関数にリストやタプルを渡すことで作ることが出来ます。  "
   ]
  },
  {
   "cell_type": "code",
   "execution_count": 2,
   "metadata": {
    "collapsed": false
   },
   "outputs": [
    {
     "data": {
      "text/plain": [
       "array([ 1.  ,  0.01,  0.7 ])"
      ]
     },
     "execution_count": 2,
     "metadata": {},
     "output_type": "execute_result"
    }
   ],
   "source": [
    "x = np.array([1., 0.01, 0.7])\n",
    "x"
   ]
  },
  {
   "cell_type": "code",
   "execution_count": 3,
   "metadata": {
    "collapsed": false
   },
   "outputs": [
    {
     "data": {
      "text/plain": [
       "numpy.ndarray"
      ]
     },
     "execution_count": 3,
     "metadata": {},
     "output_type": "execute_result"
    }
   ],
   "source": [
    "# xが何のオブジェクトか表示する\n",
    "type(x)"
   ]
  },
  {
   "cell_type": "code",
   "execution_count": 4,
   "metadata": {
    "collapsed": false
   },
   "outputs": [
    {
     "data": {
      "text/plain": [
       "(3,)"
      ]
     },
     "execution_count": 4,
     "metadata": {},
     "output_type": "execute_result"
    }
   ],
   "source": [
    "# xの形状\n",
    "x.shape"
   ]
  },
  {
   "cell_type": "code",
   "execution_count": 5,
   "metadata": {
    "collapsed": false
   },
   "outputs": [
    {
     "data": {
      "text/plain": [
       "dtype('float64')"
      ]
     },
     "execution_count": 5,
     "metadata": {},
     "output_type": "execute_result"
    }
   ],
   "source": [
    "# xの型（この場合８バイト浮動小数点型）\n",
    "x.dtype"
   ]
  },
  {
   "cell_type": "code",
   "execution_count": 6,
   "metadata": {
    "collapsed": false
   },
   "outputs": [
    {
     "data": {
      "text/plain": [
       "1"
      ]
     },
     "execution_count": 6,
     "metadata": {},
     "output_type": "execute_result"
    }
   ],
   "source": [
    "# xの次元\n",
    "x.ndim"
   ]
  },
  {
   "cell_type": "markdown",
   "metadata": {
    "run_control": {
     "frozen": false,
     "read_only": false
    }
   },
   "source": [
    "ndarrayの重要な属性として、**shape**、**dtype**があります。  \n",
    "**shape**は、まさに配列の形状で、多次元配列であれば、軸に沿った要素の個数をそれぞれの軸について並べたタプルです。一次元であれば、(n,)のようなタプルになります。タプルの要素が一つしか含まれない場合、(n)とすると単なるnになってしまうので、(n,)のようにカンマを付ける必要があります。  \n",
    "**dtype**は、配列の型を表すものです（floatやint、complexなど）。  \n",
    "**ndim**は、配列の次元を表します。 上の場合、１次元配列なのでndim=1です。   \n",
    "**type()**はPythonの組み込み関数で、引数が何のオブジェクトかを教えてくれます（dtypeとは違うものなので注意）。  \n",
    "いくつか例を挙げましょう。"
   ]
  },
  {
   "cell_type": "markdown",
   "metadata": {},
   "source": [
    "多次元配列はこのように定義できます。"
   ]
  },
  {
   "cell_type": "code",
   "execution_count": 7,
   "metadata": {
    "collapsed": false
   },
   "outputs": [
    {
     "data": {
      "text/plain": [
       "array([[  1.  ,   0.1 ,   3.  ],\n",
       "       [  3.  ,  20.  ,   0.07]])"
      ]
     },
     "execution_count": 7,
     "metadata": {},
     "output_type": "execute_result"
    }
   ],
   "source": [
    "# ２×３の２次元配列を定義\n",
    "y = np.array([\n",
    "        [1., 0.1, 3.],\n",
    "        [3., 20., 0.07]\n",
    "        ])\n",
    "y"
   ]
  },
  {
   "cell_type": "code",
   "execution_count": 8,
   "metadata": {
    "collapsed": false
   },
   "outputs": [
    {
     "data": {
      "text/plain": [
       "(2, 3)"
      ]
     },
     "execution_count": 8,
     "metadata": {},
     "output_type": "execute_result"
    }
   ],
   "source": [
    "# 形状\n",
    "y.shape"
   ]
  },
  {
   "cell_type": "code",
   "execution_count": 9,
   "metadata": {
    "collapsed": false
   },
   "outputs": [
    {
     "data": {
      "text/plain": [
       "dtype('float64')"
      ]
     },
     "execution_count": 9,
     "metadata": {},
     "output_type": "execute_result"
    }
   ],
   "source": [
    "# 型は１次元と同様\n",
    "y.dtype"
   ]
  },
  {
   "cell_type": "code",
   "execution_count": 10,
   "metadata": {
    "collapsed": false
   },
   "outputs": [
    {
     "data": {
      "text/plain": [
       "2"
      ]
     },
     "execution_count": 10,
     "metadata": {},
     "output_type": "execute_result"
    }
   ],
   "source": [
    "# 次元（つまりlen(y.shape)と等しい）\n",
    "y.ndim"
   ]
  },
  {
   "cell_type": "markdown",
   "metadata": {},
   "source": [
    "整数を入れると、intとして配列を作ります。"
   ]
  },
  {
   "cell_type": "code",
   "execution_count": 11,
   "metadata": {
    "collapsed": false
   },
   "outputs": [
    {
     "data": {
      "text/plain": [
       "array([1, 2, 3])"
      ]
     },
     "execution_count": 11,
     "metadata": {},
     "output_type": "execute_result"
    }
   ],
   "source": [
    "# 整数を入れた場合\n",
    "x = np.array([1, 2, 3])\n",
    "x"
   ]
  },
  {
   "cell_type": "code",
   "execution_count": 12,
   "metadata": {
    "collapsed": false
   },
   "outputs": [
    {
     "data": {
      "text/plain": [
       "dtype('int32')"
      ]
     },
     "execution_count": 12,
     "metadata": {},
     "output_type": "execute_result"
    }
   ],
   "source": [
    "# 自動的に４バイトintと型推論している\n",
    "x.dtype"
   ]
  },
  {
   "cell_type": "markdown",
   "metadata": {},
   "source": [
    "もちろん複素数も扱えます。"
   ]
  },
  {
   "cell_type": "code",
   "execution_count": 13,
   "metadata": {
    "collapsed": false
   },
   "outputs": [
    {
     "data": {
      "text/plain": [
       "array([ 0.+1.j,  3.+6.j,  9.+0.j])"
      ]
     },
     "execution_count": 13,
     "metadata": {},
     "output_type": "execute_result"
    }
   ],
   "source": [
    "# 複素数を入れた場合\n",
    "x = np.array([1.j, 3 + 6j, 9])\n",
    "x"
   ]
  },
  {
   "cell_type": "code",
   "execution_count": 14,
   "metadata": {
    "collapsed": false
   },
   "outputs": [
    {
     "data": {
      "text/plain": [
       "dtype('complex128')"
      ]
     },
     "execution_count": 14,
     "metadata": {},
     "output_type": "execute_result"
    }
   ],
   "source": [
    "# 実部、虚部それぞれ８バイトの１６バイト複素数\n",
    "x.dtype"
   ]
  },
  {
   "cell_type": "markdown",
   "metadata": {
    "run_control": {
     "frozen": false,
     "read_only": false
    }
   },
   "source": [
    "### 要素へのアクセス\n",
    "また、各要素にアクセスするためには、リストやタプルのようにインデックスを指定します。  \n",
    "多次元配列でのアクセスは、リストなどと違う記法なので注意してください。  "
   ]
  },
  {
   "cell_type": "code",
   "execution_count": 15,
   "metadata": {
    "ExecuteTime": {
     "end_time": "2017-03-17T14:43:54.807226",
     "start_time": "2017-03-17T14:43:54.632564"
    },
    "collapsed": false,
    "run_control": {
     "frozen": false,
     "read_only": false
    }
   },
   "outputs": [
    {
     "data": {
      "text/plain": [
       "array([[12, 13],\n",
       "       [17, 18]])"
      ]
     },
     "execution_count": 15,
     "metadata": {},
     "output_type": "execute_result"
    }
   ],
   "source": [
    "x = np.array([1., 2., 3.,])\n",
    "x[0] # ==> 1.0\n",
    "\n",
    "#スライスも使える（小さいndarrayが返ってくる）\n",
    "x[1:] # ==> [ 2.,  3.]\n",
    "\n",
    "# 多次元配列の場合\n",
    "x = np.arange(20).reshape(4,5)\n",
    "# ==> [[ 0,  1,  2,  3,  4],\n",
    "#          [ 5,  6,  7,  8,  9],\n",
    "#          [10, 11, 12, 13, 14],\n",
    "#          [15, 16, 17, 18, 19]]\n",
    "# まず0~19までの一次元配列を作り、そのshapeを変更して４×５の２次元配列を作っている。\n",
    "\n",
    "x[0,1] #==> 1\n",
    "x[1,-1] #==> 9 （負のインデックスは後ろから数えたもの。x[1,4]と等価）\n",
    "\n",
    "x[3]  # １次元配列を取り出す\n",
    "# ==> [15, 16, 17, 18, 19]\n",
    "\n",
    "#一つの軸でのスライスでは次元は変わらず、shapeだけが小さくなる（２×５の多次元配列に）。\n",
    "x[2:4] \n",
    "# ==> [[10, 11, 12, 13, 14],\n",
    "#          [15, 16, 17, 18, 19]]\n",
    "\n",
    "#複数の軸でのスライスも可能。\n",
    "x[2:4, 2:4]  # ２×２\n",
    "# ==> [[12, 13],\n",
    "#          [17, 18]]"
   ]
  },
  {
   "cell_type": "markdown",
   "metadata": {
    "run_control": {
     "frozen": false,
     "read_only": false
    }
   },
   "source": [
    "## 簡単な演算\n",
    "スカラーとの四則演算は普通のベクトルのような書き方ができます（Fortranと一緒）。  \n",
    "このような演算はリストやタプルでは出来ないので、そのためにndarrayに変換することもよくあります。"
   ]
  },
  {
   "cell_type": "code",
   "execution_count": 16,
   "metadata": {
    "ExecuteTime": {
     "end_time": "2017-03-16T22:46:28.954467",
     "start_time": "2017-03-16T22:46:28.878677"
    },
    "collapsed": false,
    "run_control": {
     "frozen": false,
     "read_only": false
    }
   },
   "outputs": [
    {
     "data": {
      "text/plain": [
       "array([  1.00000000e-05,   1.00000000e-07,   7.00000000e-06])"
      ]
     },
     "execution_count": 16,
     "metadata": {},
     "output_type": "execute_result"
    }
   ],
   "source": [
    "x = np.array([1., 0.01, 0.7])\n",
    "x + 1 # ==> [ 2.  ,  1.01,  1.7 ]\n",
    "2 * x # ==> [ 2.  ,  0.02,  1.4 ]\n",
    "x / 1e5 # ==> [  1.00000000e-05,   1.00000000e-07,   7.00000000e-06]"
   ]
  },
  {
   "cell_type": "markdown",
   "metadata": {
    "run_control": {
     "frozen": false,
     "read_only": false
    }
   },
   "source": [
    "同じ形状の配列同士の四則演算は、要素ごとに演算した結果になります。  \n",
    "（異なる形状の配列であっても、場合によっては演算できることがあり、それを[**ブロードキャスト**](#ブロードキャスト)と言います）"
   ]
  },
  {
   "cell_type": "code",
   "execution_count": 17,
   "metadata": {
    "ExecuteTime": {
     "end_time": "2017-03-16T22:46:29.090734",
     "start_time": "2017-03-16T22:46:28.955960"
    },
    "collapsed": false,
    "run_control": {
     "frozen": false,
     "read_only": false
    }
   },
   "outputs": [
    {
     "data": {
      "text/plain": [
       "array([ 2. ,  1.5,  0.6])"
      ]
     },
     "execution_count": 17,
     "metadata": {},
     "output_type": "execute_result"
    }
   ],
   "source": [
    "x = np.array([8., 0.3, 90])\n",
    "y = np.array([4., 0.2, 150])\n",
    "x + y # ==> [  12. ,    0.5,  240. ]\n",
    "x - y # ==> [  4. ,   0.1, -60. ]\n",
    "x * y # ==> [  3.20000000e+01,   6.00000000e-02,   1.35000000e+04]\n",
    "x / y # ==> [ 2. ,  1.5,  0.6]"
   ]
  },
  {
   "cell_type": "markdown",
   "metadata": {
    "run_control": {
     "frozen": false,
     "read_only": false
    }
   },
   "source": [
    "多次元配列でも同じように要素ごとの演算になります。  \n",
    "行列積を計算したい場合は、np.dot関数を用いるか、Python3.5以降であれば@マークを使えます。"
   ]
  },
  {
   "cell_type": "code",
   "execution_count": 18,
   "metadata": {
    "ExecuteTime": {
     "end_time": "2017-03-17T14:45:38.222110",
     "start_time": "2017-03-17T14:45:37.831664"
    },
    "collapsed": false,
    "run_control": {
     "frozen": false,
     "read_only": false
    }
   },
   "outputs": [
    {
     "data": {
      "text/plain": [
       "array([[  0.,   2.,   4.],\n",
       "       [  6.,   8.,  10.],\n",
       "       [ 12.,  14.,  16.]])"
      ]
     },
     "execution_count": 18,
     "metadata": {},
     "output_type": "execute_result"
    }
   ],
   "source": [
    "# ３×３行列を作成\n",
    "A = np.arange(9).reshape(3,3)\n",
    "# ==> [[0, 1, 2],\n",
    "#          [3, 4, 5],\n",
    "#          [6, 7, 8]]\n",
    "\n",
    "# ３×３の単位行列の２倍\n",
    "B = np.eye(3) * 2\n",
    "# ==> [[ 2.,  0.,  0.],\n",
    "#          [ 0.,  2.,  0.],\n",
    "#          [ 0.,  0.,  2.]]\n",
    "\n",
    "# 要素ごとの積になる\n",
    "A * B\n",
    "# ==> [[  0.,   0.,   0.],\n",
    "#          [  0.,   8.,   0.],\n",
    "#          [  0.,   0.,  16.]]\n",
    "\n",
    "# 行列積\n",
    "np.dot(A, B)\n",
    "# ==> [[  0.,   2.,   4.],\n",
    "#          [  6.,   8.,  10.],        2*Aと等しくなっている\n",
    "#          [ 12.,  14.,  16.]]\n",
    "\n",
    "# ndarrayオブジェクトはdot関数を持っているため、このようにも書ける\n",
    "A.dot(B)\n",
    "# ==> [[  0.,   2.,   4.],\n",
    "#          [  6.,   8.,  10.],        2*Aと等しくなっている\n",
    "#          [ 12.,  14.,  16.]]\n",
    "\n",
    "# Python3.5以降であれば、行列積を@で記述可\n",
    "A @ B\n",
    "# ==> [[  0.,   2.,   4.],\n",
    "#          [  6.,   8.,  10.],\n",
    "#          [ 12.,  14.,  16.]]"
   ]
  },
  {
   "cell_type": "markdown",
   "metadata": {
    "run_control": {
     "frozen": false,
     "read_only": false
    }
   },
   "source": [
    "## 関数を使ってみよう\n",
    "### np.reshape\n",
    "Numpyを使っていると、しょっちゅう出会うのがこのreshape関数です。  "
   ]
  },
  {
   "cell_type": "code",
   "execution_count": 19,
   "metadata": {
    "ExecuteTime": {
     "end_time": "2017-03-16T22:46:29.307023",
     "start_time": "2017-03-16T22:46:29.302009"
    },
    "collapsed": false,
    "run_control": {
     "frozen": false,
     "read_only": false
    }
   },
   "outputs": [
    {
     "data": {
      "text/plain": [
       "array([[0, 1, 2, 3, 4],\n",
       "       [5, 6, 7, 8, 9]])"
      ]
     },
     "execution_count": 19,
     "metadata": {},
     "output_type": "execute_result"
    }
   ],
   "source": [
    "a = np.arange(10).reshape(2,5)\n",
    "a"
   ]
  },
  {
   "cell_type": "markdown",
   "metadata": {
    "run_control": {
     "frozen": false,
     "read_only": false
    }
   },
   "source": [
    "文字通り、ndarrayのshapeを変更する関数なのですが、２つほど注意する点があります。  \n",
    "一つ目は、全体のsizeを変更しないようにしなければならないということです。  \n",
    "つまり、新しいshapeの各要素を掛け合わせた値が元々の要素の総数を一致する必要があるということです。"
   ]
  },
  {
   "cell_type": "code",
   "execution_count": 20,
   "metadata": {
    "ExecuteTime": {
     "end_time": "2017-03-16T22:46:29.380182",
     "start_time": "2017-03-16T22:46:29.308512"
    },
    "collapsed": false,
    "run_control": {
     "frozen": false,
     "read_only": false
    }
   },
   "outputs": [
    {
     "data": {
      "text/plain": [
       "10"
      ]
     },
     "execution_count": 20,
     "metadata": {},
     "output_type": "execute_result"
    }
   ],
   "source": [
    "#ndarray.sizeは配列に含まれるデータの総数（必ずスカラーになる）\n",
    "a.size"
   ]
  },
  {
   "cell_type": "code",
   "execution_count": 21,
   "metadata": {
    "ExecuteTime": {
     "end_time": "2017-03-16T22:46:30.101519",
     "start_time": "2017-03-16T22:46:29.381682"
    },
    "collapsed": false,
    "run_control": {
     "frozen": false,
     "read_only": false
    },
    "scrolled": true
   },
   "outputs": [],
   "source": [
    "# total sizeが変化しているので怒られる\n",
    "# a.reshape(1000, 100000) ==> ValueError: total size of new array must be unchanged"
   ]
  },
  {
   "cell_type": "markdown",
   "metadata": {
    "run_control": {
     "frozen": false,
     "read_only": false
    }
   },
   "source": [
    "逆に言うと、sizeが同じであるならば、どのようなshapeでも作ることが出来ます。"
   ]
  },
  {
   "cell_type": "code",
   "execution_count": 22,
   "metadata": {
    "ExecuteTime": {
     "end_time": "2017-03-16T22:46:37.634248",
     "start_time": "2017-03-16T22:46:37.629732"
    },
    "collapsed": false,
    "run_control": {
     "frozen": false,
     "read_only": false
    }
   },
   "outputs": [
    {
     "data": {
      "text/plain": [
       "array([[[[[0, 1, 2, 3, 4]],\n",
       "\n",
       "         [[5, 6, 7, 8, 9]]]]])"
      ]
     },
     "execution_count": 22,
     "metadata": {},
     "output_type": "execute_result"
    }
   ],
   "source": [
    "a.reshape(1, 1, 2, 1, 5)"
   ]
  },
  {
   "cell_type": "markdown",
   "metadata": {
    "run_control": {
     "frozen": false,
     "read_only": false
    }
   },
   "source": [
    "このような変形は、次元の異なる配列同士の計算をするために用いることがあります（[ブロードキャスト](#ブロードキャスト)）。  \n",
    "また、reshapeの引数に-1を入れると、sizeを変えないようなshapeを計算してくれます。  "
   ]
  },
  {
   "cell_type": "code",
   "execution_count": 23,
   "metadata": {
    "ExecuteTime": {
     "end_time": "2017-03-16T22:46:38.166636",
     "start_time": "2017-03-16T22:46:38.162127"
    },
    "collapsed": false,
    "run_control": {
     "frozen": false,
     "read_only": false
    },
    "scrolled": true
   },
   "outputs": [
    {
     "data": {
      "text/plain": [
       "array([[0, 1, 2, 3, 4],\n",
       "       [5, 6, 7, 8, 9]])"
      ]
     },
     "execution_count": 23,
     "metadata": {},
     "output_type": "execute_result"
    }
   ],
   "source": [
    "a = np.arange(10)\n",
    "a.reshape(-1, 5) # reshape(2,5)と等価"
   ]
  },
  {
   "cell_type": "markdown",
   "metadata": {
    "run_control": {
     "frozen": false,
     "read_only": false
    }
   },
   "source": [
    "二つ目の注意する点は、reshapeによって返ってくるndarrayは、元々のndarrayと同じメモリを参照している点です。  \n",
    "つまり、reshapeによって返ってきたndarrayを書き換えると、オリジナルも変化するということです。  \n",
    "このような参照をコピーと対比させて、**ビュー**と言います。"
   ]
  },
  {
   "cell_type": "code",
   "execution_count": 24,
   "metadata": {
    "ExecuteTime": {
     "end_time": "2017-03-16T22:46:38.249684",
     "start_time": "2017-03-16T22:46:38.231170"
    },
    "collapsed": false,
    "run_control": {
     "frozen": false,
     "marked": false,
     "read_only": false
    },
    "scrolled": true
   },
   "outputs": [
    {
     "data": {
      "text/plain": [
       "array([100,   1,   2,   3,   4,   5,   6,   7,   8,   9])"
      ]
     },
     "execution_count": 24,
     "metadata": {},
     "output_type": "execute_result"
    }
   ],
   "source": [
    "b = np.arange(10)\n",
    "c = b.reshape(2,5)\n",
    "c[0, 0] = 100\n",
    "b"
   ]
  },
  {
   "cell_type": "markdown",
   "metadata": {
    "run_control": {
     "frozen": false,
     "read_only": false
    }
   },
   "source": [
    "科学技術計算の上ではこの性質は重要です。なぜなら、大規模な配列をいちいちreshapeのたびにコピーされると困るからです。  \n",
    "もし、オリジナルを書き換えたくないならば、**copy**関数を使う必要があります。"
   ]
  },
  {
   "cell_type": "code",
   "execution_count": 25,
   "metadata": {
    "ExecuteTime": {
     "end_time": "2017-03-16T22:46:38.337245",
     "start_time": "2017-03-16T22:46:38.299718"
    },
    "collapsed": false,
    "run_control": {
     "frozen": false,
     "read_only": false
    }
   },
   "outputs": [
    {
     "data": {
      "text/plain": [
       "array([0, 1, 2, 3, 4, 5, 6, 7, 8, 9])"
      ]
     },
     "execution_count": 25,
     "metadata": {},
     "output_type": "execute_result"
    }
   ],
   "source": [
    "b = np.arange(10)\n",
    "c = b.reshape(2,5).copy() # copyは複製したndarrayを返す\n",
    "c[0, 0] = 100\n",
    "b"
   ]
  },
  {
   "cell_type": "markdown",
   "metadata": {
    "run_control": {
     "frozen": false,
     "read_only": false
    }
   },
   "source": [
    "#### (発展) reshapeの実装を詳しくみてみる\n",
    "C言語では、多次元配列であってもメモリ上に連続に配置され、インデックスを１変えたときに参照する位置を１次元の場合よりも大きくジャンプさせることであたかも隣接しているかのように操作することが出来ます。  \n",
    "shapeを変えるということは、ある軸のインデックスが１増えたときにメモリ上への参照を何バイトだけジャンプするかを変更することを意味します。  \n",
    "このジャンプの量を**strides**といいます。"
   ]
  },
  {
   "cell_type": "code",
   "execution_count": 26,
   "metadata": {
    "ExecuteTime": {
     "end_time": "2017-03-17T13:48:49.440440",
     "start_time": "2017-03-17T13:48:49.436436"
    },
    "collapsed": false,
    "run_control": {
     "frozen": false,
     "read_only": false
    }
   },
   "outputs": [
    {
     "data": {
      "text/plain": [
       "(20, 4)"
      ]
     },
     "execution_count": 26,
     "metadata": {},
     "output_type": "execute_result"
    }
   ],
   "source": [
    "b = np.arange(10)\n",
    "c = b.reshape(2,5)\n",
    "c.strides"
   ]
  },
  {
   "cell_type": "markdown",
   "metadata": {},
   "source": [
    "この例では、変数cの一つ目の軸（axis 0といいます）のインデックスが１増えたとき、メモリの参照を20バイト飛ばすということです。  \n",
    "今、dtypeがint32で一つの変数が4バイトなので、int32型の5個分先に移動することになります。  \n",
    "したがって、b[5]とc[1,0]が（参照しているメモリアドレスについても）等しくなるということです。  "
   ]
  },
  {
   "cell_type": "code",
   "execution_count": 27,
   "metadata": {
    "ExecuteTime": {
     "end_time": "2017-03-17T13:48:49.817601",
     "start_time": "2017-03-17T13:48:49.814116"
    },
    "collapsed": false,
    "run_control": {
     "frozen": false,
     "read_only": false
    }
   },
   "outputs": [
    {
     "data": {
      "text/plain": [
       "5"
      ]
     },
     "execution_count": 27,
     "metadata": {},
     "output_type": "execute_result"
    }
   ],
   "source": [
    "# int32型なので一つの値を表現するために４バイト必要\n",
    "c.dtype # ==> dtype('int32')\n",
    "\n",
    "# 同じ値になる\n",
    "c[1,0] # ==> 5\n",
    "b[5] # ==> 5"
   ]
  },
  {
   "cell_type": "code",
   "execution_count": 28,
   "metadata": {
    "collapsed": false
   },
   "outputs": [
    {
     "data": {
      "text/plain": [
       "True"
      ]
     },
     "execution_count": 28,
     "metadata": {},
     "output_type": "execute_result"
    }
   ],
   "source": [
    "# cとbは同じデータを共有しているとTrueを返す\n",
    "c.base is b"
   ]
  },
  {
   "cell_type": "code",
   "execution_count": 29,
   "metadata": {
    "collapsed": false
   },
   "outputs": [
    {
     "data": {
      "text/plain": [
       "False"
      ]
     },
     "execution_count": 29,
     "metadata": {},
     "output_type": "execute_result"
    }
   ],
   "source": [
    "# コピーされたものはデータを共有しないのでFalseを返す\n",
    "c.base is b.copy()"
   ]
  },
  {
   "cell_type": "markdown",
   "metadata": {
    "run_control": {
     "frozen": false,
     "read_only": false
    }
   },
   "source": [
    "C言語の多次元配列は、後ろの軸であればあるほどメモリが隣接するような設計になっています。  \n",
    "１次元配列を多次元配列に変更するときには、２つの流派があります。  \n",
    "一つは、C言語と同じように、後ろの軸が隣接するようなもの（**行優先**)と、Fortranのように前の方の軸が隣接するようなもの（**列優先**)です。  \n",
    "reshape関数は、キーワード引数orderがあり、この２つを選べるようになっています。  \n",
    "もちろん、そこまで使う機会はないと思うのですが（デフォルトで十分）、このような実装を理解しておくと、困ったときに対処しやすいと思います。"
   ]
  },
  {
   "cell_type": "code",
   "execution_count": 30,
   "metadata": {
    "ExecuteTime": {
     "end_time": "2017-03-16T22:46:38.694499",
     "start_time": "2017-03-16T22:46:38.554694"
    },
    "collapsed": false,
    "run_control": {
     "frozen": false,
     "read_only": false
    }
   },
   "outputs": [
    {
     "data": {
      "text/plain": [
       "array([[0, 1, 2, 3, 4],\n",
       "       [5, 6, 7, 8, 9]])"
      ]
     },
     "execution_count": 30,
     "metadata": {},
     "output_type": "execute_result"
    }
   ],
   "source": [
    "# C言語での多次元配列（デフォルトの動作）\n",
    "np.arange(10).reshape(2,5, order=\"c\")"
   ]
  },
  {
   "cell_type": "code",
   "execution_count": 31,
   "metadata": {
    "ExecuteTime": {
     "end_time": "2017-03-16T22:46:38.841773",
     "start_time": "2017-03-16T22:46:38.696500"
    },
    "collapsed": false,
    "run_control": {
     "frozen": false,
     "read_only": false
    }
   },
   "outputs": [
    {
     "data": {
      "text/plain": [
       "array([[0, 2, 4, 6, 8],\n",
       "       [1, 3, 5, 7, 9]])"
      ]
     },
     "execution_count": 31,
     "metadata": {},
     "output_type": "execute_result"
    }
   ],
   "source": [
    "# Fortranでの多次元配列\n",
    "np.arange(10).reshape(2,5, order=\"F\")"
   ]
  },
  {
   "cell_type": "markdown",
   "metadata": {
    "run_control": {
     "frozen": false,
     "read_only": false
    }
   },
   "source": [
    "#### reshape関数まとめ\n",
    "- sizeを変化させない。引数に-1を使うと便利。\n",
    "- reshapeはコピーではなくビューを返す。コピーしたいときはcopy()を使う。"
   ]
  },
  {
   "cell_type": "markdown",
   "metadata": {
    "run_control": {
     "frozen": false,
     "read_only": false
    }
   },
   "source": [
    "# Numpyの基礎\n",
    "## ndarrayの生成関数\n",
    "色々な配列を作る便利な関数が用意されています。ここではそれらを紹介します。\n",
    "### np.array, np.asarray\n",
    "上でも述べた関数です。リストやタプルを引数に取り、配列を返す関数です。  \n",
    "型を指定しない場合は、勝手に推測してくれますが、キーワード引数で指定することも出来ます。\n",
    "np.asarrayは引数がndarrayであれば、そのままndarrayを返し、そうでないならnp.arrayと同じ働きをする関数です。"
   ]
  },
  {
   "cell_type": "code",
   "execution_count": 32,
   "metadata": {
    "ExecuteTime": {
     "end_time": "2017-03-16T22:46:39.357380",
     "start_time": "2017-03-16T22:46:39.352876"
    },
    "collapsed": false,
    "run_control": {
     "frozen": false,
     "read_only": false
    }
   },
   "outputs": [
    {
     "data": {
      "text/plain": [
       "dtype('int32')"
      ]
     },
     "execution_count": 32,
     "metadata": {},
     "output_type": "execute_result"
    }
   ],
   "source": [
    "# dtypeを指定\n",
    "np.array([1, 2, 3], dtype=float).dtype # ==> dtype('float64')\n",
    "\n",
    "#指定しない場合は推測してくれる\n",
    "np.array([1, 2, 3]).dtype # ==> dtype('int32')"
   ]
  },
  {
   "cell_type": "markdown",
   "metadata": {
    "run_control": {
     "frozen": false,
     "read_only": false
    }
   },
   "source": [
    "### np.arange\n",
    "Python組み込み関数のrange()と同じ働きをする関数で、ndarrayを返します。  \n",
    "stepには少数も入れることが出来ます。"
   ]
  },
  {
   "cell_type": "code",
   "execution_count": 33,
   "metadata": {
    "ExecuteTime": {
     "end_time": "2017-03-16T22:46:39.541459",
     "start_time": "2017-03-16T22:46:39.423283"
    },
    "collapsed": false,
    "run_control": {
     "frozen": false,
     "read_only": false
    }
   },
   "outputs": [
    {
     "data": {
      "text/plain": [
       "array([ 0,  4,  8, 12, 16])"
      ]
     },
     "execution_count": 33,
     "metadata": {},
     "output_type": "execute_result"
    }
   ],
   "source": [
    "# 引数が一つの場合、stopのみ。start=0となる\n",
    "np.arange(10) # ==> [0, 1, 2, 3, 4, 5, 6, 7, 8, 9]\n",
    "np.arange(10.) # ==> [ 0.,  1.,  2.,  3.,  4.,  5.,  6.,  7.,  8.,  9.]\n",
    "np.arange(10, dtype=float) # ==> [ 0.,  1.,  2.,  3.,  4.,  5.,  6.,  7.,  8.,  9.]\n",
    "\n",
    "# 引数が２つの場合、startとstopになる（stopは含まない）\n",
    "np.arange(3, 10) # ==> [3, 4, 5, 6, 7, 8, 9]\n",
    "\n",
    "#引数が３つの場合、start, stop, stepになる\n",
    "np.arange(0, 1, 0.1) # ==> [ 0. ,  0.1,  0.2,  0.3,  0.4,  0.5,  0.6,  0.7,  0.8,  0.9]\n",
    "np.arange(start=0, stop=1, step=0.1) #上と等価\n",
    "\n",
    "# 整数ステップ\n",
    "np.arange(0, 20, 4) # ==> [ 0,  4,  8, 12, 16]"
   ]
  },
  {
   "cell_type": "markdown",
   "metadata": {
    "run_control": {
     "frozen": false,
     "read_only": false
    }
   },
   "source": [
    "### np.ones, np.ones_like\n",
    "np.onesは、引数で与えられたshapeで、全ての要素が１であるようなndarrayを返します。  \n",
    "np.ones_likeは、引数にndarrayを取り、そのndarrayのshapeと同じshapeで全ての要素が１となるndarrayを返します。"
   ]
  },
  {
   "cell_type": "code",
   "execution_count": 34,
   "metadata": {
    "ExecuteTime": {
     "end_time": "2017-03-16T22:46:39.869914",
     "start_time": "2017-03-16T22:46:39.862399"
    },
    "collapsed": false,
    "run_control": {
     "frozen": false,
     "read_only": false
    }
   },
   "outputs": [
    {
     "data": {
      "text/plain": [
       "array([[1, 1, 1, 1, 1],\n",
       "       [1, 1, 1, 1, 1]])"
      ]
     },
     "execution_count": 34,
     "metadata": {},
     "output_type": "execute_result"
    }
   ],
   "source": [
    "#１次元の場合はスカラーを引数に与えることが可能\n",
    "np.ones(5) # ==> [ 1.,  1.,  1.,  1.,  1.]\n",
    "# np.ones((5,))と等価\n",
    "\n",
    "# 多次元配列の場合、タプルを引数にしなければならない（2×２×２行列）\n",
    "np.ones((2,2,2))\n",
    "# ==> [[[ 1.,  1.],\n",
    "#           [ 1.,  1.]],\n",
    "#\n",
    "#          [[ 1.,  1.],\n",
    "#           [ 1.,  1.]]]\n",
    "\n",
    "#デフォルトではfloatなので、dtypeをintにしてみる\n",
    "np.ones(5, dtype=int) # ==> [1, 1, 1, 1, 1]\n",
    "\n",
    "A = np.arange(10).reshape(2,5)\n",
    "A.shape # ==> (2, 5)\n",
    "np.ones_like(A)\n",
    "# ==> [[1, 1, 1, 1, 1],\n",
    "#          [1, 1, 1, 1, 1]]"
   ]
  },
  {
   "cell_type": "markdown",
   "metadata": {
    "run_control": {
     "frozen": false,
     "read_only": false
    }
   },
   "source": [
    "### np.zeros, np.zeros_like\n",
    "全ての要素を0にする他は、np.ones, np.ones_likeと同じなのでそちらを見てください。\n",
    "\n",
    "### np.empty, np.empty_like\n",
    "上の２つと似ていますが、こちらは初期化をせずに配列の領域だけを確保する関数です。  \n",
    "巨大な配列を自分で初期化したい場合や、値は何でもいいが配列だけ作りたいときに使います。   \n",
    "初期化のプロセスを省略するためにnp.zerosなどよりも高速に動作します。  \n",
    "ときどき変な値が入ってることがあるので、自分で初期化するときのみ使うのが吉です。"
   ]
  },
  {
   "cell_type": "code",
   "execution_count": 35,
   "metadata": {
    "ExecuteTime": {
     "end_time": "2017-03-16T22:46:40.473059",
     "start_time": "2017-03-16T22:46:40.469044"
    },
    "collapsed": false,
    "run_control": {
     "frozen": false,
     "read_only": false
    }
   },
   "outputs": [
    {
     "data": {
      "text/plain": [
       "109"
      ]
     },
     "execution_count": 35,
     "metadata": {},
     "output_type": "execute_result"
    }
   ],
   "source": [
    "# 2048個のbool型の中にあるTrueの個数（実行するたびに変化する）\n",
    "np.empty(2048, dtype=np.bool).sum()"
   ]
  },
  {
   "cell_type": "markdown",
   "metadata": {
    "run_control": {
     "frozen": false,
     "read_only": false
    }
   },
   "source": [
    "### np.linspace\n",
    "start, stopの２つを引数に取り、startからendまで均等に分けた配列を返します。  \n",
    "キーワード引数としてnumがあり、均等に分ける個数を指定できます。デフォルトではnum=50です。  \n",
    "\n",
    "> np.linspace(start, stop, num=50, endpoint=True, retstep=False, dtype=None)\n",
    "\n",
    "endpointはstopを含むかどうかをboolで渡す引数です。"
   ]
  },
  {
   "cell_type": "code",
   "execution_count": 36,
   "metadata": {
    "ExecuteTime": {
     "end_time": "2017-03-16T22:46:41.026087",
     "start_time": "2017-03-16T22:46:41.021072"
    },
    "collapsed": false,
    "run_control": {
     "frozen": false,
     "read_only": false
    }
   },
   "outputs": [
    {
     "data": {
      "text/plain": [
       "array([ 0.        ,  0.02040816,  0.04081633,  0.06122449,  0.08163265,\n",
       "        0.10204082,  0.12244898,  0.14285714,  0.16326531,  0.18367347,\n",
       "        0.20408163,  0.2244898 ,  0.24489796,  0.26530612,  0.28571429,\n",
       "        0.30612245,  0.32653061,  0.34693878,  0.36734694,  0.3877551 ,\n",
       "        0.40816327,  0.42857143,  0.44897959,  0.46938776,  0.48979592,\n",
       "        0.51020408,  0.53061224,  0.55102041,  0.57142857,  0.59183673,\n",
       "        0.6122449 ,  0.63265306,  0.65306122,  0.67346939,  0.69387755,\n",
       "        0.71428571,  0.73469388,  0.75510204,  0.7755102 ,  0.79591837,\n",
       "        0.81632653,  0.83673469,  0.85714286,  0.87755102,  0.89795918,\n",
       "        0.91836735,  0.93877551,  0.95918367,  0.97959184,  1.        ])"
      ]
     },
     "execution_count": 36,
     "metadata": {},
     "output_type": "execute_result"
    }
   ],
   "source": [
    "np.linspace(0, 1)"
   ]
  },
  {
   "cell_type": "code",
   "execution_count": 37,
   "metadata": {
    "ExecuteTime": {
     "end_time": "2017-03-16T22:46:41.371048",
     "start_time": "2017-03-16T22:46:41.366044"
    },
    "collapsed": false,
    "run_control": {
     "frozen": false,
     "read_only": false
    }
   },
   "outputs": [
    {
     "data": {
      "text/plain": [
       "array([ 0.        ,  0.34906585,  0.6981317 ,  1.04719755,  1.3962634 ,\n",
       "        1.74532925,  2.0943951 ,  2.44346095,  2.7925268 ,  3.14159265])"
      ]
     },
     "execution_count": 37,
     "metadata": {},
     "output_type": "execute_result"
    }
   ],
   "source": [
    "#この２つは等価\n",
    "np.linspace(0, np.pi, 10)\n",
    "np.linspace(0, np.pi, num=10)"
   ]
  },
  {
   "cell_type": "code",
   "execution_count": 38,
   "metadata": {
    "ExecuteTime": {
     "end_time": "2017-03-16T22:46:41.729702",
     "start_time": "2017-03-16T22:46:41.725701"
    },
    "collapsed": false,
    "run_control": {
     "frozen": false,
     "read_only": false
    }
   },
   "outputs": [
    {
     "data": {
      "text/plain": [
       "array([ 0.        ,  0.31415927,  0.62831853,  0.9424778 ,  1.25663706,\n",
       "        1.57079633,  1.88495559,  2.19911486,  2.51327412,  2.82743339])"
      ]
     },
     "execution_count": 38,
     "metadata": {},
     "output_type": "execute_result"
    }
   ],
   "source": [
    "#endpoint=Falseの場合。stopの値を含まない。\n",
    "np.linspace(0, np.pi, 10, endpoint=False)"
   ]
  },
  {
   "cell_type": "markdown",
   "metadata": {
    "run_control": {
     "frozen": false,
     "read_only": false
    }
   },
   "source": [
    "### np.eye, np.identity\n",
    "この２つは単位行列を生成する関数で、違いはほとんどありません。"
   ]
  },
  {
   "cell_type": "code",
   "execution_count": 39,
   "metadata": {
    "ExecuteTime": {
     "end_time": "2017-03-16T22:46:42.377856",
     "start_time": "2017-03-16T22:46:42.373340"
    },
    "collapsed": false,
    "run_control": {
     "frozen": false,
     "read_only": false
    }
   },
   "outputs": [
    {
     "data": {
      "text/plain": [
       "array([[ 1.,  0.,  0.,  0.],\n",
       "       [ 0.,  1.,  0.,  0.],\n",
       "       [ 0.,  0.,  1.,  0.],\n",
       "       [ 0.,  0.,  0.,  1.]])"
      ]
     },
     "execution_count": 39,
     "metadata": {},
     "output_type": "execute_result"
    }
   ],
   "source": [
    "np.eye(4)"
   ]
  },
  {
   "cell_type": "markdown",
   "metadata": {},
   "source": [
    "## ndarrayにおけるaxisとは\n",
    "ndarrayで関数の引数として度々出てくるのが「axis（軸）」です。慣れていないと混乱することもあると思うので説明します。  \n",
    "[ここ](http://using-python-in-research.site44.com/numpy-mpl-args)に分かりやすい画像がありましたので引用します。配列の軸の方向が矢印で書かれています。"
   ]
  },
  {
   "cell_type": "markdown",
   "metadata": {},
   "source": [
    "<img  src=\"axis.png\"/>"
   ]
  },
  {
   "cell_type": "markdown",
   "metadata": {},
   "source": [
    "例えばndarray.sum関数は、引数にaxisを取ります。この場合のaxisは「和を取る方向」を意味しています。"
   ]
  },
  {
   "cell_type": "code",
   "execution_count": 40,
   "metadata": {
    "collapsed": false
   },
   "outputs": [
    {
     "data": {
      "text/plain": [
       "array([[0, 1],\n",
       "       [2, 3],\n",
       "       [4, 5]])"
      ]
     },
     "execution_count": 40,
     "metadata": {},
     "output_type": "execute_result"
    }
   ],
   "source": [
    "A = np.arange(6).reshape(3, 2)\n",
    "A"
   ]
  },
  {
   "cell_type": "code",
   "execution_count": 41,
   "metadata": {
    "collapsed": false
   },
   "outputs": [
    {
     "data": {
      "text/plain": [
       "15"
      ]
     },
     "execution_count": 41,
     "metadata": {},
     "output_type": "execute_result"
    }
   ],
   "source": [
    "# axis=0で和を取る（縦方向の和）\n",
    "A.sum(axis=0)\n",
    "# ==> array([6, 9])\n",
    "\n",
    "# axis=1で和を取る（横方向の和）\n",
    "A.sum(axis=1)\n",
    "# ==> array([1, 5, 9])\n",
    "\n",
    "# axis=Noneで和を取る（全成分の和）\n",
    "A.sum() # A.sum(axis=None)と等価"
   ]
  },
  {
   "cell_type": "markdown",
   "metadata": {},
   "source": [
    "上の結果を見てもらえると分かるように、axis=0やaxis=1である軸について和を取ると次元が１つ落ちます。  \n",
    "axisを指定しないとスカラーまで次元が落ちます。このように特定の軸について次元を落とす操作を**Reduction**といいます。    \n",
    "axis=0でReductionを行うと、shapeが(n, m)が (m,)になります。  \n",
    "axisは、潰す軸を指定すると考えると忘れないと思います。  \n",
    "引数にaxisを取るndarrayの主な関数の表がこちらです（[公式ドキュメント](https://docs.scipy.org/doc/numpy/reference/arrays.ndarray.html#calculation)）。  \n",
    "\n",
    "|関数名|説明|\n",
    "|:------:|:--:|\n",
    "|sum|和|\n",
    "|max|最大値|\n",
    "|min|最小値|\n",
    "|argmax|最大値を取るインデックス|\n",
    "|argmin|最小値を取るインデックス|\n",
    "|cumsum|累積和|\n",
    "|mean|平均値|\n",
    "|var|分散|\n",
    "|std|標準偏差|\n",
    "|all|全てTrueならTrue|\n",
    "|any|一つでもTrueがあればTrue|"
   ]
  },
  {
   "cell_type": "markdown",
   "metadata": {
    "run_control": {
     "frozen": false,
     "read_only": false
    }
   },
   "source": [
    "## Numpyのデータ型\n",
    "既に出てきたように、ndarrayには様々なdtypeが存在します。  \n",
    "基本的には精度の高い型が使われているためにそこまで意識する必要はないかもしれませんが、Cなどと連携するときやバイナリ入出力のときに知らないと困ると思います。  \n",
    "Numpyでの型とそれに対応するC言語、Fortranでの型を表でまとめると以下のようになります。  \n",
    "\n",
    "|型|説明|C言語|Fortran|\n",
    "|:--:|:-----:|:------:|:--------:|\n",
    "|int32 / uint32|符号あり/なし　32ビット整数型（４バイト）|long もしくは int|INTEGER|\n",
    "|int64 / uint64|符号あり/なし　64ビット整数型（８バイト）|long long int|INTEGER(8)|\n",
    "|float32|単精度浮動小数点数型|float|REAL もしくはREAL(4)|\n",
    "|float64|倍精度浮動小数点数型|double|REAL(8)|\n",
    "|complex64|実部・虚部それぞれ単精度|float complex|COMPLEX もしくは COMPLEX(4)|\n",
    "|complex128|実部・虚部それぞれ倍精度|double complex|COMPLEX(8)|\n",
    "|bool|真偽値（TrueとFalse）|(bool)|LOGICAL|\n",
    "|object|任意のPythonオブジェクト| | |\n",
    "|string_|固定長文字列型|char*|CHARACTER(LEN=○)|\n",
    "|unicode_|固定長ユニコード文字列型| | | |\n",
    "\n",
    "ndarrayのdtypeのキャストは**astype**を使います。"
   ]
  },
  {
   "cell_type": "code",
   "execution_count": 42,
   "metadata": {
    "ExecuteTime": {
     "end_time": "2017-03-16T22:46:43.179577",
     "start_time": "2017-03-16T22:46:43.173074"
    },
    "collapsed": false,
    "run_control": {
     "frozen": false,
     "read_only": false
    }
   },
   "outputs": [
    {
     "data": {
      "text/plain": [
       "array([  1.23000000e+002,  -1.00000000e-004,   6.84300000e+256])"
      ]
     },
     "execution_count": 42,
     "metadata": {},
     "output_type": "execute_result"
    }
   ],
   "source": [
    "a = np.arange(0, 2, 0.2)\n",
    "a \n",
    "# ==> array([ 0. ,  0.2,  0.4,  0.6,  0.8,  1. ,  1.2,  1.4,  1.6,  1.8])\n",
    "\n",
    "a.dtype \n",
    "# ==> dtype('float64')\n",
    "\n",
    "b = a.astype(np.int32)\n",
    "b \n",
    "# ==> array([0, 0, 0, 0, 0, 1, 1, 1, 1, 1])\n",
    "\n",
    "b.dtype \n",
    "# ==> dtype('int32')\n",
    "\n",
    "# stringからfloatへのキャスト\n",
    "np.array([\"123.\", \"-0.0001\", \"6.843e256\"]).astype(np.float64)"
   ]
  },
  {
   "cell_type": "markdown",
   "metadata": {
    "run_control": {
     "frozen": false,
     "read_only": false
    }
   },
   "source": [
    "## インデックス参照\n",
    "Numpyでは、部分配列の取り出し方に様々な種類があり、使いこなせると便利です。  \n",
    "ただ、取り出し方が**コピー**であるか**ビュー（参照）**であるかを混乱することがあるので、チェックしておいてください。  \n",
    "### スライス\n",
    "Pythonのリストやタプルにも実装されているスライスをndarrayに対してするとその部分配列が**ビュー（参照）**で返ってきます。  \n",
    "つまり、その部分配列を書き換えると元々の配列も変わるということです。  \n",
    "スライスは高速に動作するので、使えるときはガンガン使っていきましょう。  \n",
    "一例を見てみます。"
   ]
  },
  {
   "cell_type": "code",
   "execution_count": 43,
   "metadata": {
    "ExecuteTime": {
     "end_time": "2017-03-16T22:46:43.962100",
     "start_time": "2017-03-16T22:46:43.957085"
    },
    "collapsed": false,
    "run_control": {
     "frozen": false,
     "read_only": false
    }
   },
   "outputs": [
    {
     "data": {
      "text/plain": [
       "array([[ 0,  1,  2,  3],\n",
       "       [ 4,  5,  6,  7],\n",
       "       [ 8,  9, 10, 11],\n",
       "       [12, 13, 14, 15]])"
      ]
     },
     "execution_count": 43,
     "metadata": {},
     "output_type": "execute_result"
    }
   ],
   "source": [
    "arr = np.arange(16).reshape(4, 4)\n",
    "arr"
   ]
  },
  {
   "cell_type": "code",
   "execution_count": 44,
   "metadata": {
    "ExecuteTime": {
     "end_time": "2017-03-16T22:46:44.300176",
     "start_time": "2017-03-16T22:46:44.295172"
    },
    "collapsed": false,
    "run_control": {
     "frozen": false,
     "read_only": false
    },
    "scrolled": true
   },
   "outputs": [
    {
     "data": {
      "text/plain": [
       "array([[ 5,  6],\n",
       "       [ 9, 10]])"
      ]
     },
     "execution_count": 44,
     "metadata": {},
     "output_type": "execute_result"
    }
   ],
   "source": [
    "# スライスする（２×２行列のビューができる）\n",
    "arr_sliced = arr[1:3, 1:3]\n",
    "arr_sliced"
   ]
  },
  {
   "cell_type": "code",
   "execution_count": 45,
   "metadata": {
    "ExecuteTime": {
     "end_time": "2017-03-16T22:46:44.652654",
     "start_time": "2017-03-16T22:46:44.647651"
    },
    "collapsed": false,
    "run_control": {
     "frozen": false,
     "read_only": false
    }
   },
   "outputs": [
    {
     "data": {
      "text/plain": [
       "array([[ 0,  1,  2,  3],\n",
       "       [ 4, -1, -1,  7],\n",
       "       [ 8, -1, -1, 11],\n",
       "       [12, 13, 14, 15]])"
      ]
     },
     "execution_count": 45,
     "metadata": {},
     "output_type": "execute_result"
    }
   ],
   "source": [
    "# スライスした部分配列の要素に全て-1を代入する\n",
    "arr_sliced[:,:] = -1\n",
    "\n",
    "# オリジナルの配列\n",
    "arr"
   ]
  },
  {
   "cell_type": "markdown",
   "metadata": {
    "run_control": {
     "frozen": false,
     "read_only": false
    }
   },
   "source": [
    "オリジナル配列のスライスされた部分が全て-1に変わっていることがわかります。   \n",
    "多次元配列のスライスは、一つ一つの軸を順番にスライスしていって小さくなっていくと考えると分かりやすいと思います。  \n",
    "直接ビューに代入することも出来ます。"
   ]
  },
  {
   "cell_type": "code",
   "execution_count": 46,
   "metadata": {
    "ExecuteTime": {
     "end_time": "2017-03-16T22:46:45.450189",
     "start_time": "2017-03-16T22:46:45.445185"
    },
    "collapsed": false,
    "run_control": {
     "frozen": false,
     "read_only": false
    }
   },
   "outputs": [
    {
     "data": {
      "text/plain": [
       "array([[100,   1, 100,   3],\n",
       "       [  4,   5,   6,   7],\n",
       "       [100,   9, 100,  11],\n",
       "       [ 12,  13,  14,  15]])"
      ]
     },
     "execution_count": 46,
     "metadata": {},
     "output_type": "execute_result"
    }
   ],
   "source": [
    "arr = np.arange(16).reshape(4, 4)\n",
    "\n",
    "# 一個飛ばし\n",
    "arr[::2, ::2] = 100\n",
    "arr"
   ]
  },
  {
   "cell_type": "markdown",
   "metadata": {
    "run_control": {
     "frozen": false,
     "read_only": false
    }
   },
   "source": [
    "ビューのshapeと同じshapeを持つ配列を使って代入することも出来ます。"
   ]
  },
  {
   "cell_type": "code",
   "execution_count": 47,
   "metadata": {
    "ExecuteTime": {
     "end_time": "2017-03-16T22:46:46.394425",
     "start_time": "2017-03-16T22:46:46.388920"
    },
    "collapsed": false,
    "run_control": {
     "frozen": false,
     "read_only": false
    }
   },
   "outputs": [
    {
     "data": {
      "text/plain": [
       "array([[  0,   1,   2,   3],\n",
       "       [  4, -50,   6, -50],\n",
       "       [  8,   9,  10,  11],\n",
       "       [ 12, -50,  14, -50]])"
      ]
     },
     "execution_count": 47,
     "metadata": {},
     "output_type": "execute_result"
    }
   ],
   "source": [
    "arr = np.arange(16).reshape(4, 4)\n",
    "\n",
    "# ２×２行列で各要素が-50の配列を作る\n",
    "arr_small = -50 * np.ones((2, 2))\n",
    "\n",
    "# インデックス１から一個飛ばし（２×２のスライス）\n",
    "arr[1::2, 1::2] = arr_small\n",
    "arr"
   ]
  },
  {
   "cell_type": "markdown",
   "metadata": {
    "run_control": {
     "frozen": false,
     "read_only": false
    }
   },
   "source": [
    " 変わってほしくないときは、reshapeの場合と同様に、コピーしなくてはなりません。  "
   ]
  },
  {
   "cell_type": "code",
   "execution_count": 48,
   "metadata": {
    "ExecuteTime": {
     "end_time": "2017-03-16T22:46:47.132243",
     "start_time": "2017-03-16T22:46:47.125239"
    },
    "collapsed": false,
    "run_control": {
     "frozen": false,
     "read_only": false
    }
   },
   "outputs": [
    {
     "data": {
      "text/plain": [
       "array([[ 0,  1,  2,  3],\n",
       "       [ 4,  5,  6,  7],\n",
       "       [ 8,  9, 10, 11],\n",
       "       [12, 13, 14, 15]])"
      ]
     },
     "execution_count": 48,
     "metadata": {},
     "output_type": "execute_result"
    }
   ],
   "source": [
    "# 同様のオリジナル配列を作る\n",
    "arr = np.arange(16).reshape(4,4)\n",
    "\n",
    "# ndarray.copy関数は自分自身を複製したndarrayを返す\n",
    "arr_sliced = arr[1:3,1:3].copy()\n",
    "\n",
    "# 全要素に-1を代入\n",
    "arr_sliced[:,:] = -1\n",
    "\n",
    "# オリジナル配列は変化していない\n",
    "arr"
   ]
  },
  {
   "cell_type": "markdown",
   "metadata": {
    "run_control": {
     "frozen": false,
     "read_only": false
    }
   },
   "source": [
    "コピーをするともちろんオリジナルは変化しません。  \n",
    "\n",
    "#### 代入時の注意点\n",
    "配列に値や配列を代入するときには、意識的にスライスを使うようにした方がいいです。  \n",
    "例えばスカラーを配列の全要素に代入しようとしたとき、スライスを使わないと、配列を表していた変数が、新しく代入しようとしたスカラーを表す変数に置き換わってしまう事があります。  "
   ]
  },
  {
   "cell_type": "code",
   "execution_count": 49,
   "metadata": {
    "ExecuteTime": {
     "end_time": "2017-03-16T22:46:48.113677",
     "start_time": "2017-03-16T22:46:48.109674"
    },
    "collapsed": false,
    "run_control": {
     "frozen": false,
     "read_only": false
    }
   },
   "outputs": [
    {
     "data": {
      "text/plain": [
       "-100"
      ]
     },
     "execution_count": 49,
     "metadata": {},
     "output_type": "execute_result"
    }
   ],
   "source": [
    "a = np.arange(10)\n",
    "\n",
    "# ↓-100をaの全要素に代入するつもりで書いた\n",
    "a = -100\n",
    "a # 配列ですらなくなっている！？"
   ]
  },
  {
   "cell_type": "markdown",
   "metadata": {
    "run_control": {
     "frozen": false,
     "read_only": false
    }
   },
   "source": [
    "ひと目見ただけでも面倒なバグを生みそうな気配がします。  \n",
    "\n",
    "配列に配列を代入するときはもっと深刻なバグの原因になるので気を付けるべきです。  \n",
    "コピーされたものだと思ってオリジナルを書き換えていると、コピー先が変わっているということが起こり得ます。  \n",
    "このようなバグはスカラーの場合と異なり、気付きにくいエラーなので要注意です。  \n",
    "例えば、配列aの値を配列tempに保存して、aを書き換えたい状況だとします。  "
   ]
  },
  {
   "cell_type": "code",
   "execution_count": 50,
   "metadata": {
    "ExecuteTime": {
     "end_time": "2017-03-17T13:40:27.093112",
     "start_time": "2017-03-17T13:40:27.078601"
    },
    "collapsed": false,
    "run_control": {
     "frozen": false,
     "read_only": false
    },
    "scrolled": false
   },
   "outputs": [
    {
     "data": {
      "text/plain": [
       "array([-1, -1, -1, -1, -1, -1, -1, -1, -1, -1])"
      ]
     },
     "execution_count": 50,
     "metadata": {},
     "output_type": "execute_result"
    }
   ],
   "source": [
    "a = np.arange(10)\n",
    "temp = np.empty_like(a)\n",
    "\n",
    "# aの要素をtempの要素に代入したつもりだったが・・・\n",
    "temp = a\n",
    "\n",
    "# aを書き換えると\n",
    "a[:] = -1\n",
    "\n",
    "temp # tempも変わってしまっている"
   ]
  },
  {
   "cell_type": "markdown",
   "metadata": {
    "run_control": {
     "frozen": false,
     "read_only": false
    }
   },
   "source": [
    "この問題を避けるためには、２つの手段があります。  \n",
    "一つ目は（自分自身だとしても）スライスを使うということです。"
   ]
  },
  {
   "cell_type": "code",
   "execution_count": 51,
   "metadata": {
    "ExecuteTime": {
     "end_time": "2017-03-17T13:40:28.716283",
     "start_time": "2017-03-17T13:40:28.709266"
    },
    "collapsed": false,
    "run_control": {
     "frozen": false,
     "read_only": false
    },
    "scrolled": true
   },
   "outputs": [
    {
     "data": {
      "text/plain": [
       "array([0, 1, 2, 3, 4, 5, 6, 7, 8, 9])"
      ]
     },
     "execution_count": 51,
     "metadata": {},
     "output_type": "execute_result"
    }
   ],
   "source": [
    "a = np.arange(10)\n",
    "temp = np.empty_like(a)\n",
    "\n",
    "# 自分自身のスライスに代入\n",
    "temp[:] = a\n",
    "\n",
    "a[:] = -1\n",
    "\n",
    "temp # 値が書き換わっていない"
   ]
  },
  {
   "cell_type": "markdown",
   "metadata": {
    "run_control": {
     "frozen": false,
     "read_only": false
    }
   },
   "source": [
    "もう一つは、コピーを渡すことです。  \n",
    "前もって配列を用意する必要がないために素早く書ける方法なので、比較的小さな配列であればおすすめ出来ます。  \n",
    "ただ、コピーを作ることは新しい配列を作るということなので、コンピュータにとっては負担が大きくなる可能性があります。  \n",
    "巨大配列であれば、スライスによって配列を再利用すれば、メモリの節約になるだけでなく、計算速度が上る可能性が高いです。"
   ]
  },
  {
   "cell_type": "code",
   "execution_count": 52,
   "metadata": {
    "collapsed": true
   },
   "outputs": [],
   "source": [
    "a = np.arange(10)\n",
    "# temp = np.empty_like(a) # 先にメモリを確保する必要がない\n",
    "\n",
    "# コピーを渡す\n",
    "temp = a.copy()\n",
    "\n",
    "a[:] = -1"
   ]
  },
  {
   "cell_type": "code",
   "execution_count": 53,
   "metadata": {
    "ExecuteTime": {
     "end_time": "2017-03-16T22:46:51.116642",
     "start_time": "2017-03-16T22:46:51.109637"
    },
    "collapsed": false,
    "run_control": {
     "frozen": false,
     "read_only": false
    }
   },
   "outputs": [
    {
     "data": {
      "text/plain": [
       "array([0, 1, 2, 3, 4, 5, 6, 7, 8, 9])"
      ]
     },
     "execution_count": 53,
     "metadata": {},
     "output_type": "execute_result"
    }
   ],
   "source": [
    "a = np.arange(10)\n",
    "# temp = np.empty_like(a)\n",
    "\n",
    "# コピーを渡す\n",
    "temp = a.copy()\n",
    "\n",
    "a[:] = -1\n",
    "\n",
    "temp # 値が書き換わっていない"
   ]
  },
  {
   "cell_type": "markdown",
   "metadata": {},
   "source": [
    "### ファンシーインデックス参照\n",
    "スライスよりも柔軟に部分配列を取り出せるインデックス参照がファンシーインデックス参照です。  \n",
    "Numpyの使いやすさを格段に上げる機能であり、使う機会も多くなると思います。  \n",
    "ただし、これはビューではなく、コピーを返すことに注意してください。  \n",
    "インデックスに配列を入れることで、対応する軸を抜き出すということをしてくれます。"
   ]
  },
  {
   "cell_type": "code",
   "execution_count": 54,
   "metadata": {
    "collapsed": false
   },
   "outputs": [
    {
     "data": {
      "text/plain": [
       "array([ 0.   ,  0.125,  0.25 ,  0.375,  0.5  ,  0.625,  0.75 ,  0.875,  1.   ])"
      ]
     },
     "execution_count": 54,
     "metadata": {},
     "output_type": "execute_result"
    }
   ],
   "source": [
    "# １次元の場合\n",
    "a = np.linspace(0, 1, 9)\n",
    "a"
   ]
  },
  {
   "cell_type": "code",
   "execution_count": 55,
   "metadata": {
    "collapsed": false,
    "scrolled": true
   },
   "outputs": [
    {
     "data": {
      "text/plain": [
       "array([ 0.125,  0.375,  0.75 ,  0.   ])"
      ]
     },
     "execution_count": 55,
     "metadata": {},
     "output_type": "execute_result"
    }
   ],
   "source": [
    "# ファンシーインデックス参照の一例\n",
    "# 配列（ndarrayやリスト、タプルなど）をインデックスに入れると、部分配列（コピー）を返す\n",
    "b = a[ [1, 3, 6, 0] ]\n",
    "b"
   ]
  },
  {
   "cell_type": "code",
   "execution_count": 56,
   "metadata": {
    "collapsed": false,
    "scrolled": false
   },
   "outputs": [
    {
     "data": {
      "text/plain": [
       "array([ 0.   ,  0.125,  0.25 ,  0.375,  0.5  ,  0.625,  0.75 ,  0.875,  1.   ])"
      ]
     },
     "execution_count": 56,
     "metadata": {},
     "output_type": "execute_result"
    }
   ],
   "source": [
    "# コピーであることの確認\n",
    "# bを書き換えたとしても・・・\n",
    "b[:] = 100\n",
    "\n",
    "# 元の配列は変わらない\n",
    "a"
   ]
  },
  {
   "cell_type": "markdown",
   "metadata": {},
   "source": [
    "多次元配列の各軸のインデックスに配列を入れると、その軸を抜き出します。  \n",
    "インデックスに用いるリストによってどのような形状の配列が返ってきているかを確認してください。"
   ]
  },
  {
   "cell_type": "code",
   "execution_count": 57,
   "metadata": {
    "collapsed": false
   },
   "outputs": [
    {
     "data": {
      "text/plain": [
       "array([[0, 1, 2],\n",
       "       [3, 4, 5],\n",
       "       [6, 7, 8]])"
      ]
     },
     "execution_count": 57,
     "metadata": {},
     "output_type": "execute_result"
    }
   ],
   "source": [
    "# 多次元配列を定義\n",
    "arr = np.arange(9).reshape(3, 3)\n",
    "arr"
   ]
  },
  {
   "cell_type": "code",
   "execution_count": 58,
   "metadata": {
    "collapsed": false,
    "scrolled": true
   },
   "outputs": [
    {
     "data": {
      "text/plain": [
       "array([[6, 7, 8],\n",
       "       [3, 4, 5]])"
      ]
     },
     "execution_count": 58,
     "metadata": {},
     "output_type": "execute_result"
    }
   ],
   "source": [
    "# axis 0にリストを入れた場合（arr[2]とarr[1]を抜き出すことになる）\n",
    "arr[[2, 1]]"
   ]
  },
  {
   "cell_type": "code",
   "execution_count": 59,
   "metadata": {
    "collapsed": false,
    "scrolled": false
   },
   "outputs": [
    {
     "data": {
      "text/plain": [
       "array([[2, 0],\n",
       "       [5, 3],\n",
       "       [8, 6]])"
      ]
     },
     "execution_count": 59,
     "metadata": {},
     "output_type": "execute_result"
    }
   ],
   "source": [
    "# axis 1にリストを入れた場合（arr[:, 2]とarr[:, 0]を抜き出すことになる）\n",
    "arr[:, [2, 0]]"
   ]
  },
  {
   "cell_type": "code",
   "execution_count": 60,
   "metadata": {
    "collapsed": false
   },
   "outputs": [
    {
     "data": {
      "text/plain": [
       "array([8, 3])"
      ]
     },
     "execution_count": 60,
     "metadata": {},
     "output_type": "execute_result"
    }
   ],
   "source": [
    "# axis0, axis1のどちらにも同じ長さのリストを入れた場合\n",
    "# arr[2, 2]とarr[1, 0]を抜き出した１次元配列が返ってくる\n",
    "arr[[2, 1], [2, 0]]"
   ]
  },
  {
   "cell_type": "markdown",
   "metadata": {},
   "source": [
    "ファンシーインデックス参照の記法を用いて、代入ができます。  \n",
    "ファンシーインデックス参照そのものはコピーを返すのですが、代入のときはビューに代入しているかのように扱えます。"
   ]
  },
  {
   "cell_type": "code",
   "execution_count": 61,
   "metadata": {
    "collapsed": false
   },
   "outputs": [
    {
     "data": {
      "text/plain": [
       "array([0, 1, 2, 3, 4, 5, 6, 7, 8, 9])"
      ]
     },
     "execution_count": 61,
     "metadata": {},
     "output_type": "execute_result"
    }
   ],
   "source": [
    "# １次元配列\n",
    "arr1 = np.arange(10)\n",
    "arr1"
   ]
  },
  {
   "cell_type": "code",
   "execution_count": 62,
   "metadata": {
    "collapsed": false
   },
   "outputs": [
    {
     "data": {
      "text/plain": [
       "array([100,   1, 100, 100,   4,   5,   6,   7, 100,   9])"
      ]
     },
     "execution_count": 62,
     "metadata": {},
     "output_type": "execute_result"
    }
   ],
   "source": [
    "# スカラーを代入するとすべての要素がその値に置き換わる（スライスと同じような動作）\n",
    "arr1[[2, 0, 8, 3]] = 100\n",
    "arr1"
   ]
  },
  {
   "cell_type": "code",
   "execution_count": 63,
   "metadata": {
    "collapsed": false
   },
   "outputs": [
    {
     "data": {
      "text/plain": [
       "array([  0, 103,   2, 101,   4,   5, 100, 102,   8,   9])"
      ]
     },
     "execution_count": 63,
     "metadata": {},
     "output_type": "execute_result"
    }
   ],
   "source": [
    "# 配列を代入すると、対応する値に置き換わる（shapeが同じである必要がある）\n",
    "arr2 = np.arange(10)\n",
    "arr2[[6, 3, 7, 1]] = np.arange(100, 104)\n",
    "arr2"
   ]
  },
  {
   "cell_type": "markdown",
   "metadata": {},
   "source": [
    "## ユニバーサル関数（ufunc）\n",
    "Numpyでは、三角関数(np.sinなど）や指数関数（np.exp）のような関数は**ユニバーサル関数オブジェクト（略すとufunc）**になっています。  \n",
    "[公式ドキュメント](https://docs.scipy.org/doc/numpy/reference/ufuncs.html)によると、ufuncは、要素ごと（element-by-element）にndarrayへ作用する関数であるという説明があります。  \n",
    "そして、Numpyに標準で入っているufuncは、コンパイルされたC言語で実装されているということも書かれています。  \n",
    "ufuncの関数による計算結果はndarrayで返ってきます。\n"
   ]
  },
  {
   "cell_type": "code",
   "execution_count": 64,
   "metadata": {
    "collapsed": false
   },
   "outputs": [
    {
     "data": {
      "text/plain": [
       "numpy.ufunc"
      ]
     },
     "execution_count": 64,
     "metadata": {},
     "output_type": "execute_result"
    }
   ],
   "source": [
    "type(np.sin)"
   ]
  },
  {
   "cell_type": "code",
   "execution_count": 65,
   "metadata": {
    "collapsed": false
   },
   "outputs": [
    {
     "data": {
      "text/plain": [
       "array([  0.00000000e+00,   3.42020143e-01,   6.42787610e-01,\n",
       "         8.66025404e-01,   9.84807753e-01,   9.84807753e-01,\n",
       "         8.66025404e-01,   6.42787610e-01,   3.42020143e-01,\n",
       "         1.22464680e-16])"
      ]
     },
     "execution_count": 65,
     "metadata": {},
     "output_type": "execute_result"
    }
   ],
   "source": [
    "# 0からpiまで\n",
    "x = np.linspace(0, np.pi, 10)\n",
    "\n",
    "# ufuncの一つであるnp.sinをxに作用させると、要素ごとにsin関数を作用させたものが配列として返ってくる\n",
    "np.sin(x)"
   ]
  },
  {
   "cell_type": "markdown",
   "metadata": {},
   "source": [
    "ufuncは、Pythonのループの遅さという欠点を補うために生まれ、そしてより便利な機能も追加されています。  \n",
    "例えば、ラジアン（弧度法）から度（度数法）を変換するufuncなどがあります。  "
   ]
  },
  {
   "cell_type": "code",
   "execution_count": 66,
   "metadata": {
    "collapsed": false
   },
   "outputs": [
    {
     "data": {
      "text/plain": [
       "array([   0.,   20.,   40.,   60.,   80.,  100.,  120.,  140.,  160.,  180.])"
      ]
     },
     "execution_count": 66,
     "metadata": {},
     "output_type": "execute_result"
    }
   ],
   "source": [
    "# ラジアンから度への変換\n",
    "np.rad2deg(x)"
   ]
  },
  {
   "cell_type": "code",
   "execution_count": 67,
   "metadata": {
    "collapsed": false
   },
   "outputs": [
    {
     "data": {
      "text/plain": [
       "array([ 1, 16,  3], dtype=int32)"
      ]
     },
     "execution_count": 67,
     "metadata": {},
     "output_type": "execute_result"
    }
   ],
   "source": [
    "# 引数が二個の例：累乗を要素ごと、1**3, 2**4, 3**1を計算している\n",
    "np.power([1, 2, 3], [3, 4, 1])"
   ]
  },
  {
   "cell_type": "markdown",
   "metadata": {},
   "source": [
    "ufuncはとても数が多いので、[公式HP](https://docs.scipy.org/doc/numpy/reference/ufuncs.html#available-ufuncs)を参照してください。"
   ]
  },
  {
   "cell_type": "markdown",
   "metadata": {},
   "source": [
    "## ブロードキャスト\n",
    "形状が違う配列同士の演算をシンプルに書くことができる機能として**ブロードキャスト**があります。  \n",
    "ただ、便利な機能なのですが、なぜそういう書き方をするのかを説明することが難しい機能でもあります。  \n",
    "ブロードキャストを説明しているページとして\n",
    "\n",
    "- [機械学習の Python との出会い　ブロードキャスト](http://www.kamishima.net/mlmpyja/nbayes2/broadcasting.html)\n",
    "- [NumPyのブロードキャストのメモ](http://sucrose.hatenablog.com/entry/2014/12/15/000352)\n",
    "- [公式ドキュメント　Broadcasting](https://docs.scipy.org/doc/numpy/user/basics.broadcasting.html)\n",
    "\n",
    "などがあるので、参照してください。  \n",
    "\n",
    "まず、ブロードキャストによって出力されるshapeはどのように決定されるかについてです。  \n",
    "次元が揃っていない場合、小さい次元の配列のshapeに小さい次元から1を付け加えていき、最終的に次元が揃うようにします。  \n",
    "例えば (3, 3) と (3,)を演算しようとした場合、(3,)の左側に1を加えて(1, 3)にすることで次元を揃えるという感じです。  \n",
    "次元が揃った後、２つのndarrayのshapeの各次元を比べていったとき\n",
    "- 少なくとも一方が1\n",
    "- どちらも1より大きく、それらが等しい\n",
    "\n",
    "のどちらかが全ての次元で成り立っていれば、ブロードキャストが可能になります。  \n",
    "ブロードキャストによって出力される配列のshapeは、各次元で、２つの配列のshapeで大きい方の値となります。  \n",
    "例えば先程の例でいうと、(3, 3), (1, 3)を比べると、上の条件が全ての次元で成り立っているので、ブロードキャスト可能ということになります。  \n",
    "そして出力されるshapeは、各次元の大きい方なので、(3, 3)となります。  \n",
    "ブロードキャスト出来ない例として、(3, 1), (4, 1)などで、これはshape[0]がどちらも１より大きいが、それらが等しくないために出来ません。  \n",
    "\n",
    "|shape1|shape2|ブロードキャスト可能性|出力されるshape|\n",
    "|:------:|:------:|:-----------------------:|:-----------------:|\n",
    "|(3, 5, 2,)|(1, 5, 1)|可能|(3, 5, 2)|\n",
    "|(2, 1)|(1, 8)|可能|(2, 8)|\n",
    "|(9,)|(9, 8)|不可能||\n",
    "|(8,)|(9, 8)|可能|(9, 8)|\n",
    "|(9, 1)|(9, 8)|可能|(9, 8)|\n",
    "\n",
    "\n",
    "配列のある次元のshapeが1であれば、その次元における計算ではずっとその値を使うことで、コピーする必要がなくなる利点があります。  \n",
    "もしshapeが２つとも同じであれば、計算では対応する位置の値を使うことになります。  \n",
    "\n",
    "例として、２次元配列の列に平均を取り、各列の値から平均を引くという操作を考えます（各列の和が0になる）。  \n",
    "各列の平均を取るという操作は [axisについての説明](#ndarrayにおけるaxisとは) を参照してください。"
   ]
  },
  {
   "cell_type": "code",
   "execution_count": 68,
   "metadata": {
    "collapsed": false
   },
   "outputs": [
    {
     "data": {
      "text/plain": [
       "array([[0, 1],\n",
       "       [2, 3],\n",
       "       [4, 5]])"
      ]
     },
     "execution_count": 68,
     "metadata": {},
     "output_type": "execute_result"
    }
   ],
   "source": [
    "arr = np.arange(6).reshape(3, 2)\n",
    "arr"
   ]
  },
  {
   "cell_type": "code",
   "execution_count": 69,
   "metadata": {
    "collapsed": false
   },
   "outputs": [
    {
     "data": {
      "text/plain": [
       "array([ 2.,  3.])"
      ]
     },
     "execution_count": 69,
     "metadata": {},
     "output_type": "execute_result"
    }
   ],
   "source": [
    "# 各列の平均を取る操作 shape=(2, )\n",
    "arr_mean_col = arr.mean(axis=0)\n",
    "arr_mean_col"
   ]
  },
  {
   "cell_type": "code",
   "execution_count": 70,
   "metadata": {
    "collapsed": false
   },
   "outputs": [
    {
     "data": {
      "text/plain": [
       "((3, 2), (2,))"
      ]
     },
     "execution_count": 70,
     "metadata": {},
     "output_type": "execute_result"
    }
   ],
   "source": [
    "# ２つの配列のshape\n",
    "arr.shape, arr_mean_col.shape"
   ]
  },
  {
   "cell_type": "markdown",
   "metadata": {},
   "source": [
    "これらはブロードキャスト可能であり、出力配列のshapeは (3, 2)となります。"
   ]
  },
  {
   "cell_type": "code",
   "execution_count": 71,
   "metadata": {
    "collapsed": false
   },
   "outputs": [
    {
     "data": {
      "text/plain": [
       "array([[-2., -2.],\n",
       "       [ 0.,  0.],\n",
       "       [ 2.,  2.]])"
      ]
     },
     "execution_count": 71,
     "metadata": {},
     "output_type": "execute_result"
    }
   ],
   "source": [
    "# 各列から、その平均を引く（列での和が0になっている）\n",
    "arr - arr_mean_col"
   ]
  },
  {
   "cell_type": "markdown",
   "metadata": {},
   "source": [
    "ブロードキャストを行う間、arr_mean_colはまるで下の(3, 2)の配列のように振る舞います。"
   ]
  },
  {
   "cell_type": "code",
   "execution_count": 72,
   "metadata": {
    "collapsed": false
   },
   "outputs": [
    {
     "data": {
      "text/plain": [
       "array([[ 2.,  3.],\n",
       "       [ 2.,  3.],\n",
       "       [ 2.,  3.]])"
      ]
     },
     "execution_count": 72,
     "metadata": {},
     "output_type": "execute_result"
    }
   ],
   "source": [
    "np.tile(arr_mean_col, (3, 1))"
   ]
  },
  {
   "cell_type": "markdown",
   "metadata": {},
   "source": [
    "各行からその平均を引く操作もブロードキャストが可能になるようにshapeを変えてやることで可能になります。  "
   ]
  },
  {
   "cell_type": "code",
   "execution_count": 73,
   "metadata": {
    "collapsed": false
   },
   "outputs": [
    {
     "data": {
      "text/plain": [
       "array([ 0.5,  2.5,  4.5])"
      ]
     },
     "execution_count": 73,
     "metadata": {},
     "output_type": "execute_result"
    }
   ],
   "source": [
    "# 各行の平均を取る操作\n",
    "arr_mean_row = arr.mean(axis=1)\n",
    "arr_mean_row"
   ]
  },
  {
   "cell_type": "code",
   "execution_count": 74,
   "metadata": {
    "collapsed": false
   },
   "outputs": [
    {
     "data": {
      "text/plain": [
       "(3,)"
      ]
     },
     "execution_count": 74,
     "metadata": {},
     "output_type": "execute_result"
    }
   ],
   "source": [
    "arr_mean_row.shape"
   ]
  },
  {
   "cell_type": "markdown",
   "metadata": {},
   "source": [
    "(3, 2)と(3,)はブロードキャスト不可能なので、可能にするためには (3,) を (3, 1)にしてやれば良さそうです。"
   ]
  },
  {
   "cell_type": "code",
   "execution_count": 75,
   "metadata": {
    "collapsed": false
   },
   "outputs": [
    {
     "data": {
      "text/plain": [
       "array([[-0.5,  0.5],\n",
       "       [-0.5,  0.5],\n",
       "       [-0.5,  0.5]])"
      ]
     },
     "execution_count": 75,
     "metadata": {},
     "output_type": "execute_result"
    }
   ],
   "source": [
    "arr - arr_mean_row.reshape(3, 1)"
   ]
  },
  {
   "cell_type": "markdown",
   "metadata": {},
   "source": [
    "arr_mean_rowはまるで下のような (3, 2) 配列として扱われます。"
   ]
  },
  {
   "cell_type": "code",
   "execution_count": 76,
   "metadata": {
    "collapsed": false
   },
   "outputs": [
    {
     "data": {
      "text/plain": [
       "array([[ 0.5,  0.5],\n",
       "       [ 2.5,  2.5],\n",
       "       [ 4.5,  4.5]])"
      ]
     },
     "execution_count": 76,
     "metadata": {},
     "output_type": "execute_result"
    }
   ],
   "source": [
    "np.tile(arr_mean_row, (2, 1)).T"
   ]
  },
  {
   "cell_type": "markdown",
   "metadata": {},
   "source": [
    "今回はreshapeを用いましたが、後ろに軸を追加するためにはいくつか書き方があり、これらの方がよく使われています。"
   ]
  },
  {
   "cell_type": "code",
   "execution_count": 77,
   "metadata": {
    "collapsed": false
   },
   "outputs": [
    {
     "data": {
      "text/plain": [
       "(3, 1)"
      ]
     },
     "execution_count": 77,
     "metadata": {},
     "output_type": "execute_result"
    }
   ],
   "source": [
    "# Noneを後ろの軸に追加\n",
    "arr_mean_row[:, None].shape"
   ]
  },
  {
   "cell_type": "code",
   "execution_count": 78,
   "metadata": {
    "collapsed": false
   },
   "outputs": [
    {
     "data": {
      "text/plain": [
       "(3, 1)"
      ]
     },
     "execution_count": 78,
     "metadata": {},
     "output_type": "execute_result"
    }
   ],
   "source": [
    "# np.newaxisを後ろの軸に追加\n",
    "arr_mean_row[:, np.newaxis].shape"
   ]
  },
  {
   "cell_type": "markdown",
   "metadata": {},
   "source": [
    "# C言語ライブラリのラッパー\n",
    "Numpyでは、C言語のライブラリをPythonから簡単に呼び出すことができるモジュールが用意されています。   \n",
    "このように、他言語のライブラリの関数をPythonで呼び出せるようにしたものを**ラッパー（wrapper）**といいます（包み込むイメージ）。  \n",
    "これらはNumpyをインポートしたらすぐに使うことが出来ます。  \n",
    "モジュール名をクリックするとNumpy公式ドキュメントに飛ぶようになっています。  "
   ]
  },
  {
   "cell_type": "markdown",
   "metadata": {},
   "source": [
    "## [線形代数（np.linalg）](https://docs.scipy.org/doc/numpy/reference/routines.linalg.html)\n",
    "**np.linalg**は、元々Fortranで書かれた[**LAPACK**](http://www.netlib.org/lapack/)がC言語に変換されたものをラップしたものです。  \n",
    "LAPACKの関数と一対一に対応しているわけではなく、より単純なインターフェイスで呼び出せるようになっています。  \n",
    "逆行列を求めたり、固有値分解、特異値分解など線形代数を網羅するライブラリです（詳細は[公式ドキュメント](https://docs.scipy.org/doc/numpy/reference/routines.linalg.html)を参照）。  "
   ]
  },
  {
   "cell_type": "code",
   "execution_count": 79,
   "metadata": {
    "collapsed": false
   },
   "outputs": [
    {
     "data": {
      "text/plain": [
       "array([[ 0.90683029,  0.84494071,  0.85919764],\n",
       "       [ 0.60532844,  0.29806698,  0.17734907],\n",
       "       [ 0.32721935,  0.15046452,  0.7885856 ]])"
      ]
     },
     "execution_count": 79,
     "metadata": {},
     "output_type": "execute_result"
    }
   ],
   "source": [
    "# ３×３の二次元行列\n",
    "A = np.random.rand(3, 3)\n",
    "A"
   ]
  },
  {
   "cell_type": "code",
   "execution_count": 80,
   "metadata": {
    "collapsed": false
   },
   "outputs": [
    {
     "data": {
      "text/plain": [
       "array([[-1.21928303,  3.14249393,  0.62172925],\n",
       "       [ 2.45371047, -2.5394132 , -2.1023205 ],\n",
       "       [ 0.03775955, -0.81943323,  1.41123905]])"
      ]
     },
     "execution_count": 80,
     "metadata": {},
     "output_type": "execute_result"
    }
   ],
   "source": [
    "# 逆行列を求めるinv関数\n",
    "B = np.linalg.inv(A)\n",
    "B"
   ]
  },
  {
   "cell_type": "code",
   "execution_count": 81,
   "metadata": {
    "collapsed": false
   },
   "outputs": [
    {
     "data": {
      "text/plain": [
       "array([[  1.00000000e+00,  -2.24933976e-16,   3.61161243e-17],\n",
       "       [  1.25067779e-16,   1.00000000e+00,   1.02209487e-16],\n",
       "       [ -1.07555590e-17,   4.19744118e-17,   1.00000000e+00]])"
      ]
     },
     "execution_count": 81,
     "metadata": {},
     "output_type": "execute_result"
    }
   ],
   "source": [
    "# 積を取ると単位行列になる\n",
    "A @ B"
   ]
  },
  {
   "cell_type": "markdown",
   "metadata": {},
   "source": [
    "Numpyの強みの一つとして、１次元配列をスカラーにする計算のように次元が下がる関数であれば、多次元配列を引数に取ることが出来、軸を指定することによって、その軸に沿った一括計算が可能になります。  \n",
    "分かりにくいので例をあげます。  \n",
    "１次元配列をスカラーにするような関数としてノルムを取る**norm**関数があります。"
   ]
  },
  {
   "cell_type": "code",
   "execution_count": 82,
   "metadata": {
    "collapsed": false
   },
   "outputs": [
    {
     "data": {
      "text/plain": [
       "5.0"
      ]
     },
     "execution_count": 82,
     "metadata": {},
     "output_type": "execute_result"
    }
   ],
   "source": [
    "# normを取る（ようするにユークリッドノルム）\n",
    "np.linalg.norm([3., 4.])"
   ]
  },
  {
   "cell_type": "markdown",
   "metadata": {},
   "source": [
    "このnorm関数に多次元配列を渡し、軸を指定すると、その軸に沿ってノルムを取ります。  \n",
    "つまりその軸がスカラーに縮約され、軸がなくなります。  \n",
    "例えば、shapeが(5, 3)の配列で軸１（横方向）を指定すると、その軸に沿ってノルムが計算され、shapeが(5,)の配列が返されます。"
   ]
  },
  {
   "cell_type": "code",
   "execution_count": 83,
   "metadata": {
    "collapsed": false
   },
   "outputs": [
    {
     "data": {
      "text/plain": [
       "array([[ 0,  1,  2],\n",
       "       [ 3,  4,  5],\n",
       "       [ 6,  7,  8],\n",
       "       [ 9, 10, 11],\n",
       "       [12, 13, 14]])"
      ]
     },
     "execution_count": 83,
     "metadata": {},
     "output_type": "execute_result"
    }
   ],
   "source": [
    "# 多次元配列を定義\n",
    "arr = np.arange(15).reshape(5, 3)\n",
    "arr"
   ]
  },
  {
   "cell_type": "code",
   "execution_count": 84,
   "metadata": {
    "collapsed": false
   },
   "outputs": [
    {
     "data": {
      "text/plain": [
       "array([  2.23606798,   7.07106781,  12.20655562,  17.3781472 ,  22.56102835])"
      ]
     },
     "execution_count": 84,
     "metadata": {},
     "output_type": "execute_result"
    }
   ],
   "source": [
    "# 軸１についてノルム関数を適用する\n",
    "np.linalg.norm(arr, axis=1)"
   ]
  },
  {
   "cell_type": "code",
   "execution_count": 85,
   "metadata": {
    "collapsed": false,
    "scrolled": true
   },
   "outputs": [
    {
     "data": {
      "text/plain": [
       "array([  2.23606798,   7.07106781,  12.20655562,  17.3781472 ,  22.56102835])"
      ]
     },
     "execution_count": 85,
     "metadata": {},
     "output_type": "execute_result"
    }
   ],
   "source": [
    "# 軸１（横方向）を潰すようにノルムを取る\n",
    "np.linalg.norm(arr, axis=1)"
   ]
  },
  {
   "cell_type": "markdown",
   "metadata": {},
   "source": [
    "## [乱数生成（np.random）](https://docs.scipy.org/doc/numpy/reference/routines.random.html)\n",
    "科学技術計算で広く使われている擬似乱数生成器である**メルセンヌ・ツイスター**をラップしているモジュールです。  \n",
    "高品質でかつ、高速な乱数生成で有名なライブラリです。  \n",
    "np.randomでは、様々な確率分布で乱数を生成できるような関数群が用意されています（[Distributions](https://docs.scipy.org/doc/numpy/reference/routines.random.html#distributions)）。  \n",
    "主な関数を表にまとめました。\n",
    "\n",
    "|関数名|説明|\n",
    "|:-----:|:--:|\n",
    "|rand|一様乱数|\n",
    "|randn|標準正規分布乱数|\n",
    "|randint|整数乱数|\n",
    "|choice|与えられたndarrayからランダムに選び出す|\n",
    "|normal|正規分布乱数|\n",
    "\n",
    "どの関数もshapeまたはsizeが指定でき、簡単に乱数を生成できます。"
   ]
  },
  {
   "cell_type": "code",
   "execution_count": 86,
   "metadata": {
    "collapsed": false
   },
   "outputs": [
    {
     "data": {
      "text/plain": [
       "array([ 0.90622001,  0.26178243,  0.29398473,  0.52860435,  0.13846197,\n",
       "        0.01034317,  0.67931159,  0.17172933,  0.21181393,  0.06048608])"
      ]
     },
     "execution_count": 86,
     "metadata": {},
     "output_type": "execute_result"
    }
   ],
   "source": [
    "# [0, 1)の範囲で一様乱数を求める\n",
    "np.random.rand(10)"
   ]
  },
  {
   "cell_type": "code",
   "execution_count": 87,
   "metadata": {
    "collapsed": false
   },
   "outputs": [
    {
     "data": {
      "text/plain": [
       "array([[ 1.90938174, -0.02034869,  2.00934451],\n",
       "       [-1.06328062,  0.56856547,  1.44633902],\n",
       "       [ 1.81477497,  0.02262033, -0.21056337]])"
      ]
     },
     "execution_count": 87,
     "metadata": {},
     "output_type": "execute_result"
    }
   ],
   "source": [
    "# ３×３の標準正規分布乱数\n",
    "np.random.randn(3, 3)"
   ]
  },
  {
   "cell_type": "code",
   "execution_count": 88,
   "metadata": {
    "collapsed": false
   },
   "outputs": [
    {
     "data": {
      "text/plain": [
       "array(['a', 'b', 'c', 'c', 'b', 'c', 'b', 'e', 'c', 'c'], \n",
       "      dtype='<U1')"
      ]
     },
     "execution_count": 88,
     "metadata": {},
     "output_type": "execute_result"
    }
   ],
   "source": [
    "# 任意のオブジェクトのリストからランダムに取り出す\n",
    "np.random.choice(list(\"abcde\"), size=10)"
   ]
  },
  {
   "cell_type": "code",
   "execution_count": 89,
   "metadata": {
    "collapsed": false
   },
   "outputs": [
    {
     "data": {
      "image/png": "[encoded data removed]",
      "text/plain": [
       "<matplotlib.figure.Figure at 0x24fcfef36a0>"
      ]
     },
     "metadata": {},
     "output_type": "display_data"
    }
   ],
   "source": [
    "# ガンマ分布のヒストグラム\n",
    "import matplotlib.pyplot as plt\n",
    "%matplotlib inline\n",
    "\n",
    "plt.hist(np.random.gamma(2.0, scale=2.0, size=10000), bins=50)\n",
    "pass"
   ]
  },
  {
   "cell_type": "markdown",
   "metadata": {},
   "source": [
    "## [フーリエ変換（np.fft）](https://docs.scipy.org/doc/numpy/reference/routines.fft.html)\n",
    "Cooley-Tukey型の高速離散フーリエ変換（FFT)のラッパーです。  \n",
    "フーリエ変換一般に言えることですが、変換と逆変換の係数が実装によって異なります（定数倍するだけですが）。  \n",
    "実装の詳細を知りたい人は [Implementation details](https://docs.scipy.org/doc/numpy/reference/routines.fft.html#implementation-details) を参照してください。  \n",
    "下の表は[様々な関数](https://docs.scipy.org/doc/numpy/reference/routines.fft.html#standard-ffts)をまとめたものです。  \n",
    "\n",
    "|関数名|説明|\n",
    "|:-:|:-:|\n",
    "|fft|１次元FFT|\n",
    "|ifft|↑の逆変換|\n",
    "|rfft|１次元実FFT|\n",
    "|irfft|↑の逆変換|\n",
    "|fft2|２次元FFT|\n",
    "|ifft2|↑の逆変換|\n",
    "|rfft2|２次元実FFT|\n",
    "|irfft2|↑の逆変換|\n",
    "\n"
   ]
  },
  {
   "cell_type": "code",
   "execution_count": 90,
   "metadata": {
    "collapsed": false
   },
   "outputs": [
    {
     "data": {
      "text/plain": [
       "array([ 13.00000000+0.j        ,  -4.23606798-3.07768354j,\n",
       "         0.23606798+0.72654253j,   0.23606798-0.72654253j,\n",
       "        -4.23606798+3.07768354j])"
      ]
     },
     "execution_count": 90,
     "metadata": {},
     "output_type": "execute_result"
    }
   ],
   "source": [
    "# FFT\n",
    "np.fft.fft([1., 3, 5, 3, 1])"
   ]
  },
  {
   "cell_type": "code",
   "execution_count": 91,
   "metadata": {
    "collapsed": false
   },
   "outputs": [
    {
     "data": {
      "text/plain": [
       "array([ 13.00000000+0.j        ,  -4.23606798-3.07768354j,\n",
       "         0.23606798+0.72654253j])"
      ]
     },
     "execution_count": 91,
     "metadata": {},
     "output_type": "execute_result"
    }
   ],
   "source": [
    "# 実FFT\n",
    "res = np.fft.rfft([1., 3, 5, 3, 1])\n",
    "res"
   ]
  },
  {
   "cell_type": "code",
   "execution_count": 92,
   "metadata": {
    "collapsed": false
   },
   "outputs": [
    {
     "data": {
      "text/plain": [
       "array([ 1.19098301,  4.72982477,  5.42705098,  1.65214124])"
      ]
     },
     "execution_count": 92,
     "metadata": {},
     "output_type": "execute_result"
    }
   ],
   "source": [
    "# 逆実FFT\n",
    "np.fft.irfft(res)"
   ]
  },
  {
   "cell_type": "code",
   "execution_count": 93,
   "metadata": {
    "collapsed": false
   },
   "outputs": [
    {
     "data": {
      "text/plain": [
       "array([ 1.,  3.,  5.,  3.,  1.])"
      ]
     },
     "execution_count": 93,
     "metadata": {},
     "output_type": "execute_result"
    }
   ],
   "source": [
    "# 逆実フーリエ変換\n",
    "np.fft.irfft(res, n=5)"
   ]
  },
  {
   "cell_type": "markdown",
   "metadata": {},
   "source": [
    "信号処理の一例です。  \n",
    "フィルターなどの高度な信号処理は[**scipy.signal**](https://docs.scipy.org/doc/scipy/reference/signal.html)を用いてください。"
   ]
  },
  {
   "cell_type": "code",
   "execution_count": 94,
   "metadata": {
    "collapsed": false,
    "scrolled": true
   },
   "outputs": [
    {
     "data": {
      "text/plain": [
       "[<matplotlib.lines.Line2D at 0x24fd06bdb00>]"
      ]
     },
     "execution_count": 94,
     "metadata": {},
     "output_type": "execute_result"
    },
    {
     "data": {
      "image/png": "[encoded data removed]",
      "text/plain": [
       "<matplotlib.figure.Figure at 0x24fd065f940>"
      ]
     },
     "metadata": {},
     "output_type": "display_data"
    }
   ],
   "source": [
    "# サンプリング周波数（ナイキスト周波数＝10Hz）\n",
    "rate = 20 # [1/s]\n",
    "\n",
    "# サンプル時刻 [s]\n",
    "t = np.arange(0, 10, 1/rate)\n",
    "\n",
    "# 2Hzと6Hzにピークを持つシグナル（に正規分布ノイズを加えたもの）\n",
    "signal = np.sin(2*np.pi*2*t) + np.sin(2*np.pi*6*t) + 0.1 * np.random.randn(t.size)\n",
    "\n",
    "# power spectrum\n",
    "p = np.abs(np.fft.rfft(signal))\n",
    "\n",
    "# サンプリングレート（の逆数）を与えると各成分の周波数を返す\n",
    "f = np.fft.rfftfreq(signal.size, d=1./rate)\n",
    "\n",
    "plt.xlabel(\"Frequency [Hz]\")\n",
    "plt.ylabel(\"Power spectrum\")\n",
    "plt.yscale(\"log\")\n",
    "plt.plot(f, p)"
   ]
  },
  {
   "cell_type": "markdown",
   "metadata": {},
   "source": [
    "# ndarrayのファイル入出力\n"
   ]
  },
  {
   "cell_type": "markdown",
   "metadata": {},
   "source": [
    "Numpyでファイル出力する場合、\n",
    "- 「.npyまたは.npz」形式でのバイナリ保存\n",
    "- テキストでの保存\n",
    "- 一般的なバイナリ保存\n",
    "\n",
    "の３つが基本となります。本稿では上の２つを説明します。    \n",
    "## npyとnpz形式でのバイナリ保存\n",
    "これらはNumpy独自のバイナリ形式です。  \n",
    "**np.save**関数では、ndarrayを **npy** という拡張子を付けて保存します。  \n",
    "この形式だと、配列のshapeやdtypeなどの情報も保存するので、**np.load**で情報を保ったまま読み込むことが出来ます。  \n",
    "複数のndarrayを保存するときは **np.savez** 関数を用いて、**npz** という拡張子で保存します。  \n",
    "npz形式の場合のロードも **np.load** 関数を使います（拡張子で判断される）。  \n",
    "まずはnpyの保存をみてみましょう。"
   ]
  },
  {
   "cell_type": "code",
   "execution_count": 95,
   "metadata": {
    "collapsed": false
   },
   "outputs": [
    {
     "data": {
      "text/plain": [
       "True"
      ]
     },
     "execution_count": 95,
     "metadata": {},
     "output_type": "execute_result"
    }
   ],
   "source": [
    "arr = np.linspace(3, 4, 100).reshape(10, 10, 1)\n",
    "\n",
    "# arrをnpy形式で保存\n",
    "np.save(\"test_arr.npy\", arr)\n",
    "\n",
    "# npyをロード\n",
    "arr_new = np.load(\"test_arr.npy\")\n",
    "\n",
    "# 全ての要素が等しいならTrue\n",
    "np.all(arr == arr_new)"
   ]
  },
  {
   "cell_type": "markdown",
   "metadata": {},
   "source": [
    "npzでは、キーワード引数を渡すと、その名前で保存されます。"
   ]
  },
  {
   "cell_type": "code",
   "execution_count": 96,
   "metadata": {
    "collapsed": false
   },
   "outputs": [
    {
     "data": {
      "text/plain": [
       "array([ 0.        ,  0.00137174,  0.01097394,  0.03703704,  0.0877915 ,\n",
       "        0.17146776,  0.2962963 ,  0.47050754,  0.70233196,  1.        ])"
      ]
     },
     "execution_count": 96,
     "metadata": {},
     "output_type": "execute_result"
    }
   ],
   "source": [
    "my_x = np.linspace(0,  1, 10) ** 3\n",
    "my_y = np.arange(0, 10)\n",
    "\n",
    "# キーワード引数でndarrayをsavezに渡す\n",
    "np.savez(\"test_arrs.npz\", x = my_x, y = my_y)\n",
    "\n",
    "arrs = np.load(\"test_arrs.npz\")\n",
    "\n",
    "arrs[\"x\"]"
   ]
  },
  {
   "cell_type": "markdown",
   "metadata": {},
   "source": [
    "## テキストでの保存\n",
    "ndarrayをテキスト形式で保存する関数は**np.savetxt**です。"
   ]
  },
  {
   "cell_type": "code",
   "execution_count": 97,
   "metadata": {
    "collapsed": true
   },
   "outputs": [],
   "source": [
    "# ２次元配列\n",
    "x = np.linspace(0, 1, 10).reshape(5,2)\n",
    "\n",
    "# xをテキスト形式で保存\n",
    "np.savetxt(\"my_np.txt\", x)"
   ]
  },
  {
   "cell_type": "code",
   "execution_count": 98,
   "metadata": {
    "collapsed": false
   },
   "outputs": [
    {
     "name": "stdout",
     "output_type": "stream",
     "text": [
      "0.000000000000000000e+00 1.111111111111111049e-01\n",
      "2.222222222222222099e-01 3.333333333333333148e-01\n",
      "4.444444444444444198e-01 5.555555555555555802e-01\n",
      "6.666666666666666297e-01 7.777777777777776791e-01\n",
      "8.888888888888888395e-01 1.000000000000000000e+00\n"
     ]
    }
   ],
   "source": [
    "# 保存したテキストファイルを表示\n",
    "!cat my_np.txt"
   ]
  }
 ],
 "metadata": {
  "anaconda-cloud": {},
  "kernelspec": {
   "display_name": "Python [default]",
   "language": "python",
   "name": "python3"
  },
  "language_info": {
   "codemirror_mode": {
    "name": "ipython",
    "version": 3
   },
   "file_extension": ".py",
   "mimetype": "text/x-python",
   "name": "python",
   "nbconvert_exporter": "python",
   "pygments_lexer": "ipython3",
   "version": "3.5.2"
  }
 },
 "nbformat": 4,
 "nbformat_minor": 2
}
