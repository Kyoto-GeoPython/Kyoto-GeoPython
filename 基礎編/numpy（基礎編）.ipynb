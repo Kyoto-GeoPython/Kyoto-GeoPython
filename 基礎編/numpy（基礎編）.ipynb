{
 "cells": [
  {
   "cell_type": "markdown",
   "metadata": {
    "run_control": {
     "frozen": false,
     "read_only": false
    }
   },
   "source": [
    "# 目次\n",
    "- Numpyとは？\n",
    "    - なぜNumpyが必要？\n",
    "    - Numpyの特徴とは？\n",
    "    - ndarrayオブジェクト\n",
    "    - Numpyを使う際の注意点\n",
    "- 実際に使ってみる\n",
    "    - インポートする\n",
    "    - 簡単な演算\n",
    "    - ndarrayの生成関数\n",
    "        - np.array, np.asarray\n",
    "        - np.arange\n",
    "        - np.ones, np.ones_like\n",
    "        - np.zeros, np.zeros_like\n",
    "        - np.linspace\n",
    "    - np.linalg\n",
    "    - np.random\n",
    "    - np.fft"
   ]
  },
  {
   "cell_type": "markdown",
   "metadata": {},
   "source": [
    "# Numpyとは？\n",
    "**Numpy**は、標準の演算が遅いというPythonの欠点を補うために開発された高速なベクトル演算をサポートするライブラリです。  \n",
    "Pythonで科学技術計算をする上では必須と言っても良いライブラリです。  \n",
    "（本稿の大部分は、「[Pythonによるデータ分析入門](https://www.oreilly.co.jp/books/9784873116556/)（O'REILLY）」の第４章を参考にして書かれています。  \n",
    "この本は翻訳もわかりやすく、とても読みやすい本なのでおすすめです。）\n",
    "## なぜNumpyが必要？\n",
    "C言語やFortranのような**静的型付け言語（コンパイル時に型を決定する言語）**では、配列や変数を宣言する際、型を明示的にコンパイラに伝えます。  \n",
    "このようにコンパイルの段階で型が決まっていると、マシンとしては余計な動作をする必要が無いために効率よくメモリを使用できる上に高速に動作します。  \n",
    "一方、Pythonのような**動的型付け言語（実行時に型を決める言語）**では、そのような高速な動作を失う代わりに、型を気にせずにリストに入れたり、宣言の手間が省けたりと、柔軟で短いコードが書けるようになります。  \n",
    "しかし、科学技術計算においては動作の遅さは致命的になります。  \n",
    "もしPythonで科学技術計算しようとするならば、高速な動作が必要になるところでは型を指定して高速な計算ができるようにする必要があります。  \n",
    "そこで生まれたのが**Numpy**です（Numerical Pythonの略）。  \n",
    "Numpyでは、C言語の配列をPythonで扱いやすいオブジェクト（ndarray）として使うことで、**高速でありながら柔軟なプログラミング**が可能です。  \n",
    "また、CやFortranと同様に大規模配列を扱うことにも長けているため、使いこなせればかなり強力なツールです。  \n",
    "Numpyは非常に高機能であり、全ての機能を1ページで説明することは難しいです。  \n",
    "本稿では、詳しい実装には立ち入らず、とりあえず使えるようになることを目的としています。\n",
    "## Numpyの特徴とは？\n",
    "ざっとNumpyの特徴を上げてみると、\n",
    "- ベクトル演算をベースにした省メモリで高速な多次元配列（ndarrayオブジェクト）\n",
    "- 行列演算（逆行列など）や乱数生成、フーリエ変換を簡単にできる\n",
    "- C, C++, Fortranとの連携\n",
    "- バイナリやテキストでのファイル入出力を簡単にできる\n",
    "\n",
    "のようなものがあります。  \n",
    "行列演算などの実装はCやFortranで使われているライブラリを使用しており、同等の速度を発揮します。  \n",
    "## ndarrayオブジェクト\n",
    "Numpyで配列と言うとき、たいていndarray（N-dimensional array）オブジェクトのことを指します。  \n",
    "ndarrayはCの配列に加え、その形状や型、関数などを情報として持っています。  \n",
    "本稿でも、特に断らない限り、配列はndarrayのことを意味することにします。\n",
    "## Numpyを使う際の注意点\n",
    "Numpyも万能ではなく、得意ではない処理もあります。それは、配列要素ごとに回すforループです。  \n",
    "要素ごとにforループを回すと、Pythonの遅さが如実に出てしまい、Numpyの利点が活かせません。  \n",
    "Numpyが本当に力を発揮するのは**ベクトル演算**であり、それは並列化によって実現されています。  \n",
    "もし、要素ごとの計算をしたい場合は、\n",
    "- CやFortranでその部分だけを書き、それをPythonで呼び出す\n",
    "- NumbaやCythonといった他のライブラリを使用しコンパイルを行う\n",
    "\n",
    "と言った方法があります。  \n",
    "まずはなるべくベクトル化を試みて、それが難しい場合は上記のような手段を考えてみると良いでしょう。  "
   ]
  },
  {
   "cell_type": "markdown",
   "metadata": {},
   "source": [
    "# 実際に使ってみる\n",
    "## インポートする"
   ]
  },
  {
   "cell_type": "code",
   "execution_count": 16,
   "metadata": {
    "collapsed": true
   },
   "outputs": [],
   "source": [
    "import numpy as np    #慣習でnpと名付けることが多い"
   ]
  },
  {
   "cell_type": "markdown",
   "metadata": {},
   "source": [
    "インポートに失敗する場合、numpyがそもそもインストールされていない可能性があります。その場合以下のようなコマンドを実行してください。  \n",
    "- Anacondaの場合「conda install numpy」\n",
    "- pipの場合「pip install numpy」\n",
    "\n",
    "condaはコンパイル済みのものをインストールするためにインストールエラーが起きにくいです。  \n",
    "pipはインストール時にコンパイルするため、コンパイルエラーが起きる場合があります。  \n",
    "\n",
    "## ndarrayの構造\n",
    "\n",
    "さっそく、一次元配列を作ってみましょう。np.array関数にリストやタプルを渡すことで作ることが出来ます。  "
   ]
  },
  {
   "cell_type": "code",
   "execution_count": 38,
   "metadata": {
    "collapsed": false,
    "scrolled": true
   },
   "outputs": [
    {
     "name": "stdout",
     "output_type": "stream",
     "text": [
      "x = [ 1.    0.01  0.7 ]\n",
      "type = <class 'numpy.ndarray'>\n",
      "shape = (3,)\n",
      "dtype = float64\n",
      "ndim = 1\n"
     ]
    }
   ],
   "source": [
    "x = np.array([1., 0.01, 0.7])\n",
    "print(\"x = {}\".format(x))\n",
    "print(\"type = {}\".format(type(x)))\n",
    "print(\"shape = {}\".format(x.shape))\n",
    "print(\"dtype = {}\".format(x.dtype))\n",
    "print(\"ndim = {}\".format(x.ndim))"
   ]
  },
  {
   "cell_type": "markdown",
   "metadata": {},
   "source": [
    "ndarrayの重要な属性として、**shape**、**dtype**があります。  \n",
    "**shape**は、まさに配列の形状で、多次元配列であれば、軸に沿った要素の個数をそれぞれの軸について並べたタプルです。一次元であれば、(n,)のようなタプルになります。タプルの要素が一つしか含まれない場合、(n)とすると単なるnになってしまうので、(n,)のようにカンマを付ける必要があります。  \n",
    "**dtype**は、配列の型を表すものです（floatやint、complexなど）。  \n",
    "**ndim**は、配列の次元を表します。 上の場合、１次元配列なのでndim=1です。   \n",
    "**type()**はPythonの組み込み関数で、何のオブジェクトかを教えてくれます（dtypeとは違うものなので注意）。  \n",
    "いくつか例を挙げましょう。"
   ]
  },
  {
   "cell_type": "code",
   "execution_count": 49,
   "metadata": {
    "collapsed": false
   },
   "outputs": [
    {
     "name": "stdout",
     "output_type": "stream",
     "text": [
      "[整数のみを入れた場合]\n",
      "x = [1 2 3]\n",
      "type = <class 'numpy.ndarray'>\n",
      "shape = (3,)\n",
      "dtype = int32\n",
      "ndim = 1\n",
      "\n",
      "[２次元配列]\n",
      "x = [[  1.     0.1    3.  ]\n",
      " [  3.    20.     0.07]]\n",
      "type = <class 'numpy.ndarray'>\n",
      "shape = (2, 3)\n",
      "dtype = float64\n",
      "ndim = 2\n",
      "\n",
      "[複素数を入れた場合]\n",
      "x = [ 0.+1.j  3.+6.j  9.+0.j]\n",
      "type = <class 'numpy.ndarray'>\n",
      "shape = (3,)\n",
      "dtype = complex128\n",
      "ndim = 1\n",
      "\n"
     ]
    }
   ],
   "source": [
    "def show_ndarray_info(x):\n",
    "    x = np.asarray(x)\n",
    "    print(\"x = {}\".format(x))\n",
    "    print(\"type = {}\".format(type(x)))\n",
    "    print(\"shape = {}\".format(x.shape))\n",
    "    print(\"dtype = {}\".format(x.dtype))\n",
    "    print(\"ndim = {}\".format(x.ndim))\n",
    "    print()\n",
    "    \n",
    "print(\"[整数のみを入れた場合]\")\n",
    "show_ndarray_info([1, 2, 3])\n",
    "print(\"[２次元配列]\")\n",
    "show_ndarray_info([\n",
    "        [1., 0.1, 3.],\n",
    "        [3., 20., 0.07]\n",
    "        ])\n",
    "print(\"[複素数を入れた場合]\")\n",
    "show_ndarray_info([1j, 3+6j, 9.])"
   ]
  },
  {
   "cell_type": "markdown",
   "metadata": {},
   "source": [
    "### 要素へのアクセス\n",
    "また、各要素にアクセスするためには、リストやタプルのようにインデックスを指定します。  \n",
    "多次元配列でのアクセスは、リストなどと違う記法なので注意してください。"
   ]
  },
  {
   "cell_type": "code",
   "execution_count": 73,
   "metadata": {
    "collapsed": false
   },
   "outputs": [
    {
     "data": {
      "text/plain": [
       "array([15, 16, 17, 18, 19])"
      ]
     },
     "execution_count": 73,
     "metadata": {},
     "output_type": "execute_result"
    }
   ],
   "source": [
    "x = np.array([1., 2., 3.,])\n",
    "x[0] # ==> 1.0\n",
    "\n",
    "#スライスも使える（小さいndarrayが返ってくる）\n",
    "x[1:] # ==> [ 2.,  3.]\n",
    "\n",
    "# 多次元配列の場合\n",
    "x = np.arange(20).reshape(4,5)\n",
    "# ==> [[ 0,  1,  2,  3,  4],\n",
    "#          [ 5,  6,  7,  8,  9],\n",
    "#          [10, 11, 12, 13, 14],\n",
    "#          [15, 16, 17, 18, 19]]\n",
    "# まず0~19までの一次元配列を作り、そのshapeを変更して４×５の多次元配列を作っている。\n",
    "\n",
    "x[0,1] #==> 1\n",
    "x[1,-1] #==> 9 （負のインデックスは後ろから数えたもの。x[1,3]と等価）\n",
    "\n",
    "x[3]  # １次元配列を取り出す\n",
    "# ==> [15, 16, 17, 18, 19]\n",
    "\n",
    "# #一つの軸でのスライスではndimは変わらず、shapeだけが小さくなる（２×５の多次元配列に）。\n",
    "# x[2:4] \n",
    "# # ==> [[10, 11, 12, 13, 14],\n",
    "# #          [15, 16, 17, 18, 19]]\n",
    "\n",
    "# #複数の軸でのスライスも可能。\n",
    "# x[2:4, 2:4]  # ２×２\n",
    "# # ==> [[12, 13],\n",
    "# #          [17, 18]]"
   ]
  },
  {
   "cell_type": "markdown",
   "metadata": {},
   "source": [
    "## 簡単な演算\n",
    "スカラーとの四則演算は普通のベクトルのような書き方ができます（Fortranと一緒）。  \n",
    "このような演算はリストやタプルでは出来ないので、そのためにndarrayに変換することもよくあります。"
   ]
  },
  {
   "cell_type": "code",
   "execution_count": 26,
   "metadata": {
    "collapsed": false
   },
   "outputs": [
    {
     "data": {
      "text/plain": [
       "array([  1.00000000e-05,   1.00000000e-07,   7.00000000e-06])"
      ]
     },
     "execution_count": 26,
     "metadata": {},
     "output_type": "execute_result"
    }
   ],
   "source": [
    "x = np.array([1., 0.01, 0.7])\n",
    "x + 1 # ==> [ 2.  ,  1.01,  1.7 ]\n",
    "2 * x # ==> [ 2.  ,  0.02,  1.4 ]\n",
    "x / 1e5 # ==> [  1.00000000e-05,   1.00000000e-07,   7.00000000e-06]"
   ]
  },
  {
   "cell_type": "markdown",
   "metadata": {},
   "source": [
    "同じ形状の配列同士の四則演算は、要素ごとに演算した結果になります。  \n",
    "（異なる形状の配列であっても、場合によっては演算できることがあり、それを**ブロードキャスト**と言います（後述））"
   ]
  },
  {
   "cell_type": "code",
   "execution_count": 30,
   "metadata": {
    "collapsed": false
   },
   "outputs": [
    {
     "data": {
      "text/plain": [
       "array([ 2. ,  1.5,  0.6])"
      ]
     },
     "execution_count": 30,
     "metadata": {},
     "output_type": "execute_result"
    }
   ],
   "source": [
    "x = np.array([8., 0.3, 90])\n",
    "y = np.array([4., 0.2, 150])\n",
    "x + y # ==> [  12. ,    0.5,  240. ]\n",
    "x - y # ==> [  4. ,   0.1, -60. ]\n",
    "x * y # ==> [  3.20000000e+01,   6.00000000e-02,   1.35000000e+04]\n",
    "x / y # ==> [ 2. ,  1.5,  0.6]"
   ]
  },
  {
   "cell_type": "markdown",
   "metadata": {},
   "source": [
    "多次元配列でも同じように要素ごとの演算になります。  \n",
    "行列演算がしたい場合は、np.dot関数を用いるか、Python3.5以降であれば@マークを使えます。"
   ]
  },
  {
   "cell_type": "code",
   "execution_count": 78,
   "metadata": {
    "collapsed": false
   },
   "outputs": [
    {
     "data": {
      "text/plain": [
       "array([[  0.,   2.,   4.],\n",
       "       [  6.,   8.,  10.],\n",
       "       [ 12.,  14.,  16.]])"
      ]
     },
     "execution_count": 78,
     "metadata": {},
     "output_type": "execute_result"
    }
   ],
   "source": [
    "# ３×３行列を作成\n",
    "A = np.arange(9).reshape(3,3)\n",
    "# ==> [[0, 1, 2],\n",
    "#          [3, 4, 5],\n",
    "#          [6, 7, 8]]\n",
    "\n",
    "# ３×３の単位行列の２倍\n",
    "B = np.eye(3) * 2\n",
    "# ==> [[ 2.,  0.,  0.],\n",
    "#          [ 0.,  2.,  0.],\n",
    "#          [ 0.,  0.,  2.]]\n",
    "\n",
    "# 要素ごとの積になる\n",
    "A * B\n",
    "# ==> [[  0.,   0.,   0.],\n",
    "#          [  0.,   8.,   0.],\n",
    "#          [  0.,   0.,  16.]]\n",
    "\n",
    "# 行列積\n",
    "np.dot(A, B)\n",
    "# ==> [[  0.,   2.,   4.],\n",
    "#          [  6.,   8.,  10.],        2*Aと等しくなっている\n",
    "#          [ 12.,  14.,  16.]]\n",
    "\n",
    "# Python3.5以降であれば、行列積を@で記述可\n",
    "A @ B\n",
    "# ==> [[  0.,   2.,   4.],\n",
    "#          [  6.,   8.,  10.],\n",
    "#          [ 12.,  14.,  16.]]"
   ]
  },
  {
   "cell_type": "markdown",
   "metadata": {},
   "source": [
    "## ndarrayの生成関数\n",
    "色々な配列を作る便利な関数が用意されています。ここではそれらを紹介します。\n",
    "### np.array, np.asarray\n",
    "上でも述べた関数です。リストやタプルを引数に取り、配列を返す関数です。  \n",
    "型は指定しない場合は、勝手に推測してくれますが、キーワード引数で指定することも出来ます。\n",
    "np.asarrayは引数がndarrayであれば、そのままndarrayを返し、そうでないならnp.arrayと同じ働きをする関数です。"
   ]
  },
  {
   "cell_type": "code",
   "execution_count": 81,
   "metadata": {
    "collapsed": false
   },
   "outputs": [
    {
     "data": {
      "text/plain": [
       "dtype('int32')"
      ]
     },
     "execution_count": 81,
     "metadata": {},
     "output_type": "execute_result"
    }
   ],
   "source": [
    "# dtypeを指定\n",
    "np.array([1, 2, 3], dtype=float).dtype # ==> dtype('float64')\n",
    "\n",
    "#指定しない場合は推測してくれる\n",
    "np.array([1, 2, 3]).dtype # ==> dtype('int32')"
   ]
  },
  {
   "cell_type": "markdown",
   "metadata": {},
   "source": [
    "### np.arange\n",
    "Python組み込み関数のrange()と同じ働きをする関数で、ndarrayを返します。\n",
    "\n"
   ]
  },
  {
   "cell_type": "code",
   "execution_count": 102,
   "metadata": {
    "collapsed": false
   },
   "outputs": [
    {
     "data": {
      "text/plain": [
       "array([ 0. ,  0.1,  0.2,  0.3,  0.4,  0.5,  0.6,  0.7,  0.8,  0.9])"
      ]
     },
     "execution_count": 102,
     "metadata": {},
     "output_type": "execute_result"
    }
   ],
   "source": [
    "# 引数が一つの場合\n",
    "np.arange(10) # ==> [0, 1, 2, 3, 4, 5, 6, 7, 8, 9]\n",
    "np.arange(10.) # ==> [ 0.,  1.,  2.,  3.,  4.,  5.,  6.,  7.,  8.,  9.]\n",
    "np.arange(10, dtype=float) # ==> [ 0.,  1.,  2.,  3.,  4.,  5.,  6.,  7.,  8.,  9.]\n",
    "\n",
    "# 引数が２つの場合、startとstopになる（stopは含まない）\n",
    "np.arange(3, 10) # ==> [3, 4, 5, 6, 7, 8, 9]\n",
    "\n",
    "#引数が３つの場合、start, stop, stepになる\n",
    "np.arange(0, 1, 0.1) # ==> [ 0. ,  0.1,  0.2,  0.3,  0.4,  0.5,  0.6,  0.7,  0.8,  0.9]\n",
    "np.arange(start=0, stop=1, step=0.1) #上と等価"
   ]
  },
  {
   "cell_type": "markdown",
   "metadata": {},
   "source": [
    "### np.ones, np.ones_like\n",
    "np.onesは、引数で与えられたshapeで、全ての要素が１であるようなndarrayを返します。  \n",
    "np.ones_likeは、引数にndarrayを取り、そのndarrayのshapeと同じshapeで全ての要素が１となるndarrayを返します。"
   ]
  },
  {
   "cell_type": "code",
   "execution_count": 112,
   "metadata": {
    "collapsed": false
   },
   "outputs": [
    {
     "data": {
      "text/plain": [
       "array([[1, 1, 1, 1, 1],\n",
       "       [1, 1, 1, 1, 1]])"
      ]
     },
     "execution_count": 112,
     "metadata": {},
     "output_type": "execute_result"
    }
   ],
   "source": [
    "#１次元の場合はスカラーを引数に与えることが可能\n",
    "np.ones(5) # ==> [ 1.,  1.,  1.,  1.,  1.]\n",
    "# np.ones((5,))と等価\n",
    "\n",
    "# 多次元配列の場合、タプルを引数にしなければならない（2×２×２行列）\n",
    "np.ones((2,2,2))\n",
    "# ==> [[[ 1.,  1.],\n",
    "#           [ 1.,  1.]],\n",
    "#\n",
    "#          [[ 1.,  1.],\n",
    "#           [ 1.,  1.]]]\n",
    "\n",
    "#デフォルトではfloatなので、dtypeをintにしてみる\n",
    "np.ones(5, dtype=int) # ==> [1, 1, 1, 1, 1]\n",
    "\n",
    "A = np.arange(10).reshape(2,5)\n",
    "A.shape # ==> (2, 5)\n",
    "np.ones_like(A)\n",
    "# ==> [[1, 1, 1, 1, 1],\n",
    "#          [1, 1, 1, 1, 1]]"
   ]
  },
  {
   "cell_type": "markdown",
   "metadata": {},
   "source": [
    "### np.zeros, np.zeros_like\n",
    "全ての要素を0にする他は、np.ones, np.ones_likeと同じなのでそちらを見てください。\n",
    "\n",
    "### np.empty, np.empty_like\n",
    "上の２つと似ていますが、こちらは初期化をせずに配列の領域だけを確保する関数です。  \n",
    "巨大な配列を自分で初期化したい場合や、値は何でもいいが配列だけ作りたいときに使います。   \n",
    "初期化のプロセスを省略するためにnp.zerosなどよりも高速に動作します。  \n",
    "ときどき変な値が入ってることがあるので、自分で初期化するときのみ使うのが吉です。"
   ]
  },
  {
   "cell_type": "code",
   "execution_count": 263,
   "metadata": {
    "collapsed": false
   },
   "outputs": [
    {
     "data": {
      "text/plain": [
       "1196"
      ]
     },
     "execution_count": 263,
     "metadata": {},
     "output_type": "execute_result"
    }
   ],
   "source": [
    "# 2048個のbool型の中にあるTrueの個数（実行するたびに変化する）\n",
    "np.empty(2048, dtype=np.bool).sum()"
   ]
  },
  {
   "cell_type": "markdown",
   "metadata": {},
   "source": [
    "### np.linspace\n",
    "start, stopの２つを引数に取り、startからendまで均等に分けた配列を返します。  \n",
    "キーワード引数としてnumがあり、均等に分ける個数を指定できます。デフォルトではnum=50です。  \n",
    "\n",
    "> np.linspace(start, stop, num=50, endpoint=True, retstep=False, dtype=None)\n",
    "\n",
    "endpointはstopを含むかどうかをBooleanで渡す引数です。"
   ]
  },
  {
   "cell_type": "code",
   "execution_count": 268,
   "metadata": {
    "collapsed": false
   },
   "outputs": [
    {
     "data": {
      "text/plain": [
       "array([ 0.        ,  0.02040816,  0.04081633,  0.06122449,  0.08163265,\n",
       "        0.10204082,  0.12244898,  0.14285714,  0.16326531,  0.18367347,\n",
       "        0.20408163,  0.2244898 ,  0.24489796,  0.26530612,  0.28571429,\n",
       "        0.30612245,  0.32653061,  0.34693878,  0.36734694,  0.3877551 ,\n",
       "        0.40816327,  0.42857143,  0.44897959,  0.46938776,  0.48979592,\n",
       "        0.51020408,  0.53061224,  0.55102041,  0.57142857,  0.59183673,\n",
       "        0.6122449 ,  0.63265306,  0.65306122,  0.67346939,  0.69387755,\n",
       "        0.71428571,  0.73469388,  0.75510204,  0.7755102 ,  0.79591837,\n",
       "        0.81632653,  0.83673469,  0.85714286,  0.87755102,  0.89795918,\n",
       "        0.91836735,  0.93877551,  0.95918367,  0.97959184,  1.        ])"
      ]
     },
     "execution_count": 268,
     "metadata": {},
     "output_type": "execute_result"
    }
   ],
   "source": [
    "np.linspace(0, 1)"
   ]
  },
  {
   "cell_type": "code",
   "execution_count": 272,
   "metadata": {
    "collapsed": false
   },
   "outputs": [
    {
     "data": {
      "text/plain": [
       "array([ 0.        ,  0.34906585,  0.6981317 ,  1.04719755,  1.3962634 ,\n",
       "        1.74532925,  2.0943951 ,  2.44346095,  2.7925268 ,  3.14159265])"
      ]
     },
     "execution_count": 272,
     "metadata": {},
     "output_type": "execute_result"
    }
   ],
   "source": [
    "#この２つは等価\n",
    "np.linspace(0, np.pi, 10)\n",
    "np.linspace(0, np.pi, num=10)"
   ]
  },
  {
   "cell_type": "code",
   "execution_count": 274,
   "metadata": {
    "collapsed": false
   },
   "outputs": [
    {
     "data": {
      "text/plain": [
       "array([ 0.        ,  0.31415927,  0.62831853,  0.9424778 ,  1.25663706,\n",
       "        1.57079633,  1.88495559,  2.19911486,  2.51327412,  2.82743339])"
      ]
     },
     "execution_count": 274,
     "metadata": {},
     "output_type": "execute_result"
    }
   ],
   "source": [
    "#endpoint=Falseの場合。stopの値を含まない。\n",
    "np.linspace(0, np.pi, 10, endpoint=False)"
   ]
  }
 ],
 "metadata": {
  "anaconda-cloud": {},
  "kernelspec": {
   "display_name": "Python [default]",
   "language": "python",
   "name": "python3"
  },
  "language_info": {
   "codemirror_mode": {
    "name": "ipython",
    "version": 3
   },
   "file_extension": ".py",
   "mimetype": "text/x-python",
   "name": "python",
   "nbconvert_exporter": "python",
   "pygments_lexer": "ipython3",
   "version": "3.5.2"
  }
 },
 "nbformat": 4,
 "nbformat_minor": 2
}
