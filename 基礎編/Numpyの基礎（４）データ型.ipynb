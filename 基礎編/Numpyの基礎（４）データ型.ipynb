{
 "cells": [
  {
   "cell_type": "markdown",
   "metadata": {
    "run_control": {
     "frozen": false,
     "read_only": false
    }
   },
   "source": [
    "# 目次\n",
    "- [Numpyのデータ型](#Numpyのデータ型)"
   ]
  },
  {
   "cell_type": "code",
   "execution_count": 1,
   "metadata": {
    "collapsed": true
   },
   "outputs": [],
   "source": [
    "import numpy as np\n",
    "import matplotlib.pyplot as plt"
   ]
  },
  {
   "cell_type": "markdown",
   "metadata": {
    "run_control": {
     "frozen": false,
     "read_only": false
    }
   },
   "source": [
    "## Numpyのデータ型\n",
    "既に出てきたように、ndarrayには様々なdtypeが存在します。  \n",
    "Cなどと連携するときやバイナリ入出力のときに知らないと困ると思います。  \n",
    "Numpyでの型とそれに対応するC言語、Fortranでの型を表でまとめると以下のようになります。  \n",
    "\n",
    "|型|説明|C言語|Fortran|\n",
    "|:--:|:-----:|:------:|:--------:|\n",
    "|int32 / uint32|符号あり/なし　32ビット整数型（４バイト）|long もしくは int|INTEGER|\n",
    "|int64 / uint64|符号あり/なし　64ビット整数型（８バイト）|long long int|INTEGER(8)|\n",
    "|float32|単精度浮動小数点数型|float|REAL もしくはREAL(4)|\n",
    "|float64|倍精度浮動小数点数型|double|REAL(8)|\n",
    "|complex64|実部・虚部それぞれ単精度|float complex|COMPLEX もしくは COMPLEX(4)|\n",
    "|complex128|実部・虚部それぞれ倍精度|double complex|COMPLEX(8)|\n",
    "|bool|真偽値（TrueとFalse）|(bool)|LOGICAL|\n",
    "|object|任意のPythonオブジェクト| | |\n",
    "|string_|固定長文字列型|char*|CHARACTER(LEN=○)|\n",
    "|unicode_|固定長ユニコード文字列型| | | |\n",
    "\n",
    "ndarrayのdtypeのキャストは**astype**を使います。"
   ]
  },
  {
   "cell_type": "code",
   "execution_count": 2,
   "metadata": {},
   "outputs": [
    {
     "data": {
      "text/plain": [
       "array([0. , 0.2, 0.4, 0.6, 0.8, 1. , 1.2, 1.4, 1.6, 1.8])"
      ]
     },
     "execution_count": 2,
     "metadata": {},
     "output_type": "execute_result"
    }
   ],
   "source": [
    "a = np.arange(0, 2, 0.2)\n",
    "a "
   ]
  },
  {
   "cell_type": "code",
   "execution_count": 3,
   "metadata": {},
   "outputs": [
    {
     "data": {
      "text/plain": [
       "dtype('float64')"
      ]
     },
     "execution_count": 3,
     "metadata": {},
     "output_type": "execute_result"
    }
   ],
   "source": [
    "a.dtype"
   ]
  },
  {
   "cell_type": "code",
   "execution_count": 4,
   "metadata": {},
   "outputs": [
    {
     "data": {
      "text/plain": [
       "array([0, 0, 0, 0, 0, 1, 1, 1, 1, 1])"
      ]
     },
     "execution_count": 4,
     "metadata": {},
     "output_type": "execute_result"
    }
   ],
   "source": [
    "a.astype(np.int32) # ４バイト整数にキャスト"
   ]
  },
  {
   "cell_type": "code",
   "execution_count": 5,
   "metadata": {},
   "outputs": [
    {
     "data": {
      "text/plain": [
       "array([0. +0.j, 0.2+0.j, 0.4+0.j, 0.6+0.j, 0.8+0.j, 1. +0.j, 1.2+0.j,\n",
       "       1.4+0.j, 1.6+0.j, 1.8+0.j])"
      ]
     },
     "execution_count": 5,
     "metadata": {},
     "output_type": "execute_result"
    }
   ],
   "source": [
    "a.astype(np.complex128) # 倍精度複素数にキャスト"
   ]
  },
  {
   "cell_type": "code",
   "execution_count": 6,
   "metadata": {},
   "outputs": [
    {
     "data": {
      "text/plain": [
       "array([ 1.000e+000, -1.000e-003,  6.823e+256])"
      ]
     },
     "execution_count": 6,
     "metadata": {},
     "output_type": "execute_result"
    }
   ],
   "source": [
    "# 文字列を小数に変換\n",
    "np.array(['1.', '-0.001', '6.823e256']).astype(np.float64)"
   ]
  },
  {
   "cell_type": "code",
   "execution_count": 7,
   "metadata": {},
   "outputs": [
    {
     "data": {
      "text/plain": [
       "(8,)"
      ]
     },
     "execution_count": 7,
     "metadata": {},
     "output_type": "execute_result"
    }
   ],
   "source": [
    "# 要素のバイト数（倍精度浮動小数点数なので8バイト）\n",
    "a.strides"
   ]
  },
  {
   "cell_type": "code",
   "execution_count": 8,
   "metadata": {},
   "outputs": [
    {
     "data": {
      "text/plain": [
       "(16,)"
      ]
     },
     "execution_count": 8,
     "metadata": {},
     "output_type": "execute_result"
    }
   ],
   "source": [
    "# 倍精度複素数なので16バイト\n",
    "a.astype(np.complex128).strides"
   ]
  }
 ],
 "metadata": {
  "anaconda-cloud": {},
  "kernelspec": {
   "display_name": "Python 3",
   "language": "python",
   "name": "python3"
  },
  "language_info": {
   "codemirror_mode": {
    "name": "ipython",
    "version": 3
   },
   "file_extension": ".py",
   "mimetype": "text/x-python",
   "name": "python",
   "nbconvert_exporter": "python",
   "pygments_lexer": "ipython3",
   "version": "3.6.3"
  }
 },
 "nbformat": 4,
 "nbformat_minor": 2
}
